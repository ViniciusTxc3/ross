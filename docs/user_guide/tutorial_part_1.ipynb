{
 "cells": [
  {
   "cell_type": "markdown",
   "metadata": {},
   "source": [
    "# Tutorial - Modeling"
   ]
  },
  {
   "cell_type": "markdown",
   "metadata": {},
   "source": [
    "This is a basic tutorial on how to use ROSS (rotordynamics open-source software), a Python library for rotordynamic analysis. Most of this code follows object-oriented paradigm, which is represented in this \n",
    "[UML DIAGRAM](https://user-images.githubusercontent.com/32821252/50386686-131c5200-06d3-11e9-9806-f5746295be81.png).  \n",
    "\n",
    "Before starting the tutorial, it is worth noting some of ROSS’ design characteristics.\n",
    "\n",
    "First, we can divide the use of ROSS in two steps:\n",
    " - Building the model;\n",
    " - Calculating the results.\n",
    " \n",
    "We can build a model by instantiating elements such as beams (shaft), disks and bearings. These elements are all defined in classes with names such as `ShaftElement`, `BearingElement` and so on. \n",
    "\n",
    "After instantiating some elements, we can then use these to build a rotor.\n",
    "\n",
    "This tutorial is about building your **rotor model**. First, you will learn how to create and assign **materials**, how to instantiate the **elements** which composes the rotor and how to convert **units** in ROSS with [pint](https://pint.readthedocs.io/en/stable/) library. This means that every time we call a function, we can use pint.Quantity as an argument for values that have units. If we give a float to the function ROSS will consider SI units as default.\n",
    "\n",
    "In the following topics, we will discuss the most relevant classes for a quick start on how to use ROSS."
   ]
  },
  {
   "cell_type": "code",
   "execution_count": 1,
   "metadata": {
    "execution": {
     "iopub.execute_input": "2023-05-04T01:05:08.791295Z",
     "iopub.status.busy": "2023-05-04T01:05:08.790943Z",
     "iopub.status.idle": "2023-05-04T01:05:09.748104Z",
     "shell.execute_reply": "2023-05-04T01:05:09.747622Z"
    }
   },
   "outputs": [],
   "source": [
    "from pathlib import Path\n",
    "import ross as rs\n",
    "import numpy as np\n",
    "\n",
    "# uncomment the lines below if you are having problems with plots not showing\n",
    "# import plotly.io as pio\n",
    "# pio.renderers.default = \"notebook\""
   ]
  },
  {
   "cell_type": "markdown",
   "metadata": {},
   "source": [
    "## Section 1: Material Class\n",
    "\n",
    "There is a class called Material to hold material's properties. Materials are applied to shaft and disk elements.\n",
    "\n"
   ]
  },
  {
   "cell_type": "markdown",
   "metadata": {},
   "source": [
    "### 1.1 Creating a material\n",
    "\n",
    "To instantiate a Material class, you only need to give 2 out of \n",
    "the following parameters: `E` (Young's Moduluds), `G_s` (Shear \n",
    "Modulus) ,`Poisson` (Poisson Coefficient), and the material \n",
    "density `rho`.\n"
   ]
  },
  {
   "cell_type": "code",
   "execution_count": 2,
   "metadata": {
    "execution": {
     "iopub.execute_input": "2023-05-04T01:05:09.750343Z",
     "iopub.status.busy": "2023-05-04T01:05:09.749901Z",
     "iopub.status.idle": "2023-05-04T01:05:09.755729Z",
     "shell.execute_reply": "2023-05-04T01:05:09.755165Z"
    }
   },
   "outputs": [
    {
     "name": "stdout",
     "output_type": "stream",
     "text": [
      "Steel\n",
      "-----------------------------------\n",
      "Density         (kg/m**3): 7810.0\n",
      "Young`s modulus (N/m**2):  2.11e+11\n",
      "Shear modulus   (N/m**2):  8.12e+10\n",
      "Poisson coefficient     :  0.29926108\n",
      "====================================\n",
      "Young's Modulus: 211000000000.0\n",
      "Shear Modulus:    81200000000.0\n"
     ]
    }
   ],
   "source": [
    "# from E and G_s\n",
    "steel = rs.Material(name=\"Steel\", rho=7810, E=211e9, G_s=81.2e9)\n",
    "# from E and Poisson\n",
    "steel2 = rs.Material(name=\"Steel\", rho=7810, E=211e9, Poisson=0.3)\n",
    "# from G_s and Poisson\n",
    "steel3 = rs.Material(name=\"Steel\", rho=7810, G_s=81.2e9, Poisson=0.3)\n",
    "\n",
    "print(steel)\n",
    "\n",
    "# returning attributes\n",
    "print(\"=\" * 36)\n",
    "print(f\"Young's Modulus: {steel.E}\")\n",
    "print(f\"Shear Modulus:    {steel.G_s}\")"
   ]
  },
  {
   "cell_type": "markdown",
   "metadata": {},
   "source": [
    "**Note**: Adding 3 arguments to the Material class raises an error."
   ]
  },
  {
   "cell_type": "markdown",
   "metadata": {},
   "source": [
    "### 1.2 Saving materials\n",
    "\n",
    "To save an already instantiated Material object, you need to use the following method."
   ]
  },
  {
   "cell_type": "code",
   "execution_count": 3,
   "metadata": {
    "execution": {
     "iopub.execute_input": "2023-05-04T01:05:09.757412Z",
     "iopub.status.busy": "2023-05-04T01:05:09.757130Z",
     "iopub.status.idle": "2023-05-04T01:05:09.759924Z",
     "shell.execute_reply": "2023-05-04T01:05:09.759601Z"
    }
   },
   "outputs": [],
   "source": [
    "steel.save_material()"
   ]
  },
  {
   "cell_type": "markdown",
   "metadata": {},
   "source": [
    "### 1.3 Available materials\n",
    "\n",
    "Saved Materials are stored in a **.toml file**, which can be read as .txt. The file is placed on ROSS root file with name `available_materials.toml`.\n",
    "\n",
    "It's possible to access the Material data from the file. With the file opened, you can:\n",
    " - modify the properties directly;\n",
    " - create new materials;\n",
    "\n",
    "It's important to **keep the file structure** to ensure the correct functioning of the class.\n",
    "\n",
    "```\n",
    "[Materials.Steel]\n",
    "name = \"Steel\"\n",
    "rho = 7810\n",
    "E = 211000000000.0\n",
    "Poisson = 0.2992610837438423\n",
    "G_s = 81200000000.0\n",
    "color = \"#525252\"\n",
    "```\n",
    "\n",
    "**Do not change the dictionary keys and the order they're built**.\n",
    "\n",
    "To check what materials are available, use the command:"
   ]
  },
  {
   "cell_type": "code",
   "execution_count": 4,
   "metadata": {
    "execution": {
     "iopub.execute_input": "2023-05-04T01:05:09.761502Z",
     "iopub.status.busy": "2023-05-04T01:05:09.761392Z",
     "iopub.status.idle": "2023-05-04T01:05:09.765534Z",
     "shell.execute_reply": "2023-05-04T01:05:09.765208Z"
    }
   },
   "outputs": [
    {
     "data": {
      "text/plain": [
       "['Steel', 'AISI4140', 'A216WCB']"
      ]
     },
     "execution_count": 4,
     "metadata": {},
     "output_type": "execute_result"
    }
   ],
   "source": [
    "rs.Material.available_materials()"
   ]
  },
  {
   "cell_type": "markdown",
   "metadata": {},
   "source": [
    "### 1.4 Loading materials\n",
    "\n",
    "After checking the available materials, you should use the `Material.use_material('name')` method with the **name of the material** as a parameter."
   ]
  },
  {
   "cell_type": "code",
   "execution_count": 5,
   "metadata": {
    "execution": {
     "iopub.execute_input": "2023-05-04T01:05:09.767402Z",
     "iopub.status.busy": "2023-05-04T01:05:09.767115Z",
     "iopub.status.idle": "2023-05-04T01:05:09.770456Z",
     "shell.execute_reply": "2023-05-04T01:05:09.769931Z"
    }
   },
   "outputs": [],
   "source": [
    "steel5 = rs.Material.load_material(\"Steel\")"
   ]
  },
  {
   "cell_type": "markdown",
   "metadata": {},
   "source": [
    "## Section 2: ShaftElement Class\n",
    "\n",
    "`ShaftElement` allows you to create cylindrical and conical shaft elements. It means you can set differents outer and inner diameters for each element node.\n",
    "\n",
    "There are some ways in which you can choose the parameters to model this element:\n",
    "\n",
    "- Euler–Bernoulli beam Theory (`rotary_inertia=False, shear_effects=False`)\n",
    "- Timoshenko beam Theory (`rotary_inertia=True, shear_effects=True` - used as default)\n",
    "\n",
    "The matrices (mass, stiffness, damping and gyroscopic) will be defined considering the following local coordinate vector:\n",
    "\n",
    "$[x_0, y_0, \\alpha_0, \\beta_0, x_1, y_1, \\alpha_1, \\beta_1]^T$\n",
    "Where \n",
    "$\\alpha_0$ and $\\alpha_1$ are the bending on the yz plane\n",
    "$\\beta_0$ and $\\beta_1$ are the bending on the xz plane.\n",
    "\n",
    "\n",
    "This element represents the rotor's shaft, all the other elements are correlated with this one."
   ]
  },
  {
   "cell_type": "markdown",
   "metadata": {},
   "source": [
    "### 2.1 Creating shaft elements\n",
    "\n",
    "The next examples present different ways of how to create a ShaftElement object, from a single element to a list of several shaft elements with different properties.\n",
    "\n",
    "When creating shaft elements, you don't necessarily need to input a specific node. If `n=None`, the `Rotor` class will assign a value to the element when building a rotor model (*see section 6*).\n",
    "\n",
    "You can also pass the same `n` value to several shaft elements in the same rotor model. "
   ]
  },
  {
   "cell_type": "markdown",
   "metadata": {},
   "source": [
    "#### 2.1.1 Cylindrical shaft element\n",
    "\n",
    "As it's been seen, a shaft element has 4 parameters for diameters. To simplify that, when creating a cylindrical element, you only need to give 2 of them: `idl` and `odl`. So the other 2 (`idr` and `odr`) get the same values.\n",
    "\n",
    "**Note**: you can give all the 4 parameters, as long they match each other."
   ]
  },
  {
   "cell_type": "code",
   "execution_count": 6,
   "metadata": {
    "execution": {
     "iopub.execute_input": "2023-05-04T01:05:09.772763Z",
     "iopub.status.busy": "2023-05-04T01:05:09.772528Z",
     "iopub.status.idle": "2023-05-04T01:05:09.776327Z",
     "shell.execute_reply": "2023-05-04T01:05:09.775742Z"
    }
   },
   "outputs": [
    {
     "name": "stdout",
     "output_type": "stream",
     "text": [
      "Element Number:             None\n",
      "Element Lenght   (m):       0.25\n",
      "Left Int. Diam.  (m):        0.0\n",
      "Left Out. Diam.  (m):       0.05\n",
      "Right Int. Diam. (m):        0.0\n",
      "Right Out. Diam. (m):       0.05\n",
      "-----------------------------------\n",
      "Steel\n",
      "-----------------------------------\n",
      "Density         (kg/m**3): 7810.0\n",
      "Young`s modulus (N/m**2):  2.11e+11\n",
      "Shear modulus   (N/m**2):  8.12e+10\n",
      "Poisson coefficient     :  0.29926108\n"
     ]
    }
   ],
   "source": [
    "# Cylindrical shaft element\n",
    "L = 0.25\n",
    "i_d = 0\n",
    "o_d = 0.05\n",
    "cy_elem = rs.ShaftElement(\n",
    "    L=L,\n",
    "    idl=i_d,\n",
    "    odl=o_d,\n",
    "    material=steel,\n",
    "    shear_effects=True,\n",
    "    rotary_inertia=True,\n",
    "    gyroscopic=True,\n",
    ")\n",
    "\n",
    "print(cy_elem)"
   ]
  },
  {
   "cell_type": "markdown",
   "metadata": {},
   "source": [
    "#### 2.1.2 Conical shaft element\n",
    "\n",
    "To create a conical shaft elements, you must give all the 4 diamater parameters, and `idl != idr` and/or `odl != odr`."
   ]
  },
  {
   "cell_type": "code",
   "execution_count": 7,
   "metadata": {
    "execution": {
     "iopub.execute_input": "2023-05-04T01:05:09.778411Z",
     "iopub.status.busy": "2023-05-04T01:05:09.778118Z",
     "iopub.status.idle": "2023-05-04T01:05:09.781845Z",
     "shell.execute_reply": "2023-05-04T01:05:09.781311Z"
    }
   },
   "outputs": [
    {
     "name": "stdout",
     "output_type": "stream",
     "text": [
      "Element Number:             None\n",
      "Element Lenght   (m):       0.25\n",
      "Left Int. Diam.  (m):        0.0\n",
      "Left Out. Diam.  (m):       0.05\n",
      "Right Int. Diam. (m):        0.0\n",
      "Right Out. Diam. (m):       0.07\n",
      "-----------------------------------\n",
      "Steel\n",
      "-----------------------------------\n",
      "Density         (kg/m**3): 7810.0\n",
      "Young`s modulus (N/m**2):  2.11e+11\n",
      "Shear modulus   (N/m**2):  8.12e+10\n",
      "Poisson coefficient     :  0.29926108\n"
     ]
    }
   ],
   "source": [
    "# Conical shaft element\n",
    "L = 0.25\n",
    "idl = 0\n",
    "idr = 0\n",
    "odl = 0.05\n",
    "odr = 0.07\n",
    "co_elem = rs.ShaftElement(\n",
    "    L=L,\n",
    "    idl=idl,\n",
    "    idr=idr,\n",
    "    odl=odl,\n",
    "    odr=odr,\n",
    "    material=steel,\n",
    "    shear_effects=True,\n",
    "    rotary_inertia=True,\n",
    "    gyroscopic=True,\n",
    ")\n",
    "print(co_elem)"
   ]
  },
  {
   "cell_type": "markdown",
   "metadata": {},
   "source": [
    "#### Returning element matrices\n",
    "\n",
    "Use one of this methods to return the matrices:\n",
    "- `.M()`: returns the mass matrix\n",
    "- `.K(frequency)`: returns the stiffness matrix\n",
    "- `.C(frequency)`: returns the damping matrix\n",
    "- `.G()`: returns de gyroscopic matrix"
   ]
  },
  {
   "cell_type": "code",
   "execution_count": 8,
   "metadata": {
    "execution": {
     "iopub.execute_input": "2023-05-04T01:05:09.783948Z",
     "iopub.status.busy": "2023-05-04T01:05:09.783601Z",
     "iopub.status.idle": "2023-05-04T01:05:09.785950Z",
     "shell.execute_reply": "2023-05-04T01:05:09.785506Z"
    }
   },
   "outputs": [],
   "source": [
    "# Mass matrix\n",
    "# cy_elem.M()\n",
    "\n",
    "# Stiffness matrix\n",
    "# frequency = 0\n",
    "# cy_elem.K(frequency)\n",
    "\n",
    "# Damping matrix\n",
    "# frequency = 0\n",
    "# cy_elem.C(frequency)\n",
    "\n",
    "# Gyroscopic matrix\n",
    "# cy_elem.G()"
   ]
  },
  {
   "cell_type": "markdown",
   "metadata": {},
   "source": [
    "#### 2.1.3 List of elements - identical properties\n",
    "\n",
    "Now we leanrt how to create elements, let's automate the process of creating multiple elements with identical properties.\n",
    "\n",
    "In this example, we want 6 shaft elements with identical properties. This process can be done using a `for` loop or a list comprehension."
   ]
  },
  {
   "cell_type": "code",
   "execution_count": 9,
   "metadata": {
    "execution": {
     "iopub.execute_input": "2023-05-04T01:05:09.788031Z",
     "iopub.status.busy": "2023-05-04T01:05:09.787681Z",
     "iopub.status.idle": "2023-05-04T01:05:09.836140Z",
     "shell.execute_reply": "2023-05-04T01:05:09.835724Z"
    }
   },
   "outputs": [
    {
     "data": {
      "text/plain": [
       "[ShaftElement(L=0.25, idl=0.0, idr=0.0, odl=0.05,  odr=0.05, material='Steel', n=None),\n",
       " ShaftElement(L=0.25, idl=0.0, idr=0.0, odl=0.05,  odr=0.05, material='Steel', n=None),\n",
       " ShaftElement(L=0.25, idl=0.0, idr=0.0, odl=0.05,  odr=0.05, material='Steel', n=None),\n",
       " ShaftElement(L=0.25, idl=0.0, idr=0.0, odl=0.05,  odr=0.05, material='Steel', n=None),\n",
       " ShaftElement(L=0.25, idl=0.0, idr=0.0, odl=0.05,  odr=0.05, material='Steel', n=None),\n",
       " ShaftElement(L=0.25, idl=0.0, idr=0.0, odl=0.05,  odr=0.05, material='Steel', n=None)]"
      ]
     },
     "execution_count": 9,
     "metadata": {},
     "output_type": "execute_result"
    }
   ],
   "source": [
    "# Creating a list of shaft elements\n",
    "L = 0.25\n",
    "i_d = 0\n",
    "o_d = 0.05\n",
    "N = 6\n",
    "shaft_elements = [\n",
    "    rs.ShaftElement(\n",
    "        L=L,\n",
    "        idl=i_d,\n",
    "        odl=o_d,\n",
    "        material=steel,\n",
    "        shear_effects=True,\n",
    "        rotary_inertia=True,\n",
    "        gyroscopic=True,\n",
    "    )\n",
    "    for _ in range(N)\n",
    "]\n",
    "shaft_elements"
   ]
  },
  {
   "cell_type": "markdown",
   "metadata": {},
   "source": [
    "#### 2.1.4 List of elements - different properties\n",
    "\n",
    "Now we leanrt how to create elements, let's automate the process of creating multiple elements with identical properties.\n",
    "\n",
    "In this example, we want 6 shaft elements which properties may not be the same. This process can be done using a `for` loop or a list comprehension, coupled with Python's `zip()` method.\n",
    "\n",
    "We create lists for each property, where each term refers to a single element:"
   ]
  },
  {
   "cell_type": "code",
   "execution_count": 10,
   "metadata": {
    "execution": {
     "iopub.execute_input": "2023-05-04T01:05:09.837847Z",
     "iopub.status.busy": "2023-05-04T01:05:09.837633Z",
     "iopub.status.idle": "2023-05-04T01:05:09.844180Z",
     "shell.execute_reply": "2023-05-04T01:05:09.843777Z"
    }
   },
   "outputs": [
    {
     "data": {
      "text/plain": [
       "[ShaftElement(L=0.2, idl=0.01, idr=0.01, odl=0.05,  odr=0.05, material='Steel', n=None),\n",
       " ShaftElement(L=0.2, idl=0.0, idr=0.0, odl=0.05,  odr=0.05, material='Steel', n=None),\n",
       " ShaftElement(L=0.1, idl=0.0, idr=0.0, odl=0.06,  odr=0.06, material='Steel', n=None),\n",
       " ShaftElement(L=0.1, idl=0.0, idr=0.0, odl=0.06,  odr=0.06, material='Steel', n=None),\n",
       " ShaftElement(L=0.2, idl=0.0, idr=0.0, odl=0.05,  odr=0.05, material='Steel', n=None),\n",
       " ShaftElement(L=0.2, idl=0.01, idr=0.01, odl=0.05,  odr=0.05, material='Steel', n=None)]"
      ]
     },
     "execution_count": 10,
     "metadata": {},
     "output_type": "execute_result"
    }
   ],
   "source": [
    "# OPTION No.1:\n",
    "# Using zip() method\n",
    "L = [0.20, 0.20, 0.10, 0.10, 0.20, 0.20]\n",
    "i_d = [0.01, 0, 0, 0, 0, 0.01]\n",
    "o_d = [0.05, 0.05, 0.06, 0.06, 0.05, 0.05]\n",
    "shaft_elements = [\n",
    "    rs.ShaftElement(\n",
    "        L=l,\n",
    "        idl=idl,\n",
    "        odl=odl,\n",
    "        material=steel,\n",
    "        shear_effects=True,\n",
    "        rotary_inertia=True,\n",
    "        gyroscopic=True,\n",
    "    )\n",
    "    for l, idl, odl in zip(L, i_d, o_d)\n",
    "]\n",
    "shaft_elements"
   ]
  },
  {
   "cell_type": "code",
   "execution_count": 11,
   "metadata": {
    "execution": {
     "iopub.execute_input": "2023-05-04T01:05:09.845866Z",
     "iopub.status.busy": "2023-05-04T01:05:09.845764Z",
     "iopub.status.idle": "2023-05-04T01:05:09.850430Z",
     "shell.execute_reply": "2023-05-04T01:05:09.850035Z"
    }
   },
   "outputs": [
    {
     "data": {
      "text/plain": [
       "[ShaftElement(L=0.2, idl=0.01, idr=0.01, odl=0.05,  odr=0.05, material='Steel', n=None),\n",
       " ShaftElement(L=0.2, idl=0.0, idr=0.0, odl=0.05,  odr=0.05, material='Steel', n=None),\n",
       " ShaftElement(L=0.1, idl=0.0, idr=0.0, odl=0.06,  odr=0.06, material='Steel', n=None),\n",
       " ShaftElement(L=0.1, idl=0.0, idr=0.0, odl=0.06,  odr=0.06, material='Steel', n=None),\n",
       " ShaftElement(L=0.2, idl=0.0, idr=0.0, odl=0.05,  odr=0.05, material='Steel', n=None),\n",
       " ShaftElement(L=0.2, idl=0.01, idr=0.01, odl=0.05,  odr=0.05, material='Steel', n=None)]"
      ]
     },
     "execution_count": 11,
     "metadata": {},
     "output_type": "execute_result"
    }
   ],
   "source": [
    "# OPTION No.2:\n",
    "# Using list index\n",
    "L = [0.20, 0.20, 0.10, 0.10, 0.20, 0.20]\n",
    "i_d = [0.01, 0, 0, 0, 0, 0.01]\n",
    "o_d = [0.05, 0.05, 0.06, 0.06, 0.05, 0.05]\n",
    "N = len(L)\n",
    "shaft_elements = [\n",
    "    rs.ShaftElement(\n",
    "        L=L[i],\n",
    "        idl=i_d[i],\n",
    "        odl=o_d[i],\n",
    "        material=steel,\n",
    "        shear_effects=True,\n",
    "        rotary_inertia=True,\n",
    "        gyroscopic=True,\n",
    "    )\n",
    "    for i in range(N)\n",
    "]\n",
    "shaft_elements"
   ]
  },
  {
   "cell_type": "markdown",
   "metadata": {},
   "source": [
    "### 2.2 Creating shaft elements via Excel\n",
    "\n",
    "There is an option for creating a list of shaft elements via an Excel file. The classmethod `.from_table()` reads an Excel file created and converts it to a list of shaft elements.\n",
    "\n",
    "A header with the names of the columns is required. These names should match the names expected by the routine (usually the names of the parameters, but also similar ones). The program will read every row bellow the header until they end or it reaches a NaN, which means if the code reaches to an empty line, it stops iterating.\n",
    "\n",
    "An example of Excel content can be found at ROSS GitHub repository at *ross/tests/data/shaft_si.xls*, spreadsheet \"Model\".\n",
    "\n",
    "You can load it using the following code."
   ]
  },
  {
   "cell_type": "markdown",
   "metadata": {},
   "source": [
    "```python\n",
    "shaft_file = Path(\"shaft_si.xls\")\n",
    "shaft = rs.ShaftElement.from_table(\n",
    "    file=shaft_file, sheet_type=\"Model\", sheet_name=\"Model\"\n",
    ")\n",
    "```"
   ]
  },
  {
   "cell_type": "markdown",
   "metadata": {},
   "source": [
    "### 2.3 Creating coupling element (CouplingElement Class)\n",
    "\n",
    "Here, we introduce the `CouplingElement` class, a subclass of the `ShaftElement` class, designed to model the interaction between two rotor shafts. This element is implemented in a general form in ROSS. The coupling plays a crucial role in mechanical systems by transmitting forces, vibrations, and motion between rotating shafts. It is primarily characterized by adding stiffness, mass, and inertia to the system, which are essential for simulating the real-world behavior of coupled rotors.\n",
    "\n",
    "__Steps:__\n",
    "- Create two shafts: Start by defining two rotor shafts using the `ShaftElement` class. Each shaft can have its own properties like material, length, and diameter.\n",
    "- Join shafts with coupling: Use the `CouplingElement` class to connect the two shafts by inserting the elements in a list following a certain order."
   ]
  },
  {
   "cell_type": "markdown",
   "metadata": {},
   "source": [
    "#### 2.3.1 Define the shafts with their respective dimensions and properties"
   ]
  },
  {
   "cell_type": "code",
   "execution_count": 12,
   "metadata": {},
   "outputs": [],
   "source": [
    "# Shaft 1 - Left\n",
    "L1 = [300, 92, 200, 200, 92, 300]  # Segment lengths (in mm)\n",
    "r1 = [61.5, 75, 75, 75, 75, 61.5]  # Segment radii (in mm)\n",
    "shaft1 = [\n",
    "    rs.ShaftElement(\n",
    "        L=L1[i] * 1e-3,  # Convert length to meters\n",
    "        idl=0.0,  # Inner diameter in meters\n",
    "        odl=r1[i] * 2e-3,  # Outer diameter in meters\n",
    "        material=steel,  # Material used for the shaft\n",
    "        shear_effects=True,\n",
    "        rotary_inertia=True,\n",
    "        gyroscopic=True,\n",
    "    )\n",
    "    for i in range(len(L1))\n",
    "]"
   ]
  },
  {
   "cell_type": "code",
   "execution_count": 13,
   "metadata": {},
   "outputs": [],
   "source": [
    "# Shaft 2 - Right\n",
    "L2 = [80, 200, 200, 640]  # Segment lengths (in mm)\n",
    "r2 = [160.5, 160.5, 130.5, 130.5]  # Segment radii (in mm)\n",
    "shaft2 = [\n",
    "    rs.ShaftElement(\n",
    "        L=L2[i] * 1e-3,  # Convert length to meters\n",
    "        idl=0.0,  # Inner diameter in meters\n",
    "        odl=r2[i] * 2e-3,  # Outer diameter in meters\n",
    "        material=steel,  # Material used for the shaft\n",
    "        shear_effects=True,\n",
    "        rotary_inertia=True,\n",
    "        gyroscopic=True,\n",
    "    )\n",
    "    for i in range(len(L2))\n",
    "]"
   ]
  },
  {
   "cell_type": "markdown",
   "metadata": {},
   "source": [
    "#### 2.3.2 Define the coupling element that connects the two shafts"
   ]
  },
  {
   "cell_type": "markdown",
   "metadata": {},
   "source": [
    "In this example, only the torsional stiffness is adopted. However, you can pass any of the following arguments (if not provided, the default value is zero):\n",
    "- kt_x, \n",
    "- kt_y,\n",
    "- kt_z (axial stiffness), \n",
    "- kr_x, \n",
    "- kr_y,\n",
    "- kr_z (torsional stiffness),\n",
    "\n",
    "considering that the stiffness matrix $\\mathbf{K}$ will be assembled like this:\n",
    "\n",
    "$\n",
    "\\mathbf{K} = \n",
    "\\begin{bmatrix}\n",
    "k_{t_x} & 0 & 0 & 0 & 0 & 0 & -k_{t_x} & 0 & 0 & 0 & 0 & 0 \\\\\n",
    "0 & k_{t_y} & 0 & 0 & 0 & 0 & 0 & -k_{t_y} & 0 & 0 & 0 & 0 \\\\\n",
    "0 & 0 & k_{t_z} & 0 & 0 & 0 & 0 & 0 & -k_{t_z} & 0 & 0 & 0 \\\\\n",
    "0 & 0 & 0 & k_{r_x} & 0 & 0 & 0 & 0 & 0 & -k_{r_x} & 0 & 0 \\\\\n",
    "0 & 0 & 0 & 0 & k_{r_y} & 0 & 0 & 0 & 0 & 0 & -k_{r_y} & 0 \\\\\n",
    "0 & 0 & 0 & 0 & 0 & k_{r_z} & 0 & 0 & 0 & 0 & 0 & -k_{r_z} \\\\\n",
    "-k_{t_x} & 0 & 0 & 0 & 0 & 0 & k_{t_x} & 0 & 0 & 0 & 0 & 0 \\\\\n",
    "0 & -k_{t_y} & 0 & 0 & 0 & 0 & 0 & k_{t_y} & 0 & 0 & 0 & 0 \\\\\n",
    "0 & 0 & -k_{t_z} & 0 & 0 & 0 & 0 & 0 & k_{t_z} & 0 & 0 & 0 \\\\\n",
    "0 & 0 & 0 & -k_{r_x} & 0 & 0 & 0 & 0 & 0 & k_{r_x} & 0 & 0 \\\\\n",
    "0 & 0 & 0 & 0 & -k_{r_y} & 0 & 0 & 0 & 0 & 0 & k_{r_y} & 0 \\\\\n",
    "0 & 0 & 0 & 0 & 0 & -k_{r_z} & 0 & 0 & 0 & 0 & 0 & k_{r_z}\n",
    "\\end{bmatrix}\n",
    "$\n",
    "\n",
    "__Note:__ Although not demonstrated here, the same logic used for stiffness coefficients can also be applied to damping coefficients (ct_x, ct_y, ct_z, cr_x, cr_y, cr_z)."
   ]
  },
  {
   "cell_type": "code",
   "execution_count": 14,
   "metadata": {},
   "outputs": [
    {
     "data": {
      "text/plain": [
       "CouplingElement(m=151.0, Ip=3.48, n=None)"
      ]
     },
     "execution_count": 14,
     "metadata": {},
     "output_type": "execute_result"
    }
   ],
   "source": [
    "# Mass at each station (e.g., hub mass of the coupling)\n",
    "mass_left_station = 151 / 2\n",
    "mass_right_station = 151 / 2\n",
    "\n",
    "# Polar moment of inertia of the coupling\n",
    "Ip = 3.48\n",
    "\n",
    "# Torsional stiffness\n",
    "torsional_stiffness = 3.04e6\n",
    "\n",
    "# Create the coupling element\n",
    "coupling = rs.CouplingElement(\n",
    "    m_l=mass_left_station,  # Mass on the left station (in kg)\n",
    "    m_r=mass_right_station,  # Mass on the right station (in kg)\n",
    "    Ip_l=Ip\n",
    "    / 2,  # Polar moment of inertia on the left station (assuming equal distribution in kg·m²)\n",
    "    Ip_r=Ip\n",
    "    / 2,  # Polar moment of inertia on the right station (assuming equal distribution in kg·m²)\n",
    "    kr_z=torsional_stiffness,  # Torsional stiffness (in N·m/rad)\n",
    ")\n",
    "coupling"
   ]
  },
  {
   "cell_type": "markdown",
   "metadata": {},
   "source": [
    "#### 2.3.3 Coupling all elements\n",
    "\n",
    "Combine all elements into a single list for the rotor model.\n",
    "The elements must be in order."
   ]
  },
  {
   "cell_type": "code",
   "execution_count": 15,
   "metadata": {},
   "outputs": [
    {
     "data": {
      "text/plain": [
       "[ShaftElement(L=0.3, idl=0.0, idr=0.0, odl=0.123,  odr=0.123, material='Steel', n=None),\n",
       " ShaftElement(L=0.092, idl=0.0, idr=0.0, odl=0.15,  odr=0.15, material='Steel', n=None),\n",
       " ShaftElement(L=0.2, idl=0.0, idr=0.0, odl=0.15,  odr=0.15, material='Steel', n=None),\n",
       " ShaftElement(L=0.2, idl=0.0, idr=0.0, odl=0.15,  odr=0.15, material='Steel', n=None),\n",
       " ShaftElement(L=0.092, idl=0.0, idr=0.0, odl=0.15,  odr=0.15, material='Steel', n=None),\n",
       " ShaftElement(L=0.3, idl=0.0, idr=0.0, odl=0.123,  odr=0.123, material='Steel', n=None),\n",
       " CouplingElement(m=151.0, Ip=3.48, n=None),\n",
       " ShaftElement(L=0.08, idl=0.0, idr=0.0, odl=0.321,  odr=0.321, material='Steel', n=None),\n",
       " ShaftElement(L=0.2, idl=0.0, idr=0.0, odl=0.321,  odr=0.321, material='Steel', n=None),\n",
       " ShaftElement(L=0.2, idl=0.0, idr=0.0, odl=0.261,  odr=0.261, material='Steel', n=None),\n",
       " ShaftElement(L=0.64, idl=0.0, idr=0.0, odl=0.261,  odr=0.261, material='Steel', n=None)]"
      ]
     },
     "execution_count": 15,
     "metadata": {},
     "output_type": "execute_result"
    }
   ],
   "source": [
    "shaft_elements = [*shaft1, coupling, *shaft2]\n",
    "shaft_elements"
   ]
  },
  {
   "cell_type": "markdown",
   "metadata": {},
   "source": [
    "## Section 3: DiskElement Class\n",
    "\n",
    "The class `DiskElement` allows you to create disk elements, representing rotor equipments which can be considered only to add mass and inertia to the system, disregarding the stiffness.\n",
    "\n",
    "ROSS offers 3 (three) ways to create a disk element:\n",
    "1. Inputing mass and inertia data\n",
    "2. Inputing geometrical and material data\n",
    "3. From Excel table"
   ]
  },
  {
   "cell_type": "markdown",
   "metadata": {},
   "source": [
    "### 3.1 Creating disk elements from inertia properties\n",
    "\n",
    "If you have access to the mass and inertia properties of a equipment, you can input the data directly to the element.\n",
    "\n",
    "Disk elements are useful to represent equipments which mass and inertia are significant, but the stiffness can be neglected."
   ]
  },
  {
   "cell_type": "markdown",
   "metadata": {},
   "source": [
    "#### 3.1.1 Creating a single disk element\n",
    "\n",
    "This example below shows how to instantiate a disk element according to the mass and inertia properties:"
   ]
  },
  {
   "cell_type": "code",
   "execution_count": 16,
   "metadata": {
    "execution": {
     "iopub.execute_input": "2023-05-04T01:05:09.852258Z",
     "iopub.status.busy": "2023-05-04T01:05:09.852059Z",
     "iopub.status.idle": "2023-05-04T01:05:09.856623Z",
     "shell.execute_reply": "2023-05-04T01:05:09.856197Z"
    }
   },
   "outputs": [
    {
     "data": {
      "text/plain": [
       "DiskElement(Id=0.329, Ip=0.178, m=32.58, color='Firebrick', n=0, scale_factor=1.0, tag='Disk')"
      ]
     },
     "execution_count": 16,
     "metadata": {},
     "output_type": "execute_result"
    }
   ],
   "source": [
    "disk = rs.DiskElement(n=0, m=32.58, Ip=0.178, Id=0.329, tag=\"Disk\")\n",
    "disk"
   ]
  },
  {
   "cell_type": "markdown",
   "metadata": {},
   "source": [
    "#### 3.1.2 Creating a list of disk element\n",
    "\n",
    "This example below shows how to create a list of disk element according to the mass and inertia properties. The logic is the same applied to shaft elements."
   ]
  },
  {
   "cell_type": "code",
   "execution_count": 17,
   "metadata": {
    "execution": {
     "iopub.execute_input": "2023-05-04T01:05:09.858420Z",
     "iopub.status.busy": "2023-05-04T01:05:09.858259Z",
     "iopub.status.idle": "2023-05-04T01:05:09.863735Z",
     "shell.execute_reply": "2023-05-04T01:05:09.863305Z"
    }
   },
   "outputs": [
    {
     "data": {
      "text/plain": [
       "[DiskElement(Id=0.17809, Ip=0.32956, m=32.6, color='Firebrick', n=2, scale_factor=1.0, tag=None),\n",
       " DiskElement(Id=0.17809, Ip=0.38373, m=35.8, color='Firebrick', n=4, scale_factor=1.0, tag=None)]"
      ]
     },
     "execution_count": 17,
     "metadata": {},
     "output_type": "execute_result"
    }
   ],
   "source": [
    "# OPTION No.1:\n",
    "# Using zip() method\n",
    "n_list = [2, 4]\n",
    "m_list = [32.6, 35.8]\n",
    "Id_list = [0.17808928, 0.17808928]\n",
    "Ip_list = [0.32956362, 0.38372842]\n",
    "disk_elements = [\n",
    "    rs.DiskElement(\n",
    "        n=n,\n",
    "        m=m,\n",
    "        Id=Id,\n",
    "        Ip=Ip,\n",
    "    )\n",
    "    for n, m, Id, Ip in zip(n_list, m_list, Id_list, Ip_list)\n",
    "]\n",
    "disk_elements"
   ]
  },
  {
   "cell_type": "code",
   "execution_count": 18,
   "metadata": {
    "execution": {
     "iopub.execute_input": "2023-05-04T01:05:09.865480Z",
     "iopub.status.busy": "2023-05-04T01:05:09.865314Z",
     "iopub.status.idle": "2023-05-04T01:05:09.870998Z",
     "shell.execute_reply": "2023-05-04T01:05:09.870570Z"
    }
   },
   "outputs": [
    {
     "data": {
      "text/plain": [
       "[DiskElement(Id=0.17809, Ip=0.32956, m=32.6, color='Firebrick', n=2, scale_factor=1.0, tag=None),\n",
       " DiskElement(Id=0.17809, Ip=0.38373, m=35.8, color='Firebrick', n=4, scale_factor=1.0, tag=None)]"
      ]
     },
     "execution_count": 18,
     "metadata": {},
     "output_type": "execute_result"
    }
   ],
   "source": [
    "# OPTION No.2:\n",
    "# Using list index\n",
    "n_list = [2, 4]\n",
    "m_list = [32.6, 35.8]\n",
    "Id_list = [0.17808928, 0.17808928]\n",
    "Ip_list = [0.32956362, 0.38372842]\n",
    "N = len(n_list)\n",
    "disk_elements = [\n",
    "    rs.DiskElement(\n",
    "        n=n_list[i],\n",
    "        m=m_list[i],\n",
    "        Id=Id_list[i],\n",
    "        Ip=Ip_list[i],\n",
    "    )\n",
    "    for i in range(N)\n",
    "]\n",
    "disk_elements"
   ]
  },
  {
   "cell_type": "markdown",
   "metadata": {},
   "source": [
    "### 3.2 Creating disk elements from geometrical properties\n",
    "\n",
    "Besides the instantiation previously explained, there is a way to instantiate a DiskElement with only geometrical parameters (an approximation for cylindrical disks) and the disk’s material, as we can see in the following code. In this case, there's a class method (`rs.DiskElement.from_geometry()`) which you can use.\n",
    "\n",
    "ROSS will take geometrical parameters (outer and inner diameters, and width) and convert them into mass and inertia data. Once again, considering the disk as a cylinder."
   ]
  },
  {
   "cell_type": "markdown",
   "metadata": {},
   "source": [
    "#### 3.2.1 Creating a single disk element\n",
    "\n",
    "This example below shows how to instantiate a disk element according to the geometrical and material properties:"
   ]
  },
  {
   "cell_type": "code",
   "execution_count": 19,
   "metadata": {
    "execution": {
     "iopub.execute_input": "2023-05-04T01:05:09.872858Z",
     "iopub.status.busy": "2023-05-04T01:05:09.872702Z",
     "iopub.status.idle": "2023-05-04T01:05:09.876965Z",
     "shell.execute_reply": "2023-05-04T01:05:09.876526Z"
    }
   },
   "outputs": [
    {
     "name": "stdout",
     "output_type": "stream",
     "text": [
      "Tag:                      None\n",
      "Node:                     4\n",
      "Mass           (kg):      32.59\n",
      "Diam. inertia  (kg*m**2): 0.17809\n",
      "Polar. inertia (kg*m**2): 0.32956\n",
      "============================================================================\n",
      "Disk mass:              32.58972765304033\n",
      "Disk polar inertia:     0.32956362089137037\n",
      "Disk diametral inertia: 0.17808928257067666\n"
     ]
    }
   ],
   "source": [
    "disk1 = rs.DiskElement.from_geometry(\n",
    "    n=4, material=steel, width=0.07, i_d=0.05, o_d=0.28\n",
    ")\n",
    "print(disk1)\n",
    "\n",
    "print(\"=\" * 76)\n",
    "print(f\"Disk mass:              {disk1.m}\")\n",
    "print(f\"Disk polar inertia:     {disk1.Ip}\")\n",
    "print(f\"Disk diametral inertia: {disk1.Id}\")"
   ]
  },
  {
   "cell_type": "markdown",
   "metadata": {},
   "source": [
    "#### 3.2.2 Creating a list of disk element\n",
    "\n",
    "This example below shows how to create a list of disk element according to the geometrical and material properties. The logic is the same applied to shaft elements."
   ]
  },
  {
   "cell_type": "code",
   "execution_count": 20,
   "metadata": {
    "execution": {
     "iopub.execute_input": "2023-05-04T01:05:09.878732Z",
     "iopub.status.busy": "2023-05-04T01:05:09.878571Z",
     "iopub.status.idle": "2023-05-04T01:05:09.884842Z",
     "shell.execute_reply": "2023-05-04T01:05:09.884187Z"
    }
   },
   "outputs": [
    {
     "data": {
      "text/plain": [
       "[DiskElement(Id=3.6408, Ip=0.26836, m=85.875, color='Firebrick', n=2, scale_factor=1.0, tag=None),\n",
       " DiskElement(Id=5.5224, Ip=0.56007, m=128.38, color='Firebrick', n=4, scale_factor=1.0, tag=None)]"
      ]
     },
     "execution_count": 20,
     "metadata": {},
     "output_type": "execute_result"
    }
   ],
   "source": [
    "# OPTION No.1:\n",
    "# Using zip() method\n",
    "n_list = [2, 4]\n",
    "width_list = [0.7, 0.7]\n",
    "i_d_list = [0.05, 0.05]\n",
    "o_d_list = [0.15, 0.18]\n",
    "disk_elements = [\n",
    "    rs.DiskElement.from_geometry(\n",
    "        n=n,\n",
    "        material=steel,\n",
    "        width=width,\n",
    "        i_d=i_d,\n",
    "        o_d=o_d,\n",
    "    )\n",
    "    for n, width, i_d, o_d in zip(n_list, width_list, i_d_list, o_d_list)\n",
    "]\n",
    "disk_elements"
   ]
  },
  {
   "cell_type": "code",
   "execution_count": 21,
   "metadata": {
    "execution": {
     "iopub.execute_input": "2023-05-04T01:05:09.888469Z",
     "iopub.status.busy": "2023-05-04T01:05:09.887731Z",
     "iopub.status.idle": "2023-05-04T01:05:09.896475Z",
     "shell.execute_reply": "2023-05-04T01:05:09.895938Z"
    }
   },
   "outputs": [
    {
     "data": {
      "text/plain": [
       "[DiskElement(Id=3.6408, Ip=0.26836, m=85.875, color='Firebrick', n=2, scale_factor=1.0, tag=None),\n",
       " DiskElement(Id=5.5224, Ip=0.56007, m=128.38, color='Firebrick', n=4, scale_factor=1.0, tag=None)]"
      ]
     },
     "execution_count": 21,
     "metadata": {},
     "output_type": "execute_result"
    }
   ],
   "source": [
    "# OPTION No.2:\n",
    "# Using list index\n",
    "n_list = [2, 4]\n",
    "width_list = [0.7, 0.7]\n",
    "i_d_list = [0.05, 0.05]\n",
    "o_d_list = [0.15, 0.18]\n",
    "N = len(n_list)\n",
    "disk_elements = [\n",
    "    rs.DiskElement.from_geometry(\n",
    "        n=n_list[i],\n",
    "        material=steel,\n",
    "        width=width_list[i],\n",
    "        i_d=i_d_list[i],\n",
    "        o_d=o_d_list[i],\n",
    "    )\n",
    "    for i in range(N)\n",
    "]\n",
    "disk_elements"
   ]
  },
  {
   "cell_type": "markdown",
   "metadata": {},
   "source": [
    "### 3.3 Creating disk elements via Excel\n",
    "\n",
    "The third option for creating disk elements is via an Excel file. The classmethod `.from_table()` reads an Excel file created and converts it to a list of disk elements. This method accepts **only mass and inertia** inputs.\n",
    "\n",
    "A header with the names of the columns is required. These names should match the names expected by the routine (usually the names of the parameters, but also similar ones). The program will read every row bellow the header until they end or it reaches a NaN, which means if the code reaches to an empty line, it stops iterating.\n",
    "\n",
    "You can take advantage of the excel file used to assemble shaft elements, to assemble disk elements, just add a new spreadsheet to your Excel file and specify the correct `sheet_name`.\n",
    "\n",
    "An example of Excel content can be found at diretory *ross/tests/data/shaft_si.xls*, spreadsheet \"More\"."
   ]
  },
  {
   "cell_type": "code",
   "execution_count": 22,
   "metadata": {
    "execution": {
     "iopub.execute_input": "2023-05-04T01:05:09.898793Z",
     "iopub.status.busy": "2023-05-04T01:05:09.898453Z",
     "iopub.status.idle": "2023-05-04T01:05:09.930830Z",
     "shell.execute_reply": "2023-05-04T01:05:09.930198Z"
    }
   },
   "outputs": [
    {
     "data": {
      "text/plain": [
       "[DiskElement(Id=0.0, Ip=0.0, m=15.12, color='Firebrick', n=3, scale_factor=1, tag=None),\n",
       " DiskElement(Id=0.025, Ip=0.047, m=6.91, color='Firebrick', n=20, scale_factor=1, tag=None),\n",
       " DiskElement(Id=0.025, Ip=0.047, m=6.93, color='Firebrick', n=23, scale_factor=1, tag=None),\n",
       " DiskElement(Id=0.025, Ip=0.048, m=6.95, color='Firebrick', n=26, scale_factor=1, tag=None),\n",
       " DiskElement(Id=0.025, Ip=0.048, m=6.98, color='Firebrick', n=29, scale_factor=1, tag=None),\n",
       " DiskElement(Id=0.025, Ip=0.048, m=6.94, color='Firebrick', n=32, scale_factor=1, tag=None),\n",
       " DiskElement(Id=0.025, Ip=0.048, m=6.96, color='Firebrick', n=35, scale_factor=1, tag=None)]"
      ]
     },
     "execution_count": 22,
     "metadata": {},
     "output_type": "execute_result"
    }
   ],
   "source": [
    "file_path = Path(\"shaft_si.xls\")\n",
    "list_of_disks = rs.DiskElement.from_table(file=file_path, sheet_name=\"More\")\n",
    "list_of_disks"
   ]
  },
  {
   "cell_type": "markdown",
   "metadata": {},
   "source": [
    "## Section 4: Bearing and Seal Classes\n",
    "\n",
    "ROSS has a serie of classe to represent element that adds stiffness and / or damping to a rotor system.\n",
    "They're suitable to represent mainly bearings, supports and seals. Each one aims to represent some types of bearing and seal.\n",
    "\n",
    "All the class will return four stiffness coefficients ($k_{xx}$, $k_{xy}$, $k_{yx}$, $k_{yy}$) and four damping coefficients ($c_{xx}$, $c_{xy}$, $c_{yx}$, $c_{yy}$), which will be used to assemble the stiffness and damping matrices. \n",
    "\n",
    "The main difference between these classes are the arguments the user must input to create the element.\n",
    "\n",
    "Available bearing classes and class methods:\n",
    "\n",
    "- 1. `BearingElement`: represents a general (journal) bearing element.\n",
    "- 2. `SealElement`: represents a general seal element.\n",
    "- 3. `BallBearingElement`: A bearing element for ball bearings\n",
    "- 4. `RollerBearingElement`: A bearing element for roller bearings.\n",
    "- 5. `MagneticBearingElement`: A bearing element for magnetic bearings.\n",
    "    - 5.1. `param_to_coef`: A bearing element for magnetic bearings from electromagnetic parameters\n",
    "\n",
    "The classes from item 2 to 5 inherits from `BearingElement` class. It means, you can use the same methods and commands, set up to `BearingElement`, in the other classes."
   ]
  },
  {
   "cell_type": "markdown",
   "metadata": {},
   "source": [
    "### 4.1 BearingElement Class\n",
    "\n",
    "This class will create a bearing element. Bearings are elements that only add stiffness and damping properties to the rotor system. These parameters are defined by 8 dynamics coefficients (4 stiffness coefficients and 4 damping coefficients).\n",
    "\n",
    "Parameters can be a constant value or speed dependent. For speed dependent parameters, each argument should be passed as an array and the correspondent speed values should also be\n",
    "passed as an array. Values for each parameter will be interpolated for the speed.\n",
    "\n",
    "Bearing elements are single node elements and linked to \"ground\", but it's possible to create a new node with `n_link` argument to introduce a link with other elements. Useful to add bearings in series or co-axial rotors."
   ]
  },
  {
   "cell_type": "markdown",
   "metadata": {},
   "source": [
    "#### 4.1.1 Bearing with constant coefficients\n",
    "\n",
    "Bearings can have a constant value for each coefficient. In this case, it's **not necessary** to give a value to `frequency` argument.\n",
    "\n",
    "The next example shows how to instantiate a **single bearing with constant coefficients**:"
   ]
  },
  {
   "cell_type": "code",
   "execution_count": 23,
   "metadata": {
    "execution": {
     "iopub.execute_input": "2023-05-04T01:05:09.933249Z",
     "iopub.status.busy": "2023-05-04T01:05:09.933136Z",
     "iopub.status.idle": "2023-05-04T01:05:09.937637Z",
     "shell.execute_reply": "2023-05-04T01:05:09.937114Z"
    }
   },
   "outputs": [
    {
     "name": "stdout",
     "output_type": "stream",
     "text": [
      "BearingElement(n=0, n_link=None,\n",
      " kxx=[1000000.0], kxy=[0],\n",
      " kyx=[0], kyy=[800000.0],\n",
      " kzz=[0], cxx=[1000.0],\n",
      " cxy=[0], cyx=[0],\n",
      " cyy=[1000.0], czz=[0],\n",
      " mxx=[0], mxy=[0],\n",
      " myx=[0], myy=[0],\n",
      " mzz=[0],\n",
      " frequency=None, tag=None)\n",
      "=======================================================\n",
      "Kxx coefficient: [1000000.0]\n"
     ]
    }
   ],
   "source": [
    "stfx = 1e6\n",
    "stfy = 0.8e6\n",
    "bearing1 = rs.BearingElement(n=0, kxx=stfx, kyy=stfy, cxx=1e3)\n",
    "print(bearing1)\n",
    "\n",
    "print(\"=\" * 55)\n",
    "print(f\"Kxx coefficient: {bearing1.kxx}\")"
   ]
  },
  {
   "cell_type": "markdown",
   "metadata": {},
   "source": [
    "#### 4.1.2 Bearing with varying coefficients\n",
    "\n",
    "The coefficients could be an array with different values for different rotation speeds, in that case you only have to give a parameter 'frequency' which is a array with the same size as the coefficients array.  \n",
    "\n",
    "The next example shows how to instantiate a **single bearing with speed dependent parameters**:"
   ]
  },
  {
   "cell_type": "code",
   "execution_count": 24,
   "metadata": {
    "execution": {
     "iopub.execute_input": "2023-05-04T01:05:09.939716Z",
     "iopub.status.busy": "2023-05-04T01:05:09.939542Z",
     "iopub.status.idle": "2023-05-04T01:05:09.947682Z",
     "shell.execute_reply": "2023-05-04T01:05:09.947095Z"
    },
    "scrolled": true
   },
   "outputs": [
    {
     "name": "stdout",
     "output_type": "stream",
     "text": [
      "BearingElement(n=0, n_link=None,\n",
      " kxx=[ 500000. 1000000. 2500000.], kxy=[0, 0, 0],\n",
      " kyx=[0, 0, 0], kyy=[1500000. 2000000. 3500000.],\n",
      " kzz=[0, 0, 0], cxx=[ 500. 1000. 1500.],\n",
      " cxy=[0, 0, 0], cyx=[0, 0, 0],\n",
      " cyy=[ 500. 1000. 1500.], czz=[0, 0, 0],\n",
      " mxx=[0, 0, 0], mxy=[0, 0, 0],\n",
      " myx=[0, 0, 0], myy=[0, 0, 0],\n",
      " mzz=[0, 0, 0],\n",
      " frequency=[   0. 1000. 2000.], tag=None)\n",
      "===============================================================================\n",
      "Kxx coefficient: [ 500000. 1000000. 2500000.]\n"
     ]
    }
   ],
   "source": [
    "bearing2 = rs.BearingElement(\n",
    "    n=0,\n",
    "    kxx=np.array([0.5e6, 1.0e6, 2.5e6]),\n",
    "    kyy=np.array([1.5e6, 2.0e6, 3.5e6]),\n",
    "    cxx=np.array([0.5e3, 1.0e3, 1.5e3]),\n",
    "    frequency=np.array([0, 1000, 2000]),\n",
    ")\n",
    "\n",
    "print(bearing2)\n",
    "print(\"=\" * 79)\n",
    "print(f\"Kxx coefficient: {bearing2.kxx}\")"
   ]
  },
  {
   "cell_type": "markdown",
   "metadata": {},
   "source": [
    "If the size of coefficient and frequency arrays do not match, an `ValueError` is raised\n",
    "\n",
    "The next example shows the instantiate of a **bearing with odd parameters**:"
   ]
  },
  {
   "cell_type": "markdown",
   "metadata": {},
   "source": [
    "```python\n",
    "bearing_odd = rs.BearingElement( # odd dimensions\n",
    "    n=0, \n",
    "    kxx=np.array([0.5e6, 1.0e6, 2.5e6]),\n",
    "    kyy=np.array([1.5e6, 2.0e6, 3.5e6]),\n",
    "    cxx=np.array([0.5e3, 1.0e3, 1.5e3]),\n",
    "    frequency=np.array([0, 1000, 2000, 3000])\n",
    ")\n",
    "```"
   ]
  },
  {
   "cell_type": "markdown",
   "metadata": {},
   "source": [
    "#### 4.1.3 Inserting bearing elements in series\n",
    "\n",
    "Bearing and seal elements are 1-node element, which means the element attaches to a given node from the rotor shaft and it's connect to the \"ground\". However, there's an option to couple multiple elements in series, using the `n_link` argument. This is very useful to simulate structures which support the machine, for example.\n",
    "\n",
    "`n_link` opens a new node to the rotor system, or it can be associated to another rotor node (useful in co-axial rotor models). Then, the new BearingElement node, is set equal to the `n_link` from the previous element."
   ]
  },
  {
   "cell_type": "code",
   "execution_count": 25,
   "metadata": {
    "execution": {
     "iopub.execute_input": "2023-05-04T01:05:09.949823Z",
     "iopub.status.busy": "2023-05-04T01:05:09.949444Z",
     "iopub.status.idle": "2023-05-04T01:05:09.954568Z",
     "shell.execute_reply": "2023-05-04T01:05:09.954074Z"
    }
   },
   "outputs": [
    {
     "name": "stdout",
     "output_type": "stream",
     "text": [
      "BearingElement(n=0, n_link=1,\n",
      " kxx=[1000000.0], kxy=[0],\n",
      " kyx=[0], kyy=[800000.0],\n",
      " kzz=[0], cxx=[1000.0],\n",
      " cxy=[0], cyx=[0],\n",
      " cyy=[1000.0], czz=[0],\n",
      " mxx=[0], mxy=[0],\n",
      " myx=[0], myy=[0],\n",
      " mzz=[0],\n",
      " frequency=None, tag='journal_bearing')\n",
      "BearingElement(n=1, n_link=None,\n",
      " kxx=[10000000.0], kxy=[0],\n",
      " kyx=[0], kyy=[1000000000.0],\n",
      " kzz=[0], cxx=[10],\n",
      " cxy=[0], cyx=[0],\n",
      " cyy=[10], czz=[0],\n",
      " mxx=[0], mxy=[0],\n",
      " myx=[0], myy=[0],\n",
      " mzz=[0],\n",
      " frequency=None, tag='support')\n"
     ]
    }
   ],
   "source": [
    "stfx = 1e6\n",
    "stfy = 0.8e6\n",
    "bearing3 = rs.BearingElement(\n",
    "    n=0, kxx=stfx, kyy=stfy, cxx=1e3, n_link=1, tag=\"journal_bearing\"\n",
    ")\n",
    "bearing4 = rs.BearingElement(n=1, kxx=1e7, kyy=1e9, cxx=10, tag=\"support\")\n",
    "print(bearing3)\n",
    "print(bearing4)"
   ]
  },
  {
   "cell_type": "markdown",
   "metadata": {},
   "source": [
    "#### 4.1.4 Visualizing coefficients graphically\n",
    "\n",
    "If you want to visualize how the coefficients varies with speed, you can select a specific coefficient and use the `.plot()` method.\n",
    "\n",
    "Let's return to the example done in **4.1.2** and check how $k_{yy}$ and $c_{yy}$ varies. You can check for all the 8 dynamic coefficients as you like."
   ]
  },
  {
   "cell_type": "code",
   "execution_count": 26,
   "metadata": {
    "execution": {
     "iopub.execute_input": "2023-05-04T01:05:09.956539Z",
     "iopub.status.busy": "2023-05-04T01:05:09.956297Z",
     "iopub.status.idle": "2023-05-04T01:05:10.020228Z",
     "shell.execute_reply": "2023-05-04T01:05:10.019695Z"
    }
   },
   "outputs": [
    {
     "data": {
      "application/vnd.plotly.v1+json": {
       "config": {
        "plotlyServerURL": "https://plot.ly"
       },
       "data": [
        {
         "hovertemplate": "Frequency (rad/s): %{x:.2f}<br> Coefficient (N/m): %{y:.3e}",
         "mode": "lines",
         "name": "kyy",
         "showlegend": true,
         "type": "scatter",
         "x": [
          0,
          68.96551724137932,
          137.93103448275863,
          206.89655172413796,
          275.86206896551727,
          344.82758620689657,
          413.79310344827593,
          482.7586206896552,
          551.7241379310345,
          620.6896551724138,
          689.6551724137931,
          758.6206896551724,
          827.5862068965519,
          896.5517241379312,
          965.5172413793103,
          1034.4827586206898,
          1103.448275862069,
          1172.4137931034484,
          1241.3793103448277,
          1310.344827586207,
          1379.3103448275865,
          1448.2758620689656,
          1517.2413793103449,
          1586.2068965517242,
          1655.1724137931035,
          1724.137931034483,
          1793.1034482758623,
          1862.0689655172416,
          1931.034482758621,
          2000
         ],
         "y": [
          1500000,
          1502378.1212841854,
          1509512.4851367422,
          1521403.0915576692,
          1538049.9405469685,
          1559453.0321046372,
          1585612.366230678,
          1616527.942925089,
          1652199.7621878716,
          1692627.8240190246,
          1737812.1284185494,
          1787752.675386445,
          1842449.4649227113,
          1901902.4970273487,
          1966111.7717003569,
          2035077.2889417363,
          2108799.0487514865,
          2187277.0511296075,
          2270511.2960761003,
          2358501.783590963,
          2451248.5136741977,
          2548751.4863258023,
          2651010.701545779,
          2758026.1593341264,
          2869797.859690845,
          2986325.8026159345,
          3107609.9881093935,
          3233650.4161712253,
          3364447.0868014274,
          3500000
         ]
        }
       ],
       "layout": {
        "template": {
         "data": {
          "bar": [
           {
            "error_x": {
             "color": "#2a3f5f"
            },
            "error_y": {
             "color": "#2a3f5f"
            },
            "marker": {
             "line": {
              "color": "white",
              "width": 0.5
             }
            },
            "type": "bar"
           }
          ],
          "barpolar": [
           {
            "marker": {
             "line": {
              "color": "white",
              "width": 0.5
             }
            },
            "type": "barpolar"
           }
          ],
          "carpet": [
           {
            "aaxis": {
             "endlinecolor": "#2a3f5f",
             "gridcolor": "#C8D4E3",
             "linecolor": "#C8D4E3",
             "minorgridcolor": "#C8D4E3",
             "startlinecolor": "#2a3f5f"
            },
            "baxis": {
             "endlinecolor": "#2a3f5f",
             "gridcolor": "#C8D4E3",
             "linecolor": "#C8D4E3",
             "minorgridcolor": "#C8D4E3",
             "startlinecolor": "#2a3f5f"
            },
            "type": "carpet"
           }
          ],
          "choropleth": [
           {
            "colorbar": {
             "outlinewidth": 0,
             "ticks": ""
            },
            "type": "choropleth"
           }
          ],
          "contour": [
           {
            "colorbar": {
             "outlinewidth": 0,
             "ticks": ""
            },
            "colorscale": [
             [
              0,
              "#0d0887"
             ],
             [
              0.1111111111111111,
              "#46039f"
             ],
             [
              0.2222222222222222,
              "#7201a8"
             ],
             [
              0.3333333333333333,
              "#9c179e"
             ],
             [
              0.4444444444444444,
              "#bd3786"
             ],
             [
              0.5555555555555556,
              "#d8576b"
             ],
             [
              0.6666666666666666,
              "#ed7953"
             ],
             [
              0.7777777777777778,
              "#fb9f3a"
             ],
             [
              0.8888888888888888,
              "#fdca26"
             ],
             [
              1,
              "#f0f921"
             ]
            ],
            "type": "contour"
           }
          ],
          "contourcarpet": [
           {
            "colorbar": {
             "outlinewidth": 0,
             "ticks": ""
            },
            "type": "contourcarpet"
           }
          ],
          "heatmap": [
           {
            "colorbar": {
             "outlinewidth": 0,
             "ticks": ""
            },
            "colorscale": [
             [
              0,
              "#0d0887"
             ],
             [
              0.1111111111111111,
              "#46039f"
             ],
             [
              0.2222222222222222,
              "#7201a8"
             ],
             [
              0.3333333333333333,
              "#9c179e"
             ],
             [
              0.4444444444444444,
              "#bd3786"
             ],
             [
              0.5555555555555556,
              "#d8576b"
             ],
             [
              0.6666666666666666,
              "#ed7953"
             ],
             [
              0.7777777777777778,
              "#fb9f3a"
             ],
             [
              0.8888888888888888,
              "#fdca26"
             ],
             [
              1,
              "#f0f921"
             ]
            ],
            "type": "heatmap"
           }
          ],
          "heatmapgl": [
           {
            "colorbar": {
             "outlinewidth": 0,
             "ticks": ""
            },
            "colorscale": [
             [
              0,
              "#0d0887"
             ],
             [
              0.1111111111111111,
              "#46039f"
             ],
             [
              0.2222222222222222,
              "#7201a8"
             ],
             [
              0.3333333333333333,
              "#9c179e"
             ],
             [
              0.4444444444444444,
              "#bd3786"
             ],
             [
              0.5555555555555556,
              "#d8576b"
             ],
             [
              0.6666666666666666,
              "#ed7953"
             ],
             [
              0.7777777777777778,
              "#fb9f3a"
             ],
             [
              0.8888888888888888,
              "#fdca26"
             ],
             [
              1,
              "#f0f921"
             ]
            ],
            "type": "heatmapgl"
           }
          ],
          "histogram": [
           {
            "marker": {
             "colorbar": {
              "outlinewidth": 0,
              "ticks": ""
             }
            },
            "type": "histogram"
           }
          ],
          "histogram2d": [
           {
            "colorbar": {
             "outlinewidth": 0,
             "ticks": ""
            },
            "colorscale": [
             [
              0,
              "#0d0887"
             ],
             [
              0.1111111111111111,
              "#46039f"
             ],
             [
              0.2222222222222222,
              "#7201a8"
             ],
             [
              0.3333333333333333,
              "#9c179e"
             ],
             [
              0.4444444444444444,
              "#bd3786"
             ],
             [
              0.5555555555555556,
              "#d8576b"
             ],
             [
              0.6666666666666666,
              "#ed7953"
             ],
             [
              0.7777777777777778,
              "#fb9f3a"
             ],
             [
              0.8888888888888888,
              "#fdca26"
             ],
             [
              1,
              "#f0f921"
             ]
            ],
            "type": "histogram2d"
           }
          ],
          "histogram2dcontour": [
           {
            "colorbar": {
             "outlinewidth": 0,
             "ticks": ""
            },
            "colorscale": [
             [
              0,
              "#0d0887"
             ],
             [
              0.1111111111111111,
              "#46039f"
             ],
             [
              0.2222222222222222,
              "#7201a8"
             ],
             [
              0.3333333333333333,
              "#9c179e"
             ],
             [
              0.4444444444444444,
              "#bd3786"
             ],
             [
              0.5555555555555556,
              "#d8576b"
             ],
             [
              0.6666666666666666,
              "#ed7953"
             ],
             [
              0.7777777777777778,
              "#fb9f3a"
             ],
             [
              0.8888888888888888,
              "#fdca26"
             ],
             [
              1,
              "#f0f921"
             ]
            ],
            "type": "histogram2dcontour"
           }
          ],
          "mesh3d": [
           {
            "colorbar": {
             "outlinewidth": 0,
             "ticks": ""
            },
            "type": "mesh3d"
           }
          ],
          "parcoords": [
           {
            "line": {
             "colorbar": {
              "outlinewidth": 0,
              "ticks": ""
             }
            },
            "type": "parcoords"
           }
          ],
          "pie": [
           {
            "automargin": true,
            "type": "pie"
           }
          ],
          "scatter": [
           {
            "marker": {
             "colorbar": {
              "outlinewidth": 0,
              "ticks": ""
             }
            },
            "type": "scatter"
           }
          ],
          "scatter3d": [
           {
            "line": {
             "colorbar": {
              "outlinewidth": 0,
              "ticks": ""
             }
            },
            "marker": {
             "colorbar": {
              "outlinewidth": 0,
              "ticks": ""
             },
             "size": 4
            },
            "type": "scatter3d"
           }
          ],
          "scattercarpet": [
           {
            "marker": {
             "colorbar": {
              "outlinewidth": 0,
              "ticks": ""
             }
            },
            "type": "scattercarpet"
           }
          ],
          "scattergeo": [
           {
            "marker": {
             "colorbar": {
              "outlinewidth": 0,
              "ticks": ""
             }
            },
            "type": "scattergeo"
           }
          ],
          "scattergl": [
           {
            "marker": {
             "colorbar": {
              "outlinewidth": 0,
              "ticks": ""
             }
            },
            "type": "scattergl"
           }
          ],
          "scattermapbox": [
           {
            "marker": {
             "colorbar": {
              "outlinewidth": 0,
              "ticks": ""
             }
            },
            "type": "scattermapbox"
           }
          ],
          "scatterpolar": [
           {
            "marker": {
             "colorbar": {
              "outlinewidth": 0,
              "ticks": ""
             }
            },
            "type": "scatterpolar"
           }
          ],
          "scatterpolargl": [
           {
            "marker": {
             "colorbar": {
              "outlinewidth": 0,
              "ticks": ""
             }
            },
            "type": "scatterpolargl"
           }
          ],
          "scatterternary": [
           {
            "marker": {
             "colorbar": {
              "outlinewidth": 0,
              "ticks": ""
             }
            },
            "type": "scatterternary"
           }
          ],
          "surface": [
           {
            "colorbar": {
             "outlinewidth": 0,
             "ticks": ""
            },
            "colorscale": [
             [
              0,
              "#0d0887"
             ],
             [
              0.1111111111111111,
              "#46039f"
             ],
             [
              0.2222222222222222,
              "#7201a8"
             ],
             [
              0.3333333333333333,
              "#9c179e"
             ],
             [
              0.4444444444444444,
              "#bd3786"
             ],
             [
              0.5555555555555556,
              "#d8576b"
             ],
             [
              0.6666666666666666,
              "#ed7953"
             ],
             [
              0.7777777777777778,
              "#fb9f3a"
             ],
             [
              0.8888888888888888,
              "#fdca26"
             ],
             [
              1,
              "#f0f921"
             ]
            ],
            "type": "surface"
           }
          ],
          "table": [
           {
            "cells": {
             "fill": {
              "color": "#EBF0F8"
             },
             "line": {
              "color": "white"
             }
            },
            "header": {
             "fill": {
              "color": "#C8D4E3"
             },
             "line": {
              "color": "white"
             }
            },
            "type": "table"
           }
          ]
         },
         "layout": {
          "annotationdefaults": {
           "arrowcolor": "#2a3f5f",
           "arrowhead": 0,
           "arrowwidth": 1
          },
          "coloraxis": {
           "colorbar": {
            "outlinewidth": 0,
            "ticks": ""
           }
          },
          "colorscale": {
           "diverging": [
            [
             0,
             "#8e0152"
            ],
            [
             0.1,
             "#c51b7d"
            ],
            [
             0.2,
             "#de77ae"
            ],
            [
             0.3,
             "#f1b6da"
            ],
            [
             0.4,
             "#fde0ef"
            ],
            [
             0.5,
             "#f7f7f7"
            ],
            [
             0.6,
             "#e6f5d0"
            ],
            [
             0.7,
             "#b8e186"
            ],
            [
             0.8,
             "#7fbc41"
            ],
            [
             0.9,
             "#4d9221"
            ],
            [
             1,
             "#276419"
            ]
           ],
           "sequential": [
            [
             0,
             "#0d0887"
            ],
            [
             0.1111111111111111,
             "#46039f"
            ],
            [
             0.2222222222222222,
             "#7201a8"
            ],
            [
             0.3333333333333333,
             "#9c179e"
            ],
            [
             0.4444444444444444,
             "#bd3786"
            ],
            [
             0.5555555555555556,
             "#d8576b"
            ],
            [
             0.6666666666666666,
             "#ed7953"
            ],
            [
             0.7777777777777778,
             "#fb9f3a"
            ],
            [
             0.8888888888888888,
             "#fdca26"
            ],
            [
             1,
             "#f0f921"
            ]
           ],
           "sequentialminus": [
            [
             0,
             "#0d0887"
            ],
            [
             0.1111111111111111,
             "#46039f"
            ],
            [
             0.2222222222222222,
             "#7201a8"
            ],
            [
             0.3333333333333333,
             "#9c179e"
            ],
            [
             0.4444444444444444,
             "#bd3786"
            ],
            [
             0.5555555555555556,
             "#d8576b"
            ],
            [
             0.6666666666666666,
             "#ed7953"
            ],
            [
             0.7777777777777778,
             "#fb9f3a"
            ],
            [
             0.8888888888888888,
             "#fdca26"
            ],
            [
             1,
             "#f0f921"
            ]
           ]
          },
          "colorway": [
           "#1f77b4",
           "#ff7f0e",
           "#2ca02c",
           "#d62728",
           "#9467bd",
           "#8c564b",
           "#e377c2",
           "#7f7f7f",
           "#bcbd22",
           "#17becf"
          ],
          "font": {
           "color": "#2a3f5f"
          },
          "geo": {
           "bgcolor": "white",
           "lakecolor": "white",
           "landcolor": "white",
           "showlakes": true,
           "showland": true,
           "subunitcolor": "#C8D4E3"
          },
          "hoverlabel": {
           "align": "left"
          },
          "hovermode": "closest",
          "mapbox": {
           "style": "light"
          },
          "paper_bgcolor": "white",
          "plot_bgcolor": "white",
          "polar": {
           "angularaxis": {
            "gridcolor": "#EBF0F8",
            "linecolor": "#EBF0F8",
            "ticks": ""
           },
           "bgcolor": "white",
           "radialaxis": {
            "gridcolor": "#EBF0F8",
            "linecolor": "#EBF0F8",
            "ticks": ""
           }
          },
          "scene": {
           "camera": {
            "center": {
             "x": 0,
             "y": 0,
             "z": 0
            },
            "eye": {
             "x": 2,
             "y": 2,
             "z": 2
            },
            "up": {
             "x": 0,
             "y": 0,
             "z": 1
            }
           },
           "xaxis": {
            "backgroundcolor": "white",
            "gridcolor": "#DFE8F3",
            "gridwidth": 2,
            "linecolor": "#EBF0F8",
            "showbackground": true,
            "showspikes": false,
            "ticks": "",
            "zerolinecolor": "#EBF0F8"
           },
           "yaxis": {
            "backgroundcolor": "white",
            "gridcolor": "#DFE8F3",
            "gridwidth": 2,
            "linecolor": "#EBF0F8",
            "showbackground": true,
            "showspikes": false,
            "ticks": "",
            "zerolinecolor": "#EBF0F8"
           },
           "zaxis": {
            "backgroundcolor": "white",
            "gridcolor": "#DFE8F3",
            "gridwidth": 2,
            "linecolor": "#EBF0F8",
            "showbackground": true,
            "showspikes": false,
            "ticks": "",
            "zerolinecolor": "#EBF0F8"
           }
          },
          "shapedefaults": {
           "line": {
            "color": "#2a3f5f"
           }
          },
          "ternary": {
           "aaxis": {
            "gridcolor": "#DFE8F3",
            "linecolor": "#A2B1C6",
            "ticks": ""
           },
           "baxis": {
            "gridcolor": "#DFE8F3",
            "linecolor": "#A2B1C6",
            "ticks": ""
           },
           "bgcolor": "white",
           "caxis": {
            "gridcolor": "#DFE8F3",
            "linecolor": "#A2B1C6",
            "ticks": ""
           }
          },
          "title": {
           "x": 0.05
          },
          "xaxis": {
           "automargin": true,
           "gridcolor": "#EBF0F8",
           "linecolor": "black",
           "linewidth": 2,
           "mirror": true,
           "showline": true,
           "ticks": "",
           "title": {
            "standoff": 15
           },
           "zeroline": false,
           "zerolinecolor": "#EBF0F8",
           "zerolinewidth": 2
          },
          "yaxis": {
           "automargin": true,
           "gridcolor": "#EBF0F8",
           "linecolor": "black",
           "linewidth": 2,
           "mirror": true,
           "showline": true,
           "ticks": "",
           "title": {
            "standoff": 15
           },
           "zeroline": false,
           "zerolinecolor": "#EBF0F8",
           "zerolinewidth": 2
          }
         }
        },
        "xaxis": {
         "title": {
          "text": "Frequency (rad/s)"
         }
        },
        "yaxis": {
         "exponentformat": "power"
        }
       }
      }
     },
     "metadata": {},
     "output_type": "display_data"
    }
   ],
   "source": [
    "bearing2.plot(\"kyy\")"
   ]
  },
  {
   "cell_type": "code",
   "execution_count": 27,
   "metadata": {
    "execution": {
     "iopub.execute_input": "2023-05-04T01:05:10.022418Z",
     "iopub.status.busy": "2023-05-04T01:05:10.022261Z",
     "iopub.status.idle": "2023-05-04T01:05:10.030506Z",
     "shell.execute_reply": "2023-05-04T01:05:10.029944Z"
    }
   },
   "outputs": [
    {
     "data": {
      "application/vnd.plotly.v1+json": {
       "config": {
        "plotlyServerURL": "https://plot.ly"
       },
       "data": [
        {
         "hovertemplate": "Frequency (rad/s): %{x:.2f}<br> Coefficient (N/m): %{y:.3e}",
         "mode": "lines",
         "name": "kxx",
         "showlegend": true,
         "type": "scatter",
         "x": [
          0,
          68.96551724137932,
          137.93103448275863,
          206.89655172413796,
          275.86206896551727,
          344.82758620689657,
          413.79310344827593,
          482.7586206896552,
          551.7241379310345,
          620.6896551724138,
          689.6551724137931,
          758.6206896551724,
          827.5862068965519,
          896.5517241379312,
          965.5172413793103,
          1034.4827586206898,
          1103.448275862069,
          1172.4137931034484,
          1241.3793103448277,
          1310.344827586207,
          1379.3103448275865,
          1448.2758620689656,
          1517.2413793103449,
          1586.2068965517242,
          1655.1724137931035,
          1724.137931034483,
          1793.1034482758623,
          1862.0689655172416,
          1931.034482758621,
          2000
         ],
         "y": [
          500000,
          502378.1212841855,
          509512.48513674195,
          521403.09155766945,
          538049.940546968,
          559453.0321046374,
          585612.3662306779,
          616527.9429250892,
          652199.7621878716,
          692627.824019025,
          737812.1284185494,
          787752.6753864447,
          842449.4649227111,
          901902.4970273484,
          966111.7717003569,
          1035077.288941736,
          1108799.0487514865,
          1187277.0511296075,
          1270511.2960761,
          1358501.783590963,
          1451248.5136741975,
          1548751.4863258025,
          1651010.701545779,
          1758026.1593341262,
          1869797.8596908443,
          1986325.802615934,
          2107609.988109394,
          2233650.4161712257,
          2364447.0868014274,
          2500000
         ]
        },
        {
         "hovertemplate": "Frequency (rad/s): %{x:.2f}<br> Coefficient (N/m): %{y:.3e}",
         "mode": "lines",
         "name": "kyy",
         "showlegend": true,
         "type": "scatter",
         "x": [
          0,
          68.96551724137932,
          137.93103448275863,
          206.89655172413796,
          275.86206896551727,
          344.82758620689657,
          413.79310344827593,
          482.7586206896552,
          551.7241379310345,
          620.6896551724138,
          689.6551724137931,
          758.6206896551724,
          827.5862068965519,
          896.5517241379312,
          965.5172413793103,
          1034.4827586206898,
          1103.448275862069,
          1172.4137931034484,
          1241.3793103448277,
          1310.344827586207,
          1379.3103448275865,
          1448.2758620689656,
          1517.2413793103449,
          1586.2068965517242,
          1655.1724137931035,
          1724.137931034483,
          1793.1034482758623,
          1862.0689655172416,
          1931.034482758621,
          2000
         ],
         "y": [
          1500000,
          1502378.1212841854,
          1509512.4851367422,
          1521403.0915576692,
          1538049.9405469685,
          1559453.0321046372,
          1585612.366230678,
          1616527.942925089,
          1652199.7621878716,
          1692627.8240190246,
          1737812.1284185494,
          1787752.675386445,
          1842449.4649227113,
          1901902.4970273487,
          1966111.7717003569,
          2035077.2889417363,
          2108799.0487514865,
          2187277.0511296075,
          2270511.2960761003,
          2358501.783590963,
          2451248.5136741977,
          2548751.4863258023,
          2651010.701545779,
          2758026.1593341264,
          2869797.859690845,
          2986325.8026159345,
          3107609.9881093935,
          3233650.4161712253,
          3364447.0868014274,
          3500000
         ]
        }
       ],
       "layout": {
        "template": {
         "data": {
          "bar": [
           {
            "error_x": {
             "color": "#2a3f5f"
            },
            "error_y": {
             "color": "#2a3f5f"
            },
            "marker": {
             "line": {
              "color": "white",
              "width": 0.5
             }
            },
            "type": "bar"
           }
          ],
          "barpolar": [
           {
            "marker": {
             "line": {
              "color": "white",
              "width": 0.5
             }
            },
            "type": "barpolar"
           }
          ],
          "carpet": [
           {
            "aaxis": {
             "endlinecolor": "#2a3f5f",
             "gridcolor": "#C8D4E3",
             "linecolor": "#C8D4E3",
             "minorgridcolor": "#C8D4E3",
             "startlinecolor": "#2a3f5f"
            },
            "baxis": {
             "endlinecolor": "#2a3f5f",
             "gridcolor": "#C8D4E3",
             "linecolor": "#C8D4E3",
             "minorgridcolor": "#C8D4E3",
             "startlinecolor": "#2a3f5f"
            },
            "type": "carpet"
           }
          ],
          "choropleth": [
           {
            "colorbar": {
             "outlinewidth": 0,
             "ticks": ""
            },
            "type": "choropleth"
           }
          ],
          "contour": [
           {
            "colorbar": {
             "outlinewidth": 0,
             "ticks": ""
            },
            "colorscale": [
             [
              0,
              "#0d0887"
             ],
             [
              0.1111111111111111,
              "#46039f"
             ],
             [
              0.2222222222222222,
              "#7201a8"
             ],
             [
              0.3333333333333333,
              "#9c179e"
             ],
             [
              0.4444444444444444,
              "#bd3786"
             ],
             [
              0.5555555555555556,
              "#d8576b"
             ],
             [
              0.6666666666666666,
              "#ed7953"
             ],
             [
              0.7777777777777778,
              "#fb9f3a"
             ],
             [
              0.8888888888888888,
              "#fdca26"
             ],
             [
              1,
              "#f0f921"
             ]
            ],
            "type": "contour"
           }
          ],
          "contourcarpet": [
           {
            "colorbar": {
             "outlinewidth": 0,
             "ticks": ""
            },
            "type": "contourcarpet"
           }
          ],
          "heatmap": [
           {
            "colorbar": {
             "outlinewidth": 0,
             "ticks": ""
            },
            "colorscale": [
             [
              0,
              "#0d0887"
             ],
             [
              0.1111111111111111,
              "#46039f"
             ],
             [
              0.2222222222222222,
              "#7201a8"
             ],
             [
              0.3333333333333333,
              "#9c179e"
             ],
             [
              0.4444444444444444,
              "#bd3786"
             ],
             [
              0.5555555555555556,
              "#d8576b"
             ],
             [
              0.6666666666666666,
              "#ed7953"
             ],
             [
              0.7777777777777778,
              "#fb9f3a"
             ],
             [
              0.8888888888888888,
              "#fdca26"
             ],
             [
              1,
              "#f0f921"
             ]
            ],
            "type": "heatmap"
           }
          ],
          "heatmapgl": [
           {
            "colorbar": {
             "outlinewidth": 0,
             "ticks": ""
            },
            "colorscale": [
             [
              0,
              "#0d0887"
             ],
             [
              0.1111111111111111,
              "#46039f"
             ],
             [
              0.2222222222222222,
              "#7201a8"
             ],
             [
              0.3333333333333333,
              "#9c179e"
             ],
             [
              0.4444444444444444,
              "#bd3786"
             ],
             [
              0.5555555555555556,
              "#d8576b"
             ],
             [
              0.6666666666666666,
              "#ed7953"
             ],
             [
              0.7777777777777778,
              "#fb9f3a"
             ],
             [
              0.8888888888888888,
              "#fdca26"
             ],
             [
              1,
              "#f0f921"
             ]
            ],
            "type": "heatmapgl"
           }
          ],
          "histogram": [
           {
            "marker": {
             "colorbar": {
              "outlinewidth": 0,
              "ticks": ""
             }
            },
            "type": "histogram"
           }
          ],
          "histogram2d": [
           {
            "colorbar": {
             "outlinewidth": 0,
             "ticks": ""
            },
            "colorscale": [
             [
              0,
              "#0d0887"
             ],
             [
              0.1111111111111111,
              "#46039f"
             ],
             [
              0.2222222222222222,
              "#7201a8"
             ],
             [
              0.3333333333333333,
              "#9c179e"
             ],
             [
              0.4444444444444444,
              "#bd3786"
             ],
             [
              0.5555555555555556,
              "#d8576b"
             ],
             [
              0.6666666666666666,
              "#ed7953"
             ],
             [
              0.7777777777777778,
              "#fb9f3a"
             ],
             [
              0.8888888888888888,
              "#fdca26"
             ],
             [
              1,
              "#f0f921"
             ]
            ],
            "type": "histogram2d"
           }
          ],
          "histogram2dcontour": [
           {
            "colorbar": {
             "outlinewidth": 0,
             "ticks": ""
            },
            "colorscale": [
             [
              0,
              "#0d0887"
             ],
             [
              0.1111111111111111,
              "#46039f"
             ],
             [
              0.2222222222222222,
              "#7201a8"
             ],
             [
              0.3333333333333333,
              "#9c179e"
             ],
             [
              0.4444444444444444,
              "#bd3786"
             ],
             [
              0.5555555555555556,
              "#d8576b"
             ],
             [
              0.6666666666666666,
              "#ed7953"
             ],
             [
              0.7777777777777778,
              "#fb9f3a"
             ],
             [
              0.8888888888888888,
              "#fdca26"
             ],
             [
              1,
              "#f0f921"
             ]
            ],
            "type": "histogram2dcontour"
           }
          ],
          "mesh3d": [
           {
            "colorbar": {
             "outlinewidth": 0,
             "ticks": ""
            },
            "type": "mesh3d"
           }
          ],
          "parcoords": [
           {
            "line": {
             "colorbar": {
              "outlinewidth": 0,
              "ticks": ""
             }
            },
            "type": "parcoords"
           }
          ],
          "pie": [
           {
            "automargin": true,
            "type": "pie"
           }
          ],
          "scatter": [
           {
            "marker": {
             "colorbar": {
              "outlinewidth": 0,
              "ticks": ""
             }
            },
            "type": "scatter"
           }
          ],
          "scatter3d": [
           {
            "line": {
             "colorbar": {
              "outlinewidth": 0,
              "ticks": ""
             }
            },
            "marker": {
             "colorbar": {
              "outlinewidth": 0,
              "ticks": ""
             },
             "size": 4
            },
            "type": "scatter3d"
           }
          ],
          "scattercarpet": [
           {
            "marker": {
             "colorbar": {
              "outlinewidth": 0,
              "ticks": ""
             }
            },
            "type": "scattercarpet"
           }
          ],
          "scattergeo": [
           {
            "marker": {
             "colorbar": {
              "outlinewidth": 0,
              "ticks": ""
             }
            },
            "type": "scattergeo"
           }
          ],
          "scattergl": [
           {
            "marker": {
             "colorbar": {
              "outlinewidth": 0,
              "ticks": ""
             }
            },
            "type": "scattergl"
           }
          ],
          "scattermapbox": [
           {
            "marker": {
             "colorbar": {
              "outlinewidth": 0,
              "ticks": ""
             }
            },
            "type": "scattermapbox"
           }
          ],
          "scatterpolar": [
           {
            "marker": {
             "colorbar": {
              "outlinewidth": 0,
              "ticks": ""
             }
            },
            "type": "scatterpolar"
           }
          ],
          "scatterpolargl": [
           {
            "marker": {
             "colorbar": {
              "outlinewidth": 0,
              "ticks": ""
             }
            },
            "type": "scatterpolargl"
           }
          ],
          "scatterternary": [
           {
            "marker": {
             "colorbar": {
              "outlinewidth": 0,
              "ticks": ""
             }
            },
            "type": "scatterternary"
           }
          ],
          "surface": [
           {
            "colorbar": {
             "outlinewidth": 0,
             "ticks": ""
            },
            "colorscale": [
             [
              0,
              "#0d0887"
             ],
             [
              0.1111111111111111,
              "#46039f"
             ],
             [
              0.2222222222222222,
              "#7201a8"
             ],
             [
              0.3333333333333333,
              "#9c179e"
             ],
             [
              0.4444444444444444,
              "#bd3786"
             ],
             [
              0.5555555555555556,
              "#d8576b"
             ],
             [
              0.6666666666666666,
              "#ed7953"
             ],
             [
              0.7777777777777778,
              "#fb9f3a"
             ],
             [
              0.8888888888888888,
              "#fdca26"
             ],
             [
              1,
              "#f0f921"
             ]
            ],
            "type": "surface"
           }
          ],
          "table": [
           {
            "cells": {
             "fill": {
              "color": "#EBF0F8"
             },
             "line": {
              "color": "white"
             }
            },
            "header": {
             "fill": {
              "color": "#C8D4E3"
             },
             "line": {
              "color": "white"
             }
            },
            "type": "table"
           }
          ]
         },
         "layout": {
          "annotationdefaults": {
           "arrowcolor": "#2a3f5f",
           "arrowhead": 0,
           "arrowwidth": 1
          },
          "coloraxis": {
           "colorbar": {
            "outlinewidth": 0,
            "ticks": ""
           }
          },
          "colorscale": {
           "diverging": [
            [
             0,
             "#8e0152"
            ],
            [
             0.1,
             "#c51b7d"
            ],
            [
             0.2,
             "#de77ae"
            ],
            [
             0.3,
             "#f1b6da"
            ],
            [
             0.4,
             "#fde0ef"
            ],
            [
             0.5,
             "#f7f7f7"
            ],
            [
             0.6,
             "#e6f5d0"
            ],
            [
             0.7,
             "#b8e186"
            ],
            [
             0.8,
             "#7fbc41"
            ],
            [
             0.9,
             "#4d9221"
            ],
            [
             1,
             "#276419"
            ]
           ],
           "sequential": [
            [
             0,
             "#0d0887"
            ],
            [
             0.1111111111111111,
             "#46039f"
            ],
            [
             0.2222222222222222,
             "#7201a8"
            ],
            [
             0.3333333333333333,
             "#9c179e"
            ],
            [
             0.4444444444444444,
             "#bd3786"
            ],
            [
             0.5555555555555556,
             "#d8576b"
            ],
            [
             0.6666666666666666,
             "#ed7953"
            ],
            [
             0.7777777777777778,
             "#fb9f3a"
            ],
            [
             0.8888888888888888,
             "#fdca26"
            ],
            [
             1,
             "#f0f921"
            ]
           ],
           "sequentialminus": [
            [
             0,
             "#0d0887"
            ],
            [
             0.1111111111111111,
             "#46039f"
            ],
            [
             0.2222222222222222,
             "#7201a8"
            ],
            [
             0.3333333333333333,
             "#9c179e"
            ],
            [
             0.4444444444444444,
             "#bd3786"
            ],
            [
             0.5555555555555556,
             "#d8576b"
            ],
            [
             0.6666666666666666,
             "#ed7953"
            ],
            [
             0.7777777777777778,
             "#fb9f3a"
            ],
            [
             0.8888888888888888,
             "#fdca26"
            ],
            [
             1,
             "#f0f921"
            ]
           ]
          },
          "colorway": [
           "#1f77b4",
           "#ff7f0e",
           "#2ca02c",
           "#d62728",
           "#9467bd",
           "#8c564b",
           "#e377c2",
           "#7f7f7f",
           "#bcbd22",
           "#17becf"
          ],
          "font": {
           "color": "#2a3f5f"
          },
          "geo": {
           "bgcolor": "white",
           "lakecolor": "white",
           "landcolor": "white",
           "showlakes": true,
           "showland": true,
           "subunitcolor": "#C8D4E3"
          },
          "hoverlabel": {
           "align": "left"
          },
          "hovermode": "closest",
          "mapbox": {
           "style": "light"
          },
          "paper_bgcolor": "white",
          "plot_bgcolor": "white",
          "polar": {
           "angularaxis": {
            "gridcolor": "#EBF0F8",
            "linecolor": "#EBF0F8",
            "ticks": ""
           },
           "bgcolor": "white",
           "radialaxis": {
            "gridcolor": "#EBF0F8",
            "linecolor": "#EBF0F8",
            "ticks": ""
           }
          },
          "scene": {
           "camera": {
            "center": {
             "x": 0,
             "y": 0,
             "z": 0
            },
            "eye": {
             "x": 2,
             "y": 2,
             "z": 2
            },
            "up": {
             "x": 0,
             "y": 0,
             "z": 1
            }
           },
           "xaxis": {
            "backgroundcolor": "white",
            "gridcolor": "#DFE8F3",
            "gridwidth": 2,
            "linecolor": "#EBF0F8",
            "showbackground": true,
            "showspikes": false,
            "ticks": "",
            "zerolinecolor": "#EBF0F8"
           },
           "yaxis": {
            "backgroundcolor": "white",
            "gridcolor": "#DFE8F3",
            "gridwidth": 2,
            "linecolor": "#EBF0F8",
            "showbackground": true,
            "showspikes": false,
            "ticks": "",
            "zerolinecolor": "#EBF0F8"
           },
           "zaxis": {
            "backgroundcolor": "white",
            "gridcolor": "#DFE8F3",
            "gridwidth": 2,
            "linecolor": "#EBF0F8",
            "showbackground": true,
            "showspikes": false,
            "ticks": "",
            "zerolinecolor": "#EBF0F8"
           }
          },
          "shapedefaults": {
           "line": {
            "color": "#2a3f5f"
           }
          },
          "ternary": {
           "aaxis": {
            "gridcolor": "#DFE8F3",
            "linecolor": "#A2B1C6",
            "ticks": ""
           },
           "baxis": {
            "gridcolor": "#DFE8F3",
            "linecolor": "#A2B1C6",
            "ticks": ""
           },
           "bgcolor": "white",
           "caxis": {
            "gridcolor": "#DFE8F3",
            "linecolor": "#A2B1C6",
            "ticks": ""
           }
          },
          "title": {
           "x": 0.05
          },
          "xaxis": {
           "automargin": true,
           "gridcolor": "#EBF0F8",
           "linecolor": "black",
           "linewidth": 2,
           "mirror": true,
           "showline": true,
           "ticks": "",
           "title": {
            "standoff": 15
           },
           "zeroline": false,
           "zerolinecolor": "#EBF0F8",
           "zerolinewidth": 2
          },
          "yaxis": {
           "automargin": true,
           "gridcolor": "#EBF0F8",
           "linecolor": "black",
           "linewidth": 2,
           "mirror": true,
           "showline": true,
           "ticks": "",
           "title": {
            "standoff": 15
           },
           "zeroline": false,
           "zerolinecolor": "#EBF0F8",
           "zerolinewidth": 2
          }
         }
        },
        "xaxis": {
         "title": {
          "text": "Frequency (rad/s)"
         }
        },
        "yaxis": {
         "exponentformat": "power"
        }
       }
      }
     },
     "metadata": {},
     "output_type": "display_data"
    }
   ],
   "source": [
    "bearing2.plot([\"kxx\", \"kyy\"])"
   ]
  },
  {
   "cell_type": "code",
   "execution_count": 28,
   "metadata": {
    "execution": {
     "iopub.execute_input": "2023-05-04T01:05:10.032332Z",
     "iopub.status.busy": "2023-05-04T01:05:10.032170Z",
     "iopub.status.idle": "2023-05-04T01:05:10.040517Z",
     "shell.execute_reply": "2023-05-04T01:05:10.040066Z"
    }
   },
   "outputs": [
    {
     "data": {
      "application/vnd.plotly.v1+json": {
       "config": {
        "plotlyServerURL": "https://plot.ly"
       },
       "data": [
        {
         "hovertemplate": "Frequency (rad/s): %{x:.2f}<br> Coefficient (N*s/m): %{y:.3e}",
         "mode": "lines",
         "name": "cyy",
         "showlegend": true,
         "type": "scatter",
         "x": [
          0,
          68.96551724137932,
          137.93103448275863,
          206.89655172413796,
          275.86206896551727,
          344.82758620689657,
          413.79310344827593,
          482.7586206896552,
          551.7241379310345,
          620.6896551724138,
          689.6551724137931,
          758.6206896551724,
          827.5862068965519,
          896.5517241379312,
          965.5172413793103,
          1034.4827586206898,
          1103.448275862069,
          1172.4137931034484,
          1241.3793103448277,
          1310.344827586207,
          1379.3103448275865,
          1448.2758620689656,
          1517.2413793103449,
          1586.2068965517242,
          1655.1724137931035,
          1724.137931034483,
          1793.1034482758623,
          1862.0689655172416,
          1931.034482758621,
          2000
         ],
         "y": [
          500,
          534.4827586206897,
          568.9655172413793,
          603.448275862069,
          637.9310344827587,
          672.4137931034484,
          706.8965517241381,
          741.3793103448276,
          775.8620689655173,
          810.3448275862069,
          844.8275862068966,
          879.3103448275863,
          913.793103448276,
          948.2758620689656,
          982.7586206896552,
          1017.2413793103448,
          1051.7241379310346,
          1086.2068965517242,
          1120.689655172414,
          1155.1724137931035,
          1189.6551724137933,
          1224.1379310344828,
          1258.6206896551723,
          1293.1034482758623,
          1327.5862068965516,
          1362.0689655172416,
          1396.5517241379312,
          1431.034482758621,
          1465.5172413793105,
          1500
         ]
        }
       ],
       "layout": {
        "template": {
         "data": {
          "bar": [
           {
            "error_x": {
             "color": "#2a3f5f"
            },
            "error_y": {
             "color": "#2a3f5f"
            },
            "marker": {
             "line": {
              "color": "white",
              "width": 0.5
             }
            },
            "type": "bar"
           }
          ],
          "barpolar": [
           {
            "marker": {
             "line": {
              "color": "white",
              "width": 0.5
             }
            },
            "type": "barpolar"
           }
          ],
          "carpet": [
           {
            "aaxis": {
             "endlinecolor": "#2a3f5f",
             "gridcolor": "#C8D4E3",
             "linecolor": "#C8D4E3",
             "minorgridcolor": "#C8D4E3",
             "startlinecolor": "#2a3f5f"
            },
            "baxis": {
             "endlinecolor": "#2a3f5f",
             "gridcolor": "#C8D4E3",
             "linecolor": "#C8D4E3",
             "minorgridcolor": "#C8D4E3",
             "startlinecolor": "#2a3f5f"
            },
            "type": "carpet"
           }
          ],
          "choropleth": [
           {
            "colorbar": {
             "outlinewidth": 0,
             "ticks": ""
            },
            "type": "choropleth"
           }
          ],
          "contour": [
           {
            "colorbar": {
             "outlinewidth": 0,
             "ticks": ""
            },
            "colorscale": [
             [
              0,
              "#0d0887"
             ],
             [
              0.1111111111111111,
              "#46039f"
             ],
             [
              0.2222222222222222,
              "#7201a8"
             ],
             [
              0.3333333333333333,
              "#9c179e"
             ],
             [
              0.4444444444444444,
              "#bd3786"
             ],
             [
              0.5555555555555556,
              "#d8576b"
             ],
             [
              0.6666666666666666,
              "#ed7953"
             ],
             [
              0.7777777777777778,
              "#fb9f3a"
             ],
             [
              0.8888888888888888,
              "#fdca26"
             ],
             [
              1,
              "#f0f921"
             ]
            ],
            "type": "contour"
           }
          ],
          "contourcarpet": [
           {
            "colorbar": {
             "outlinewidth": 0,
             "ticks": ""
            },
            "type": "contourcarpet"
           }
          ],
          "heatmap": [
           {
            "colorbar": {
             "outlinewidth": 0,
             "ticks": ""
            },
            "colorscale": [
             [
              0,
              "#0d0887"
             ],
             [
              0.1111111111111111,
              "#46039f"
             ],
             [
              0.2222222222222222,
              "#7201a8"
             ],
             [
              0.3333333333333333,
              "#9c179e"
             ],
             [
              0.4444444444444444,
              "#bd3786"
             ],
             [
              0.5555555555555556,
              "#d8576b"
             ],
             [
              0.6666666666666666,
              "#ed7953"
             ],
             [
              0.7777777777777778,
              "#fb9f3a"
             ],
             [
              0.8888888888888888,
              "#fdca26"
             ],
             [
              1,
              "#f0f921"
             ]
            ],
            "type": "heatmap"
           }
          ],
          "heatmapgl": [
           {
            "colorbar": {
             "outlinewidth": 0,
             "ticks": ""
            },
            "colorscale": [
             [
              0,
              "#0d0887"
             ],
             [
              0.1111111111111111,
              "#46039f"
             ],
             [
              0.2222222222222222,
              "#7201a8"
             ],
             [
              0.3333333333333333,
              "#9c179e"
             ],
             [
              0.4444444444444444,
              "#bd3786"
             ],
             [
              0.5555555555555556,
              "#d8576b"
             ],
             [
              0.6666666666666666,
              "#ed7953"
             ],
             [
              0.7777777777777778,
              "#fb9f3a"
             ],
             [
              0.8888888888888888,
              "#fdca26"
             ],
             [
              1,
              "#f0f921"
             ]
            ],
            "type": "heatmapgl"
           }
          ],
          "histogram": [
           {
            "marker": {
             "colorbar": {
              "outlinewidth": 0,
              "ticks": ""
             }
            },
            "type": "histogram"
           }
          ],
          "histogram2d": [
           {
            "colorbar": {
             "outlinewidth": 0,
             "ticks": ""
            },
            "colorscale": [
             [
              0,
              "#0d0887"
             ],
             [
              0.1111111111111111,
              "#46039f"
             ],
             [
              0.2222222222222222,
              "#7201a8"
             ],
             [
              0.3333333333333333,
              "#9c179e"
             ],
             [
              0.4444444444444444,
              "#bd3786"
             ],
             [
              0.5555555555555556,
              "#d8576b"
             ],
             [
              0.6666666666666666,
              "#ed7953"
             ],
             [
              0.7777777777777778,
              "#fb9f3a"
             ],
             [
              0.8888888888888888,
              "#fdca26"
             ],
             [
              1,
              "#f0f921"
             ]
            ],
            "type": "histogram2d"
           }
          ],
          "histogram2dcontour": [
           {
            "colorbar": {
             "outlinewidth": 0,
             "ticks": ""
            },
            "colorscale": [
             [
              0,
              "#0d0887"
             ],
             [
              0.1111111111111111,
              "#46039f"
             ],
             [
              0.2222222222222222,
              "#7201a8"
             ],
             [
              0.3333333333333333,
              "#9c179e"
             ],
             [
              0.4444444444444444,
              "#bd3786"
             ],
             [
              0.5555555555555556,
              "#d8576b"
             ],
             [
              0.6666666666666666,
              "#ed7953"
             ],
             [
              0.7777777777777778,
              "#fb9f3a"
             ],
             [
              0.8888888888888888,
              "#fdca26"
             ],
             [
              1,
              "#f0f921"
             ]
            ],
            "type": "histogram2dcontour"
           }
          ],
          "mesh3d": [
           {
            "colorbar": {
             "outlinewidth": 0,
             "ticks": ""
            },
            "type": "mesh3d"
           }
          ],
          "parcoords": [
           {
            "line": {
             "colorbar": {
              "outlinewidth": 0,
              "ticks": ""
             }
            },
            "type": "parcoords"
           }
          ],
          "pie": [
           {
            "automargin": true,
            "type": "pie"
           }
          ],
          "scatter": [
           {
            "marker": {
             "colorbar": {
              "outlinewidth": 0,
              "ticks": ""
             }
            },
            "type": "scatter"
           }
          ],
          "scatter3d": [
           {
            "line": {
             "colorbar": {
              "outlinewidth": 0,
              "ticks": ""
             }
            },
            "marker": {
             "colorbar": {
              "outlinewidth": 0,
              "ticks": ""
             },
             "size": 4
            },
            "type": "scatter3d"
           }
          ],
          "scattercarpet": [
           {
            "marker": {
             "colorbar": {
              "outlinewidth": 0,
              "ticks": ""
             }
            },
            "type": "scattercarpet"
           }
          ],
          "scattergeo": [
           {
            "marker": {
             "colorbar": {
              "outlinewidth": 0,
              "ticks": ""
             }
            },
            "type": "scattergeo"
           }
          ],
          "scattergl": [
           {
            "marker": {
             "colorbar": {
              "outlinewidth": 0,
              "ticks": ""
             }
            },
            "type": "scattergl"
           }
          ],
          "scattermapbox": [
           {
            "marker": {
             "colorbar": {
              "outlinewidth": 0,
              "ticks": ""
             }
            },
            "type": "scattermapbox"
           }
          ],
          "scatterpolar": [
           {
            "marker": {
             "colorbar": {
              "outlinewidth": 0,
              "ticks": ""
             }
            },
            "type": "scatterpolar"
           }
          ],
          "scatterpolargl": [
           {
            "marker": {
             "colorbar": {
              "outlinewidth": 0,
              "ticks": ""
             }
            },
            "type": "scatterpolargl"
           }
          ],
          "scatterternary": [
           {
            "marker": {
             "colorbar": {
              "outlinewidth": 0,
              "ticks": ""
             }
            },
            "type": "scatterternary"
           }
          ],
          "surface": [
           {
            "colorbar": {
             "outlinewidth": 0,
             "ticks": ""
            },
            "colorscale": [
             [
              0,
              "#0d0887"
             ],
             [
              0.1111111111111111,
              "#46039f"
             ],
             [
              0.2222222222222222,
              "#7201a8"
             ],
             [
              0.3333333333333333,
              "#9c179e"
             ],
             [
              0.4444444444444444,
              "#bd3786"
             ],
             [
              0.5555555555555556,
              "#d8576b"
             ],
             [
              0.6666666666666666,
              "#ed7953"
             ],
             [
              0.7777777777777778,
              "#fb9f3a"
             ],
             [
              0.8888888888888888,
              "#fdca26"
             ],
             [
              1,
              "#f0f921"
             ]
            ],
            "type": "surface"
           }
          ],
          "table": [
           {
            "cells": {
             "fill": {
              "color": "#EBF0F8"
             },
             "line": {
              "color": "white"
             }
            },
            "header": {
             "fill": {
              "color": "#C8D4E3"
             },
             "line": {
              "color": "white"
             }
            },
            "type": "table"
           }
          ]
         },
         "layout": {
          "annotationdefaults": {
           "arrowcolor": "#2a3f5f",
           "arrowhead": 0,
           "arrowwidth": 1
          },
          "coloraxis": {
           "colorbar": {
            "outlinewidth": 0,
            "ticks": ""
           }
          },
          "colorscale": {
           "diverging": [
            [
             0,
             "#8e0152"
            ],
            [
             0.1,
             "#c51b7d"
            ],
            [
             0.2,
             "#de77ae"
            ],
            [
             0.3,
             "#f1b6da"
            ],
            [
             0.4,
             "#fde0ef"
            ],
            [
             0.5,
             "#f7f7f7"
            ],
            [
             0.6,
             "#e6f5d0"
            ],
            [
             0.7,
             "#b8e186"
            ],
            [
             0.8,
             "#7fbc41"
            ],
            [
             0.9,
             "#4d9221"
            ],
            [
             1,
             "#276419"
            ]
           ],
           "sequential": [
            [
             0,
             "#0d0887"
            ],
            [
             0.1111111111111111,
             "#46039f"
            ],
            [
             0.2222222222222222,
             "#7201a8"
            ],
            [
             0.3333333333333333,
             "#9c179e"
            ],
            [
             0.4444444444444444,
             "#bd3786"
            ],
            [
             0.5555555555555556,
             "#d8576b"
            ],
            [
             0.6666666666666666,
             "#ed7953"
            ],
            [
             0.7777777777777778,
             "#fb9f3a"
            ],
            [
             0.8888888888888888,
             "#fdca26"
            ],
            [
             1,
             "#f0f921"
            ]
           ],
           "sequentialminus": [
            [
             0,
             "#0d0887"
            ],
            [
             0.1111111111111111,
             "#46039f"
            ],
            [
             0.2222222222222222,
             "#7201a8"
            ],
            [
             0.3333333333333333,
             "#9c179e"
            ],
            [
             0.4444444444444444,
             "#bd3786"
            ],
            [
             0.5555555555555556,
             "#d8576b"
            ],
            [
             0.6666666666666666,
             "#ed7953"
            ],
            [
             0.7777777777777778,
             "#fb9f3a"
            ],
            [
             0.8888888888888888,
             "#fdca26"
            ],
            [
             1,
             "#f0f921"
            ]
           ]
          },
          "colorway": [
           "#1f77b4",
           "#ff7f0e",
           "#2ca02c",
           "#d62728",
           "#9467bd",
           "#8c564b",
           "#e377c2",
           "#7f7f7f",
           "#bcbd22",
           "#17becf"
          ],
          "font": {
           "color": "#2a3f5f"
          },
          "geo": {
           "bgcolor": "white",
           "lakecolor": "white",
           "landcolor": "white",
           "showlakes": true,
           "showland": true,
           "subunitcolor": "#C8D4E3"
          },
          "hoverlabel": {
           "align": "left"
          },
          "hovermode": "closest",
          "mapbox": {
           "style": "light"
          },
          "paper_bgcolor": "white",
          "plot_bgcolor": "white",
          "polar": {
           "angularaxis": {
            "gridcolor": "#EBF0F8",
            "linecolor": "#EBF0F8",
            "ticks": ""
           },
           "bgcolor": "white",
           "radialaxis": {
            "gridcolor": "#EBF0F8",
            "linecolor": "#EBF0F8",
            "ticks": ""
           }
          },
          "scene": {
           "camera": {
            "center": {
             "x": 0,
             "y": 0,
             "z": 0
            },
            "eye": {
             "x": 2,
             "y": 2,
             "z": 2
            },
            "up": {
             "x": 0,
             "y": 0,
             "z": 1
            }
           },
           "xaxis": {
            "backgroundcolor": "white",
            "gridcolor": "#DFE8F3",
            "gridwidth": 2,
            "linecolor": "#EBF0F8",
            "showbackground": true,
            "showspikes": false,
            "ticks": "",
            "zerolinecolor": "#EBF0F8"
           },
           "yaxis": {
            "backgroundcolor": "white",
            "gridcolor": "#DFE8F3",
            "gridwidth": 2,
            "linecolor": "#EBF0F8",
            "showbackground": true,
            "showspikes": false,
            "ticks": "",
            "zerolinecolor": "#EBF0F8"
           },
           "zaxis": {
            "backgroundcolor": "white",
            "gridcolor": "#DFE8F3",
            "gridwidth": 2,
            "linecolor": "#EBF0F8",
            "showbackground": true,
            "showspikes": false,
            "ticks": "",
            "zerolinecolor": "#EBF0F8"
           }
          },
          "shapedefaults": {
           "line": {
            "color": "#2a3f5f"
           }
          },
          "ternary": {
           "aaxis": {
            "gridcolor": "#DFE8F3",
            "linecolor": "#A2B1C6",
            "ticks": ""
           },
           "baxis": {
            "gridcolor": "#DFE8F3",
            "linecolor": "#A2B1C6",
            "ticks": ""
           },
           "bgcolor": "white",
           "caxis": {
            "gridcolor": "#DFE8F3",
            "linecolor": "#A2B1C6",
            "ticks": ""
           }
          },
          "title": {
           "x": 0.05
          },
          "xaxis": {
           "automargin": true,
           "gridcolor": "#EBF0F8",
           "linecolor": "black",
           "linewidth": 2,
           "mirror": true,
           "showline": true,
           "ticks": "",
           "title": {
            "standoff": 15
           },
           "zeroline": false,
           "zerolinecolor": "#EBF0F8",
           "zerolinewidth": 2
          },
          "yaxis": {
           "automargin": true,
           "gridcolor": "#EBF0F8",
           "linecolor": "black",
           "linewidth": 2,
           "mirror": true,
           "showline": true,
           "ticks": "",
           "title": {
            "standoff": 15
           },
           "zeroline": false,
           "zerolinecolor": "#EBF0F8",
           "zerolinewidth": 2
          }
         }
        },
        "xaxis": {
         "title": {
          "text": "Frequency (rad/s)"
         }
        },
        "yaxis": {
         "exponentformat": "power"
        }
       }
      }
     },
     "metadata": {},
     "output_type": "display_data"
    }
   ],
   "source": [
    "bearing2.plot(\"cyy\")"
   ]
  },
  {
   "cell_type": "markdown",
   "metadata": {},
   "source": [
    "### 4.2 SealElement Class\n",
    "\n",
    "`SealElement` class method have the exactly same arguments than `BearingElement`. The differences are found in some considerations when assembbling a full rotor model. For example, a SealElement won't generate reaction forces in a static analysis. So, even they are very similar when built, they have different roles in the model.\n",
    "\n",
    "Let's see an example:"
   ]
  },
  {
   "cell_type": "code",
   "execution_count": 29,
   "metadata": {
    "execution": {
     "iopub.execute_input": "2023-05-04T01:05:10.043025Z",
     "iopub.status.busy": "2023-05-04T01:05:10.042801Z",
     "iopub.status.idle": "2023-05-04T01:05:10.047554Z",
     "shell.execute_reply": "2023-05-04T01:05:10.047080Z"
    }
   },
   "outputs": [
    {
     "data": {
      "text/plain": [
       "SealElement(n=0, n_link=None,\n",
       " kxx=[1000000.0], kxy=[0],\n",
       " kyx=[0], kyy=[800000.0],\n",
       " kzz=[0], cxx=[1000.0],\n",
       " cxy=[0], cyx=[0],\n",
       " cyy=[800.0], czz=[0],\n",
       " mxx=[0], mxy=[0],\n",
       " myx=[0], myy=[0],\n",
       " mzz=[0],\n",
       " frequency=None, tag=None)"
      ]
     },
     "execution_count": 29,
     "metadata": {},
     "output_type": "execute_result"
    }
   ],
   "source": [
    "stfx = 1e6\n",
    "stfy = 0.8e6\n",
    "seal = rs.SealElement(n=0, kxx=stfx, kyy=stfy, cxx=1e3, cyy=0.8e3)\n",
    "seal"
   ]
  },
  {
   "cell_type": "markdown",
   "metadata": {},
   "source": [
    "### 4.3 BallBearingElement Class\n",
    "\n",
    "This class will create a bearing element based on some geometric and constructive parameters of ball bearings. The main difference is that cross-coupling stiffness and damping are not modeled in this case.\n",
    "\n",
    "Let's see an example:"
   ]
  },
  {
   "cell_type": "code",
   "execution_count": 30,
   "metadata": {
    "execution": {
     "iopub.execute_input": "2023-05-04T01:05:10.049684Z",
     "iopub.status.busy": "2023-05-04T01:05:10.049302Z",
     "iopub.status.idle": "2023-05-04T01:05:10.055077Z",
     "shell.execute_reply": "2023-05-04T01:05:10.054496Z"
    }
   },
   "outputs": [
    {
     "data": {
      "text/plain": [
       "BallBearingElement(n=0, n_link=None,\n",
       " kxx=[np.float64(46416883.847697675)], kxy=[0.0],\n",
       " kyx=[0.0], kyy=[np.float64(100906269.23412538)],\n",
       " kzz=[0], cxx=[np.float64(580.211048096221)],\n",
       " cxy=[0.0], cyx=[0.0],\n",
       " cyy=[np.float64(1261.3283654265672)], czz=[0],\n",
       " mxx=[0], mxy=[0],\n",
       " myx=[0], myy=[0],\n",
       " mzz=[0],\n",
       " frequency=None, tag='ballbearing')"
      ]
     },
     "execution_count": 30,
     "metadata": {},
     "output_type": "execute_result"
    }
   ],
   "source": [
    "n = 0\n",
    "n_balls = 8\n",
    "d_balls = 0.03\n",
    "fs = 500.0\n",
    "alpha = np.pi / 6\n",
    "tag = \"ballbearing\"\n",
    "ballbearing = rs.BallBearingElement(\n",
    "    n=n,\n",
    "    n_balls=n_balls,\n",
    "    d_balls=d_balls,\n",
    "    fs=fs,\n",
    "    alpha=alpha,\n",
    "    tag=tag,\n",
    ")\n",
    "ballbearing"
   ]
  },
  {
   "cell_type": "markdown",
   "metadata": {},
   "source": [
    "### 4.4 RollerBearingElement Class\n",
    "\n",
    "This class will create a bearing element based on some geometric and constructive parameters of roller bearings. The main difference is that cross-coupling stiffness and damping are not modeled in this case.\n",
    "\n",
    "Let's see an example:"
   ]
  },
  {
   "cell_type": "code",
   "execution_count": 31,
   "metadata": {
    "execution": {
     "iopub.execute_input": "2023-05-04T01:05:10.057753Z",
     "iopub.status.busy": "2023-05-04T01:05:10.057371Z",
     "iopub.status.idle": "2023-05-04T01:05:10.062353Z",
     "shell.execute_reply": "2023-05-04T01:05:10.061872Z"
    }
   },
   "outputs": [
    {
     "data": {
      "text/plain": [
       "RollerBearingElement(n=0, n_link=None,\n",
       " kxx=[np.float64(272821927.4006065)], kxy=[0.0],\n",
       " kyx=[0.0], kyy=[np.float64(556779443.6747072)],\n",
       " kzz=[0], cxx=[np.float64(3410.2740925075814)],\n",
       " cxy=[0.0], cyx=[0.0],\n",
       " cyy=[np.float64(6959.74304593384)], czz=[0],\n",
       " mxx=[0], mxy=[0],\n",
       " myx=[0], myy=[0],\n",
       " mzz=[0],\n",
       " frequency=None, tag='rollerbearing')"
      ]
     },
     "execution_count": 31,
     "metadata": {},
     "output_type": "execute_result"
    }
   ],
   "source": [
    "n = 0\n",
    "n_rollers = 8\n",
    "l_rollers = 0.03\n",
    "fs = 500.0\n",
    "alpha = np.pi / 6\n",
    "tag = \"rollerbearing\"\n",
    "rollerbearing = rs.RollerBearingElement(\n",
    "    n=n, n_rollers=n_rollers, l_rollers=l_rollers, fs=fs, alpha=alpha, tag=tag\n",
    ")\n",
    "rollerbearing"
   ]
  },
  {
   "cell_type": "markdown",
   "metadata": {},
   "source": [
    "### 4.5 MagneticBearingElement Class\n",
    "\n",
    "This class creates a magnetic bearing element. You can input electromagnetic parameters and PID gains. ROSS converts it to stiffness and damping coefficients. To do ir, use the class `MagneticBearingElement()`\n",
    "\n",
    "See the following reference for the electromagnetic parameters g0, i0, ag, nw, alpha:\n",
    "Book: Magnetic Bearings. Theory, Design, and Application to Rotating Machinery\n",
    "Authors: Gerhard Schweitzer and Eric H. Maslen\n",
    "Page: 84-95\n",
    "\n",
    "From: \"Magnetic Bearings. Theory, Design, and Application to Rotating Machinery\"\n",
    "Authors: Gerhard Schweitzer and Eric H. Maslen\n",
    "Page: 354\n",
    "\n",
    "Let's see an example:"
   ]
  },
  {
   "cell_type": "code",
   "execution_count": 32,
   "metadata": {
    "execution": {
     "iopub.execute_input": "2023-05-04T01:05:10.064205Z",
     "iopub.status.busy": "2023-05-04T01:05:10.064044Z",
     "iopub.status.idle": "2023-05-04T01:05:10.069505Z",
     "shell.execute_reply": "2023-05-04T01:05:10.069035Z"
    },
    "scrolled": true
   },
   "outputs": [
    {
     "data": {
      "text/plain": [
       "MagneticBearingElement(n=0, n_link=None,\n",
       " kxx=[np.float64(-4640.623377181318)], kxy=[0.0],\n",
       " kyx=[0.0], kyy=[np.float64(-4640.623377181318)],\n",
       " kzz=[0], cxx=[np.float64(4.645268645827145)],\n",
       " cxy=[0.0], cyx=[0.0],\n",
       " cyy=[np.float64(4.645268645827145)], czz=[0],\n",
       " mxx=[0], mxy=[0],\n",
       " myx=[0], myy=[0],\n",
       " mzz=[0],\n",
       " frequency=None, tag='magneticbearing')"
      ]
     },
     "execution_count": 32,
     "metadata": {},
     "output_type": "execute_result"
    }
   ],
   "source": [
    "n = 0\n",
    "g0 = 1e-3\n",
    "i0 = 1.0\n",
    "ag = 1e-4\n",
    "nw = 200\n",
    "alpha = 0.392\n",
    "kp_pid = 1.0\n",
    "kd_pid = 1.0\n",
    "k_amp = 1.0\n",
    "k_sense = 1.0\n",
    "tag = \"magneticbearing\"\n",
    "mbearing = rs.MagneticBearingElement(\n",
    "    n=n,\n",
    "    g0=g0,\n",
    "    i0=i0,\n",
    "    ag=ag,\n",
    "    nw=nw,\n",
    "    alpha=alpha,\n",
    "    kp_pid=kp_pid,\n",
    "    kd_pid=kd_pid,\n",
    "    k_amp=k_amp,\n",
    "    k_sense=k_sense,\n",
    "    tag=tag,\n",
    ")\n",
    "mbearing"
   ]
  },
  {
   "cell_type": "markdown",
   "metadata": {},
   "source": [
    "### 4.6 Creating bearing elements via Excel\n",
    "\n",
    "There's an option for creating bearing elements via an Excel file. The classmethod `.from_table()` reads an Excel file created and converts it to a `BearingElement` instance. Differently from creating shaft or disk elements, this method creates only a single bearing element. To create a list of bearing elements, the user should open several spreadsheets in the Excel file and run a list comprehension loop appending each elemnet to the list.\n",
    "\n",
    "A header with the names of the columns is required. These names should match the names expected by the routine (usually the names of the parameters, but also similar ones). The program will read every row bellow the header until they end or it reaches a NaN, which means if the code reaches to an empty line, it stops iterating.\n",
    "\n",
    "```text\n",
    "n : int\n",
    "    The node in which the bearing will be located in the rotor.\n",
    "file: str\n",
    "    Path to the file containing the bearing parameters.\n",
    "sheet_name: int or str, optional\n",
    "    Position of the sheet in the file (starting from 0) or its name. If none is passed, it is\n",
    "    assumed to be the first sheet in the file.\n",
    "```\n",
    "\n",
    "An example of Excel content can be found at diretory *ross/tests/data/bearing_seal_si.xls*, spreadsheet \"XLUserKCM\"."
   ]
  },
  {
   "cell_type": "code",
   "execution_count": 33,
   "metadata": {
    "execution": {
     "iopub.execute_input": "2023-05-04T01:05:10.072303Z",
     "iopub.status.busy": "2023-05-04T01:05:10.071932Z",
     "iopub.status.idle": "2023-05-04T01:05:10.089759Z",
     "shell.execute_reply": "2023-05-04T01:05:10.089137Z"
    }
   },
   "outputs": [
    {
     "data": {
      "text/plain": [
       "BearingElement(n=0, n_link=None,\n",
       " kxx=[1.37981e+07 2.99519e+07 5.35657e+07 8.51442e+07 1.20733e+08 1.59519e+08\n",
       " 1.97885e+08 2.35240e+08 2.71250e+08], kxy=[0 0 0 0 0 0 0 0 0],\n",
       " kyx=[0 0 0 0 0 0 0 0 0], kyy=[1.37981e+07 2.99519e+07 5.35657e+07 8.51442e+07 1.20733e+08 1.59519e+08\n",
       " 1.97885e+08 2.35240e+08 2.71250e+08],\n",
       " kzz=[0, 0, 0, 0, 0, 0, 0, 0, 0], cxx=[102506 127450 144989 153563 155122 150835 145086 141871 140702],\n",
       " cxy=[0 0 0 0 0 0 0 0 0], cyx=[0 0 0 0 0 0 0 0 0],\n",
       " cyy=[102506 127450 144989 153563 155122 150835 145086 141871 140702], czz=[0, 0, 0, 0, 0, 0, 0, 0, 0],\n",
       " mxx=[0, 0, 0, 0, 0, 0, 0, 0, 0], mxy=[0, 0, 0, 0, 0, 0, 0, 0, 0],\n",
       " myx=[0, 0, 0, 0, 0, 0, 0, 0, 0], myy=[0, 0, 0, 0, 0, 0, 0, 0, 0],\n",
       " mzz=[0, 0, 0, 0, 0, 0, 0, 0, 0],\n",
       " frequency=[ 314.15926536  418.87902048  523.5987756   628.31853072  733.03828584\n",
       "  837.75804096  942.47779608 1047.1975512  1151.91730632], tag=None)"
      ]
     },
     "execution_count": 33,
     "metadata": {},
     "output_type": "execute_result"
    }
   ],
   "source": [
    "# single bearing element\n",
    "file_path = Path(\"bearing_seal_si.xls\")\n",
    "bearing = rs.BearingElement.from_table(n=0, file=file_path)\n",
    "bearing"
   ]
  },
  {
   "cell_type": "markdown",
   "metadata": {},
   "source": [
    "As `.from_table()` creates only a single bearing, let's see an example how to create multiple elements without typing the same command line multiple times.\n",
    "\n",
    "- First, in the EXCEL file, create multiple spreadsheets. Each one must hold the bearing coefficients and frequency data.\n",
    "\n",
    "- Then, create a list holding the node numbers for each bearing (respecting the order of the spreadsheets from the EXCEL file).\n",
    "\n",
    "- Finally, create a loop which iterates over the the nodes list and the spreadsheet."
   ]
  },
  {
   "cell_type": "code",
   "execution_count": 34,
   "metadata": {
    "execution": {
     "iopub.execute_input": "2023-05-04T01:05:10.091977Z",
     "iopub.status.busy": "2023-05-04T01:05:10.091858Z",
     "iopub.status.idle": "2023-05-04T01:05:10.094308Z",
     "shell.execute_reply": "2023-05-04T01:05:10.093834Z"
    }
   },
   "outputs": [],
   "source": [
    "# list of bearing elements\n",
    "\n",
    "# nodes = list with the bearing elements nodes number\n",
    "# file_path = Path(\"bearing_seal_si.xls\")\n",
    "# bearings = [rs.BearingElement.from_table(n, file_path, sheet_name=i) for i, n in enumerate(nodes)]\n"
   ]
  },
  {
   "cell_type": "markdown",
   "metadata": {},
   "source": [
    "## Section 5: PointMass Class\n",
    "\n",
    "The `PointMass` class creates a point mass element. This element can be used to link other elements in the analysis. The mass provided can be different on the x and y direction (e.g. different support inertia for x and y directions).\n",
    "\n",
    "`PointMass` also keeps the mass, stiffness, damping and gyroscopic matrices sizes consistence. When adding 2 bearing elements in series, it opens a new node with new degrees of freedom (DoF) (*see section 4.1.3*) and expands the stiffness and damping matrices. For this reason, it's necessary to add mass values to those DoF to match the matrices sizes.\n",
    "\n",
    "If you input the argument `m`, the code automatically replicate the mass value for both directions \"x\" and \"y\".\n",
    "\n",
    "Let's see an example of creating point masses:"
   ]
  },
  {
   "cell_type": "code",
   "execution_count": 35,
   "metadata": {
    "execution": {
     "iopub.execute_input": "2023-05-04T01:05:10.096377Z",
     "iopub.status.busy": "2023-05-04T01:05:10.096220Z",
     "iopub.status.idle": "2023-05-04T01:05:10.099958Z",
     "shell.execute_reply": "2023-05-04T01:05:10.099486Z"
    }
   },
   "outputs": [
    {
     "data": {
      "text/plain": [
       "array([[2., 0., 0.],\n",
       "       [0., 2., 0.],\n",
       "       [0., 0., 2.]])"
      ]
     },
     "execution_count": 35,
     "metadata": {},
     "output_type": "execute_result"
    }
   ],
   "source": [
    "# inputting m\n",
    "p0 = rs.PointMass(n=0, m=2)\n",
    "p0.M()  # returns de mass matrices for the element"
   ]
  },
  {
   "cell_type": "code",
   "execution_count": 36,
   "metadata": {
    "execution": {
     "iopub.execute_input": "2023-05-04T01:05:10.101806Z",
     "iopub.status.busy": "2023-05-04T01:05:10.101640Z",
     "iopub.status.idle": "2023-05-04T01:05:10.105625Z",
     "shell.execute_reply": "2023-05-04T01:05:10.105153Z"
    }
   },
   "outputs": [
    {
     "data": {
      "text/plain": [
       "array([[2., 0., 0.],\n",
       "       [0., 3., 0.],\n",
       "       [0., 0., 0.]])"
      ]
     },
     "execution_count": 36,
     "metadata": {},
     "output_type": "execute_result"
    }
   ],
   "source": [
    "# inputting mx and my\n",
    "p1 = rs.PointMass(n=0, mx=2, my=3)\n",
    "p1.M()"
   ]
  },
  {
   "cell_type": "markdown",
   "metadata": {},
   "source": [
    "## Section 6: Rotor Class\n",
    "\n",
    "`Rotor` is the main class from ROSS. It takes as argument lists with all elements and assembles the mass, gyroscopic, damping and stiffness global matrices for the system. The object created has several methods that can be used to evaluate the dynamics of the model (they all start with the prefix `.run_`).\n",
    "\n",
    "To use this class, you must input all the already instantiated elements in a list format.\n",
    "\n",
    "If the shaft elements are not numbered, the class set a number for each one, according to the element's position in the list supplied to the rotor constructor.\n",
    "\n",
    "To assemble the matrices, the `Rotor` class takes the local DoF's index from each element (element method `.dof_mapping()`) and calculate the global index"
   ]
  },
  {
   "cell_type": "markdown",
   "metadata": {},
   "source": [
    "### 6.1 Creating a rotor model\n",
    "Let's create a simple rotor model with $1.5 m$ length with 6 identical shaft elements, 2 disks, 2 bearings in the shaft ends and a support linked to the first bearing. First, we create the elements, then we input them to the `Rotor` class."
   ]
  },
  {
   "cell_type": "code",
   "execution_count": 37,
   "metadata": {
    "execution": {
     "iopub.execute_input": "2023-05-04T01:05:10.107711Z",
     "iopub.status.busy": "2023-05-04T01:05:10.107554Z",
     "iopub.status.idle": "2023-05-04T01:05:10.204948Z",
     "shell.execute_reply": "2023-05-04T01:05:10.204521Z"
    },
    "scrolled": false
   },
   "outputs": [
    {
     "name": "stdout",
     "output_type": "stream",
     "text": [
      "Rotor total mass =  88.18\n",
      "Rotor center of gravity = 0.75\n"
     ]
    },
    {
     "data": {
      "application/vnd.plotly.v1+json": {
       "config": {
        "plotlyServerURL": "https://plot.ly"
       },
       "data": [
        {
         "hoverinfo": "none",
         "line": {
          "color": "black",
          "dash": "dashdot",
          "width": 3
         },
         "mode": "lines",
         "opacity": 0.7,
         "showlegend": false,
         "type": "scatter",
         "x": [
          -0.30000000000000004,
          1.7999999999999998
         ],
         "y": [
          0,
          0
         ]
        },
        {
         "hoverinfo": "none",
         "marker": {
          "color": "#ffcc99",
          "line": {
           "color": "black",
           "width": 1
          },
          "opacity": 0.7,
          "size": 20
         },
         "mode": "markers+text",
         "showlegend": false,
         "text": [
          "0",
          "1",
          "2",
          "3",
          "4",
          "5",
          "6"
         ],
         "type": "scatter",
         "x": [
          0,
          0.25,
          0.5,
          0.75,
          1,
          1.25,
          1.5
         ],
         "y": [
          0,
          0,
          0,
          0,
          0,
          0,
          0
         ]
        },
        {
         "customdata": [
          [
           0,
           0.05,
           0,
           0.05,
           0,
           0.25,
           "Steel"
          ],
          [
           0,
           0.05,
           0,
           0.05,
           0,
           0.25,
           "Steel"
          ],
          [
           0,
           0.05,
           0,
           0.05,
           0,
           0.25,
           "Steel"
          ],
          [
           0,
           0.05,
           0,
           0.05,
           0,
           0.25,
           "Steel"
          ],
          [
           0,
           0.05,
           0,
           0.05,
           0,
           0.25,
           "Steel"
          ],
          [
           0,
           0.05,
           0,
           0.05,
           0,
           0.25,
           "Steel"
          ],
          [
           0,
           0.05,
           0,
           0.05,
           0,
           0.25,
           "Steel"
          ],
          [
           0,
           0.05,
           0,
           0.05,
           0,
           0.25,
           "Steel"
          ],
          [
           0,
           0.05,
           0,
           0.05,
           0,
           0.25,
           "Steel"
          ],
          [
           0,
           0.05,
           0,
           0.05,
           0,
           0.25,
           "Steel"
          ]
         ],
         "fill": "toself",
         "fillcolor": "#525252",
         "hoverinfo": "text",
         "hoverlabel": {
          "bgcolor": "#525252"
         },
         "hoveron": "points+fills",
         "hovertemplate": "Element Number: 0<br>Left Outer Diameter: 0.05 m<br>Left Inner Diameter: 0.0 m<br>Right Outer Diameter: 0.05 m<br>Right Inner Diameter: 0.0 m<br>Element Length: 0.25 m<br>Material: Steel<br>",
         "legendgroup": "Shaft",
         "line": {
          "color": "black",
          "width": 1.5
         },
         "mode": "lines",
         "name": "ShaftElement 0",
         "opacity": 0.5,
         "showlegend": false,
         "text": "Element Number: 0<br>Left Outer Diameter: 0.05 m<br>Left Inner Diameter: 0.0 m<br>Right Outer Diameter: 0.05 m<br>Right Inner Diameter: 0.0 m<br>Element Length: 0.25 m<br>Material: Steel<br>",
         "type": "scatter",
         "x": [
          0,
          0,
          0.25,
          0.25,
          0,
          0,
          0,
          0.25,
          0.25,
          0
         ],
         "y": [
          0,
          0.025,
          0.025,
          0,
          0,
          0,
          -0.025,
          -0.025,
          0,
          0
         ]
        },
        {
         "customdata": [
          [
           1,
           0.05,
           0,
           0.05,
           0,
           0.25,
           "Steel"
          ],
          [
           1,
           0.05,
           0,
           0.05,
           0,
           0.25,
           "Steel"
          ],
          [
           1,
           0.05,
           0,
           0.05,
           0,
           0.25,
           "Steel"
          ],
          [
           1,
           0.05,
           0,
           0.05,
           0,
           0.25,
           "Steel"
          ],
          [
           1,
           0.05,
           0,
           0.05,
           0,
           0.25,
           "Steel"
          ],
          [
           1,
           0.05,
           0,
           0.05,
           0,
           0.25,
           "Steel"
          ],
          [
           1,
           0.05,
           0,
           0.05,
           0,
           0.25,
           "Steel"
          ],
          [
           1,
           0.05,
           0,
           0.05,
           0,
           0.25,
           "Steel"
          ],
          [
           1,
           0.05,
           0,
           0.05,
           0,
           0.25,
           "Steel"
          ],
          [
           1,
           0.05,
           0,
           0.05,
           0,
           0.25,
           "Steel"
          ]
         ],
         "fill": "toself",
         "fillcolor": "#525252",
         "hoverinfo": "text",
         "hoverlabel": {
          "bgcolor": "#525252"
         },
         "hoveron": "points+fills",
         "hovertemplate": "Element Number: 1<br>Left Outer Diameter: 0.05 m<br>Left Inner Diameter: 0.0 m<br>Right Outer Diameter: 0.05 m<br>Right Inner Diameter: 0.0 m<br>Element Length: 0.25 m<br>Material: Steel<br>",
         "legendgroup": "Shaft",
         "line": {
          "color": "black",
          "width": 1.5
         },
         "mode": "lines",
         "name": "ShaftElement 1",
         "opacity": 0.5,
         "showlegend": false,
         "text": "Element Number: 1<br>Left Outer Diameter: 0.05 m<br>Left Inner Diameter: 0.0 m<br>Right Outer Diameter: 0.05 m<br>Right Inner Diameter: 0.0 m<br>Element Length: 0.25 m<br>Material: Steel<br>",
         "type": "scatter",
         "x": [
          0.25,
          0.25,
          0.5,
          0.5,
          0.25,
          0.25,
          0.25,
          0.5,
          0.5,
          0.25
         ],
         "y": [
          0,
          0.025,
          0.025,
          0,
          0,
          0,
          -0.025,
          -0.025,
          0,
          0
         ]
        },
        {
         "customdata": [
          [
           2,
           0.05,
           0,
           0.05,
           0,
           0.25,
           "Steel"
          ],
          [
           2,
           0.05,
           0,
           0.05,
           0,
           0.25,
           "Steel"
          ],
          [
           2,
           0.05,
           0,
           0.05,
           0,
           0.25,
           "Steel"
          ],
          [
           2,
           0.05,
           0,
           0.05,
           0,
           0.25,
           "Steel"
          ],
          [
           2,
           0.05,
           0,
           0.05,
           0,
           0.25,
           "Steel"
          ],
          [
           2,
           0.05,
           0,
           0.05,
           0,
           0.25,
           "Steel"
          ],
          [
           2,
           0.05,
           0,
           0.05,
           0,
           0.25,
           "Steel"
          ],
          [
           2,
           0.05,
           0,
           0.05,
           0,
           0.25,
           "Steel"
          ],
          [
           2,
           0.05,
           0,
           0.05,
           0,
           0.25,
           "Steel"
          ],
          [
           2,
           0.05,
           0,
           0.05,
           0,
           0.25,
           "Steel"
          ]
         ],
         "fill": "toself",
         "fillcolor": "#525252",
         "hoverinfo": "text",
         "hoverlabel": {
          "bgcolor": "#525252"
         },
         "hoveron": "points+fills",
         "hovertemplate": "Element Number: 2<br>Left Outer Diameter: 0.05 m<br>Left Inner Diameter: 0.0 m<br>Right Outer Diameter: 0.05 m<br>Right Inner Diameter: 0.0 m<br>Element Length: 0.25 m<br>Material: Steel<br>",
         "legendgroup": "Shaft",
         "line": {
          "color": "black",
          "width": 1.5
         },
         "mode": "lines",
         "name": "ShaftElement 2",
         "opacity": 0.5,
         "showlegend": false,
         "text": "Element Number: 2<br>Left Outer Diameter: 0.05 m<br>Left Inner Diameter: 0.0 m<br>Right Outer Diameter: 0.05 m<br>Right Inner Diameter: 0.0 m<br>Element Length: 0.25 m<br>Material: Steel<br>",
         "type": "scatter",
         "x": [
          0.5,
          0.5,
          0.75,
          0.75,
          0.5,
          0.5,
          0.5,
          0.75,
          0.75,
          0.5
         ],
         "y": [
          0,
          0.025,
          0.025,
          0,
          0,
          0,
          -0.025,
          -0.025,
          0,
          0
         ]
        },
        {
         "customdata": [
          [
           3,
           0.05,
           0,
           0.05,
           0,
           0.25,
           "Steel"
          ],
          [
           3,
           0.05,
           0,
           0.05,
           0,
           0.25,
           "Steel"
          ],
          [
           3,
           0.05,
           0,
           0.05,
           0,
           0.25,
           "Steel"
          ],
          [
           3,
           0.05,
           0,
           0.05,
           0,
           0.25,
           "Steel"
          ],
          [
           3,
           0.05,
           0,
           0.05,
           0,
           0.25,
           "Steel"
          ],
          [
           3,
           0.05,
           0,
           0.05,
           0,
           0.25,
           "Steel"
          ],
          [
           3,
           0.05,
           0,
           0.05,
           0,
           0.25,
           "Steel"
          ],
          [
           3,
           0.05,
           0,
           0.05,
           0,
           0.25,
           "Steel"
          ],
          [
           3,
           0.05,
           0,
           0.05,
           0,
           0.25,
           "Steel"
          ],
          [
           3,
           0.05,
           0,
           0.05,
           0,
           0.25,
           "Steel"
          ]
         ],
         "fill": "toself",
         "fillcolor": "#525252",
         "hoverinfo": "text",
         "hoverlabel": {
          "bgcolor": "#525252"
         },
         "hoveron": "points+fills",
         "hovertemplate": "Element Number: 3<br>Left Outer Diameter: 0.05 m<br>Left Inner Diameter: 0.0 m<br>Right Outer Diameter: 0.05 m<br>Right Inner Diameter: 0.0 m<br>Element Length: 0.25 m<br>Material: Steel<br>",
         "legendgroup": "Shaft",
         "line": {
          "color": "black",
          "width": 1.5
         },
         "mode": "lines",
         "name": "ShaftElement 3",
         "opacity": 0.5,
         "showlegend": false,
         "text": "Element Number: 3<br>Left Outer Diameter: 0.05 m<br>Left Inner Diameter: 0.0 m<br>Right Outer Diameter: 0.05 m<br>Right Inner Diameter: 0.0 m<br>Element Length: 0.25 m<br>Material: Steel<br>",
         "type": "scatter",
         "x": [
          0.75,
          0.75,
          1,
          1,
          0.75,
          0.75,
          0.75,
          1,
          1,
          0.75
         ],
         "y": [
          0,
          0.025,
          0.025,
          0,
          0,
          0,
          -0.025,
          -0.025,
          0,
          0
         ]
        },
        {
         "customdata": [
          [
           4,
           0.05,
           0,
           0.05,
           0,
           0.25,
           "Steel"
          ],
          [
           4,
           0.05,
           0,
           0.05,
           0,
           0.25,
           "Steel"
          ],
          [
           4,
           0.05,
           0,
           0.05,
           0,
           0.25,
           "Steel"
          ],
          [
           4,
           0.05,
           0,
           0.05,
           0,
           0.25,
           "Steel"
          ],
          [
           4,
           0.05,
           0,
           0.05,
           0,
           0.25,
           "Steel"
          ],
          [
           4,
           0.05,
           0,
           0.05,
           0,
           0.25,
           "Steel"
          ],
          [
           4,
           0.05,
           0,
           0.05,
           0,
           0.25,
           "Steel"
          ],
          [
           4,
           0.05,
           0,
           0.05,
           0,
           0.25,
           "Steel"
          ],
          [
           4,
           0.05,
           0,
           0.05,
           0,
           0.25,
           "Steel"
          ],
          [
           4,
           0.05,
           0,
           0.05,
           0,
           0.25,
           "Steel"
          ]
         ],
         "fill": "toself",
         "fillcolor": "#525252",
         "hoverinfo": "text",
         "hoverlabel": {
          "bgcolor": "#525252"
         },
         "hoveron": "points+fills",
         "hovertemplate": "Element Number: 4<br>Left Outer Diameter: 0.05 m<br>Left Inner Diameter: 0.0 m<br>Right Outer Diameter: 0.05 m<br>Right Inner Diameter: 0.0 m<br>Element Length: 0.25 m<br>Material: Steel<br>",
         "legendgroup": "Shaft",
         "line": {
          "color": "black",
          "width": 1.5
         },
         "mode": "lines",
         "name": "ShaftElement 4",
         "opacity": 0.5,
         "showlegend": false,
         "text": "Element Number: 4<br>Left Outer Diameter: 0.05 m<br>Left Inner Diameter: 0.0 m<br>Right Outer Diameter: 0.05 m<br>Right Inner Diameter: 0.0 m<br>Element Length: 0.25 m<br>Material: Steel<br>",
         "type": "scatter",
         "x": [
          1,
          1,
          1.25,
          1.25,
          1,
          1,
          1,
          1.25,
          1.25,
          1
         ],
         "y": [
          0,
          0.025,
          0.025,
          0,
          0,
          0,
          -0.025,
          -0.025,
          0,
          0
         ]
        },
        {
         "customdata": [
          [
           5,
           0.05,
           0,
           0.05,
           0,
           0.25,
           "Steel"
          ],
          [
           5,
           0.05,
           0,
           0.05,
           0,
           0.25,
           "Steel"
          ],
          [
           5,
           0.05,
           0,
           0.05,
           0,
           0.25,
           "Steel"
          ],
          [
           5,
           0.05,
           0,
           0.05,
           0,
           0.25,
           "Steel"
          ],
          [
           5,
           0.05,
           0,
           0.05,
           0,
           0.25,
           "Steel"
          ],
          [
           5,
           0.05,
           0,
           0.05,
           0,
           0.25,
           "Steel"
          ],
          [
           5,
           0.05,
           0,
           0.05,
           0,
           0.25,
           "Steel"
          ],
          [
           5,
           0.05,
           0,
           0.05,
           0,
           0.25,
           "Steel"
          ],
          [
           5,
           0.05,
           0,
           0.05,
           0,
           0.25,
           "Steel"
          ],
          [
           5,
           0.05,
           0,
           0.05,
           0,
           0.25,
           "Steel"
          ]
         ],
         "fill": "toself",
         "fillcolor": "#525252",
         "hoverinfo": "text",
         "hoverlabel": {
          "bgcolor": "#525252"
         },
         "hoveron": "points+fills",
         "hovertemplate": "Element Number: 5<br>Left Outer Diameter: 0.05 m<br>Left Inner Diameter: 0.0 m<br>Right Outer Diameter: 0.05 m<br>Right Inner Diameter: 0.0 m<br>Element Length: 0.25 m<br>Material: Steel<br>",
         "legendgroup": "Shaft",
         "line": {
          "color": "black",
          "width": 1.5
         },
         "mode": "lines",
         "name": "ShaftElement 5",
         "opacity": 0.5,
         "showlegend": false,
         "text": "Element Number: 5<br>Left Outer Diameter: 0.05 m<br>Left Inner Diameter: 0.0 m<br>Right Outer Diameter: 0.05 m<br>Right Inner Diameter: 0.0 m<br>Element Length: 0.25 m<br>Material: Steel<br>",
         "type": "scatter",
         "x": [
          1.25,
          1.25,
          1.5,
          1.5,
          1.25,
          1.25,
          1.25,
          1.5,
          1.5,
          1.25
         ],
         "y": [
          0,
          0.025,
          0.025,
          0,
          0,
          0,
          -0.025,
          -0.025,
          0,
          0
         ]
        },
        {
         "customdata": [
          [
           2,
           0.32956362089137037,
           0.17808928257067666,
           32.58972765304033
          ],
          [
           2,
           0.32956362089137037,
           0.17808928257067666,
           32.58972765304033
          ],
          [
           2,
           0.32956362089137037,
           0.17808928257067666,
           32.58972765304033
          ],
          [
           2,
           0.32956362089137037,
           0.17808928257067666,
           32.58972765304033
          ],
          [
           2,
           0.32956362089137037,
           0.17808928257067666,
           32.58972765304033
          ],
          [
           2,
           0.32956362089137037,
           0.17808928257067666,
           32.58972765304033
          ],
          [
           2,
           0.32956362089137037,
           0.17808928257067666,
           32.58972765304033
          ],
          [
           2,
           0.32956362089137037,
           0.17808928257067666,
           32.58972765304033
          ],
          [
           2,
           0.32956362089137037,
           0.17808928257067666,
           32.58972765304033
          ]
         ],
         "fill": "toself",
         "fillcolor": "Firebrick",
         "hoverinfo": "text",
         "hoverlabel": {
          "bgcolor": "Firebrick"
         },
         "hoveron": "points+fills",
         "hovertemplate": "Disk Node: 2<br>Polar Inertia: 3.296e-01<br>Diametral Inertia: 1.781e-01<br>Disk mass: 32.590<br>",
         "legendgroup": "disks",
         "line": {
          "color": "Firebrick",
          "width": 2
         },
         "mode": "lines",
         "name": "Disk 0",
         "opacity": 0.8,
         "showlegend": false,
         "text": "Disk Node: 2<br>Polar Inertia: 3.296e-01<br>Diametral Inertia: 1.781e-01<br>Disk mass: 32.590<br>",
         "type": "scatter",
         "x": [
          0.5,
          0.502,
          0.498,
          0.5,
          null,
          0.5,
          0.502,
          0.498,
          0.5
         ],
         "y": [
          0.025,
          0.125,
          0.125,
          0.025,
          null,
          -0.025,
          -0.125,
          -0.125,
          -0.025
         ]
        },
        {
         "customdata": [
          [
           4,
           0.32956362089137037,
           0.17808928257067666,
           32.58972765304033
          ],
          [
           4,
           0.32956362089137037,
           0.17808928257067666,
           32.58972765304033
          ],
          [
           4,
           0.32956362089137037,
           0.17808928257067666,
           32.58972765304033
          ],
          [
           4,
           0.32956362089137037,
           0.17808928257067666,
           32.58972765304033
          ],
          [
           4,
           0.32956362089137037,
           0.17808928257067666,
           32.58972765304033
          ],
          [
           4,
           0.32956362089137037,
           0.17808928257067666,
           32.58972765304033
          ],
          [
           4,
           0.32956362089137037,
           0.17808928257067666,
           32.58972765304033
          ],
          [
           4,
           0.32956362089137037,
           0.17808928257067666,
           32.58972765304033
          ],
          [
           4,
           0.32956362089137037,
           0.17808928257067666,
           32.58972765304033
          ]
         ],
         "fill": "toself",
         "fillcolor": "Firebrick",
         "hoverinfo": "text",
         "hoverlabel": {
          "bgcolor": "Firebrick"
         },
         "hoveron": "points+fills",
         "hovertemplate": "Disk Node: 4<br>Polar Inertia: 3.296e-01<br>Diametral Inertia: 1.781e-01<br>Disk mass: 32.590<br>",
         "legendgroup": "disks",
         "line": {
          "color": "Firebrick",
          "width": 2
         },
         "mode": "lines",
         "name": "Disk 1",
         "opacity": 0.8,
         "showlegend": false,
         "text": "Disk Node: 4<br>Polar Inertia: 3.296e-01<br>Diametral Inertia: 1.781e-01<br>Disk mass: 32.590<br>",
         "type": "scatter",
         "x": [
          1,
          1.002,
          0.998,
          1,
          null,
          1,
          1.002,
          0.998,
          1
         ],
         "y": [
          0.025,
          0.125,
          0.125,
          0.025,
          null,
          -0.025,
          -0.125,
          -0.125,
          -0.025
         ]
        },
        {
         "hoverinfo": "none",
         "legendgroup": "bearings",
         "line": {
          "color": "#355d7a",
          "width": 1
         },
         "mode": "lines",
         "name": "Bearing 0",
         "showlegend": false,
         "type": "scatter",
         "x": [
          0,
          0,
          -0.007142857142857143,
          0.007142857142857143
         ],
         "y": [
          0.025,
          0.0375,
          0.0375,
          0.0375
         ]
        },
        {
         "hoverinfo": "none",
         "legendgroup": "bearings",
         "line": {
          "color": "#355d7a",
          "width": 1
         },
         "mode": "lines",
         "name": "Bearing 0",
         "showlegend": false,
         "type": "scatter",
         "x": [
          0,
          0,
          -0.007142857142857143,
          0.007142857142857143
         ],
         "y": [
          -0.025,
          -0.0375,
          -0.0375,
          -0.0375
         ]
        },
        {
         "hoverinfo": "none",
         "legendgroup": "bearings",
         "line": {
          "color": "#355d7a",
          "width": 1
         },
         "mode": "lines",
         "name": "Bearing 0",
         "showlegend": false,
         "type": "scatter",
         "x": [
          0,
          0,
          -0.007142857142857143,
          0.007142857142857143
         ],
         "y": [
          0.075,
          0.0625,
          0.0625,
          0.0625
         ]
        },
        {
         "hoverinfo": "none",
         "legendgroup": "bearings",
         "line": {
          "color": "#355d7a",
          "width": 1
         },
         "mode": "lines",
         "name": "Bearing 0",
         "showlegend": false,
         "type": "scatter",
         "x": [
          0,
          0,
          -0.007142857142857143,
          0.007142857142857143
         ],
         "y": [
          -0.075,
          -0.0625,
          -0.0625,
          -0.0625
         ]
        },
        {
         "hoverinfo": "none",
         "legendgroup": "bearings",
         "line": {
          "color": "#355d7a",
          "width": 1
         },
         "mode": "lines",
         "name": "Bearing 0",
         "showlegend": false,
         "type": "scatter",
         "x": [
          -0.007142857142857143,
          -0.007142857142857143,
          -0.010714285714285714,
          -0.0035714285714285713,
          -0.010714285714285714,
          -0.0035714285714285713,
          -0.010714285714285714,
          -0.0035714285714285713,
          -0.007142857142857143,
          -0.007142857142857143
         ],
         "y": [
          0.0375,
          0.04107142857142857,
          0.04107142857142857,
          0.044642857142857144,
          0.04821428571428571,
          0.05178571428571428,
          0.055357142857142855,
          0.05892857142857143,
          0.05892857142857143,
          0.0625
         ]
        },
        {
         "hoverinfo": "none",
         "legendgroup": "bearings",
         "line": {
          "color": "#355d7a",
          "width": 1
         },
         "mode": "lines",
         "name": "Bearing 0",
         "showlegend": false,
         "type": "scatter",
         "x": [
          -0.007142857142857143,
          -0.007142857142857143,
          -0.010714285714285714,
          -0.0035714285714285713,
          -0.010714285714285714,
          -0.0035714285714285713,
          -0.010714285714285714,
          -0.0035714285714285713,
          -0.007142857142857143,
          -0.007142857142857143
         ],
         "y": [
          -0.0375,
          -0.04107142857142857,
          -0.04107142857142857,
          -0.044642857142857144,
          -0.04821428571428571,
          -0.05178571428571428,
          -0.055357142857142855,
          -0.05892857142857143,
          -0.05892857142857143,
          -0.0625
         ]
        },
        {
         "hoverinfo": "none",
         "legendgroup": "bearings",
         "line": {
          "color": "#355d7a",
          "width": 1
         },
         "mode": "lines",
         "name": "Bearing 0",
         "showlegend": false,
         "type": "scatter",
         "x": [
          0.007142857142857143,
          0.007142857142857143
         ],
         "y": [
          0.0375,
          0.044642857142857144
         ]
        },
        {
         "hoverinfo": "none",
         "legendgroup": "bearings",
         "line": {
          "color": "#355d7a",
          "width": 1
         },
         "mode": "lines",
         "name": "Bearing 0",
         "showlegend": false,
         "type": "scatter",
         "x": [
          0.007142857142857143,
          0.007142857142857143
         ],
         "y": [
          -0.0375,
          -0.044642857142857144
         ]
        },
        {
         "hoverinfo": "none",
         "legendgroup": "bearings",
         "line": {
          "color": "#355d7a",
          "width": 1
         },
         "mode": "lines",
         "name": "Bearing 0",
         "showlegend": false,
         "type": "scatter",
         "x": [
          0,
          0,
          0.014285714285714284,
          0.014285714285714284
         ],
         "y": [
          0.055357142857142855,
          0.044642857142857144,
          0.044642857142857144,
          0.055357142857142855
         ]
        },
        {
         "hoverinfo": "none",
         "legendgroup": "bearings",
         "line": {
          "color": "#355d7a",
          "width": 1
         },
         "mode": "lines",
         "name": "Bearing 0",
         "showlegend": false,
         "type": "scatter",
         "x": [
          0,
          0,
          0.014285714285714284,
          0.014285714285714284
         ],
         "y": [
          -0.055357142857142855,
          -0.044642857142857144,
          -0.044642857142857144,
          -0.055357142857142855
         ]
        },
        {
         "hoverinfo": "none",
         "legendgroup": "bearings",
         "line": {
          "color": "#355d7a",
          "width": 1
         },
         "mode": "lines",
         "name": "Bearing 0",
         "showlegend": false,
         "type": "scatter",
         "x": [
          0,
          0.014285714285714284,
          0.007142857142857143,
          0.007142857142857143
         ],
         "y": [
          0.05178571428571428,
          0.05178571428571428,
          0.05178571428571428,
          0.0625
         ]
        },
        {
         "hoverinfo": "none",
         "legendgroup": "bearings",
         "line": {
          "color": "#355d7a",
          "width": 1
         },
         "mode": "lines",
         "name": "Bearing 0",
         "showlegend": false,
         "type": "scatter",
         "x": [
          0,
          0.014285714285714284,
          0.007142857142857143,
          0.007142857142857143
         ],
         "y": [
          -0.05178571428571428,
          -0.05178571428571428,
          -0.05178571428571428,
          -0.0625
         ]
        },
        {
         "hoverinfo": "none",
         "legendgroup": "bearings",
         "line": {
          "color": "#355d7a",
          "width": 1
         },
         "mode": "lines",
         "name": "Bearing 1",
         "showlegend": false,
         "type": "scatter",
         "x": [
          1.5,
          1.5,
          1.4928571428571429,
          1.5071428571428571
         ],
         "y": [
          0.025,
          0.0375,
          0.0375,
          0.0375
         ]
        },
        {
         "hoverinfo": "none",
         "legendgroup": "bearings",
         "line": {
          "color": "#355d7a",
          "width": 1
         },
         "mode": "lines",
         "name": "Bearing 1",
         "showlegend": false,
         "type": "scatter",
         "x": [
          1.5,
          1.5,
          1.4928571428571429,
          1.5071428571428571
         ],
         "y": [
          -0.025,
          -0.0375,
          -0.0375,
          -0.0375
         ]
        },
        {
         "hoverinfo": "none",
         "legendgroup": "bearings",
         "line": {
          "color": "#355d7a",
          "width": 1
         },
         "mode": "lines",
         "name": "Bearing 1",
         "showlegend": false,
         "type": "scatter",
         "x": [
          1.5,
          1.5,
          1.4928571428571429,
          1.5071428571428571
         ],
         "y": [
          0.075,
          0.0625,
          0.0625,
          0.0625
         ]
        },
        {
         "hoverinfo": "none",
         "legendgroup": "bearings",
         "line": {
          "color": "#355d7a",
          "width": 1
         },
         "mode": "lines",
         "name": "Bearing 1",
         "showlegend": false,
         "type": "scatter",
         "x": [
          1.5,
          1.5,
          1.4928571428571429,
          1.5071428571428571
         ],
         "y": [
          -0.075,
          -0.0625,
          -0.0625,
          -0.0625
         ]
        },
        {
         "hoverinfo": "none",
         "legendgroup": "bearings",
         "line": {
          "color": "#355d7a",
          "width": 1
         },
         "mode": "lines",
         "name": "Bearing 1",
         "showlegend": false,
         "type": "scatter",
         "x": [
          1.4892857142857143,
          1.5107142857142857
         ],
         "y": [
          0.075,
          0.075
         ]
        },
        {
         "hoverinfo": "none",
         "legendgroup": "bearings",
         "line": {
          "color": "#355d7a",
          "width": 1
         },
         "mode": "lines",
         "name": "Bearing 1",
         "showlegend": false,
         "type": "scatter",
         "x": [
          1.4892857142857143,
          1.5107142857142857
         ],
         "y": [
          -0.075,
          -0.075
         ]
        },
        {
         "hoverinfo": "none",
         "legendgroup": "bearings",
         "line": {
          "color": "#355d7a",
          "width": 1
         },
         "mode": "lines",
         "name": "Bearing 1",
         "showlegend": false,
         "type": "scatter",
         "x": [
          1.4892857142857143,
          1.4935714285714283
         ],
         "y": [
          0.075,
          0.0825
         ]
        },
        {
         "hoverinfo": "none",
         "legendgroup": "bearings",
         "line": {
          "color": "#355d7a",
          "width": 1
         },
         "mode": "lines",
         "name": "Bearing 1",
         "showlegend": false,
         "type": "scatter",
         "x": [
          1.4892857142857143,
          1.4935714285714283
         ],
         "y": [
          -0.075,
          -0.0825
         ]
        },
        {
         "hoverinfo": "none",
         "legendgroup": "bearings",
         "line": {
          "color": "#355d7a",
          "width": 1
         },
         "mode": "lines",
         "name": "Bearing 1",
         "showlegend": false,
         "type": "scatter",
         "x": [
          1.4935714285714283,
          1.4978571428571428
         ],
         "y": [
          0.075,
          0.0825
         ]
        },
        {
         "hoverinfo": "none",
         "legendgroup": "bearings",
         "line": {
          "color": "#355d7a",
          "width": 1
         },
         "mode": "lines",
         "name": "Bearing 1",
         "showlegend": false,
         "type": "scatter",
         "x": [
          1.4935714285714283,
          1.4978571428571428
         ],
         "y": [
          -0.075,
          -0.0825
         ]
        },
        {
         "hoverinfo": "none",
         "legendgroup": "bearings",
         "line": {
          "color": "#355d7a",
          "width": 1
         },
         "mode": "lines",
         "name": "Bearing 1",
         "showlegend": false,
         "type": "scatter",
         "x": [
          1.4978571428571428,
          1.5021428571428572
         ],
         "y": [
          0.075,
          0.0825
         ]
        },
        {
         "hoverinfo": "none",
         "legendgroup": "bearings",
         "line": {
          "color": "#355d7a",
          "width": 1
         },
         "mode": "lines",
         "name": "Bearing 1",
         "showlegend": false,
         "type": "scatter",
         "x": [
          1.4978571428571428,
          1.5021428571428572
         ],
         "y": [
          -0.075,
          -0.0825
         ]
        },
        {
         "hoverinfo": "none",
         "legendgroup": "bearings",
         "line": {
          "color": "#355d7a",
          "width": 1
         },
         "mode": "lines",
         "name": "Bearing 1",
         "showlegend": false,
         "type": "scatter",
         "x": [
          1.5021428571428572,
          1.5064285714285717
         ],
         "y": [
          0.075,
          0.0825
         ]
        },
        {
         "hoverinfo": "none",
         "legendgroup": "bearings",
         "line": {
          "color": "#355d7a",
          "width": 1
         },
         "mode": "lines",
         "name": "Bearing 1",
         "showlegend": false,
         "type": "scatter",
         "x": [
          1.5021428571428572,
          1.5064285714285717
         ],
         "y": [
          -0.075,
          -0.0825
         ]
        },
        {
         "hoverinfo": "none",
         "legendgroup": "bearings",
         "line": {
          "color": "#355d7a",
          "width": 1
         },
         "mode": "lines",
         "name": "Bearing 1",
         "showlegend": false,
         "type": "scatter",
         "x": [
          1.5064285714285717,
          1.5107142857142857
         ],
         "y": [
          0.075,
          0.0825
         ]
        },
        {
         "hoverinfo": "none",
         "legendgroup": "bearings",
         "line": {
          "color": "#355d7a",
          "width": 1
         },
         "mode": "lines",
         "name": "Bearing 1",
         "showlegend": false,
         "type": "scatter",
         "x": [
          1.5064285714285717,
          1.5107142857142857
         ],
         "y": [
          -0.075,
          -0.0825
         ]
        },
        {
         "hoverinfo": "none",
         "legendgroup": "bearings",
         "line": {
          "color": "#355d7a",
          "width": 1
         },
         "mode": "lines",
         "name": "Bearing 1",
         "showlegend": false,
         "type": "scatter",
         "x": [
          1.5107142857142857,
          1.515
         ],
         "y": [
          0.075,
          0.0825
         ]
        },
        {
         "hoverinfo": "none",
         "legendgroup": "bearings",
         "line": {
          "color": "#355d7a",
          "width": 1
         },
         "mode": "lines",
         "name": "Bearing 1",
         "showlegend": false,
         "type": "scatter",
         "x": [
          1.5107142857142857,
          1.515
         ],
         "y": [
          -0.075,
          -0.0825
         ]
        },
        {
         "hoverinfo": "none",
         "legendgroup": "bearings",
         "line": {
          "color": "#355d7a",
          "width": 1
         },
         "mode": "lines",
         "name": "Bearing 1",
         "showlegend": false,
         "type": "scatter",
         "x": [
          1.4928571428571429,
          1.4928571428571429,
          1.4892857142857143,
          1.4964285714285714,
          1.4892857142857143,
          1.4964285714285714,
          1.4892857142857143,
          1.4964285714285714,
          1.4928571428571429,
          1.4928571428571429
         ],
         "y": [
          0.0375,
          0.04107142857142857,
          0.04107142857142857,
          0.044642857142857144,
          0.04821428571428571,
          0.05178571428571428,
          0.055357142857142855,
          0.05892857142857143,
          0.05892857142857143,
          0.0625
         ]
        },
        {
         "hoverinfo": "none",
         "legendgroup": "bearings",
         "line": {
          "color": "#355d7a",
          "width": 1
         },
         "mode": "lines",
         "name": "Bearing 1",
         "showlegend": false,
         "type": "scatter",
         "x": [
          1.4928571428571429,
          1.4928571428571429,
          1.4892857142857143,
          1.4964285714285714,
          1.4892857142857143,
          1.4964285714285714,
          1.4892857142857143,
          1.4964285714285714,
          1.4928571428571429,
          1.4928571428571429
         ],
         "y": [
          -0.0375,
          -0.04107142857142857,
          -0.04107142857142857,
          -0.044642857142857144,
          -0.04821428571428571,
          -0.05178571428571428,
          -0.055357142857142855,
          -0.05892857142857143,
          -0.05892857142857143,
          -0.0625
         ]
        },
        {
         "hoverinfo": "none",
         "legendgroup": "bearings",
         "line": {
          "color": "#355d7a",
          "width": 1
         },
         "mode": "lines",
         "name": "Bearing 1",
         "showlegend": false,
         "type": "scatter",
         "x": [
          1.5071428571428571,
          1.5071428571428571
         ],
         "y": [
          0.0375,
          0.044642857142857144
         ]
        },
        {
         "hoverinfo": "none",
         "legendgroup": "bearings",
         "line": {
          "color": "#355d7a",
          "width": 1
         },
         "mode": "lines",
         "name": "Bearing 1",
         "showlegend": false,
         "type": "scatter",
         "x": [
          1.5071428571428571,
          1.5071428571428571
         ],
         "y": [
          -0.0375,
          -0.044642857142857144
         ]
        },
        {
         "hoverinfo": "none",
         "legendgroup": "bearings",
         "line": {
          "color": "#355d7a",
          "width": 1
         },
         "mode": "lines",
         "name": "Bearing 1",
         "showlegend": false,
         "type": "scatter",
         "x": [
          1.5,
          1.5,
          1.5142857142857142,
          1.5142857142857142
         ],
         "y": [
          0.055357142857142855,
          0.044642857142857144,
          0.044642857142857144,
          0.055357142857142855
         ]
        },
        {
         "hoverinfo": "none",
         "legendgroup": "bearings",
         "line": {
          "color": "#355d7a",
          "width": 1
         },
         "mode": "lines",
         "name": "Bearing 1",
         "showlegend": false,
         "type": "scatter",
         "x": [
          1.5,
          1.5,
          1.5142857142857142,
          1.5142857142857142
         ],
         "y": [
          -0.055357142857142855,
          -0.044642857142857144,
          -0.044642857142857144,
          -0.055357142857142855
         ]
        },
        {
         "hoverinfo": "none",
         "legendgroup": "bearings",
         "line": {
          "color": "#355d7a",
          "width": 1
         },
         "mode": "lines",
         "name": "Bearing 1",
         "showlegend": false,
         "type": "scatter",
         "x": [
          1.5,
          1.5142857142857142,
          1.5071428571428571,
          1.5071428571428571
         ],
         "y": [
          0.05178571428571428,
          0.05178571428571428,
          0.05178571428571428,
          0.0625
         ]
        },
        {
         "hoverinfo": "none",
         "legendgroup": "bearings",
         "line": {
          "color": "#355d7a",
          "width": 1
         },
         "mode": "lines",
         "name": "Bearing 1",
         "showlegend": false,
         "type": "scatter",
         "x": [
          1.5,
          1.5142857142857142,
          1.5071428571428571,
          1.5071428571428571
         ],
         "y": [
          -0.05178571428571428,
          -0.05178571428571428,
          -0.05178571428571428,
          -0.0625
         ]
        },
        {
         "hoverinfo": "none",
         "legendgroup": "bearings",
         "line": {
          "color": "#355d7a",
          "width": 1
         },
         "mode": "lines",
         "name": "Bearing 2",
         "showlegend": false,
         "type": "scatter",
         "x": [
          0,
          0,
          -0.0071428571428571435,
          0.0071428571428571435
         ],
         "y": [
          0.075,
          0.0875,
          0.0875,
          0.0875
         ]
        },
        {
         "hoverinfo": "none",
         "legendgroup": "bearings",
         "line": {
          "color": "#355d7a",
          "width": 1
         },
         "mode": "lines",
         "name": "Bearing 2",
         "showlegend": false,
         "type": "scatter",
         "x": [
          0,
          0,
          -0.0071428571428571435,
          0.0071428571428571435
         ],
         "y": [
          -0.075,
          -0.0875,
          -0.0875,
          -0.0875
         ]
        },
        {
         "hoverinfo": "none",
         "legendgroup": "bearings",
         "line": {
          "color": "#355d7a",
          "width": 1
         },
         "mode": "lines",
         "name": "Bearing 2",
         "showlegend": false,
         "type": "scatter",
         "x": [
          0,
          0,
          -0.0071428571428571435,
          0.0071428571428571435
         ],
         "y": [
          0.125,
          0.1125,
          0.1125,
          0.1125
         ]
        },
        {
         "hoverinfo": "none",
         "legendgroup": "bearings",
         "line": {
          "color": "#355d7a",
          "width": 1
         },
         "mode": "lines",
         "name": "Bearing 2",
         "showlegend": false,
         "type": "scatter",
         "x": [
          0,
          0,
          -0.0071428571428571435,
          0.0071428571428571435
         ],
         "y": [
          -0.125,
          -0.1125,
          -0.1125,
          -0.1125
         ]
        },
        {
         "hoverinfo": "none",
         "legendgroup": "bearings",
         "line": {
          "color": "#355d7a",
          "width": 1
         },
         "mode": "lines",
         "name": "Bearing 2",
         "showlegend": false,
         "type": "scatter",
         "x": [
          -0.010714285714285714,
          0.010714285714285714
         ],
         "y": [
          0.125,
          0.125
         ]
        },
        {
         "hoverinfo": "none",
         "legendgroup": "bearings",
         "line": {
          "color": "#355d7a",
          "width": 1
         },
         "mode": "lines",
         "name": "Bearing 2",
         "showlegend": false,
         "type": "scatter",
         "x": [
          -0.010714285714285714,
          0.010714285714285714
         ],
         "y": [
          -0.125,
          -0.125
         ]
        },
        {
         "hoverinfo": "none",
         "legendgroup": "bearings",
         "line": {
          "color": "#355d7a",
          "width": 1
         },
         "mode": "lines",
         "name": "Bearing 2",
         "showlegend": false,
         "type": "scatter",
         "x": [
          -0.010714285714285714,
          -0.0064285714285714285
         ],
         "y": [
          0.125,
          0.1375
         ]
        },
        {
         "hoverinfo": "none",
         "legendgroup": "bearings",
         "line": {
          "color": "#355d7a",
          "width": 1
         },
         "mode": "lines",
         "name": "Bearing 2",
         "showlegend": false,
         "type": "scatter",
         "x": [
          -0.010714285714285714,
          -0.0064285714285714285
         ],
         "y": [
          -0.125,
          -0.1375
         ]
        },
        {
         "hoverinfo": "none",
         "legendgroup": "bearings",
         "line": {
          "color": "#355d7a",
          "width": 1
         },
         "mode": "lines",
         "name": "Bearing 2",
         "showlegend": false,
         "type": "scatter",
         "x": [
          -0.0064285714285714285,
          -0.0021428571428571425
         ],
         "y": [
          0.125,
          0.1375
         ]
        },
        {
         "hoverinfo": "none",
         "legendgroup": "bearings",
         "line": {
          "color": "#355d7a",
          "width": 1
         },
         "mode": "lines",
         "name": "Bearing 2",
         "showlegend": false,
         "type": "scatter",
         "x": [
          -0.0064285714285714285,
          -0.0021428571428571425
         ],
         "y": [
          -0.125,
          -0.1375
         ]
        },
        {
         "hoverinfo": "none",
         "legendgroup": "bearings",
         "line": {
          "color": "#355d7a",
          "width": 1
         },
         "mode": "lines",
         "name": "Bearing 2",
         "showlegend": false,
         "type": "scatter",
         "x": [
          -0.0021428571428571425,
          0.0021428571428571443
         ],
         "y": [
          0.125,
          0.1375
         ]
        },
        {
         "hoverinfo": "none",
         "legendgroup": "bearings",
         "line": {
          "color": "#355d7a",
          "width": 1
         },
         "mode": "lines",
         "name": "Bearing 2",
         "showlegend": false,
         "type": "scatter",
         "x": [
          -0.0021428571428571425,
          0.0021428571428571443
         ],
         "y": [
          -0.125,
          -0.1375
         ]
        },
        {
         "hoverinfo": "none",
         "legendgroup": "bearings",
         "line": {
          "color": "#355d7a",
          "width": 1
         },
         "mode": "lines",
         "name": "Bearing 2",
         "showlegend": false,
         "type": "scatter",
         "x": [
          0.0021428571428571443,
          0.006428571428571429
         ],
         "y": [
          0.125,
          0.1375
         ]
        },
        {
         "hoverinfo": "none",
         "legendgroup": "bearings",
         "line": {
          "color": "#355d7a",
          "width": 1
         },
         "mode": "lines",
         "name": "Bearing 2",
         "showlegend": false,
         "type": "scatter",
         "x": [
          0.0021428571428571443,
          0.006428571428571429
         ],
         "y": [
          -0.125,
          -0.1375
         ]
        },
        {
         "hoverinfo": "none",
         "legendgroup": "bearings",
         "line": {
          "color": "#355d7a",
          "width": 1
         },
         "mode": "lines",
         "name": "Bearing 2",
         "showlegend": false,
         "type": "scatter",
         "x": [
          0.006428571428571429,
          0.010714285714285714
         ],
         "y": [
          0.125,
          0.1375
         ]
        },
        {
         "hoverinfo": "none",
         "legendgroup": "bearings",
         "line": {
          "color": "#355d7a",
          "width": 1
         },
         "mode": "lines",
         "name": "Bearing 2",
         "showlegend": false,
         "type": "scatter",
         "x": [
          0.006428571428571429,
          0.010714285714285714
         ],
         "y": [
          -0.125,
          -0.1375
         ]
        },
        {
         "hoverinfo": "none",
         "legendgroup": "bearings",
         "line": {
          "color": "#355d7a",
          "width": 1
         },
         "mode": "lines",
         "name": "Bearing 2",
         "showlegend": false,
         "type": "scatter",
         "x": [
          0.010714285714285714,
          0.015000000000000005
         ],
         "y": [
          0.125,
          0.1375
         ]
        },
        {
         "hoverinfo": "none",
         "legendgroup": "bearings",
         "line": {
          "color": "#355d7a",
          "width": 1
         },
         "mode": "lines",
         "name": "Bearing 2",
         "showlegend": false,
         "type": "scatter",
         "x": [
          0.010714285714285714,
          0.015000000000000005
         ],
         "y": [
          -0.125,
          -0.1375
         ]
        },
        {
         "hoverinfo": "none",
         "legendgroup": "bearings",
         "line": {
          "color": "#355d7a",
          "width": 1
         },
         "mode": "lines",
         "name": "Bearing 2",
         "showlegend": false,
         "type": "scatter",
         "x": [
          -0.0071428571428571435,
          -0.0071428571428571435,
          -0.010714285714285714,
          -0.003571428571428572,
          -0.010714285714285714,
          -0.003571428571428572,
          -0.010714285714285714,
          -0.003571428571428572,
          -0.0071428571428571435,
          -0.0071428571428571435
         ],
         "y": [
          0.0875,
          0.09107142857142855,
          0.09107142857142855,
          0.09464285714285714,
          0.09821428571428573,
          0.10178571428571428,
          0.10535714285714286,
          0.10892857142857144,
          0.10892857142857142,
          0.1125
         ]
        },
        {
         "hoverinfo": "none",
         "legendgroup": "bearings",
         "line": {
          "color": "#355d7a",
          "width": 1
         },
         "mode": "lines",
         "name": "Bearing 2",
         "showlegend": false,
         "type": "scatter",
         "x": [
          -0.0071428571428571435,
          -0.0071428571428571435,
          -0.010714285714285714,
          -0.003571428571428572,
          -0.010714285714285714,
          -0.003571428571428572,
          -0.010714285714285714,
          -0.003571428571428572,
          -0.0071428571428571435,
          -0.0071428571428571435
         ],
         "y": [
          -0.0875,
          -0.09107142857142855,
          -0.09107142857142855,
          -0.09464285714285714,
          -0.09821428571428573,
          -0.10178571428571428,
          -0.10535714285714286,
          -0.10892857142857144,
          -0.10892857142857142,
          -0.1125
         ]
        },
        {
         "hoverinfo": "none",
         "legendgroup": "bearings",
         "line": {
          "color": "#355d7a",
          "width": 1
         },
         "mode": "lines",
         "name": "Bearing 2",
         "showlegend": false,
         "type": "scatter",
         "x": [
          0.0071428571428571435,
          0.0071428571428571435
         ],
         "y": [
          0.0875,
          0.09464285714285714
         ]
        },
        {
         "hoverinfo": "none",
         "legendgroup": "bearings",
         "line": {
          "color": "#355d7a",
          "width": 1
         },
         "mode": "lines",
         "name": "Bearing 2",
         "showlegend": false,
         "type": "scatter",
         "x": [
          0.0071428571428571435,
          0.0071428571428571435
         ],
         "y": [
          -0.0875,
          -0.09464285714285714
         ]
        },
        {
         "hoverinfo": "none",
         "legendgroup": "bearings",
         "line": {
          "color": "#355d7a",
          "width": 1
         },
         "mode": "lines",
         "name": "Bearing 2",
         "showlegend": false,
         "type": "scatter",
         "x": [
          0,
          0,
          0.014285714285714289,
          0.014285714285714289
         ],
         "y": [
          0.10535714285714286,
          0.09464285714285714,
          0.09464285714285714,
          0.10535714285714286
         ]
        },
        {
         "hoverinfo": "none",
         "legendgroup": "bearings",
         "line": {
          "color": "#355d7a",
          "width": 1
         },
         "mode": "lines",
         "name": "Bearing 2",
         "showlegend": false,
         "type": "scatter",
         "x": [
          0,
          0,
          0.014285714285714289,
          0.014285714285714289
         ],
         "y": [
          -0.10535714285714286,
          -0.09464285714285714,
          -0.09464285714285714,
          -0.10535714285714286
         ]
        },
        {
         "hoverinfo": "none",
         "legendgroup": "bearings",
         "line": {
          "color": "#355d7a",
          "width": 1
         },
         "mode": "lines",
         "name": "Bearing 2",
         "showlegend": false,
         "type": "scatter",
         "x": [
          0,
          0.014285714285714289,
          0.0071428571428571435,
          0.0071428571428571435
         ],
         "y": [
          0.10178571428571428,
          0.10178571428571428,
          0.10178571428571428,
          0.1125
         ]
        },
        {
         "hoverinfo": "none",
         "legendgroup": "bearings",
         "line": {
          "color": "#355d7a",
          "width": 1
         },
         "mode": "lines",
         "name": "Bearing 2",
         "showlegend": false,
         "type": "scatter",
         "x": [
          0,
          0.014285714285714289,
          0.0071428571428571435,
          0.0071428571428571435
         ],
         "y": [
          -0.10178571428571428,
          -0.10178571428571428,
          -0.10178571428571428,
          -0.1125
         ]
        },
        {
         "customdata": [
          [
           7,
           30,
           30,
           30
          ],
          [
           7,
           30,
           30,
           30
          ]
         ],
         "hoverinfo": "text",
         "hoverlabel": {
          "bgcolor": "DarkSalmon"
         },
         "hovertemplate": "PointMass Node: 7<br>Mass (X): 30.000<br>Mass (Y): 30.000<br>Mass (Z): 30.000<br>",
         "legendgroup": "pointmass",
         "marker": {
          "color": "DarkSalmon",
          "size": 5
         },
         "mode": "markers",
         "name": "Point Mass 0",
         "showlegend": false,
         "text": "PointMass Node: 7<br>Mass (X): 30.000<br>Mass (Y): 30.000<br>Mass (Z): 30.000<br>",
         "type": "scatter",
         "x": [
          0,
          0
         ],
         "y": [
          0.075,
          -0.075
         ]
        }
       ],
       "layout": {
        "shapes": [
         {
          "fillcolor": "Firebrick",
          "line": {
           "color": "Firebrick"
          },
          "type": "circle",
          "x0": 0.49375,
          "x1": 0.50625,
          "xref": "x",
          "y0": 0.11875,
          "y1": 0.13125,
          "yref": "y"
         },
         {
          "fillcolor": "Firebrick",
          "line": {
           "color": "Firebrick"
          },
          "type": "circle",
          "x0": 0.49375,
          "x1": 0.50625,
          "xref": "x",
          "y0": -0.13125,
          "y1": -0.11875,
          "yref": "y"
         },
         {
          "fillcolor": "Firebrick",
          "line": {
           "color": "Firebrick"
          },
          "type": "circle",
          "x0": 0.99375,
          "x1": 1.00625,
          "xref": "x",
          "y0": 0.11875,
          "y1": 0.13125,
          "yref": "y"
         },
         {
          "fillcolor": "Firebrick",
          "line": {
           "color": "Firebrick"
          },
          "type": "circle",
          "x0": 0.99375,
          "x1": 1.00625,
          "xref": "x",
          "y0": -0.13125,
          "y1": -0.11875,
          "yref": "y"
         },
         {
          "fillcolor": "DarkSalmon",
          "line": {
           "color": "black"
          },
          "type": "circle",
          "x0": -0.0062499999999999995,
          "x1": 0.0062499999999999995,
          "xref": "x",
          "y0": 0.06874999999999999,
          "y1": 0.08125,
          "yref": "y"
         },
         {
          "fillcolor": "DarkSalmon",
          "line": {
           "color": "black"
          },
          "type": "circle",
          "x0": -0.0062499999999999995,
          "x1": 0.0062499999999999995,
          "xref": "x",
          "y0": -0.08125,
          "y1": -0.06874999999999999,
          "yref": "y"
         }
        ],
        "template": {
         "data": {
          "bar": [
           {
            "error_x": {
             "color": "#2a3f5f"
            },
            "error_y": {
             "color": "#2a3f5f"
            },
            "marker": {
             "line": {
              "color": "white",
              "width": 0.5
             }
            },
            "type": "bar"
           }
          ],
          "barpolar": [
           {
            "marker": {
             "line": {
              "color": "white",
              "width": 0.5
             }
            },
            "type": "barpolar"
           }
          ],
          "carpet": [
           {
            "aaxis": {
             "endlinecolor": "#2a3f5f",
             "gridcolor": "#C8D4E3",
             "linecolor": "#C8D4E3",
             "minorgridcolor": "#C8D4E3",
             "startlinecolor": "#2a3f5f"
            },
            "baxis": {
             "endlinecolor": "#2a3f5f",
             "gridcolor": "#C8D4E3",
             "linecolor": "#C8D4E3",
             "minorgridcolor": "#C8D4E3",
             "startlinecolor": "#2a3f5f"
            },
            "type": "carpet"
           }
          ],
          "choropleth": [
           {
            "colorbar": {
             "outlinewidth": 0,
             "ticks": ""
            },
            "type": "choropleth"
           }
          ],
          "contour": [
           {
            "colorbar": {
             "outlinewidth": 0,
             "ticks": ""
            },
            "colorscale": [
             [
              0,
              "#0d0887"
             ],
             [
              0.1111111111111111,
              "#46039f"
             ],
             [
              0.2222222222222222,
              "#7201a8"
             ],
             [
              0.3333333333333333,
              "#9c179e"
             ],
             [
              0.4444444444444444,
              "#bd3786"
             ],
             [
              0.5555555555555556,
              "#d8576b"
             ],
             [
              0.6666666666666666,
              "#ed7953"
             ],
             [
              0.7777777777777778,
              "#fb9f3a"
             ],
             [
              0.8888888888888888,
              "#fdca26"
             ],
             [
              1,
              "#f0f921"
             ]
            ],
            "type": "contour"
           }
          ],
          "contourcarpet": [
           {
            "colorbar": {
             "outlinewidth": 0,
             "ticks": ""
            },
            "type": "contourcarpet"
           }
          ],
          "heatmap": [
           {
            "colorbar": {
             "outlinewidth": 0,
             "ticks": ""
            },
            "colorscale": [
             [
              0,
              "#0d0887"
             ],
             [
              0.1111111111111111,
              "#46039f"
             ],
             [
              0.2222222222222222,
              "#7201a8"
             ],
             [
              0.3333333333333333,
              "#9c179e"
             ],
             [
              0.4444444444444444,
              "#bd3786"
             ],
             [
              0.5555555555555556,
              "#d8576b"
             ],
             [
              0.6666666666666666,
              "#ed7953"
             ],
             [
              0.7777777777777778,
              "#fb9f3a"
             ],
             [
              0.8888888888888888,
              "#fdca26"
             ],
             [
              1,
              "#f0f921"
             ]
            ],
            "type": "heatmap"
           }
          ],
          "heatmapgl": [
           {
            "colorbar": {
             "outlinewidth": 0,
             "ticks": ""
            },
            "colorscale": [
             [
              0,
              "#0d0887"
             ],
             [
              0.1111111111111111,
              "#46039f"
             ],
             [
              0.2222222222222222,
              "#7201a8"
             ],
             [
              0.3333333333333333,
              "#9c179e"
             ],
             [
              0.4444444444444444,
              "#bd3786"
             ],
             [
              0.5555555555555556,
              "#d8576b"
             ],
             [
              0.6666666666666666,
              "#ed7953"
             ],
             [
              0.7777777777777778,
              "#fb9f3a"
             ],
             [
              0.8888888888888888,
              "#fdca26"
             ],
             [
              1,
              "#f0f921"
             ]
            ],
            "type": "heatmapgl"
           }
          ],
          "histogram": [
           {
            "marker": {
             "colorbar": {
              "outlinewidth": 0,
              "ticks": ""
             }
            },
            "type": "histogram"
           }
          ],
          "histogram2d": [
           {
            "colorbar": {
             "outlinewidth": 0,
             "ticks": ""
            },
            "colorscale": [
             [
              0,
              "#0d0887"
             ],
             [
              0.1111111111111111,
              "#46039f"
             ],
             [
              0.2222222222222222,
              "#7201a8"
             ],
             [
              0.3333333333333333,
              "#9c179e"
             ],
             [
              0.4444444444444444,
              "#bd3786"
             ],
             [
              0.5555555555555556,
              "#d8576b"
             ],
             [
              0.6666666666666666,
              "#ed7953"
             ],
             [
              0.7777777777777778,
              "#fb9f3a"
             ],
             [
              0.8888888888888888,
              "#fdca26"
             ],
             [
              1,
              "#f0f921"
             ]
            ],
            "type": "histogram2d"
           }
          ],
          "histogram2dcontour": [
           {
            "colorbar": {
             "outlinewidth": 0,
             "ticks": ""
            },
            "colorscale": [
             [
              0,
              "#0d0887"
             ],
             [
              0.1111111111111111,
              "#46039f"
             ],
             [
              0.2222222222222222,
              "#7201a8"
             ],
             [
              0.3333333333333333,
              "#9c179e"
             ],
             [
              0.4444444444444444,
              "#bd3786"
             ],
             [
              0.5555555555555556,
              "#d8576b"
             ],
             [
              0.6666666666666666,
              "#ed7953"
             ],
             [
              0.7777777777777778,
              "#fb9f3a"
             ],
             [
              0.8888888888888888,
              "#fdca26"
             ],
             [
              1,
              "#f0f921"
             ]
            ],
            "type": "histogram2dcontour"
           }
          ],
          "mesh3d": [
           {
            "colorbar": {
             "outlinewidth": 0,
             "ticks": ""
            },
            "type": "mesh3d"
           }
          ],
          "parcoords": [
           {
            "line": {
             "colorbar": {
              "outlinewidth": 0,
              "ticks": ""
             }
            },
            "type": "parcoords"
           }
          ],
          "pie": [
           {
            "automargin": true,
            "type": "pie"
           }
          ],
          "scatter": [
           {
            "marker": {
             "colorbar": {
              "outlinewidth": 0,
              "ticks": ""
             }
            },
            "type": "scatter"
           }
          ],
          "scatter3d": [
           {
            "line": {
             "colorbar": {
              "outlinewidth": 0,
              "ticks": ""
             }
            },
            "marker": {
             "colorbar": {
              "outlinewidth": 0,
              "ticks": ""
             },
             "size": 4
            },
            "type": "scatter3d"
           }
          ],
          "scattercarpet": [
           {
            "marker": {
             "colorbar": {
              "outlinewidth": 0,
              "ticks": ""
             }
            },
            "type": "scattercarpet"
           }
          ],
          "scattergeo": [
           {
            "marker": {
             "colorbar": {
              "outlinewidth": 0,
              "ticks": ""
             }
            },
            "type": "scattergeo"
           }
          ],
          "scattergl": [
           {
            "marker": {
             "colorbar": {
              "outlinewidth": 0,
              "ticks": ""
             }
            },
            "type": "scattergl"
           }
          ],
          "scattermapbox": [
           {
            "marker": {
             "colorbar": {
              "outlinewidth": 0,
              "ticks": ""
             }
            },
            "type": "scattermapbox"
           }
          ],
          "scatterpolar": [
           {
            "marker": {
             "colorbar": {
              "outlinewidth": 0,
              "ticks": ""
             }
            },
            "type": "scatterpolar"
           }
          ],
          "scatterpolargl": [
           {
            "marker": {
             "colorbar": {
              "outlinewidth": 0,
              "ticks": ""
             }
            },
            "type": "scatterpolargl"
           }
          ],
          "scatterternary": [
           {
            "marker": {
             "colorbar": {
              "outlinewidth": 0,
              "ticks": ""
             }
            },
            "type": "scatterternary"
           }
          ],
          "surface": [
           {
            "colorbar": {
             "outlinewidth": 0,
             "ticks": ""
            },
            "colorscale": [
             [
              0,
              "#0d0887"
             ],
             [
              0.1111111111111111,
              "#46039f"
             ],
             [
              0.2222222222222222,
              "#7201a8"
             ],
             [
              0.3333333333333333,
              "#9c179e"
             ],
             [
              0.4444444444444444,
              "#bd3786"
             ],
             [
              0.5555555555555556,
              "#d8576b"
             ],
             [
              0.6666666666666666,
              "#ed7953"
             ],
             [
              0.7777777777777778,
              "#fb9f3a"
             ],
             [
              0.8888888888888888,
              "#fdca26"
             ],
             [
              1,
              "#f0f921"
             ]
            ],
            "type": "surface"
           }
          ],
          "table": [
           {
            "cells": {
             "fill": {
              "color": "#EBF0F8"
             },
             "line": {
              "color": "white"
             }
            },
            "header": {
             "fill": {
              "color": "#C8D4E3"
             },
             "line": {
              "color": "white"
             }
            },
            "type": "table"
           }
          ]
         },
         "layout": {
          "annotationdefaults": {
           "arrowcolor": "#2a3f5f",
           "arrowhead": 0,
           "arrowwidth": 1
          },
          "coloraxis": {
           "colorbar": {
            "outlinewidth": 0,
            "ticks": ""
           }
          },
          "colorscale": {
           "diverging": [
            [
             0,
             "#8e0152"
            ],
            [
             0.1,
             "#c51b7d"
            ],
            [
             0.2,
             "#de77ae"
            ],
            [
             0.3,
             "#f1b6da"
            ],
            [
             0.4,
             "#fde0ef"
            ],
            [
             0.5,
             "#f7f7f7"
            ],
            [
             0.6,
             "#e6f5d0"
            ],
            [
             0.7,
             "#b8e186"
            ],
            [
             0.8,
             "#7fbc41"
            ],
            [
             0.9,
             "#4d9221"
            ],
            [
             1,
             "#276419"
            ]
           ],
           "sequential": [
            [
             0,
             "#0d0887"
            ],
            [
             0.1111111111111111,
             "#46039f"
            ],
            [
             0.2222222222222222,
             "#7201a8"
            ],
            [
             0.3333333333333333,
             "#9c179e"
            ],
            [
             0.4444444444444444,
             "#bd3786"
            ],
            [
             0.5555555555555556,
             "#d8576b"
            ],
            [
             0.6666666666666666,
             "#ed7953"
            ],
            [
             0.7777777777777778,
             "#fb9f3a"
            ],
            [
             0.8888888888888888,
             "#fdca26"
            ],
            [
             1,
             "#f0f921"
            ]
           ],
           "sequentialminus": [
            [
             0,
             "#0d0887"
            ],
            [
             0.1111111111111111,
             "#46039f"
            ],
            [
             0.2222222222222222,
             "#7201a8"
            ],
            [
             0.3333333333333333,
             "#9c179e"
            ],
            [
             0.4444444444444444,
             "#bd3786"
            ],
            [
             0.5555555555555556,
             "#d8576b"
            ],
            [
             0.6666666666666666,
             "#ed7953"
            ],
            [
             0.7777777777777778,
             "#fb9f3a"
            ],
            [
             0.8888888888888888,
             "#fdca26"
            ],
            [
             1,
             "#f0f921"
            ]
           ]
          },
          "colorway": [
           "#1f77b4",
           "#ff7f0e",
           "#2ca02c",
           "#d62728",
           "#9467bd",
           "#8c564b",
           "#e377c2",
           "#7f7f7f",
           "#bcbd22",
           "#17becf"
          ],
          "font": {
           "color": "#2a3f5f"
          },
          "geo": {
           "bgcolor": "white",
           "lakecolor": "white",
           "landcolor": "white",
           "showlakes": true,
           "showland": true,
           "subunitcolor": "#C8D4E3"
          },
          "hoverlabel": {
           "align": "left"
          },
          "hovermode": "closest",
          "mapbox": {
           "style": "light"
          },
          "paper_bgcolor": "white",
          "plot_bgcolor": "white",
          "polar": {
           "angularaxis": {
            "gridcolor": "#EBF0F8",
            "linecolor": "#EBF0F8",
            "ticks": ""
           },
           "bgcolor": "white",
           "radialaxis": {
            "gridcolor": "#EBF0F8",
            "linecolor": "#EBF0F8",
            "ticks": ""
           }
          },
          "scene": {
           "camera": {
            "center": {
             "x": 0,
             "y": 0,
             "z": 0
            },
            "eye": {
             "x": 2,
             "y": 2,
             "z": 2
            },
            "up": {
             "x": 0,
             "y": 0,
             "z": 1
            }
           },
           "xaxis": {
            "backgroundcolor": "white",
            "gridcolor": "#DFE8F3",
            "gridwidth": 2,
            "linecolor": "#EBF0F8",
            "showbackground": true,
            "showspikes": false,
            "ticks": "",
            "zerolinecolor": "#EBF0F8"
           },
           "yaxis": {
            "backgroundcolor": "white",
            "gridcolor": "#DFE8F3",
            "gridwidth": 2,
            "linecolor": "#EBF0F8",
            "showbackground": true,
            "showspikes": false,
            "ticks": "",
            "zerolinecolor": "#EBF0F8"
           },
           "zaxis": {
            "backgroundcolor": "white",
            "gridcolor": "#DFE8F3",
            "gridwidth": 2,
            "linecolor": "#EBF0F8",
            "showbackground": true,
            "showspikes": false,
            "ticks": "",
            "zerolinecolor": "#EBF0F8"
           }
          },
          "shapedefaults": {
           "line": {
            "color": "#2a3f5f"
           }
          },
          "ternary": {
           "aaxis": {
            "gridcolor": "#DFE8F3",
            "linecolor": "#A2B1C6",
            "ticks": ""
           },
           "baxis": {
            "gridcolor": "#DFE8F3",
            "linecolor": "#A2B1C6",
            "ticks": ""
           },
           "bgcolor": "white",
           "caxis": {
            "gridcolor": "#DFE8F3",
            "linecolor": "#A2B1C6",
            "ticks": ""
           }
          },
          "title": {
           "x": 0.05
          },
          "xaxis": {
           "automargin": true,
           "gridcolor": "#EBF0F8",
           "linecolor": "black",
           "linewidth": 2,
           "mirror": true,
           "showline": true,
           "ticks": "",
           "title": {
            "standoff": 15
           },
           "zeroline": false,
           "zerolinecolor": "#EBF0F8",
           "zerolinewidth": 2
          },
          "yaxis": {
           "automargin": true,
           "gridcolor": "#EBF0F8",
           "linecolor": "black",
           "linewidth": 2,
           "mirror": true,
           "showline": true,
           "ticks": "",
           "title": {
            "standoff": 15
           },
           "zeroline": false,
           "zerolinecolor": "#EBF0F8",
           "zerolinewidth": 2
          }
         }
        },
        "title": {
         "text": "Rotor Model"
        },
        "xaxis": {
         "mirror": true,
         "range": [
          -0.15000000000000002,
          1.65
         ],
         "showgrid": false,
         "title": {
          "text": "Axial location (m)"
         }
        },
        "yaxis": {
         "mirror": true,
         "range": [
          -0.45,
          0.45
         ],
         "showgrid": false,
         "title": {
          "text": "Shaft radius (m)"
         }
        }
       }
      }
     },
     "metadata": {},
     "output_type": "display_data"
    }
   ],
   "source": [
    "n = 6\n",
    "\n",
    "shaft_elem = [\n",
    "    rs.ShaftElement(\n",
    "        L=0.25,\n",
    "        idl=0.0,\n",
    "        odl=0.05,\n",
    "        material=steel,\n",
    "        shear_effects=True,\n",
    "        rotary_inertia=True,\n",
    "        gyroscopic=True,\n",
    "    )\n",
    "    for _ in range(n)\n",
    "]\n",
    "\n",
    "disk0 = rs.DiskElement.from_geometry(\n",
    "    n=2, material=steel, width=0.07, i_d=0.05, o_d=0.28\n",
    ")\n",
    "disk1 = rs.DiskElement.from_geometry(\n",
    "    n=4, material=steel, width=0.07, i_d=0.05, o_d=0.28\n",
    ")\n",
    "disks = [disk0, disk1]\n",
    "\n",
    "stfx = 1e6\n",
    "stfy = 0.8e6\n",
    "bearing0 = rs.BearingElement(0, kxx=stfx, kyy=stfy, cxx=0, n_link=7)\n",
    "bearing1 = rs.BearingElement(6, kxx=stfx, kyy=stfy, cxx=0)\n",
    "bearing2 = rs.BearingElement(7, kxx=stfx, kyy=stfy, cxx=0)\n",
    "\n",
    "bearings = [bearing0, bearing1, bearing2]\n",
    "\n",
    "pm0 = rs.PointMass(n=7, m=30)\n",
    "pointmass = [pm0]\n",
    "\n",
    "rotor1 = rs.Rotor(shaft_elem, disks, bearings, pointmass)\n",
    "\n",
    "print(\"Rotor total mass = \", np.round(rotor1.m, 2))\n",
    "print(\"Rotor center of gravity =\", np.round(rotor1.CG, 2))\n",
    "\n",
    "# plotting the rotor model\n",
    "rotor1.plot_rotor()"
   ]
  },
  {
   "cell_type": "markdown",
   "metadata": {},
   "source": [
    "### 6.2 Creating a rotor from sections\n",
    "\n",
    "An alternative to build rotor models is dividing the rotor in sections. Each section gets the same number of shaft elements.\n",
    "\n",
    "There's an important difference in this class method when placing disks and bearings. The argument `n` will refer, not to the element node, but to the section node. So if your model has 3 sections with 4 elements each, there're 4 section nodes and 13 element nodes.\n",
    "\n",
    "Let's repeat the rotor model from the last example, but using `.from_section()` class method, without the support."
   ]
  },
  {
   "cell_type": "code",
   "execution_count": 38,
   "metadata": {
    "execution": {
     "iopub.execute_input": "2023-05-04T01:05:10.209475Z",
     "iopub.status.busy": "2023-05-04T01:05:10.209355Z",
     "iopub.status.idle": "2023-05-04T01:05:10.299124Z",
     "shell.execute_reply": "2023-05-04T01:05:10.298516Z"
    },
    "scrolled": false
   },
   "outputs": [
    {
     "name": "stdout",
     "output_type": "stream",
     "text": [
      "Rotor total mass =  88.18\n",
      "Rotor center of gravity = 0.75\n"
     ]
    },
    {
     "data": {
      "application/vnd.plotly.v1+json": {
       "config": {
        "plotlyServerURL": "https://plot.ly"
       },
       "data": [
        {
         "hoverinfo": "none",
         "line": {
          "color": "black",
          "dash": "dashdot",
          "width": 3
         },
         "mode": "lines",
         "opacity": 0.7,
         "showlegend": false,
         "type": "scatter",
         "x": [
          -0.30000000000000004,
          1.7999999999999998
         ],
         "y": [
          0,
          0
         ]
        },
        {
         "hoverinfo": "none",
         "marker": {
          "color": "#ffcc99",
          "line": {
           "color": "black",
           "width": 1
          },
          "opacity": 0.7,
          "size": 20
         },
         "mode": "markers+text",
         "showlegend": false,
         "text": [
          "0",
          "1",
          "2",
          "3",
          "4",
          "5",
          "6",
          "7",
          "8",
          "9",
          "10",
          "11",
          "12"
         ],
         "type": "scatter",
         "x": [
          0,
          0.125,
          0.25,
          0.375,
          0.5,
          0.625,
          0.75,
          0.875,
          1,
          1.125,
          1.25,
          1.375,
          1.5
         ],
         "y": [
          0,
          0,
          0,
          0,
          0,
          0,
          0,
          0,
          0,
          0,
          0,
          0,
          0
         ]
        },
        {
         "customdata": [
          [
           0,
           0.05,
           0,
           0.05,
           0,
           0.125,
           "Steel"
          ],
          [
           0,
           0.05,
           0,
           0.05,
           0,
           0.125,
           "Steel"
          ],
          [
           0,
           0.05,
           0,
           0.05,
           0,
           0.125,
           "Steel"
          ],
          [
           0,
           0.05,
           0,
           0.05,
           0,
           0.125,
           "Steel"
          ],
          [
           0,
           0.05,
           0,
           0.05,
           0,
           0.125,
           "Steel"
          ],
          [
           0,
           0.05,
           0,
           0.05,
           0,
           0.125,
           "Steel"
          ],
          [
           0,
           0.05,
           0,
           0.05,
           0,
           0.125,
           "Steel"
          ],
          [
           0,
           0.05,
           0,
           0.05,
           0,
           0.125,
           "Steel"
          ],
          [
           0,
           0.05,
           0,
           0.05,
           0,
           0.125,
           "Steel"
          ],
          [
           0,
           0.05,
           0,
           0.05,
           0,
           0.125,
           "Steel"
          ]
         ],
         "fill": "toself",
         "fillcolor": "#525252",
         "hoverinfo": "text",
         "hoverlabel": {
          "bgcolor": "#525252"
         },
         "hoveron": "points+fills",
         "hovertemplate": "Element Number: 0<br>Left Outer Diameter: 0.05 m<br>Left Inner Diameter: 0.0 m<br>Right Outer Diameter: 0.05 m<br>Right Inner Diameter: 0.0 m<br>Element Length: 0.125 m<br>Material: Steel<br>",
         "legendgroup": "Shaft",
         "line": {
          "color": "black",
          "width": 1.5
         },
         "mode": "lines",
         "name": "ShaftElement 0",
         "opacity": 0.5,
         "showlegend": false,
         "text": "Element Number: 0<br>Left Outer Diameter: 0.05 m<br>Left Inner Diameter: 0.0 m<br>Right Outer Diameter: 0.05 m<br>Right Inner Diameter: 0.0 m<br>Element Length: 0.125 m<br>Material: Steel<br>",
         "type": "scatter",
         "x": [
          0,
          0,
          0.125,
          0.125,
          0,
          0,
          0,
          0.125,
          0.125,
          0
         ],
         "y": [
          0,
          0.025,
          0.025,
          0,
          0,
          0,
          -0.025,
          -0.025,
          0,
          0
         ]
        },
        {
         "customdata": [
          [
           1,
           0.05,
           0,
           0.05,
           0,
           0.125,
           "Steel"
          ],
          [
           1,
           0.05,
           0,
           0.05,
           0,
           0.125,
           "Steel"
          ],
          [
           1,
           0.05,
           0,
           0.05,
           0,
           0.125,
           "Steel"
          ],
          [
           1,
           0.05,
           0,
           0.05,
           0,
           0.125,
           "Steel"
          ],
          [
           1,
           0.05,
           0,
           0.05,
           0,
           0.125,
           "Steel"
          ],
          [
           1,
           0.05,
           0,
           0.05,
           0,
           0.125,
           "Steel"
          ],
          [
           1,
           0.05,
           0,
           0.05,
           0,
           0.125,
           "Steel"
          ],
          [
           1,
           0.05,
           0,
           0.05,
           0,
           0.125,
           "Steel"
          ],
          [
           1,
           0.05,
           0,
           0.05,
           0,
           0.125,
           "Steel"
          ],
          [
           1,
           0.05,
           0,
           0.05,
           0,
           0.125,
           "Steel"
          ]
         ],
         "fill": "toself",
         "fillcolor": "#525252",
         "hoverinfo": "text",
         "hoverlabel": {
          "bgcolor": "#525252"
         },
         "hoveron": "points+fills",
         "hovertemplate": "Element Number: 1<br>Left Outer Diameter: 0.05 m<br>Left Inner Diameter: 0.0 m<br>Right Outer Diameter: 0.05 m<br>Right Inner Diameter: 0.0 m<br>Element Length: 0.125 m<br>Material: Steel<br>",
         "legendgroup": "Shaft",
         "line": {
          "color": "black",
          "width": 1.5
         },
         "mode": "lines",
         "name": "ShaftElement 1",
         "opacity": 0.5,
         "showlegend": false,
         "text": "Element Number: 1<br>Left Outer Diameter: 0.05 m<br>Left Inner Diameter: 0.0 m<br>Right Outer Diameter: 0.05 m<br>Right Inner Diameter: 0.0 m<br>Element Length: 0.125 m<br>Material: Steel<br>",
         "type": "scatter",
         "x": [
          0.125,
          0.125,
          0.25,
          0.25,
          0.125,
          0.125,
          0.125,
          0.25,
          0.25,
          0.125
         ],
         "y": [
          0,
          0.025,
          0.025,
          0,
          0,
          0,
          -0.025,
          -0.025,
          0,
          0
         ]
        },
        {
         "customdata": [
          [
           2,
           0.05,
           0,
           0.05,
           0,
           0.125,
           "Steel"
          ],
          [
           2,
           0.05,
           0,
           0.05,
           0,
           0.125,
           "Steel"
          ],
          [
           2,
           0.05,
           0,
           0.05,
           0,
           0.125,
           "Steel"
          ],
          [
           2,
           0.05,
           0,
           0.05,
           0,
           0.125,
           "Steel"
          ],
          [
           2,
           0.05,
           0,
           0.05,
           0,
           0.125,
           "Steel"
          ],
          [
           2,
           0.05,
           0,
           0.05,
           0,
           0.125,
           "Steel"
          ],
          [
           2,
           0.05,
           0,
           0.05,
           0,
           0.125,
           "Steel"
          ],
          [
           2,
           0.05,
           0,
           0.05,
           0,
           0.125,
           "Steel"
          ],
          [
           2,
           0.05,
           0,
           0.05,
           0,
           0.125,
           "Steel"
          ],
          [
           2,
           0.05,
           0,
           0.05,
           0,
           0.125,
           "Steel"
          ]
         ],
         "fill": "toself",
         "fillcolor": "#525252",
         "hoverinfo": "text",
         "hoverlabel": {
          "bgcolor": "#525252"
         },
         "hoveron": "points+fills",
         "hovertemplate": "Element Number: 2<br>Left Outer Diameter: 0.05 m<br>Left Inner Diameter: 0.0 m<br>Right Outer Diameter: 0.05 m<br>Right Inner Diameter: 0.0 m<br>Element Length: 0.125 m<br>Material: Steel<br>",
         "legendgroup": "Shaft",
         "line": {
          "color": "black",
          "width": 1.5
         },
         "mode": "lines",
         "name": "ShaftElement 2",
         "opacity": 0.5,
         "showlegend": false,
         "text": "Element Number: 2<br>Left Outer Diameter: 0.05 m<br>Left Inner Diameter: 0.0 m<br>Right Outer Diameter: 0.05 m<br>Right Inner Diameter: 0.0 m<br>Element Length: 0.125 m<br>Material: Steel<br>",
         "type": "scatter",
         "x": [
          0.25,
          0.25,
          0.375,
          0.375,
          0.25,
          0.25,
          0.25,
          0.375,
          0.375,
          0.25
         ],
         "y": [
          0,
          0.025,
          0.025,
          0,
          0,
          0,
          -0.025,
          -0.025,
          0,
          0
         ]
        },
        {
         "customdata": [
          [
           3,
           0.05,
           0,
           0.05,
           0,
           0.125,
           "Steel"
          ],
          [
           3,
           0.05,
           0,
           0.05,
           0,
           0.125,
           "Steel"
          ],
          [
           3,
           0.05,
           0,
           0.05,
           0,
           0.125,
           "Steel"
          ],
          [
           3,
           0.05,
           0,
           0.05,
           0,
           0.125,
           "Steel"
          ],
          [
           3,
           0.05,
           0,
           0.05,
           0,
           0.125,
           "Steel"
          ],
          [
           3,
           0.05,
           0,
           0.05,
           0,
           0.125,
           "Steel"
          ],
          [
           3,
           0.05,
           0,
           0.05,
           0,
           0.125,
           "Steel"
          ],
          [
           3,
           0.05,
           0,
           0.05,
           0,
           0.125,
           "Steel"
          ],
          [
           3,
           0.05,
           0,
           0.05,
           0,
           0.125,
           "Steel"
          ],
          [
           3,
           0.05,
           0,
           0.05,
           0,
           0.125,
           "Steel"
          ]
         ],
         "fill": "toself",
         "fillcolor": "#525252",
         "hoverinfo": "text",
         "hoverlabel": {
          "bgcolor": "#525252"
         },
         "hoveron": "points+fills",
         "hovertemplate": "Element Number: 3<br>Left Outer Diameter: 0.05 m<br>Left Inner Diameter: 0.0 m<br>Right Outer Diameter: 0.05 m<br>Right Inner Diameter: 0.0 m<br>Element Length: 0.125 m<br>Material: Steel<br>",
         "legendgroup": "Shaft",
         "line": {
          "color": "black",
          "width": 1.5
         },
         "mode": "lines",
         "name": "ShaftElement 3",
         "opacity": 0.5,
         "showlegend": false,
         "text": "Element Number: 3<br>Left Outer Diameter: 0.05 m<br>Left Inner Diameter: 0.0 m<br>Right Outer Diameter: 0.05 m<br>Right Inner Diameter: 0.0 m<br>Element Length: 0.125 m<br>Material: Steel<br>",
         "type": "scatter",
         "x": [
          0.375,
          0.375,
          0.5,
          0.5,
          0.375,
          0.375,
          0.375,
          0.5,
          0.5,
          0.375
         ],
         "y": [
          0,
          0.025,
          0.025,
          0,
          0,
          0,
          -0.025,
          -0.025,
          0,
          0
         ]
        },
        {
         "customdata": [
          [
           4,
           0.05,
           0,
           0.05,
           0,
           0.125,
           "Steel"
          ],
          [
           4,
           0.05,
           0,
           0.05,
           0,
           0.125,
           "Steel"
          ],
          [
           4,
           0.05,
           0,
           0.05,
           0,
           0.125,
           "Steel"
          ],
          [
           4,
           0.05,
           0,
           0.05,
           0,
           0.125,
           "Steel"
          ],
          [
           4,
           0.05,
           0,
           0.05,
           0,
           0.125,
           "Steel"
          ],
          [
           4,
           0.05,
           0,
           0.05,
           0,
           0.125,
           "Steel"
          ],
          [
           4,
           0.05,
           0,
           0.05,
           0,
           0.125,
           "Steel"
          ],
          [
           4,
           0.05,
           0,
           0.05,
           0,
           0.125,
           "Steel"
          ],
          [
           4,
           0.05,
           0,
           0.05,
           0,
           0.125,
           "Steel"
          ],
          [
           4,
           0.05,
           0,
           0.05,
           0,
           0.125,
           "Steel"
          ]
         ],
         "fill": "toself",
         "fillcolor": "#525252",
         "hoverinfo": "text",
         "hoverlabel": {
          "bgcolor": "#525252"
         },
         "hoveron": "points+fills",
         "hovertemplate": "Element Number: 4<br>Left Outer Diameter: 0.05 m<br>Left Inner Diameter: 0.0 m<br>Right Outer Diameter: 0.05 m<br>Right Inner Diameter: 0.0 m<br>Element Length: 0.125 m<br>Material: Steel<br>",
         "legendgroup": "Shaft",
         "line": {
          "color": "black",
          "width": 1.5
         },
         "mode": "lines",
         "name": "ShaftElement 4",
         "opacity": 0.5,
         "showlegend": false,
         "text": "Element Number: 4<br>Left Outer Diameter: 0.05 m<br>Left Inner Diameter: 0.0 m<br>Right Outer Diameter: 0.05 m<br>Right Inner Diameter: 0.0 m<br>Element Length: 0.125 m<br>Material: Steel<br>",
         "type": "scatter",
         "x": [
          0.5,
          0.5,
          0.625,
          0.625,
          0.5,
          0.5,
          0.5,
          0.625,
          0.625,
          0.5
         ],
         "y": [
          0,
          0.025,
          0.025,
          0,
          0,
          0,
          -0.025,
          -0.025,
          0,
          0
         ]
        },
        {
         "customdata": [
          [
           5,
           0.05,
           0,
           0.05,
           0,
           0.125,
           "Steel"
          ],
          [
           5,
           0.05,
           0,
           0.05,
           0,
           0.125,
           "Steel"
          ],
          [
           5,
           0.05,
           0,
           0.05,
           0,
           0.125,
           "Steel"
          ],
          [
           5,
           0.05,
           0,
           0.05,
           0,
           0.125,
           "Steel"
          ],
          [
           5,
           0.05,
           0,
           0.05,
           0,
           0.125,
           "Steel"
          ],
          [
           5,
           0.05,
           0,
           0.05,
           0,
           0.125,
           "Steel"
          ],
          [
           5,
           0.05,
           0,
           0.05,
           0,
           0.125,
           "Steel"
          ],
          [
           5,
           0.05,
           0,
           0.05,
           0,
           0.125,
           "Steel"
          ],
          [
           5,
           0.05,
           0,
           0.05,
           0,
           0.125,
           "Steel"
          ],
          [
           5,
           0.05,
           0,
           0.05,
           0,
           0.125,
           "Steel"
          ]
         ],
         "fill": "toself",
         "fillcolor": "#525252",
         "hoverinfo": "text",
         "hoverlabel": {
          "bgcolor": "#525252"
         },
         "hoveron": "points+fills",
         "hovertemplate": "Element Number: 5<br>Left Outer Diameter: 0.05 m<br>Left Inner Diameter: 0.0 m<br>Right Outer Diameter: 0.05 m<br>Right Inner Diameter: 0.0 m<br>Element Length: 0.125 m<br>Material: Steel<br>",
         "legendgroup": "Shaft",
         "line": {
          "color": "black",
          "width": 1.5
         },
         "mode": "lines",
         "name": "ShaftElement 5",
         "opacity": 0.5,
         "showlegend": false,
         "text": "Element Number: 5<br>Left Outer Diameter: 0.05 m<br>Left Inner Diameter: 0.0 m<br>Right Outer Diameter: 0.05 m<br>Right Inner Diameter: 0.0 m<br>Element Length: 0.125 m<br>Material: Steel<br>",
         "type": "scatter",
         "x": [
          0.625,
          0.625,
          0.75,
          0.75,
          0.625,
          0.625,
          0.625,
          0.75,
          0.75,
          0.625
         ],
         "y": [
          0,
          0.025,
          0.025,
          0,
          0,
          0,
          -0.025,
          -0.025,
          0,
          0
         ]
        },
        {
         "customdata": [
          [
           6,
           0.05,
           0,
           0.05,
           0,
           0.125,
           "Steel"
          ],
          [
           6,
           0.05,
           0,
           0.05,
           0,
           0.125,
           "Steel"
          ],
          [
           6,
           0.05,
           0,
           0.05,
           0,
           0.125,
           "Steel"
          ],
          [
           6,
           0.05,
           0,
           0.05,
           0,
           0.125,
           "Steel"
          ],
          [
           6,
           0.05,
           0,
           0.05,
           0,
           0.125,
           "Steel"
          ],
          [
           6,
           0.05,
           0,
           0.05,
           0,
           0.125,
           "Steel"
          ],
          [
           6,
           0.05,
           0,
           0.05,
           0,
           0.125,
           "Steel"
          ],
          [
           6,
           0.05,
           0,
           0.05,
           0,
           0.125,
           "Steel"
          ],
          [
           6,
           0.05,
           0,
           0.05,
           0,
           0.125,
           "Steel"
          ],
          [
           6,
           0.05,
           0,
           0.05,
           0,
           0.125,
           "Steel"
          ]
         ],
         "fill": "toself",
         "fillcolor": "#525252",
         "hoverinfo": "text",
         "hoverlabel": {
          "bgcolor": "#525252"
         },
         "hoveron": "points+fills",
         "hovertemplate": "Element Number: 6<br>Left Outer Diameter: 0.05 m<br>Left Inner Diameter: 0.0 m<br>Right Outer Diameter: 0.05 m<br>Right Inner Diameter: 0.0 m<br>Element Length: 0.125 m<br>Material: Steel<br>",
         "legendgroup": "Shaft",
         "line": {
          "color": "black",
          "width": 1.5
         },
         "mode": "lines",
         "name": "ShaftElement 6",
         "opacity": 0.5,
         "showlegend": false,
         "text": "Element Number: 6<br>Left Outer Diameter: 0.05 m<br>Left Inner Diameter: 0.0 m<br>Right Outer Diameter: 0.05 m<br>Right Inner Diameter: 0.0 m<br>Element Length: 0.125 m<br>Material: Steel<br>",
         "type": "scatter",
         "x": [
          0.75,
          0.75,
          0.875,
          0.875,
          0.75,
          0.75,
          0.75,
          0.875,
          0.875,
          0.75
         ],
         "y": [
          0,
          0.025,
          0.025,
          0,
          0,
          0,
          -0.025,
          -0.025,
          0,
          0
         ]
        },
        {
         "customdata": [
          [
           7,
           0.05,
           0,
           0.05,
           0,
           0.125,
           "Steel"
          ],
          [
           7,
           0.05,
           0,
           0.05,
           0,
           0.125,
           "Steel"
          ],
          [
           7,
           0.05,
           0,
           0.05,
           0,
           0.125,
           "Steel"
          ],
          [
           7,
           0.05,
           0,
           0.05,
           0,
           0.125,
           "Steel"
          ],
          [
           7,
           0.05,
           0,
           0.05,
           0,
           0.125,
           "Steel"
          ],
          [
           7,
           0.05,
           0,
           0.05,
           0,
           0.125,
           "Steel"
          ],
          [
           7,
           0.05,
           0,
           0.05,
           0,
           0.125,
           "Steel"
          ],
          [
           7,
           0.05,
           0,
           0.05,
           0,
           0.125,
           "Steel"
          ],
          [
           7,
           0.05,
           0,
           0.05,
           0,
           0.125,
           "Steel"
          ],
          [
           7,
           0.05,
           0,
           0.05,
           0,
           0.125,
           "Steel"
          ]
         ],
         "fill": "toself",
         "fillcolor": "#525252",
         "hoverinfo": "text",
         "hoverlabel": {
          "bgcolor": "#525252"
         },
         "hoveron": "points+fills",
         "hovertemplate": "Element Number: 7<br>Left Outer Diameter: 0.05 m<br>Left Inner Diameter: 0.0 m<br>Right Outer Diameter: 0.05 m<br>Right Inner Diameter: 0.0 m<br>Element Length: 0.125 m<br>Material: Steel<br>",
         "legendgroup": "Shaft",
         "line": {
          "color": "black",
          "width": 1.5
         },
         "mode": "lines",
         "name": "ShaftElement 7",
         "opacity": 0.5,
         "showlegend": false,
         "text": "Element Number: 7<br>Left Outer Diameter: 0.05 m<br>Left Inner Diameter: 0.0 m<br>Right Outer Diameter: 0.05 m<br>Right Inner Diameter: 0.0 m<br>Element Length: 0.125 m<br>Material: Steel<br>",
         "type": "scatter",
         "x": [
          0.875,
          0.875,
          1,
          1,
          0.875,
          0.875,
          0.875,
          1,
          1,
          0.875
         ],
         "y": [
          0,
          0.025,
          0.025,
          0,
          0,
          0,
          -0.025,
          -0.025,
          0,
          0
         ]
        },
        {
         "customdata": [
          [
           8,
           0.05,
           0,
           0.05,
           0,
           0.125,
           "Steel"
          ],
          [
           8,
           0.05,
           0,
           0.05,
           0,
           0.125,
           "Steel"
          ],
          [
           8,
           0.05,
           0,
           0.05,
           0,
           0.125,
           "Steel"
          ],
          [
           8,
           0.05,
           0,
           0.05,
           0,
           0.125,
           "Steel"
          ],
          [
           8,
           0.05,
           0,
           0.05,
           0,
           0.125,
           "Steel"
          ],
          [
           8,
           0.05,
           0,
           0.05,
           0,
           0.125,
           "Steel"
          ],
          [
           8,
           0.05,
           0,
           0.05,
           0,
           0.125,
           "Steel"
          ],
          [
           8,
           0.05,
           0,
           0.05,
           0,
           0.125,
           "Steel"
          ],
          [
           8,
           0.05,
           0,
           0.05,
           0,
           0.125,
           "Steel"
          ],
          [
           8,
           0.05,
           0,
           0.05,
           0,
           0.125,
           "Steel"
          ]
         ],
         "fill": "toself",
         "fillcolor": "#525252",
         "hoverinfo": "text",
         "hoverlabel": {
          "bgcolor": "#525252"
         },
         "hoveron": "points+fills",
         "hovertemplate": "Element Number: 8<br>Left Outer Diameter: 0.05 m<br>Left Inner Diameter: 0.0 m<br>Right Outer Diameter: 0.05 m<br>Right Inner Diameter: 0.0 m<br>Element Length: 0.125 m<br>Material: Steel<br>",
         "legendgroup": "Shaft",
         "line": {
          "color": "black",
          "width": 1.5
         },
         "mode": "lines",
         "name": "ShaftElement 8",
         "opacity": 0.5,
         "showlegend": false,
         "text": "Element Number: 8<br>Left Outer Diameter: 0.05 m<br>Left Inner Diameter: 0.0 m<br>Right Outer Diameter: 0.05 m<br>Right Inner Diameter: 0.0 m<br>Element Length: 0.125 m<br>Material: Steel<br>",
         "type": "scatter",
         "x": [
          1,
          1,
          1.125,
          1.125,
          1,
          1,
          1,
          1.125,
          1.125,
          1
         ],
         "y": [
          0,
          0.025,
          0.025,
          0,
          0,
          0,
          -0.025,
          -0.025,
          0,
          0
         ]
        },
        {
         "customdata": [
          [
           9,
           0.05,
           0,
           0.05,
           0,
           0.125,
           "Steel"
          ],
          [
           9,
           0.05,
           0,
           0.05,
           0,
           0.125,
           "Steel"
          ],
          [
           9,
           0.05,
           0,
           0.05,
           0,
           0.125,
           "Steel"
          ],
          [
           9,
           0.05,
           0,
           0.05,
           0,
           0.125,
           "Steel"
          ],
          [
           9,
           0.05,
           0,
           0.05,
           0,
           0.125,
           "Steel"
          ],
          [
           9,
           0.05,
           0,
           0.05,
           0,
           0.125,
           "Steel"
          ],
          [
           9,
           0.05,
           0,
           0.05,
           0,
           0.125,
           "Steel"
          ],
          [
           9,
           0.05,
           0,
           0.05,
           0,
           0.125,
           "Steel"
          ],
          [
           9,
           0.05,
           0,
           0.05,
           0,
           0.125,
           "Steel"
          ],
          [
           9,
           0.05,
           0,
           0.05,
           0,
           0.125,
           "Steel"
          ]
         ],
         "fill": "toself",
         "fillcolor": "#525252",
         "hoverinfo": "text",
         "hoverlabel": {
          "bgcolor": "#525252"
         },
         "hoveron": "points+fills",
         "hovertemplate": "Element Number: 9<br>Left Outer Diameter: 0.05 m<br>Left Inner Diameter: 0.0 m<br>Right Outer Diameter: 0.05 m<br>Right Inner Diameter: 0.0 m<br>Element Length: 0.125 m<br>Material: Steel<br>",
         "legendgroup": "Shaft",
         "line": {
          "color": "black",
          "width": 1.5
         },
         "mode": "lines",
         "name": "ShaftElement 9",
         "opacity": 0.5,
         "showlegend": false,
         "text": "Element Number: 9<br>Left Outer Diameter: 0.05 m<br>Left Inner Diameter: 0.0 m<br>Right Outer Diameter: 0.05 m<br>Right Inner Diameter: 0.0 m<br>Element Length: 0.125 m<br>Material: Steel<br>",
         "type": "scatter",
         "x": [
          1.125,
          1.125,
          1.25,
          1.25,
          1.125,
          1.125,
          1.125,
          1.25,
          1.25,
          1.125
         ],
         "y": [
          0,
          0.025,
          0.025,
          0,
          0,
          0,
          -0.025,
          -0.025,
          0,
          0
         ]
        },
        {
         "customdata": [
          [
           10,
           0.05,
           0,
           0.05,
           0,
           0.125,
           "Steel"
          ],
          [
           10,
           0.05,
           0,
           0.05,
           0,
           0.125,
           "Steel"
          ],
          [
           10,
           0.05,
           0,
           0.05,
           0,
           0.125,
           "Steel"
          ],
          [
           10,
           0.05,
           0,
           0.05,
           0,
           0.125,
           "Steel"
          ],
          [
           10,
           0.05,
           0,
           0.05,
           0,
           0.125,
           "Steel"
          ],
          [
           10,
           0.05,
           0,
           0.05,
           0,
           0.125,
           "Steel"
          ],
          [
           10,
           0.05,
           0,
           0.05,
           0,
           0.125,
           "Steel"
          ],
          [
           10,
           0.05,
           0,
           0.05,
           0,
           0.125,
           "Steel"
          ],
          [
           10,
           0.05,
           0,
           0.05,
           0,
           0.125,
           "Steel"
          ],
          [
           10,
           0.05,
           0,
           0.05,
           0,
           0.125,
           "Steel"
          ]
         ],
         "fill": "toself",
         "fillcolor": "#525252",
         "hoverinfo": "text",
         "hoverlabel": {
          "bgcolor": "#525252"
         },
         "hoveron": "points+fills",
         "hovertemplate": "Element Number: 10<br>Left Outer Diameter: 0.05 m<br>Left Inner Diameter: 0.0 m<br>Right Outer Diameter: 0.05 m<br>Right Inner Diameter: 0.0 m<br>Element Length: 0.125 m<br>Material: Steel<br>",
         "legendgroup": "Shaft",
         "line": {
          "color": "black",
          "width": 1.5
         },
         "mode": "lines",
         "name": "ShaftElement 10",
         "opacity": 0.5,
         "showlegend": false,
         "text": "Element Number: 10<br>Left Outer Diameter: 0.05 m<br>Left Inner Diameter: 0.0 m<br>Right Outer Diameter: 0.05 m<br>Right Inner Diameter: 0.0 m<br>Element Length: 0.125 m<br>Material: Steel<br>",
         "type": "scatter",
         "x": [
          1.25,
          1.25,
          1.375,
          1.375,
          1.25,
          1.25,
          1.25,
          1.375,
          1.375,
          1.25
         ],
         "y": [
          0,
          0.025,
          0.025,
          0,
          0,
          0,
          -0.025,
          -0.025,
          0,
          0
         ]
        },
        {
         "customdata": [
          [
           11,
           0.05,
           0,
           0.05,
           0,
           0.125,
           "Steel"
          ],
          [
           11,
           0.05,
           0,
           0.05,
           0,
           0.125,
           "Steel"
          ],
          [
           11,
           0.05,
           0,
           0.05,
           0,
           0.125,
           "Steel"
          ],
          [
           11,
           0.05,
           0,
           0.05,
           0,
           0.125,
           "Steel"
          ],
          [
           11,
           0.05,
           0,
           0.05,
           0,
           0.125,
           "Steel"
          ],
          [
           11,
           0.05,
           0,
           0.05,
           0,
           0.125,
           "Steel"
          ],
          [
           11,
           0.05,
           0,
           0.05,
           0,
           0.125,
           "Steel"
          ],
          [
           11,
           0.05,
           0,
           0.05,
           0,
           0.125,
           "Steel"
          ],
          [
           11,
           0.05,
           0,
           0.05,
           0,
           0.125,
           "Steel"
          ],
          [
           11,
           0.05,
           0,
           0.05,
           0,
           0.125,
           "Steel"
          ]
         ],
         "fill": "toself",
         "fillcolor": "#525252",
         "hoverinfo": "text",
         "hoverlabel": {
          "bgcolor": "#525252"
         },
         "hoveron": "points+fills",
         "hovertemplate": "Element Number: 11<br>Left Outer Diameter: 0.05 m<br>Left Inner Diameter: 0.0 m<br>Right Outer Diameter: 0.05 m<br>Right Inner Diameter: 0.0 m<br>Element Length: 0.125 m<br>Material: Steel<br>",
         "legendgroup": "Shaft",
         "line": {
          "color": "black",
          "width": 1.5
         },
         "mode": "lines",
         "name": "ShaftElement 11",
         "opacity": 0.5,
         "showlegend": false,
         "text": "Element Number: 11<br>Left Outer Diameter: 0.05 m<br>Left Inner Diameter: 0.0 m<br>Right Outer Diameter: 0.05 m<br>Right Inner Diameter: 0.0 m<br>Element Length: 0.125 m<br>Material: Steel<br>",
         "type": "scatter",
         "x": [
          1.375,
          1.375,
          1.5,
          1.5,
          1.375,
          1.375,
          1.375,
          1.5,
          1.5,
          1.375
         ],
         "y": [
          0,
          0.025,
          0.025,
          0,
          0,
          0,
          -0.025,
          -0.025,
          0,
          0
         ]
        },
        {
         "customdata": [
          [
           4,
           0.32956362089137037,
           0.17808928257067666,
           32.58972765304033
          ],
          [
           4,
           0.32956362089137037,
           0.17808928257067666,
           32.58972765304033
          ],
          [
           4,
           0.32956362089137037,
           0.17808928257067666,
           32.58972765304033
          ],
          [
           4,
           0.32956362089137037,
           0.17808928257067666,
           32.58972765304033
          ],
          [
           4,
           0.32956362089137037,
           0.17808928257067666,
           32.58972765304033
          ],
          [
           4,
           0.32956362089137037,
           0.17808928257067666,
           32.58972765304033
          ],
          [
           4,
           0.32956362089137037,
           0.17808928257067666,
           32.58972765304033
          ],
          [
           4,
           0.32956362089137037,
           0.17808928257067666,
           32.58972765304033
          ],
          [
           4,
           0.32956362089137037,
           0.17808928257067666,
           32.58972765304033
          ]
         ],
         "fill": "toself",
         "fillcolor": "Firebrick",
         "hoverinfo": "text",
         "hoverlabel": {
          "bgcolor": "Firebrick"
         },
         "hoveron": "points+fills",
         "hovertemplate": "Disk Node: 4<br>Polar Inertia: 3.296e-01<br>Diametral Inertia: 1.781e-01<br>Disk mass: 32.590<br>",
         "legendgroup": "disks",
         "line": {
          "color": "Firebrick",
          "width": 2
         },
         "mode": "lines",
         "name": "Disk 0",
         "opacity": 0.8,
         "showlegend": false,
         "text": "Disk Node: 4<br>Polar Inertia: 3.296e-01<br>Diametral Inertia: 1.781e-01<br>Disk mass: 32.590<br>",
         "type": "scatter",
         "x": [
          0.5,
          0.502,
          0.498,
          0.5,
          null,
          0.5,
          0.502,
          0.498,
          0.5
         ],
         "y": [
          0.025,
          0.12500000000000003,
          0.12500000000000003,
          0.025,
          null,
          -0.025,
          -0.12500000000000003,
          -0.12500000000000003,
          -0.025
         ]
        },
        {
         "customdata": [
          [
           8,
           0.32956362089137037,
           0.17808928257067666,
           32.58972765304033
          ],
          [
           8,
           0.32956362089137037,
           0.17808928257067666,
           32.58972765304033
          ],
          [
           8,
           0.32956362089137037,
           0.17808928257067666,
           32.58972765304033
          ],
          [
           8,
           0.32956362089137037,
           0.17808928257067666,
           32.58972765304033
          ],
          [
           8,
           0.32956362089137037,
           0.17808928257067666,
           32.58972765304033
          ],
          [
           8,
           0.32956362089137037,
           0.17808928257067666,
           32.58972765304033
          ],
          [
           8,
           0.32956362089137037,
           0.17808928257067666,
           32.58972765304033
          ],
          [
           8,
           0.32956362089137037,
           0.17808928257067666,
           32.58972765304033
          ],
          [
           8,
           0.32956362089137037,
           0.17808928257067666,
           32.58972765304033
          ]
         ],
         "fill": "toself",
         "fillcolor": "Firebrick",
         "hoverinfo": "text",
         "hoverlabel": {
          "bgcolor": "Firebrick"
         },
         "hoveron": "points+fills",
         "hovertemplate": "Disk Node: 8<br>Polar Inertia: 3.296e-01<br>Diametral Inertia: 1.781e-01<br>Disk mass: 32.590<br>",
         "legendgroup": "disks",
         "line": {
          "color": "Firebrick",
          "width": 2
         },
         "mode": "lines",
         "name": "Disk 1",
         "opacity": 0.8,
         "showlegend": false,
         "text": "Disk Node: 8<br>Polar Inertia: 3.296e-01<br>Diametral Inertia: 1.781e-01<br>Disk mass: 32.590<br>",
         "type": "scatter",
         "x": [
          1,
          1.002,
          0.998,
          1,
          null,
          1,
          1.002,
          0.998,
          1
         ],
         "y": [
          0.025,
          0.12500000000000003,
          0.12500000000000003,
          0.025,
          null,
          -0.025,
          -0.12500000000000003,
          -0.12500000000000003,
          -0.025
         ]
        },
        {
         "hoverinfo": "none",
         "legendgroup": "bearings",
         "line": {
          "color": "#355d7a",
          "width": 1
         },
         "mode": "lines",
         "name": "Bearing 0",
         "showlegend": false,
         "type": "scatter",
         "x": [
          0,
          0,
          -0.007142857142857144,
          0.007142857142857144
         ],
         "y": [
          0.025,
          0.037500000000000006,
          0.037500000000000006,
          0.037500000000000006
         ]
        },
        {
         "hoverinfo": "none",
         "legendgroup": "bearings",
         "line": {
          "color": "#355d7a",
          "width": 1
         },
         "mode": "lines",
         "name": "Bearing 0",
         "showlegend": false,
         "type": "scatter",
         "x": [
          0,
          0,
          -0.007142857142857144,
          0.007142857142857144
         ],
         "y": [
          -0.025,
          -0.037500000000000006,
          -0.037500000000000006,
          -0.037500000000000006
         ]
        },
        {
         "hoverinfo": "none",
         "legendgroup": "bearings",
         "line": {
          "color": "#355d7a",
          "width": 1
         },
         "mode": "lines",
         "name": "Bearing 0",
         "showlegend": false,
         "type": "scatter",
         "x": [
          0,
          0,
          -0.007142857142857144,
          0.007142857142857144
         ],
         "y": [
          0.07500000000000001,
          0.0625,
          0.0625,
          0.0625
         ]
        },
        {
         "hoverinfo": "none",
         "legendgroup": "bearings",
         "line": {
          "color": "#355d7a",
          "width": 1
         },
         "mode": "lines",
         "name": "Bearing 0",
         "showlegend": false,
         "type": "scatter",
         "x": [
          0,
          0,
          -0.007142857142857144,
          0.007142857142857144
         ],
         "y": [
          -0.07500000000000001,
          -0.0625,
          -0.0625,
          -0.0625
         ]
        },
        {
         "hoverinfo": "none",
         "legendgroup": "bearings",
         "line": {
          "color": "#355d7a",
          "width": 1
         },
         "mode": "lines",
         "name": "Bearing 0",
         "showlegend": false,
         "type": "scatter",
         "x": [
          -0.010714285714285716,
          0.010714285714285716
         ],
         "y": [
          0.07500000000000001,
          0.07500000000000001
         ]
        },
        {
         "hoverinfo": "none",
         "legendgroup": "bearings",
         "line": {
          "color": "#355d7a",
          "width": 1
         },
         "mode": "lines",
         "name": "Bearing 0",
         "showlegend": false,
         "type": "scatter",
         "x": [
          -0.010714285714285716,
          0.010714285714285716
         ],
         "y": [
          -0.07500000000000001,
          -0.07500000000000001
         ]
        },
        {
         "hoverinfo": "none",
         "legendgroup": "bearings",
         "line": {
          "color": "#355d7a",
          "width": 1
         },
         "mode": "lines",
         "name": "Bearing 0",
         "showlegend": false,
         "type": "scatter",
         "x": [
          -0.010714285714285716,
          -0.006428571428571429
         ],
         "y": [
          0.07500000000000001,
          0.08250000000000002
         ]
        },
        {
         "hoverinfo": "none",
         "legendgroup": "bearings",
         "line": {
          "color": "#355d7a",
          "width": 1
         },
         "mode": "lines",
         "name": "Bearing 0",
         "showlegend": false,
         "type": "scatter",
         "x": [
          -0.010714285714285716,
          -0.006428571428571429
         ],
         "y": [
          -0.07500000000000001,
          -0.08250000000000002
         ]
        },
        {
         "hoverinfo": "none",
         "legendgroup": "bearings",
         "line": {
          "color": "#355d7a",
          "width": 1
         },
         "mode": "lines",
         "name": "Bearing 0",
         "showlegend": false,
         "type": "scatter",
         "x": [
          -0.006428571428571429,
          -0.0021428571428571425
         ],
         "y": [
          0.07500000000000001,
          0.08250000000000002
         ]
        },
        {
         "hoverinfo": "none",
         "legendgroup": "bearings",
         "line": {
          "color": "#355d7a",
          "width": 1
         },
         "mode": "lines",
         "name": "Bearing 0",
         "showlegend": false,
         "type": "scatter",
         "x": [
          -0.006428571428571429,
          -0.0021428571428571425
         ],
         "y": [
          -0.07500000000000001,
          -0.08250000000000002
         ]
        },
        {
         "hoverinfo": "none",
         "legendgroup": "bearings",
         "line": {
          "color": "#355d7a",
          "width": 1
         },
         "mode": "lines",
         "name": "Bearing 0",
         "showlegend": false,
         "type": "scatter",
         "x": [
          -0.0021428571428571425,
          0.0021428571428571443
         ],
         "y": [
          0.07500000000000001,
          0.08250000000000002
         ]
        },
        {
         "hoverinfo": "none",
         "legendgroup": "bearings",
         "line": {
          "color": "#355d7a",
          "width": 1
         },
         "mode": "lines",
         "name": "Bearing 0",
         "showlegend": false,
         "type": "scatter",
         "x": [
          -0.0021428571428571425,
          0.0021428571428571443
         ],
         "y": [
          -0.07500000000000001,
          -0.08250000000000002
         ]
        },
        {
         "hoverinfo": "none",
         "legendgroup": "bearings",
         "line": {
          "color": "#355d7a",
          "width": 1
         },
         "mode": "lines",
         "name": "Bearing 0",
         "showlegend": false,
         "type": "scatter",
         "x": [
          0.0021428571428571443,
          0.006428571428571431
         ],
         "y": [
          0.07500000000000001,
          0.08250000000000002
         ]
        },
        {
         "hoverinfo": "none",
         "legendgroup": "bearings",
         "line": {
          "color": "#355d7a",
          "width": 1
         },
         "mode": "lines",
         "name": "Bearing 0",
         "showlegend": false,
         "type": "scatter",
         "x": [
          0.0021428571428571443,
          0.006428571428571431
         ],
         "y": [
          -0.07500000000000001,
          -0.08250000000000002
         ]
        },
        {
         "hoverinfo": "none",
         "legendgroup": "bearings",
         "line": {
          "color": "#355d7a",
          "width": 1
         },
         "mode": "lines",
         "name": "Bearing 0",
         "showlegend": false,
         "type": "scatter",
         "x": [
          0.006428571428571431,
          0.01071428571428572
         ],
         "y": [
          0.07500000000000001,
          0.08250000000000002
         ]
        },
        {
         "hoverinfo": "none",
         "legendgroup": "bearings",
         "line": {
          "color": "#355d7a",
          "width": 1
         },
         "mode": "lines",
         "name": "Bearing 0",
         "showlegend": false,
         "type": "scatter",
         "x": [
          0.006428571428571431,
          0.01071428571428572
         ],
         "y": [
          -0.07500000000000001,
          -0.08250000000000002
         ]
        },
        {
         "hoverinfo": "none",
         "legendgroup": "bearings",
         "line": {
          "color": "#355d7a",
          "width": 1
         },
         "mode": "lines",
         "name": "Bearing 0",
         "showlegend": false,
         "type": "scatter",
         "x": [
          0.01071428571428572,
          0.015000000000000005
         ],
         "y": [
          0.07500000000000001,
          0.08250000000000002
         ]
        },
        {
         "hoverinfo": "none",
         "legendgroup": "bearings",
         "line": {
          "color": "#355d7a",
          "width": 1
         },
         "mode": "lines",
         "name": "Bearing 0",
         "showlegend": false,
         "type": "scatter",
         "x": [
          0.01071428571428572,
          0.015000000000000005
         ],
         "y": [
          -0.07500000000000001,
          -0.08250000000000002
         ]
        },
        {
         "hoverinfo": "none",
         "legendgroup": "bearings",
         "line": {
          "color": "#355d7a",
          "width": 1
         },
         "mode": "lines",
         "name": "Bearing 0",
         "showlegend": false,
         "type": "scatter",
         "x": [
          -0.007142857142857144,
          -0.007142857142857144,
          -0.010714285714285716,
          -0.003571428571428572,
          -0.010714285714285716,
          -0.003571428571428572,
          -0.010714285714285716,
          -0.003571428571428572,
          -0.007142857142857144,
          -0.007142857142857144
         ],
         "y": [
          0.037500000000000006,
          0.04107142857142858,
          0.04107142857142858,
          0.04464285714285715,
          0.04821428571428572,
          0.051785714285714296,
          0.05535714285714287,
          0.05892857142857144,
          0.05892857142857144,
          0.06250000000000001
         ]
        },
        {
         "hoverinfo": "none",
         "legendgroup": "bearings",
         "line": {
          "color": "#355d7a",
          "width": 1
         },
         "mode": "lines",
         "name": "Bearing 0",
         "showlegend": false,
         "type": "scatter",
         "x": [
          -0.007142857142857144,
          -0.007142857142857144,
          -0.010714285714285716,
          -0.003571428571428572,
          -0.010714285714285716,
          -0.003571428571428572,
          -0.010714285714285716,
          -0.003571428571428572,
          -0.007142857142857144,
          -0.007142857142857144
         ],
         "y": [
          -0.037500000000000006,
          -0.04107142857142858,
          -0.04107142857142858,
          -0.04464285714285715,
          -0.04821428571428572,
          -0.051785714285714296,
          -0.05535714285714287,
          -0.05892857142857144,
          -0.05892857142857144,
          -0.06250000000000001
         ]
        },
        {
         "hoverinfo": "none",
         "legendgroup": "bearings",
         "line": {
          "color": "#355d7a",
          "width": 1
         },
         "mode": "lines",
         "name": "Bearing 0",
         "showlegend": false,
         "type": "scatter",
         "x": [
          0.007142857142857144,
          0.007142857142857144
         ],
         "y": [
          0.037500000000000006,
          0.04464285714285715
         ]
        },
        {
         "hoverinfo": "none",
         "legendgroup": "bearings",
         "line": {
          "color": "#355d7a",
          "width": 1
         },
         "mode": "lines",
         "name": "Bearing 0",
         "showlegend": false,
         "type": "scatter",
         "x": [
          0.007142857142857144,
          0.007142857142857144
         ],
         "y": [
          -0.037500000000000006,
          -0.04464285714285715
         ]
        },
        {
         "hoverinfo": "none",
         "legendgroup": "bearings",
         "line": {
          "color": "#355d7a",
          "width": 1
         },
         "mode": "lines",
         "name": "Bearing 0",
         "showlegend": false,
         "type": "scatter",
         "x": [
          0,
          0,
          0.014285714285714289,
          0.014285714285714289
         ],
         "y": [
          0.05535714285714287,
          0.04464285714285715,
          0.04464285714285715,
          0.05535714285714287
         ]
        },
        {
         "hoverinfo": "none",
         "legendgroup": "bearings",
         "line": {
          "color": "#355d7a",
          "width": 1
         },
         "mode": "lines",
         "name": "Bearing 0",
         "showlegend": false,
         "type": "scatter",
         "x": [
          0,
          0,
          0.014285714285714289,
          0.014285714285714289
         ],
         "y": [
          -0.05535714285714287,
          -0.04464285714285715,
          -0.04464285714285715,
          -0.05535714285714287
         ]
        },
        {
         "hoverinfo": "none",
         "legendgroup": "bearings",
         "line": {
          "color": "#355d7a",
          "width": 1
         },
         "mode": "lines",
         "name": "Bearing 0",
         "showlegend": false,
         "type": "scatter",
         "x": [
          0,
          0.014285714285714289,
          0.007142857142857144,
          0.007142857142857144
         ],
         "y": [
          0.051785714285714296,
          0.051785714285714296,
          0.051785714285714296,
          0.0625
         ]
        },
        {
         "hoverinfo": "none",
         "legendgroup": "bearings",
         "line": {
          "color": "#355d7a",
          "width": 1
         },
         "mode": "lines",
         "name": "Bearing 0",
         "showlegend": false,
         "type": "scatter",
         "x": [
          0,
          0.014285714285714289,
          0.007142857142857144,
          0.007142857142857144
         ],
         "y": [
          -0.051785714285714296,
          -0.051785714285714296,
          -0.051785714285714296,
          -0.0625
         ]
        },
        {
         "hoverinfo": "none",
         "legendgroup": "bearings",
         "line": {
          "color": "#355d7a",
          "width": 1
         },
         "mode": "lines",
         "name": "Bearing 1",
         "showlegend": false,
         "type": "scatter",
         "x": [
          1.5,
          1.5,
          1.4928571428571429,
          1.5071428571428571
         ],
         "y": [
          0.025,
          0.037500000000000006,
          0.037500000000000006,
          0.037500000000000006
         ]
        },
        {
         "hoverinfo": "none",
         "legendgroup": "bearings",
         "line": {
          "color": "#355d7a",
          "width": 1
         },
         "mode": "lines",
         "name": "Bearing 1",
         "showlegend": false,
         "type": "scatter",
         "x": [
          1.5,
          1.5,
          1.4928571428571429,
          1.5071428571428571
         ],
         "y": [
          -0.025,
          -0.037500000000000006,
          -0.037500000000000006,
          -0.037500000000000006
         ]
        },
        {
         "hoverinfo": "none",
         "legendgroup": "bearings",
         "line": {
          "color": "#355d7a",
          "width": 1
         },
         "mode": "lines",
         "name": "Bearing 1",
         "showlegend": false,
         "type": "scatter",
         "x": [
          1.5,
          1.5,
          1.4928571428571429,
          1.5071428571428571
         ],
         "y": [
          0.07500000000000001,
          0.0625,
          0.0625,
          0.0625
         ]
        },
        {
         "hoverinfo": "none",
         "legendgroup": "bearings",
         "line": {
          "color": "#355d7a",
          "width": 1
         },
         "mode": "lines",
         "name": "Bearing 1",
         "showlegend": false,
         "type": "scatter",
         "x": [
          1.5,
          1.5,
          1.4928571428571429,
          1.5071428571428571
         ],
         "y": [
          -0.07500000000000001,
          -0.0625,
          -0.0625,
          -0.0625
         ]
        },
        {
         "hoverinfo": "none",
         "legendgroup": "bearings",
         "line": {
          "color": "#355d7a",
          "width": 1
         },
         "mode": "lines",
         "name": "Bearing 1",
         "showlegend": false,
         "type": "scatter",
         "x": [
          1.4892857142857143,
          1.5107142857142857
         ],
         "y": [
          0.07500000000000001,
          0.07500000000000001
         ]
        },
        {
         "hoverinfo": "none",
         "legendgroup": "bearings",
         "line": {
          "color": "#355d7a",
          "width": 1
         },
         "mode": "lines",
         "name": "Bearing 1",
         "showlegend": false,
         "type": "scatter",
         "x": [
          1.4892857142857143,
          1.5107142857142857
         ],
         "y": [
          -0.07500000000000001,
          -0.07500000000000001
         ]
        },
        {
         "hoverinfo": "none",
         "legendgroup": "bearings",
         "line": {
          "color": "#355d7a",
          "width": 1
         },
         "mode": "lines",
         "name": "Bearing 1",
         "showlegend": false,
         "type": "scatter",
         "x": [
          1.4892857142857143,
          1.4935714285714283
         ],
         "y": [
          0.07500000000000001,
          0.08250000000000002
         ]
        },
        {
         "hoverinfo": "none",
         "legendgroup": "bearings",
         "line": {
          "color": "#355d7a",
          "width": 1
         },
         "mode": "lines",
         "name": "Bearing 1",
         "showlegend": false,
         "type": "scatter",
         "x": [
          1.4892857142857143,
          1.4935714285714283
         ],
         "y": [
          -0.07500000000000001,
          -0.08250000000000002
         ]
        },
        {
         "hoverinfo": "none",
         "legendgroup": "bearings",
         "line": {
          "color": "#355d7a",
          "width": 1
         },
         "mode": "lines",
         "name": "Bearing 1",
         "showlegend": false,
         "type": "scatter",
         "x": [
          1.4935714285714283,
          1.4978571428571428
         ],
         "y": [
          0.07500000000000001,
          0.08250000000000002
         ]
        },
        {
         "hoverinfo": "none",
         "legendgroup": "bearings",
         "line": {
          "color": "#355d7a",
          "width": 1
         },
         "mode": "lines",
         "name": "Bearing 1",
         "showlegend": false,
         "type": "scatter",
         "x": [
          1.4935714285714283,
          1.4978571428571428
         ],
         "y": [
          -0.07500000000000001,
          -0.08250000000000002
         ]
        },
        {
         "hoverinfo": "none",
         "legendgroup": "bearings",
         "line": {
          "color": "#355d7a",
          "width": 1
         },
         "mode": "lines",
         "name": "Bearing 1",
         "showlegend": false,
         "type": "scatter",
         "x": [
          1.4978571428571428,
          1.5021428571428572
         ],
         "y": [
          0.07500000000000001,
          0.08250000000000002
         ]
        },
        {
         "hoverinfo": "none",
         "legendgroup": "bearings",
         "line": {
          "color": "#355d7a",
          "width": 1
         },
         "mode": "lines",
         "name": "Bearing 1",
         "showlegend": false,
         "type": "scatter",
         "x": [
          1.4978571428571428,
          1.5021428571428572
         ],
         "y": [
          -0.07500000000000001,
          -0.08250000000000002
         ]
        },
        {
         "hoverinfo": "none",
         "legendgroup": "bearings",
         "line": {
          "color": "#355d7a",
          "width": 1
         },
         "mode": "lines",
         "name": "Bearing 1",
         "showlegend": false,
         "type": "scatter",
         "x": [
          1.5021428571428572,
          1.5064285714285717
         ],
         "y": [
          0.07500000000000001,
          0.08250000000000002
         ]
        },
        {
         "hoverinfo": "none",
         "legendgroup": "bearings",
         "line": {
          "color": "#355d7a",
          "width": 1
         },
         "mode": "lines",
         "name": "Bearing 1",
         "showlegend": false,
         "type": "scatter",
         "x": [
          1.5021428571428572,
          1.5064285714285717
         ],
         "y": [
          -0.07500000000000001,
          -0.08250000000000002
         ]
        },
        {
         "hoverinfo": "none",
         "legendgroup": "bearings",
         "line": {
          "color": "#355d7a",
          "width": 1
         },
         "mode": "lines",
         "name": "Bearing 1",
         "showlegend": false,
         "type": "scatter",
         "x": [
          1.5064285714285717,
          1.5107142857142857
         ],
         "y": [
          0.07500000000000001,
          0.08250000000000002
         ]
        },
        {
         "hoverinfo": "none",
         "legendgroup": "bearings",
         "line": {
          "color": "#355d7a",
          "width": 1
         },
         "mode": "lines",
         "name": "Bearing 1",
         "showlegend": false,
         "type": "scatter",
         "x": [
          1.5064285714285717,
          1.5107142857142857
         ],
         "y": [
          -0.07500000000000001,
          -0.08250000000000002
         ]
        },
        {
         "hoverinfo": "none",
         "legendgroup": "bearings",
         "line": {
          "color": "#355d7a",
          "width": 1
         },
         "mode": "lines",
         "name": "Bearing 1",
         "showlegend": false,
         "type": "scatter",
         "x": [
          1.5107142857142857,
          1.515
         ],
         "y": [
          0.07500000000000001,
          0.08250000000000002
         ]
        },
        {
         "hoverinfo": "none",
         "legendgroup": "bearings",
         "line": {
          "color": "#355d7a",
          "width": 1
         },
         "mode": "lines",
         "name": "Bearing 1",
         "showlegend": false,
         "type": "scatter",
         "x": [
          1.5107142857142857,
          1.515
         ],
         "y": [
          -0.07500000000000001,
          -0.08250000000000002
         ]
        },
        {
         "hoverinfo": "none",
         "legendgroup": "bearings",
         "line": {
          "color": "#355d7a",
          "width": 1
         },
         "mode": "lines",
         "name": "Bearing 1",
         "showlegend": false,
         "type": "scatter",
         "x": [
          1.4928571428571429,
          1.4928571428571429,
          1.4892857142857143,
          1.4964285714285714,
          1.4892857142857143,
          1.4964285714285714,
          1.4892857142857143,
          1.4964285714285714,
          1.4928571428571429,
          1.4928571428571429
         ],
         "y": [
          0.037500000000000006,
          0.04107142857142858,
          0.04107142857142858,
          0.04464285714285715,
          0.04821428571428572,
          0.051785714285714296,
          0.05535714285714287,
          0.05892857142857144,
          0.05892857142857144,
          0.06250000000000001
         ]
        },
        {
         "hoverinfo": "none",
         "legendgroup": "bearings",
         "line": {
          "color": "#355d7a",
          "width": 1
         },
         "mode": "lines",
         "name": "Bearing 1",
         "showlegend": false,
         "type": "scatter",
         "x": [
          1.4928571428571429,
          1.4928571428571429,
          1.4892857142857143,
          1.4964285714285714,
          1.4892857142857143,
          1.4964285714285714,
          1.4892857142857143,
          1.4964285714285714,
          1.4928571428571429,
          1.4928571428571429
         ],
         "y": [
          -0.037500000000000006,
          -0.04107142857142858,
          -0.04107142857142858,
          -0.04464285714285715,
          -0.04821428571428572,
          -0.051785714285714296,
          -0.05535714285714287,
          -0.05892857142857144,
          -0.05892857142857144,
          -0.06250000000000001
         ]
        },
        {
         "hoverinfo": "none",
         "legendgroup": "bearings",
         "line": {
          "color": "#355d7a",
          "width": 1
         },
         "mode": "lines",
         "name": "Bearing 1",
         "showlegend": false,
         "type": "scatter",
         "x": [
          1.5071428571428571,
          1.5071428571428571
         ],
         "y": [
          0.037500000000000006,
          0.04464285714285715
         ]
        },
        {
         "hoverinfo": "none",
         "legendgroup": "bearings",
         "line": {
          "color": "#355d7a",
          "width": 1
         },
         "mode": "lines",
         "name": "Bearing 1",
         "showlegend": false,
         "type": "scatter",
         "x": [
          1.5071428571428571,
          1.5071428571428571
         ],
         "y": [
          -0.037500000000000006,
          -0.04464285714285715
         ]
        },
        {
         "hoverinfo": "none",
         "legendgroup": "bearings",
         "line": {
          "color": "#355d7a",
          "width": 1
         },
         "mode": "lines",
         "name": "Bearing 1",
         "showlegend": false,
         "type": "scatter",
         "x": [
          1.5,
          1.5,
          1.5142857142857142,
          1.5142857142857142
         ],
         "y": [
          0.05535714285714287,
          0.04464285714285715,
          0.04464285714285715,
          0.05535714285714287
         ]
        },
        {
         "hoverinfo": "none",
         "legendgroup": "bearings",
         "line": {
          "color": "#355d7a",
          "width": 1
         },
         "mode": "lines",
         "name": "Bearing 1",
         "showlegend": false,
         "type": "scatter",
         "x": [
          1.5,
          1.5,
          1.5142857142857142,
          1.5142857142857142
         ],
         "y": [
          -0.05535714285714287,
          -0.04464285714285715,
          -0.04464285714285715,
          -0.05535714285714287
         ]
        },
        {
         "hoverinfo": "none",
         "legendgroup": "bearings",
         "line": {
          "color": "#355d7a",
          "width": 1
         },
         "mode": "lines",
         "name": "Bearing 1",
         "showlegend": false,
         "type": "scatter",
         "x": [
          1.5,
          1.5142857142857142,
          1.5071428571428571,
          1.5071428571428571
         ],
         "y": [
          0.051785714285714296,
          0.051785714285714296,
          0.051785714285714296,
          0.0625
         ]
        },
        {
         "hoverinfo": "none",
         "legendgroup": "bearings",
         "line": {
          "color": "#355d7a",
          "width": 1
         },
         "mode": "lines",
         "name": "Bearing 1",
         "showlegend": false,
         "type": "scatter",
         "x": [
          1.5,
          1.5142857142857142,
          1.5071428571428571,
          1.5071428571428571
         ],
         "y": [
          -0.051785714285714296,
          -0.051785714285714296,
          -0.051785714285714296,
          -0.0625
         ]
        }
       ],
       "layout": {
        "shapes": [
         {
          "fillcolor": "Firebrick",
          "line": {
           "color": "Firebrick"
          },
          "type": "circle",
          "x0": 0.49375,
          "x1": 0.50625,
          "xref": "x",
          "y0": 0.11875000000000002,
          "y1": 0.13125000000000003,
          "yref": "y"
         },
         {
          "fillcolor": "Firebrick",
          "line": {
           "color": "Firebrick"
          },
          "type": "circle",
          "x0": 0.49375,
          "x1": 0.50625,
          "xref": "x",
          "y0": -0.13125000000000003,
          "y1": -0.11875000000000002,
          "yref": "y"
         },
         {
          "fillcolor": "Firebrick",
          "line": {
           "color": "Firebrick"
          },
          "type": "circle",
          "x0": 0.99375,
          "x1": 1.00625,
          "xref": "x",
          "y0": 0.11875000000000002,
          "y1": 0.13125000000000003,
          "yref": "y"
         },
         {
          "fillcolor": "Firebrick",
          "line": {
           "color": "Firebrick"
          },
          "type": "circle",
          "x0": 0.99375,
          "x1": 1.00625,
          "xref": "x",
          "y0": -0.13125000000000003,
          "y1": -0.11875000000000002,
          "yref": "y"
         }
        ],
        "template": {
         "data": {
          "bar": [
           {
            "error_x": {
             "color": "#2a3f5f"
            },
            "error_y": {
             "color": "#2a3f5f"
            },
            "marker": {
             "line": {
              "color": "white",
              "width": 0.5
             }
            },
            "type": "bar"
           }
          ],
          "barpolar": [
           {
            "marker": {
             "line": {
              "color": "white",
              "width": 0.5
             }
            },
            "type": "barpolar"
           }
          ],
          "carpet": [
           {
            "aaxis": {
             "endlinecolor": "#2a3f5f",
             "gridcolor": "#C8D4E3",
             "linecolor": "#C8D4E3",
             "minorgridcolor": "#C8D4E3",
             "startlinecolor": "#2a3f5f"
            },
            "baxis": {
             "endlinecolor": "#2a3f5f",
             "gridcolor": "#C8D4E3",
             "linecolor": "#C8D4E3",
             "minorgridcolor": "#C8D4E3",
             "startlinecolor": "#2a3f5f"
            },
            "type": "carpet"
           }
          ],
          "choropleth": [
           {
            "colorbar": {
             "outlinewidth": 0,
             "ticks": ""
            },
            "type": "choropleth"
           }
          ],
          "contour": [
           {
            "colorbar": {
             "outlinewidth": 0,
             "ticks": ""
            },
            "colorscale": [
             [
              0,
              "#0d0887"
             ],
             [
              0.1111111111111111,
              "#46039f"
             ],
             [
              0.2222222222222222,
              "#7201a8"
             ],
             [
              0.3333333333333333,
              "#9c179e"
             ],
             [
              0.4444444444444444,
              "#bd3786"
             ],
             [
              0.5555555555555556,
              "#d8576b"
             ],
             [
              0.6666666666666666,
              "#ed7953"
             ],
             [
              0.7777777777777778,
              "#fb9f3a"
             ],
             [
              0.8888888888888888,
              "#fdca26"
             ],
             [
              1,
              "#f0f921"
             ]
            ],
            "type": "contour"
           }
          ],
          "contourcarpet": [
           {
            "colorbar": {
             "outlinewidth": 0,
             "ticks": ""
            },
            "type": "contourcarpet"
           }
          ],
          "heatmap": [
           {
            "colorbar": {
             "outlinewidth": 0,
             "ticks": ""
            },
            "colorscale": [
             [
              0,
              "#0d0887"
             ],
             [
              0.1111111111111111,
              "#46039f"
             ],
             [
              0.2222222222222222,
              "#7201a8"
             ],
             [
              0.3333333333333333,
              "#9c179e"
             ],
             [
              0.4444444444444444,
              "#bd3786"
             ],
             [
              0.5555555555555556,
              "#d8576b"
             ],
             [
              0.6666666666666666,
              "#ed7953"
             ],
             [
              0.7777777777777778,
              "#fb9f3a"
             ],
             [
              0.8888888888888888,
              "#fdca26"
             ],
             [
              1,
              "#f0f921"
             ]
            ],
            "type": "heatmap"
           }
          ],
          "heatmapgl": [
           {
            "colorbar": {
             "outlinewidth": 0,
             "ticks": ""
            },
            "colorscale": [
             [
              0,
              "#0d0887"
             ],
             [
              0.1111111111111111,
              "#46039f"
             ],
             [
              0.2222222222222222,
              "#7201a8"
             ],
             [
              0.3333333333333333,
              "#9c179e"
             ],
             [
              0.4444444444444444,
              "#bd3786"
             ],
             [
              0.5555555555555556,
              "#d8576b"
             ],
             [
              0.6666666666666666,
              "#ed7953"
             ],
             [
              0.7777777777777778,
              "#fb9f3a"
             ],
             [
              0.8888888888888888,
              "#fdca26"
             ],
             [
              1,
              "#f0f921"
             ]
            ],
            "type": "heatmapgl"
           }
          ],
          "histogram": [
           {
            "marker": {
             "colorbar": {
              "outlinewidth": 0,
              "ticks": ""
             }
            },
            "type": "histogram"
           }
          ],
          "histogram2d": [
           {
            "colorbar": {
             "outlinewidth": 0,
             "ticks": ""
            },
            "colorscale": [
             [
              0,
              "#0d0887"
             ],
             [
              0.1111111111111111,
              "#46039f"
             ],
             [
              0.2222222222222222,
              "#7201a8"
             ],
             [
              0.3333333333333333,
              "#9c179e"
             ],
             [
              0.4444444444444444,
              "#bd3786"
             ],
             [
              0.5555555555555556,
              "#d8576b"
             ],
             [
              0.6666666666666666,
              "#ed7953"
             ],
             [
              0.7777777777777778,
              "#fb9f3a"
             ],
             [
              0.8888888888888888,
              "#fdca26"
             ],
             [
              1,
              "#f0f921"
             ]
            ],
            "type": "histogram2d"
           }
          ],
          "histogram2dcontour": [
           {
            "colorbar": {
             "outlinewidth": 0,
             "ticks": ""
            },
            "colorscale": [
             [
              0,
              "#0d0887"
             ],
             [
              0.1111111111111111,
              "#46039f"
             ],
             [
              0.2222222222222222,
              "#7201a8"
             ],
             [
              0.3333333333333333,
              "#9c179e"
             ],
             [
              0.4444444444444444,
              "#bd3786"
             ],
             [
              0.5555555555555556,
              "#d8576b"
             ],
             [
              0.6666666666666666,
              "#ed7953"
             ],
             [
              0.7777777777777778,
              "#fb9f3a"
             ],
             [
              0.8888888888888888,
              "#fdca26"
             ],
             [
              1,
              "#f0f921"
             ]
            ],
            "type": "histogram2dcontour"
           }
          ],
          "mesh3d": [
           {
            "colorbar": {
             "outlinewidth": 0,
             "ticks": ""
            },
            "type": "mesh3d"
           }
          ],
          "parcoords": [
           {
            "line": {
             "colorbar": {
              "outlinewidth": 0,
              "ticks": ""
             }
            },
            "type": "parcoords"
           }
          ],
          "pie": [
           {
            "automargin": true,
            "type": "pie"
           }
          ],
          "scatter": [
           {
            "marker": {
             "colorbar": {
              "outlinewidth": 0,
              "ticks": ""
             }
            },
            "type": "scatter"
           }
          ],
          "scatter3d": [
           {
            "line": {
             "colorbar": {
              "outlinewidth": 0,
              "ticks": ""
             }
            },
            "marker": {
             "colorbar": {
              "outlinewidth": 0,
              "ticks": ""
             },
             "size": 4
            },
            "type": "scatter3d"
           }
          ],
          "scattercarpet": [
           {
            "marker": {
             "colorbar": {
              "outlinewidth": 0,
              "ticks": ""
             }
            },
            "type": "scattercarpet"
           }
          ],
          "scattergeo": [
           {
            "marker": {
             "colorbar": {
              "outlinewidth": 0,
              "ticks": ""
             }
            },
            "type": "scattergeo"
           }
          ],
          "scattergl": [
           {
            "marker": {
             "colorbar": {
              "outlinewidth": 0,
              "ticks": ""
             }
            },
            "type": "scattergl"
           }
          ],
          "scattermapbox": [
           {
            "marker": {
             "colorbar": {
              "outlinewidth": 0,
              "ticks": ""
             }
            },
            "type": "scattermapbox"
           }
          ],
          "scatterpolar": [
           {
            "marker": {
             "colorbar": {
              "outlinewidth": 0,
              "ticks": ""
             }
            },
            "type": "scatterpolar"
           }
          ],
          "scatterpolargl": [
           {
            "marker": {
             "colorbar": {
              "outlinewidth": 0,
              "ticks": ""
             }
            },
            "type": "scatterpolargl"
           }
          ],
          "scatterternary": [
           {
            "marker": {
             "colorbar": {
              "outlinewidth": 0,
              "ticks": ""
             }
            },
            "type": "scatterternary"
           }
          ],
          "surface": [
           {
            "colorbar": {
             "outlinewidth": 0,
             "ticks": ""
            },
            "colorscale": [
             [
              0,
              "#0d0887"
             ],
             [
              0.1111111111111111,
              "#46039f"
             ],
             [
              0.2222222222222222,
              "#7201a8"
             ],
             [
              0.3333333333333333,
              "#9c179e"
             ],
             [
              0.4444444444444444,
              "#bd3786"
             ],
             [
              0.5555555555555556,
              "#d8576b"
             ],
             [
              0.6666666666666666,
              "#ed7953"
             ],
             [
              0.7777777777777778,
              "#fb9f3a"
             ],
             [
              0.8888888888888888,
              "#fdca26"
             ],
             [
              1,
              "#f0f921"
             ]
            ],
            "type": "surface"
           }
          ],
          "table": [
           {
            "cells": {
             "fill": {
              "color": "#EBF0F8"
             },
             "line": {
              "color": "white"
             }
            },
            "header": {
             "fill": {
              "color": "#C8D4E3"
             },
             "line": {
              "color": "white"
             }
            },
            "type": "table"
           }
          ]
         },
         "layout": {
          "annotationdefaults": {
           "arrowcolor": "#2a3f5f",
           "arrowhead": 0,
           "arrowwidth": 1
          },
          "coloraxis": {
           "colorbar": {
            "outlinewidth": 0,
            "ticks": ""
           }
          },
          "colorscale": {
           "diverging": [
            [
             0,
             "#8e0152"
            ],
            [
             0.1,
             "#c51b7d"
            ],
            [
             0.2,
             "#de77ae"
            ],
            [
             0.3,
             "#f1b6da"
            ],
            [
             0.4,
             "#fde0ef"
            ],
            [
             0.5,
             "#f7f7f7"
            ],
            [
             0.6,
             "#e6f5d0"
            ],
            [
             0.7,
             "#b8e186"
            ],
            [
             0.8,
             "#7fbc41"
            ],
            [
             0.9,
             "#4d9221"
            ],
            [
             1,
             "#276419"
            ]
           ],
           "sequential": [
            [
             0,
             "#0d0887"
            ],
            [
             0.1111111111111111,
             "#46039f"
            ],
            [
             0.2222222222222222,
             "#7201a8"
            ],
            [
             0.3333333333333333,
             "#9c179e"
            ],
            [
             0.4444444444444444,
             "#bd3786"
            ],
            [
             0.5555555555555556,
             "#d8576b"
            ],
            [
             0.6666666666666666,
             "#ed7953"
            ],
            [
             0.7777777777777778,
             "#fb9f3a"
            ],
            [
             0.8888888888888888,
             "#fdca26"
            ],
            [
             1,
             "#f0f921"
            ]
           ],
           "sequentialminus": [
            [
             0,
             "#0d0887"
            ],
            [
             0.1111111111111111,
             "#46039f"
            ],
            [
             0.2222222222222222,
             "#7201a8"
            ],
            [
             0.3333333333333333,
             "#9c179e"
            ],
            [
             0.4444444444444444,
             "#bd3786"
            ],
            [
             0.5555555555555556,
             "#d8576b"
            ],
            [
             0.6666666666666666,
             "#ed7953"
            ],
            [
             0.7777777777777778,
             "#fb9f3a"
            ],
            [
             0.8888888888888888,
             "#fdca26"
            ],
            [
             1,
             "#f0f921"
            ]
           ]
          },
          "colorway": [
           "#1f77b4",
           "#ff7f0e",
           "#2ca02c",
           "#d62728",
           "#9467bd",
           "#8c564b",
           "#e377c2",
           "#7f7f7f",
           "#bcbd22",
           "#17becf"
          ],
          "font": {
           "color": "#2a3f5f"
          },
          "geo": {
           "bgcolor": "white",
           "lakecolor": "white",
           "landcolor": "white",
           "showlakes": true,
           "showland": true,
           "subunitcolor": "#C8D4E3"
          },
          "hoverlabel": {
           "align": "left"
          },
          "hovermode": "closest",
          "mapbox": {
           "style": "light"
          },
          "paper_bgcolor": "white",
          "plot_bgcolor": "white",
          "polar": {
           "angularaxis": {
            "gridcolor": "#EBF0F8",
            "linecolor": "#EBF0F8",
            "ticks": ""
           },
           "bgcolor": "white",
           "radialaxis": {
            "gridcolor": "#EBF0F8",
            "linecolor": "#EBF0F8",
            "ticks": ""
           }
          },
          "scene": {
           "camera": {
            "center": {
             "x": 0,
             "y": 0,
             "z": 0
            },
            "eye": {
             "x": 2,
             "y": 2,
             "z": 2
            },
            "up": {
             "x": 0,
             "y": 0,
             "z": 1
            }
           },
           "xaxis": {
            "backgroundcolor": "white",
            "gridcolor": "#DFE8F3",
            "gridwidth": 2,
            "linecolor": "#EBF0F8",
            "showbackground": true,
            "showspikes": false,
            "ticks": "",
            "zerolinecolor": "#EBF0F8"
           },
           "yaxis": {
            "backgroundcolor": "white",
            "gridcolor": "#DFE8F3",
            "gridwidth": 2,
            "linecolor": "#EBF0F8",
            "showbackground": true,
            "showspikes": false,
            "ticks": "",
            "zerolinecolor": "#EBF0F8"
           },
           "zaxis": {
            "backgroundcolor": "white",
            "gridcolor": "#DFE8F3",
            "gridwidth": 2,
            "linecolor": "#EBF0F8",
            "showbackground": true,
            "showspikes": false,
            "ticks": "",
            "zerolinecolor": "#EBF0F8"
           }
          },
          "shapedefaults": {
           "line": {
            "color": "#2a3f5f"
           }
          },
          "ternary": {
           "aaxis": {
            "gridcolor": "#DFE8F3",
            "linecolor": "#A2B1C6",
            "ticks": ""
           },
           "baxis": {
            "gridcolor": "#DFE8F3",
            "linecolor": "#A2B1C6",
            "ticks": ""
           },
           "bgcolor": "white",
           "caxis": {
            "gridcolor": "#DFE8F3",
            "linecolor": "#A2B1C6",
            "ticks": ""
           }
          },
          "title": {
           "x": 0.05
          },
          "xaxis": {
           "automargin": true,
           "gridcolor": "#EBF0F8",
           "linecolor": "black",
           "linewidth": 2,
           "mirror": true,
           "showline": true,
           "ticks": "",
           "title": {
            "standoff": 15
           },
           "zeroline": false,
           "zerolinecolor": "#EBF0F8",
           "zerolinewidth": 2
          },
          "yaxis": {
           "automargin": true,
           "gridcolor": "#EBF0F8",
           "linecolor": "black",
           "linewidth": 2,
           "mirror": true,
           "showline": true,
           "ticks": "",
           "title": {
            "standoff": 15
           },
           "zeroline": false,
           "zerolinecolor": "#EBF0F8",
           "zerolinewidth": 2
          }
         }
        },
        "title": {
         "text": "Rotor Model"
        },
        "xaxis": {
         "mirror": true,
         "range": [
          -0.15000000000000002,
          1.65
         ],
         "showgrid": false,
         "title": {
          "text": "Axial location (m)"
         }
        },
        "yaxis": {
         "mirror": true,
         "range": [
          -0.45,
          0.45
         ],
         "showgrid": false,
         "title": {
          "text": "Shaft radius (m)"
         }
        }
       }
      }
     },
     "metadata": {},
     "output_type": "display_data"
    }
   ],
   "source": [
    "i_d = 0\n",
    "o_d = 0.05\n",
    "\n",
    "# inner diameter of each section\n",
    "i_ds_data = [0, 0, 0]\n",
    "# outer diameter of each section\n",
    "o_ds_data = [0.05, 0.05, 0.05]\n",
    "# length of each section\n",
    "leng_data = [0.5, 0.5, 0.5]\n",
    "\n",
    "material_data = [steel, steel, steel]\n",
    "# material_data = steel\n",
    "stfx = 1e6\n",
    "stfy = 0.8e6\n",
    "\n",
    "# n = 0 refers to the section 0, first node\n",
    "bearing0 = rs.BearingElement(n=0, kxx=stfx, kyy=stfy, cxx=1e3)\n",
    "\n",
    "# n = 3 refers to the section 2, last node\n",
    "bearing1 = rs.BearingElement(n=3, kxx=stfx, kyy=stfy, cxx=1e3)\n",
    "bearings = [bearing0, bearing1]\n",
    "\n",
    "# n = 1 refers to the section 1, first node\n",
    "disk0 = rs.DiskElement.from_geometry(\n",
    "    n=1, material=steel, width=0.07, i_d=0.05, o_d=0.28\n",
    ")\n",
    "\n",
    "# n = 2 refers to the section 2, first node\n",
    "disk1 = rs.DiskElement.from_geometry(\n",
    "    n=2, material=steel, width=0.07, i_d=0.05, o_d=0.28\n",
    ")\n",
    "disks = [disk0, disk1]\n",
    "\n",
    "rotor2 = rs.Rotor.from_section(\n",
    "    brg_seal_data=bearings,\n",
    "    disk_data=disks,\n",
    "    idl_data=i_ds_data,\n",
    "    leng_data=leng_data,\n",
    "    odl_data=o_ds_data,\n",
    "    nel_r=4,\n",
    "    material_data=steel,\n",
    ")\n",
    "\n",
    "print(\"Rotor total mass = \", np.round(rotor2.m, 2))\n",
    "print(\"Rotor center of gravity =\", np.round(rotor2.CG, 2))\n",
    "rotor2.plot_rotor()"
   ]
  },
  {
   "cell_type": "markdown",
   "metadata": {},
   "source": [
    "### 6.3 Visualizing the rotor model\n",
    "\n",
    "It is interesting to plot the rotor to check if the geometry checks with what you wanted to the model. Use the `.plot_rotor()` method to create a plot.\n",
    "\n",
    "`nodes` argument is useful when your model has lots of nodes and the visualization of nodes label may be confusing. Set an increment to the plot nodes label\n",
    "\n",
    "ROSS uses **PLOTLY** as main plotting library: \n",
    "\n",
    "With the Plotly, you can hover the mouse icon over the shaft, disk and point mass elements to check some of their parameters."
   ]
  },
  {
   "cell_type": "code",
   "execution_count": 39,
   "metadata": {
    "execution": {
     "iopub.execute_input": "2023-05-04T01:05:10.302694Z",
     "iopub.status.busy": "2023-05-04T01:05:10.302580Z",
     "iopub.status.idle": "2023-05-04T01:05:10.354924Z",
     "shell.execute_reply": "2023-05-04T01:05:10.354381Z"
    },
    "scrolled": false
   },
   "outputs": [
    {
     "data": {
      "application/vnd.plotly.v1+json": {
       "config": {
        "plotlyServerURL": "https://plot.ly"
       },
       "data": [
        {
         "hoverinfo": "none",
         "line": {
          "color": "black",
          "dash": "dashdot",
          "width": 3
         },
         "mode": "lines",
         "opacity": 0.7,
         "showlegend": false,
         "type": "scatter",
         "x": [
          -0.30000000000000004,
          1.7999999999999998
         ],
         "y": [
          0,
          0
         ]
        },
        {
         "hoverinfo": "none",
         "marker": {
          "color": "#ffcc99",
          "line": {
           "color": "black",
           "width": 1
          },
          "opacity": 0.7,
          "size": 20
         },
         "mode": "markers+text",
         "showlegend": false,
         "text": [
          "0",
          "1",
          "2",
          "3",
          "4",
          "5",
          "6"
         ],
         "type": "scatter",
         "x": [
          0,
          0.25,
          0.5,
          0.75,
          1,
          1.25,
          1.5
         ],
         "y": [
          0,
          0,
          0,
          0,
          0,
          0,
          0
         ]
        },
        {
         "customdata": [
          [
           0,
           0.05,
           0,
           0.05,
           0,
           0.25,
           "Steel"
          ],
          [
           0,
           0.05,
           0,
           0.05,
           0,
           0.25,
           "Steel"
          ],
          [
           0,
           0.05,
           0,
           0.05,
           0,
           0.25,
           "Steel"
          ],
          [
           0,
           0.05,
           0,
           0.05,
           0,
           0.25,
           "Steel"
          ],
          [
           0,
           0.05,
           0,
           0.05,
           0,
           0.25,
           "Steel"
          ],
          [
           0,
           0.05,
           0,
           0.05,
           0,
           0.25,
           "Steel"
          ],
          [
           0,
           0.05,
           0,
           0.05,
           0,
           0.25,
           "Steel"
          ],
          [
           0,
           0.05,
           0,
           0.05,
           0,
           0.25,
           "Steel"
          ],
          [
           0,
           0.05,
           0,
           0.05,
           0,
           0.25,
           "Steel"
          ],
          [
           0,
           0.05,
           0,
           0.05,
           0,
           0.25,
           "Steel"
          ]
         ],
         "fill": "toself",
         "fillcolor": "#525252",
         "hoverinfo": "text",
         "hoverlabel": {
          "bgcolor": "#525252"
         },
         "hoveron": "points+fills",
         "hovertemplate": "Element Number: 0<br>Left Outer Diameter: 0.05 m<br>Left Inner Diameter: 0.0 m<br>Right Outer Diameter: 0.05 m<br>Right Inner Diameter: 0.0 m<br>Element Length: 0.25 m<br>Material: Steel<br>",
         "legendgroup": "Shaft",
         "line": {
          "color": "black",
          "width": 1.5
         },
         "mode": "lines",
         "name": "ShaftElement 0",
         "opacity": 0.5,
         "showlegend": false,
         "text": "Element Number: 0<br>Left Outer Diameter: 0.05 m<br>Left Inner Diameter: 0.0 m<br>Right Outer Diameter: 0.05 m<br>Right Inner Diameter: 0.0 m<br>Element Length: 0.25 m<br>Material: Steel<br>",
         "type": "scatter",
         "x": [
          0,
          0,
          0.25,
          0.25,
          0,
          0,
          0,
          0.25,
          0.25,
          0
         ],
         "y": [
          0,
          0.025,
          0.025,
          0,
          0,
          0,
          -0.025,
          -0.025,
          0,
          0
         ]
        },
        {
         "customdata": [
          [
           1,
           0.05,
           0,
           0.05,
           0,
           0.25,
           "Steel"
          ],
          [
           1,
           0.05,
           0,
           0.05,
           0,
           0.25,
           "Steel"
          ],
          [
           1,
           0.05,
           0,
           0.05,
           0,
           0.25,
           "Steel"
          ],
          [
           1,
           0.05,
           0,
           0.05,
           0,
           0.25,
           "Steel"
          ],
          [
           1,
           0.05,
           0,
           0.05,
           0,
           0.25,
           "Steel"
          ],
          [
           1,
           0.05,
           0,
           0.05,
           0,
           0.25,
           "Steel"
          ],
          [
           1,
           0.05,
           0,
           0.05,
           0,
           0.25,
           "Steel"
          ],
          [
           1,
           0.05,
           0,
           0.05,
           0,
           0.25,
           "Steel"
          ],
          [
           1,
           0.05,
           0,
           0.05,
           0,
           0.25,
           "Steel"
          ],
          [
           1,
           0.05,
           0,
           0.05,
           0,
           0.25,
           "Steel"
          ]
         ],
         "fill": "toself",
         "fillcolor": "#525252",
         "hoverinfo": "text",
         "hoverlabel": {
          "bgcolor": "#525252"
         },
         "hoveron": "points+fills",
         "hovertemplate": "Element Number: 1<br>Left Outer Diameter: 0.05 m<br>Left Inner Diameter: 0.0 m<br>Right Outer Diameter: 0.05 m<br>Right Inner Diameter: 0.0 m<br>Element Length: 0.25 m<br>Material: Steel<br>",
         "legendgroup": "Shaft",
         "line": {
          "color": "black",
          "width": 1.5
         },
         "mode": "lines",
         "name": "ShaftElement 1",
         "opacity": 0.5,
         "showlegend": false,
         "text": "Element Number: 1<br>Left Outer Diameter: 0.05 m<br>Left Inner Diameter: 0.0 m<br>Right Outer Diameter: 0.05 m<br>Right Inner Diameter: 0.0 m<br>Element Length: 0.25 m<br>Material: Steel<br>",
         "type": "scatter",
         "x": [
          0.25,
          0.25,
          0.5,
          0.5,
          0.25,
          0.25,
          0.25,
          0.5,
          0.5,
          0.25
         ],
         "y": [
          0,
          0.025,
          0.025,
          0,
          0,
          0,
          -0.025,
          -0.025,
          0,
          0
         ]
        },
        {
         "customdata": [
          [
           2,
           0.05,
           0,
           0.05,
           0,
           0.25,
           "Steel"
          ],
          [
           2,
           0.05,
           0,
           0.05,
           0,
           0.25,
           "Steel"
          ],
          [
           2,
           0.05,
           0,
           0.05,
           0,
           0.25,
           "Steel"
          ],
          [
           2,
           0.05,
           0,
           0.05,
           0,
           0.25,
           "Steel"
          ],
          [
           2,
           0.05,
           0,
           0.05,
           0,
           0.25,
           "Steel"
          ],
          [
           2,
           0.05,
           0,
           0.05,
           0,
           0.25,
           "Steel"
          ],
          [
           2,
           0.05,
           0,
           0.05,
           0,
           0.25,
           "Steel"
          ],
          [
           2,
           0.05,
           0,
           0.05,
           0,
           0.25,
           "Steel"
          ],
          [
           2,
           0.05,
           0,
           0.05,
           0,
           0.25,
           "Steel"
          ],
          [
           2,
           0.05,
           0,
           0.05,
           0,
           0.25,
           "Steel"
          ]
         ],
         "fill": "toself",
         "fillcolor": "#525252",
         "hoverinfo": "text",
         "hoverlabel": {
          "bgcolor": "#525252"
         },
         "hoveron": "points+fills",
         "hovertemplate": "Element Number: 2<br>Left Outer Diameter: 0.05 m<br>Left Inner Diameter: 0.0 m<br>Right Outer Diameter: 0.05 m<br>Right Inner Diameter: 0.0 m<br>Element Length: 0.25 m<br>Material: Steel<br>",
         "legendgroup": "Shaft",
         "line": {
          "color": "black",
          "width": 1.5
         },
         "mode": "lines",
         "name": "ShaftElement 2",
         "opacity": 0.5,
         "showlegend": false,
         "text": "Element Number: 2<br>Left Outer Diameter: 0.05 m<br>Left Inner Diameter: 0.0 m<br>Right Outer Diameter: 0.05 m<br>Right Inner Diameter: 0.0 m<br>Element Length: 0.25 m<br>Material: Steel<br>",
         "type": "scatter",
         "x": [
          0.5,
          0.5,
          0.75,
          0.75,
          0.5,
          0.5,
          0.5,
          0.75,
          0.75,
          0.5
         ],
         "y": [
          0,
          0.025,
          0.025,
          0,
          0,
          0,
          -0.025,
          -0.025,
          0,
          0
         ]
        },
        {
         "customdata": [
          [
           3,
           0.05,
           0,
           0.05,
           0,
           0.25,
           "Steel"
          ],
          [
           3,
           0.05,
           0,
           0.05,
           0,
           0.25,
           "Steel"
          ],
          [
           3,
           0.05,
           0,
           0.05,
           0,
           0.25,
           "Steel"
          ],
          [
           3,
           0.05,
           0,
           0.05,
           0,
           0.25,
           "Steel"
          ],
          [
           3,
           0.05,
           0,
           0.05,
           0,
           0.25,
           "Steel"
          ],
          [
           3,
           0.05,
           0,
           0.05,
           0,
           0.25,
           "Steel"
          ],
          [
           3,
           0.05,
           0,
           0.05,
           0,
           0.25,
           "Steel"
          ],
          [
           3,
           0.05,
           0,
           0.05,
           0,
           0.25,
           "Steel"
          ],
          [
           3,
           0.05,
           0,
           0.05,
           0,
           0.25,
           "Steel"
          ],
          [
           3,
           0.05,
           0,
           0.05,
           0,
           0.25,
           "Steel"
          ]
         ],
         "fill": "toself",
         "fillcolor": "#525252",
         "hoverinfo": "text",
         "hoverlabel": {
          "bgcolor": "#525252"
         },
         "hoveron": "points+fills",
         "hovertemplate": "Element Number: 3<br>Left Outer Diameter: 0.05 m<br>Left Inner Diameter: 0.0 m<br>Right Outer Diameter: 0.05 m<br>Right Inner Diameter: 0.0 m<br>Element Length: 0.25 m<br>Material: Steel<br>",
         "legendgroup": "Shaft",
         "line": {
          "color": "black",
          "width": 1.5
         },
         "mode": "lines",
         "name": "ShaftElement 3",
         "opacity": 0.5,
         "showlegend": false,
         "text": "Element Number: 3<br>Left Outer Diameter: 0.05 m<br>Left Inner Diameter: 0.0 m<br>Right Outer Diameter: 0.05 m<br>Right Inner Diameter: 0.0 m<br>Element Length: 0.25 m<br>Material: Steel<br>",
         "type": "scatter",
         "x": [
          0.75,
          0.75,
          1,
          1,
          0.75,
          0.75,
          0.75,
          1,
          1,
          0.75
         ],
         "y": [
          0,
          0.025,
          0.025,
          0,
          0,
          0,
          -0.025,
          -0.025,
          0,
          0
         ]
        },
        {
         "customdata": [
          [
           4,
           0.05,
           0,
           0.05,
           0,
           0.25,
           "Steel"
          ],
          [
           4,
           0.05,
           0,
           0.05,
           0,
           0.25,
           "Steel"
          ],
          [
           4,
           0.05,
           0,
           0.05,
           0,
           0.25,
           "Steel"
          ],
          [
           4,
           0.05,
           0,
           0.05,
           0,
           0.25,
           "Steel"
          ],
          [
           4,
           0.05,
           0,
           0.05,
           0,
           0.25,
           "Steel"
          ],
          [
           4,
           0.05,
           0,
           0.05,
           0,
           0.25,
           "Steel"
          ],
          [
           4,
           0.05,
           0,
           0.05,
           0,
           0.25,
           "Steel"
          ],
          [
           4,
           0.05,
           0,
           0.05,
           0,
           0.25,
           "Steel"
          ],
          [
           4,
           0.05,
           0,
           0.05,
           0,
           0.25,
           "Steel"
          ],
          [
           4,
           0.05,
           0,
           0.05,
           0,
           0.25,
           "Steel"
          ]
         ],
         "fill": "toself",
         "fillcolor": "#525252",
         "hoverinfo": "text",
         "hoverlabel": {
          "bgcolor": "#525252"
         },
         "hoveron": "points+fills",
         "hovertemplate": "Element Number: 4<br>Left Outer Diameter: 0.05 m<br>Left Inner Diameter: 0.0 m<br>Right Outer Diameter: 0.05 m<br>Right Inner Diameter: 0.0 m<br>Element Length: 0.25 m<br>Material: Steel<br>",
         "legendgroup": "Shaft",
         "line": {
          "color": "black",
          "width": 1.5
         },
         "mode": "lines",
         "name": "ShaftElement 4",
         "opacity": 0.5,
         "showlegend": false,
         "text": "Element Number: 4<br>Left Outer Diameter: 0.05 m<br>Left Inner Diameter: 0.0 m<br>Right Outer Diameter: 0.05 m<br>Right Inner Diameter: 0.0 m<br>Element Length: 0.25 m<br>Material: Steel<br>",
         "type": "scatter",
         "x": [
          1,
          1,
          1.25,
          1.25,
          1,
          1,
          1,
          1.25,
          1.25,
          1
         ],
         "y": [
          0,
          0.025,
          0.025,
          0,
          0,
          0,
          -0.025,
          -0.025,
          0,
          0
         ]
        },
        {
         "customdata": [
          [
           5,
           0.05,
           0,
           0.05,
           0,
           0.25,
           "Steel"
          ],
          [
           5,
           0.05,
           0,
           0.05,
           0,
           0.25,
           "Steel"
          ],
          [
           5,
           0.05,
           0,
           0.05,
           0,
           0.25,
           "Steel"
          ],
          [
           5,
           0.05,
           0,
           0.05,
           0,
           0.25,
           "Steel"
          ],
          [
           5,
           0.05,
           0,
           0.05,
           0,
           0.25,
           "Steel"
          ],
          [
           5,
           0.05,
           0,
           0.05,
           0,
           0.25,
           "Steel"
          ],
          [
           5,
           0.05,
           0,
           0.05,
           0,
           0.25,
           "Steel"
          ],
          [
           5,
           0.05,
           0,
           0.05,
           0,
           0.25,
           "Steel"
          ],
          [
           5,
           0.05,
           0,
           0.05,
           0,
           0.25,
           "Steel"
          ],
          [
           5,
           0.05,
           0,
           0.05,
           0,
           0.25,
           "Steel"
          ]
         ],
         "fill": "toself",
         "fillcolor": "#525252",
         "hoverinfo": "text",
         "hoverlabel": {
          "bgcolor": "#525252"
         },
         "hoveron": "points+fills",
         "hovertemplate": "Element Number: 5<br>Left Outer Diameter: 0.05 m<br>Left Inner Diameter: 0.0 m<br>Right Outer Diameter: 0.05 m<br>Right Inner Diameter: 0.0 m<br>Element Length: 0.25 m<br>Material: Steel<br>",
         "legendgroup": "Shaft",
         "line": {
          "color": "black",
          "width": 1.5
         },
         "mode": "lines",
         "name": "ShaftElement 5",
         "opacity": 0.5,
         "showlegend": false,
         "text": "Element Number: 5<br>Left Outer Diameter: 0.05 m<br>Left Inner Diameter: 0.0 m<br>Right Outer Diameter: 0.05 m<br>Right Inner Diameter: 0.0 m<br>Element Length: 0.25 m<br>Material: Steel<br>",
         "type": "scatter",
         "x": [
          1.25,
          1.25,
          1.5,
          1.5,
          1.25,
          1.25,
          1.25,
          1.5,
          1.5,
          1.25
         ],
         "y": [
          0,
          0.025,
          0.025,
          0,
          0,
          0,
          -0.025,
          -0.025,
          0,
          0
         ]
        },
        {
         "customdata": [
          [
           2,
           0.32956362089137037,
           0.17808928257067666,
           32.58972765304033
          ],
          [
           2,
           0.32956362089137037,
           0.17808928257067666,
           32.58972765304033
          ],
          [
           2,
           0.32956362089137037,
           0.17808928257067666,
           32.58972765304033
          ],
          [
           2,
           0.32956362089137037,
           0.17808928257067666,
           32.58972765304033
          ],
          [
           2,
           0.32956362089137037,
           0.17808928257067666,
           32.58972765304033
          ],
          [
           2,
           0.32956362089137037,
           0.17808928257067666,
           32.58972765304033
          ],
          [
           2,
           0.32956362089137037,
           0.17808928257067666,
           32.58972765304033
          ],
          [
           2,
           0.32956362089137037,
           0.17808928257067666,
           32.58972765304033
          ],
          [
           2,
           0.32956362089137037,
           0.17808928257067666,
           32.58972765304033
          ]
         ],
         "fill": "toself",
         "fillcolor": "Firebrick",
         "hoverinfo": "text",
         "hoverlabel": {
          "bgcolor": "Firebrick"
         },
         "hoveron": "points+fills",
         "hovertemplate": "Disk Node: 2<br>Polar Inertia: 3.296e-01<br>Diametral Inertia: 1.781e-01<br>Disk mass: 32.590<br>",
         "legendgroup": "disks",
         "line": {
          "color": "Firebrick",
          "width": 2
         },
         "mode": "lines",
         "name": "Disk 0",
         "opacity": 0.8,
         "showlegend": false,
         "text": "Disk Node: 2<br>Polar Inertia: 3.296e-01<br>Diametral Inertia: 1.781e-01<br>Disk mass: 32.590<br>",
         "type": "scatter",
         "x": [
          0.5,
          0.502,
          0.498,
          0.5,
          null,
          0.5,
          0.502,
          0.498,
          0.5
         ],
         "y": [
          0.025,
          0.125,
          0.125,
          0.025,
          null,
          -0.025,
          -0.125,
          -0.125,
          -0.025
         ]
        },
        {
         "customdata": [
          [
           4,
           0.32956362089137037,
           0.17808928257067666,
           32.58972765304033
          ],
          [
           4,
           0.32956362089137037,
           0.17808928257067666,
           32.58972765304033
          ],
          [
           4,
           0.32956362089137037,
           0.17808928257067666,
           32.58972765304033
          ],
          [
           4,
           0.32956362089137037,
           0.17808928257067666,
           32.58972765304033
          ],
          [
           4,
           0.32956362089137037,
           0.17808928257067666,
           32.58972765304033
          ],
          [
           4,
           0.32956362089137037,
           0.17808928257067666,
           32.58972765304033
          ],
          [
           4,
           0.32956362089137037,
           0.17808928257067666,
           32.58972765304033
          ],
          [
           4,
           0.32956362089137037,
           0.17808928257067666,
           32.58972765304033
          ],
          [
           4,
           0.32956362089137037,
           0.17808928257067666,
           32.58972765304033
          ]
         ],
         "fill": "toself",
         "fillcolor": "Firebrick",
         "hoverinfo": "text",
         "hoverlabel": {
          "bgcolor": "Firebrick"
         },
         "hoveron": "points+fills",
         "hovertemplate": "Disk Node: 4<br>Polar Inertia: 3.296e-01<br>Diametral Inertia: 1.781e-01<br>Disk mass: 32.590<br>",
         "legendgroup": "disks",
         "line": {
          "color": "Firebrick",
          "width": 2
         },
         "mode": "lines",
         "name": "Disk 1",
         "opacity": 0.8,
         "showlegend": false,
         "text": "Disk Node: 4<br>Polar Inertia: 3.296e-01<br>Diametral Inertia: 1.781e-01<br>Disk mass: 32.590<br>",
         "type": "scatter",
         "x": [
          1,
          1.002,
          0.998,
          1,
          null,
          1,
          1.002,
          0.998,
          1
         ],
         "y": [
          0.025,
          0.125,
          0.125,
          0.025,
          null,
          -0.025,
          -0.125,
          -0.125,
          -0.025
         ]
        },
        {
         "hoverinfo": "none",
         "legendgroup": "bearings",
         "line": {
          "color": "#355d7a",
          "width": 1
         },
         "mode": "lines",
         "name": "Bearing 0",
         "showlegend": false,
         "type": "scatter",
         "x": [
          0,
          0,
          -0.007142857142857143,
          0.007142857142857143
         ],
         "y": [
          0.025,
          0.0375,
          0.0375,
          0.0375
         ]
        },
        {
         "hoverinfo": "none",
         "legendgroup": "bearings",
         "line": {
          "color": "#355d7a",
          "width": 1
         },
         "mode": "lines",
         "name": "Bearing 0",
         "showlegend": false,
         "type": "scatter",
         "x": [
          0,
          0,
          -0.007142857142857143,
          0.007142857142857143
         ],
         "y": [
          -0.025,
          -0.0375,
          -0.0375,
          -0.0375
         ]
        },
        {
         "hoverinfo": "none",
         "legendgroup": "bearings",
         "line": {
          "color": "#355d7a",
          "width": 1
         },
         "mode": "lines",
         "name": "Bearing 0",
         "showlegend": false,
         "type": "scatter",
         "x": [
          0,
          0,
          -0.007142857142857143,
          0.007142857142857143
         ],
         "y": [
          0.075,
          0.0625,
          0.0625,
          0.0625
         ]
        },
        {
         "hoverinfo": "none",
         "legendgroup": "bearings",
         "line": {
          "color": "#355d7a",
          "width": 1
         },
         "mode": "lines",
         "name": "Bearing 0",
         "showlegend": false,
         "type": "scatter",
         "x": [
          0,
          0,
          -0.007142857142857143,
          0.007142857142857143
         ],
         "y": [
          -0.075,
          -0.0625,
          -0.0625,
          -0.0625
         ]
        },
        {
         "hoverinfo": "none",
         "legendgroup": "bearings",
         "line": {
          "color": "#355d7a",
          "width": 1
         },
         "mode": "lines",
         "name": "Bearing 0",
         "showlegend": false,
         "type": "scatter",
         "x": [
          -0.007142857142857143,
          -0.007142857142857143,
          -0.010714285714285714,
          -0.0035714285714285713,
          -0.010714285714285714,
          -0.0035714285714285713,
          -0.010714285714285714,
          -0.0035714285714285713,
          -0.007142857142857143,
          -0.007142857142857143
         ],
         "y": [
          0.0375,
          0.04107142857142857,
          0.04107142857142857,
          0.044642857142857144,
          0.04821428571428571,
          0.05178571428571428,
          0.055357142857142855,
          0.05892857142857143,
          0.05892857142857143,
          0.0625
         ]
        },
        {
         "hoverinfo": "none",
         "legendgroup": "bearings",
         "line": {
          "color": "#355d7a",
          "width": 1
         },
         "mode": "lines",
         "name": "Bearing 0",
         "showlegend": false,
         "type": "scatter",
         "x": [
          -0.007142857142857143,
          -0.007142857142857143,
          -0.010714285714285714,
          -0.0035714285714285713,
          -0.010714285714285714,
          -0.0035714285714285713,
          -0.010714285714285714,
          -0.0035714285714285713,
          -0.007142857142857143,
          -0.007142857142857143
         ],
         "y": [
          -0.0375,
          -0.04107142857142857,
          -0.04107142857142857,
          -0.044642857142857144,
          -0.04821428571428571,
          -0.05178571428571428,
          -0.055357142857142855,
          -0.05892857142857143,
          -0.05892857142857143,
          -0.0625
         ]
        },
        {
         "hoverinfo": "none",
         "legendgroup": "bearings",
         "line": {
          "color": "#355d7a",
          "width": 1
         },
         "mode": "lines",
         "name": "Bearing 0",
         "showlegend": false,
         "type": "scatter",
         "x": [
          0.007142857142857143,
          0.007142857142857143
         ],
         "y": [
          0.0375,
          0.044642857142857144
         ]
        },
        {
         "hoverinfo": "none",
         "legendgroup": "bearings",
         "line": {
          "color": "#355d7a",
          "width": 1
         },
         "mode": "lines",
         "name": "Bearing 0",
         "showlegend": false,
         "type": "scatter",
         "x": [
          0.007142857142857143,
          0.007142857142857143
         ],
         "y": [
          -0.0375,
          -0.044642857142857144
         ]
        },
        {
         "hoverinfo": "none",
         "legendgroup": "bearings",
         "line": {
          "color": "#355d7a",
          "width": 1
         },
         "mode": "lines",
         "name": "Bearing 0",
         "showlegend": false,
         "type": "scatter",
         "x": [
          0,
          0,
          0.014285714285714284,
          0.014285714285714284
         ],
         "y": [
          0.055357142857142855,
          0.044642857142857144,
          0.044642857142857144,
          0.055357142857142855
         ]
        },
        {
         "hoverinfo": "none",
         "legendgroup": "bearings",
         "line": {
          "color": "#355d7a",
          "width": 1
         },
         "mode": "lines",
         "name": "Bearing 0",
         "showlegend": false,
         "type": "scatter",
         "x": [
          0,
          0,
          0.014285714285714284,
          0.014285714285714284
         ],
         "y": [
          -0.055357142857142855,
          -0.044642857142857144,
          -0.044642857142857144,
          -0.055357142857142855
         ]
        },
        {
         "hoverinfo": "none",
         "legendgroup": "bearings",
         "line": {
          "color": "#355d7a",
          "width": 1
         },
         "mode": "lines",
         "name": "Bearing 0",
         "showlegend": false,
         "type": "scatter",
         "x": [
          0,
          0.014285714285714284,
          0.007142857142857143,
          0.007142857142857143
         ],
         "y": [
          0.05178571428571428,
          0.05178571428571428,
          0.05178571428571428,
          0.0625
         ]
        },
        {
         "hoverinfo": "none",
         "legendgroup": "bearings",
         "line": {
          "color": "#355d7a",
          "width": 1
         },
         "mode": "lines",
         "name": "Bearing 0",
         "showlegend": false,
         "type": "scatter",
         "x": [
          0,
          0.014285714285714284,
          0.007142857142857143,
          0.007142857142857143
         ],
         "y": [
          -0.05178571428571428,
          -0.05178571428571428,
          -0.05178571428571428,
          -0.0625
         ]
        },
        {
         "hoverinfo": "none",
         "legendgroup": "bearings",
         "line": {
          "color": "#355d7a",
          "width": 1
         },
         "mode": "lines",
         "name": "Bearing 1",
         "showlegend": false,
         "type": "scatter",
         "x": [
          1.5,
          1.5,
          1.4928571428571429,
          1.5071428571428571
         ],
         "y": [
          0.025,
          0.0375,
          0.0375,
          0.0375
         ]
        },
        {
         "hoverinfo": "none",
         "legendgroup": "bearings",
         "line": {
          "color": "#355d7a",
          "width": 1
         },
         "mode": "lines",
         "name": "Bearing 1",
         "showlegend": false,
         "type": "scatter",
         "x": [
          1.5,
          1.5,
          1.4928571428571429,
          1.5071428571428571
         ],
         "y": [
          -0.025,
          -0.0375,
          -0.0375,
          -0.0375
         ]
        },
        {
         "hoverinfo": "none",
         "legendgroup": "bearings",
         "line": {
          "color": "#355d7a",
          "width": 1
         },
         "mode": "lines",
         "name": "Bearing 1",
         "showlegend": false,
         "type": "scatter",
         "x": [
          1.5,
          1.5,
          1.4928571428571429,
          1.5071428571428571
         ],
         "y": [
          0.075,
          0.0625,
          0.0625,
          0.0625
         ]
        },
        {
         "hoverinfo": "none",
         "legendgroup": "bearings",
         "line": {
          "color": "#355d7a",
          "width": 1
         },
         "mode": "lines",
         "name": "Bearing 1",
         "showlegend": false,
         "type": "scatter",
         "x": [
          1.5,
          1.5,
          1.4928571428571429,
          1.5071428571428571
         ],
         "y": [
          -0.075,
          -0.0625,
          -0.0625,
          -0.0625
         ]
        },
        {
         "hoverinfo": "none",
         "legendgroup": "bearings",
         "line": {
          "color": "#355d7a",
          "width": 1
         },
         "mode": "lines",
         "name": "Bearing 1",
         "showlegend": false,
         "type": "scatter",
         "x": [
          1.4892857142857143,
          1.5107142857142857
         ],
         "y": [
          0.075,
          0.075
         ]
        },
        {
         "hoverinfo": "none",
         "legendgroup": "bearings",
         "line": {
          "color": "#355d7a",
          "width": 1
         },
         "mode": "lines",
         "name": "Bearing 1",
         "showlegend": false,
         "type": "scatter",
         "x": [
          1.4892857142857143,
          1.5107142857142857
         ],
         "y": [
          -0.075,
          -0.075
         ]
        },
        {
         "hoverinfo": "none",
         "legendgroup": "bearings",
         "line": {
          "color": "#355d7a",
          "width": 1
         },
         "mode": "lines",
         "name": "Bearing 1",
         "showlegend": false,
         "type": "scatter",
         "x": [
          1.4892857142857143,
          1.4935714285714283
         ],
         "y": [
          0.075,
          0.0825
         ]
        },
        {
         "hoverinfo": "none",
         "legendgroup": "bearings",
         "line": {
          "color": "#355d7a",
          "width": 1
         },
         "mode": "lines",
         "name": "Bearing 1",
         "showlegend": false,
         "type": "scatter",
         "x": [
          1.4892857142857143,
          1.4935714285714283
         ],
         "y": [
          -0.075,
          -0.0825
         ]
        },
        {
         "hoverinfo": "none",
         "legendgroup": "bearings",
         "line": {
          "color": "#355d7a",
          "width": 1
         },
         "mode": "lines",
         "name": "Bearing 1",
         "showlegend": false,
         "type": "scatter",
         "x": [
          1.4935714285714283,
          1.4978571428571428
         ],
         "y": [
          0.075,
          0.0825
         ]
        },
        {
         "hoverinfo": "none",
         "legendgroup": "bearings",
         "line": {
          "color": "#355d7a",
          "width": 1
         },
         "mode": "lines",
         "name": "Bearing 1",
         "showlegend": false,
         "type": "scatter",
         "x": [
          1.4935714285714283,
          1.4978571428571428
         ],
         "y": [
          -0.075,
          -0.0825
         ]
        },
        {
         "hoverinfo": "none",
         "legendgroup": "bearings",
         "line": {
          "color": "#355d7a",
          "width": 1
         },
         "mode": "lines",
         "name": "Bearing 1",
         "showlegend": false,
         "type": "scatter",
         "x": [
          1.4978571428571428,
          1.5021428571428572
         ],
         "y": [
          0.075,
          0.0825
         ]
        },
        {
         "hoverinfo": "none",
         "legendgroup": "bearings",
         "line": {
          "color": "#355d7a",
          "width": 1
         },
         "mode": "lines",
         "name": "Bearing 1",
         "showlegend": false,
         "type": "scatter",
         "x": [
          1.4978571428571428,
          1.5021428571428572
         ],
         "y": [
          -0.075,
          -0.0825
         ]
        },
        {
         "hoverinfo": "none",
         "legendgroup": "bearings",
         "line": {
          "color": "#355d7a",
          "width": 1
         },
         "mode": "lines",
         "name": "Bearing 1",
         "showlegend": false,
         "type": "scatter",
         "x": [
          1.5021428571428572,
          1.5064285714285717
         ],
         "y": [
          0.075,
          0.0825
         ]
        },
        {
         "hoverinfo": "none",
         "legendgroup": "bearings",
         "line": {
          "color": "#355d7a",
          "width": 1
         },
         "mode": "lines",
         "name": "Bearing 1",
         "showlegend": false,
         "type": "scatter",
         "x": [
          1.5021428571428572,
          1.5064285714285717
         ],
         "y": [
          -0.075,
          -0.0825
         ]
        },
        {
         "hoverinfo": "none",
         "legendgroup": "bearings",
         "line": {
          "color": "#355d7a",
          "width": 1
         },
         "mode": "lines",
         "name": "Bearing 1",
         "showlegend": false,
         "type": "scatter",
         "x": [
          1.5064285714285717,
          1.5107142857142857
         ],
         "y": [
          0.075,
          0.0825
         ]
        },
        {
         "hoverinfo": "none",
         "legendgroup": "bearings",
         "line": {
          "color": "#355d7a",
          "width": 1
         },
         "mode": "lines",
         "name": "Bearing 1",
         "showlegend": false,
         "type": "scatter",
         "x": [
          1.5064285714285717,
          1.5107142857142857
         ],
         "y": [
          -0.075,
          -0.0825
         ]
        },
        {
         "hoverinfo": "none",
         "legendgroup": "bearings",
         "line": {
          "color": "#355d7a",
          "width": 1
         },
         "mode": "lines",
         "name": "Bearing 1",
         "showlegend": false,
         "type": "scatter",
         "x": [
          1.5107142857142857,
          1.515
         ],
         "y": [
          0.075,
          0.0825
         ]
        },
        {
         "hoverinfo": "none",
         "legendgroup": "bearings",
         "line": {
          "color": "#355d7a",
          "width": 1
         },
         "mode": "lines",
         "name": "Bearing 1",
         "showlegend": false,
         "type": "scatter",
         "x": [
          1.5107142857142857,
          1.515
         ],
         "y": [
          -0.075,
          -0.0825
         ]
        },
        {
         "hoverinfo": "none",
         "legendgroup": "bearings",
         "line": {
          "color": "#355d7a",
          "width": 1
         },
         "mode": "lines",
         "name": "Bearing 1",
         "showlegend": false,
         "type": "scatter",
         "x": [
          1.4928571428571429,
          1.4928571428571429,
          1.4892857142857143,
          1.4964285714285714,
          1.4892857142857143,
          1.4964285714285714,
          1.4892857142857143,
          1.4964285714285714,
          1.4928571428571429,
          1.4928571428571429
         ],
         "y": [
          0.0375,
          0.04107142857142857,
          0.04107142857142857,
          0.044642857142857144,
          0.04821428571428571,
          0.05178571428571428,
          0.055357142857142855,
          0.05892857142857143,
          0.05892857142857143,
          0.0625
         ]
        },
        {
         "hoverinfo": "none",
         "legendgroup": "bearings",
         "line": {
          "color": "#355d7a",
          "width": 1
         },
         "mode": "lines",
         "name": "Bearing 1",
         "showlegend": false,
         "type": "scatter",
         "x": [
          1.4928571428571429,
          1.4928571428571429,
          1.4892857142857143,
          1.4964285714285714,
          1.4892857142857143,
          1.4964285714285714,
          1.4892857142857143,
          1.4964285714285714,
          1.4928571428571429,
          1.4928571428571429
         ],
         "y": [
          -0.0375,
          -0.04107142857142857,
          -0.04107142857142857,
          -0.044642857142857144,
          -0.04821428571428571,
          -0.05178571428571428,
          -0.055357142857142855,
          -0.05892857142857143,
          -0.05892857142857143,
          -0.0625
         ]
        },
        {
         "hoverinfo": "none",
         "legendgroup": "bearings",
         "line": {
          "color": "#355d7a",
          "width": 1
         },
         "mode": "lines",
         "name": "Bearing 1",
         "showlegend": false,
         "type": "scatter",
         "x": [
          1.5071428571428571,
          1.5071428571428571
         ],
         "y": [
          0.0375,
          0.044642857142857144
         ]
        },
        {
         "hoverinfo": "none",
         "legendgroup": "bearings",
         "line": {
          "color": "#355d7a",
          "width": 1
         },
         "mode": "lines",
         "name": "Bearing 1",
         "showlegend": false,
         "type": "scatter",
         "x": [
          1.5071428571428571,
          1.5071428571428571
         ],
         "y": [
          -0.0375,
          -0.044642857142857144
         ]
        },
        {
         "hoverinfo": "none",
         "legendgroup": "bearings",
         "line": {
          "color": "#355d7a",
          "width": 1
         },
         "mode": "lines",
         "name": "Bearing 1",
         "showlegend": false,
         "type": "scatter",
         "x": [
          1.5,
          1.5,
          1.5142857142857142,
          1.5142857142857142
         ],
         "y": [
          0.055357142857142855,
          0.044642857142857144,
          0.044642857142857144,
          0.055357142857142855
         ]
        },
        {
         "hoverinfo": "none",
         "legendgroup": "bearings",
         "line": {
          "color": "#355d7a",
          "width": 1
         },
         "mode": "lines",
         "name": "Bearing 1",
         "showlegend": false,
         "type": "scatter",
         "x": [
          1.5,
          1.5,
          1.5142857142857142,
          1.5142857142857142
         ],
         "y": [
          -0.055357142857142855,
          -0.044642857142857144,
          -0.044642857142857144,
          -0.055357142857142855
         ]
        },
        {
         "hoverinfo": "none",
         "legendgroup": "bearings",
         "line": {
          "color": "#355d7a",
          "width": 1
         },
         "mode": "lines",
         "name": "Bearing 1",
         "showlegend": false,
         "type": "scatter",
         "x": [
          1.5,
          1.5142857142857142,
          1.5071428571428571,
          1.5071428571428571
         ],
         "y": [
          0.05178571428571428,
          0.05178571428571428,
          0.05178571428571428,
          0.0625
         ]
        },
        {
         "hoverinfo": "none",
         "legendgroup": "bearings",
         "line": {
          "color": "#355d7a",
          "width": 1
         },
         "mode": "lines",
         "name": "Bearing 1",
         "showlegend": false,
         "type": "scatter",
         "x": [
          1.5,
          1.5142857142857142,
          1.5071428571428571,
          1.5071428571428571
         ],
         "y": [
          -0.05178571428571428,
          -0.05178571428571428,
          -0.05178571428571428,
          -0.0625
         ]
        },
        {
         "hoverinfo": "none",
         "legendgroup": "bearings",
         "line": {
          "color": "#355d7a",
          "width": 1
         },
         "mode": "lines",
         "name": "Bearing 2",
         "showlegend": false,
         "type": "scatter",
         "x": [
          0,
          0,
          -0.0071428571428571435,
          0.0071428571428571435
         ],
         "y": [
          0.075,
          0.0875,
          0.0875,
          0.0875
         ]
        },
        {
         "hoverinfo": "none",
         "legendgroup": "bearings",
         "line": {
          "color": "#355d7a",
          "width": 1
         },
         "mode": "lines",
         "name": "Bearing 2",
         "showlegend": false,
         "type": "scatter",
         "x": [
          0,
          0,
          -0.0071428571428571435,
          0.0071428571428571435
         ],
         "y": [
          -0.075,
          -0.0875,
          -0.0875,
          -0.0875
         ]
        },
        {
         "hoverinfo": "none",
         "legendgroup": "bearings",
         "line": {
          "color": "#355d7a",
          "width": 1
         },
         "mode": "lines",
         "name": "Bearing 2",
         "showlegend": false,
         "type": "scatter",
         "x": [
          0,
          0,
          -0.0071428571428571435,
          0.0071428571428571435
         ],
         "y": [
          0.125,
          0.1125,
          0.1125,
          0.1125
         ]
        },
        {
         "hoverinfo": "none",
         "legendgroup": "bearings",
         "line": {
          "color": "#355d7a",
          "width": 1
         },
         "mode": "lines",
         "name": "Bearing 2",
         "showlegend": false,
         "type": "scatter",
         "x": [
          0,
          0,
          -0.0071428571428571435,
          0.0071428571428571435
         ],
         "y": [
          -0.125,
          -0.1125,
          -0.1125,
          -0.1125
         ]
        },
        {
         "hoverinfo": "none",
         "legendgroup": "bearings",
         "line": {
          "color": "#355d7a",
          "width": 1
         },
         "mode": "lines",
         "name": "Bearing 2",
         "showlegend": false,
         "type": "scatter",
         "x": [
          -0.010714285714285714,
          0.010714285714285714
         ],
         "y": [
          0.125,
          0.125
         ]
        },
        {
         "hoverinfo": "none",
         "legendgroup": "bearings",
         "line": {
          "color": "#355d7a",
          "width": 1
         },
         "mode": "lines",
         "name": "Bearing 2",
         "showlegend": false,
         "type": "scatter",
         "x": [
          -0.010714285714285714,
          0.010714285714285714
         ],
         "y": [
          -0.125,
          -0.125
         ]
        },
        {
         "hoverinfo": "none",
         "legendgroup": "bearings",
         "line": {
          "color": "#355d7a",
          "width": 1
         },
         "mode": "lines",
         "name": "Bearing 2",
         "showlegend": false,
         "type": "scatter",
         "x": [
          -0.010714285714285714,
          -0.0064285714285714285
         ],
         "y": [
          0.125,
          0.1375
         ]
        },
        {
         "hoverinfo": "none",
         "legendgroup": "bearings",
         "line": {
          "color": "#355d7a",
          "width": 1
         },
         "mode": "lines",
         "name": "Bearing 2",
         "showlegend": false,
         "type": "scatter",
         "x": [
          -0.010714285714285714,
          -0.0064285714285714285
         ],
         "y": [
          -0.125,
          -0.1375
         ]
        },
        {
         "hoverinfo": "none",
         "legendgroup": "bearings",
         "line": {
          "color": "#355d7a",
          "width": 1
         },
         "mode": "lines",
         "name": "Bearing 2",
         "showlegend": false,
         "type": "scatter",
         "x": [
          -0.0064285714285714285,
          -0.0021428571428571425
         ],
         "y": [
          0.125,
          0.1375
         ]
        },
        {
         "hoverinfo": "none",
         "legendgroup": "bearings",
         "line": {
          "color": "#355d7a",
          "width": 1
         },
         "mode": "lines",
         "name": "Bearing 2",
         "showlegend": false,
         "type": "scatter",
         "x": [
          -0.0064285714285714285,
          -0.0021428571428571425
         ],
         "y": [
          -0.125,
          -0.1375
         ]
        },
        {
         "hoverinfo": "none",
         "legendgroup": "bearings",
         "line": {
          "color": "#355d7a",
          "width": 1
         },
         "mode": "lines",
         "name": "Bearing 2",
         "showlegend": false,
         "type": "scatter",
         "x": [
          -0.0021428571428571425,
          0.0021428571428571443
         ],
         "y": [
          0.125,
          0.1375
         ]
        },
        {
         "hoverinfo": "none",
         "legendgroup": "bearings",
         "line": {
          "color": "#355d7a",
          "width": 1
         },
         "mode": "lines",
         "name": "Bearing 2",
         "showlegend": false,
         "type": "scatter",
         "x": [
          -0.0021428571428571425,
          0.0021428571428571443
         ],
         "y": [
          -0.125,
          -0.1375
         ]
        },
        {
         "hoverinfo": "none",
         "legendgroup": "bearings",
         "line": {
          "color": "#355d7a",
          "width": 1
         },
         "mode": "lines",
         "name": "Bearing 2",
         "showlegend": false,
         "type": "scatter",
         "x": [
          0.0021428571428571443,
          0.006428571428571429
         ],
         "y": [
          0.125,
          0.1375
         ]
        },
        {
         "hoverinfo": "none",
         "legendgroup": "bearings",
         "line": {
          "color": "#355d7a",
          "width": 1
         },
         "mode": "lines",
         "name": "Bearing 2",
         "showlegend": false,
         "type": "scatter",
         "x": [
          0.0021428571428571443,
          0.006428571428571429
         ],
         "y": [
          -0.125,
          -0.1375
         ]
        },
        {
         "hoverinfo": "none",
         "legendgroup": "bearings",
         "line": {
          "color": "#355d7a",
          "width": 1
         },
         "mode": "lines",
         "name": "Bearing 2",
         "showlegend": false,
         "type": "scatter",
         "x": [
          0.006428571428571429,
          0.010714285714285714
         ],
         "y": [
          0.125,
          0.1375
         ]
        },
        {
         "hoverinfo": "none",
         "legendgroup": "bearings",
         "line": {
          "color": "#355d7a",
          "width": 1
         },
         "mode": "lines",
         "name": "Bearing 2",
         "showlegend": false,
         "type": "scatter",
         "x": [
          0.006428571428571429,
          0.010714285714285714
         ],
         "y": [
          -0.125,
          -0.1375
         ]
        },
        {
         "hoverinfo": "none",
         "legendgroup": "bearings",
         "line": {
          "color": "#355d7a",
          "width": 1
         },
         "mode": "lines",
         "name": "Bearing 2",
         "showlegend": false,
         "type": "scatter",
         "x": [
          0.010714285714285714,
          0.015000000000000005
         ],
         "y": [
          0.125,
          0.1375
         ]
        },
        {
         "hoverinfo": "none",
         "legendgroup": "bearings",
         "line": {
          "color": "#355d7a",
          "width": 1
         },
         "mode": "lines",
         "name": "Bearing 2",
         "showlegend": false,
         "type": "scatter",
         "x": [
          0.010714285714285714,
          0.015000000000000005
         ],
         "y": [
          -0.125,
          -0.1375
         ]
        },
        {
         "hoverinfo": "none",
         "legendgroup": "bearings",
         "line": {
          "color": "#355d7a",
          "width": 1
         },
         "mode": "lines",
         "name": "Bearing 2",
         "showlegend": false,
         "type": "scatter",
         "x": [
          -0.0071428571428571435,
          -0.0071428571428571435,
          -0.010714285714285714,
          -0.003571428571428572,
          -0.010714285714285714,
          -0.003571428571428572,
          -0.010714285714285714,
          -0.003571428571428572,
          -0.0071428571428571435,
          -0.0071428571428571435
         ],
         "y": [
          0.0875,
          0.09107142857142855,
          0.09107142857142855,
          0.09464285714285714,
          0.09821428571428573,
          0.10178571428571428,
          0.10535714285714286,
          0.10892857142857144,
          0.10892857142857142,
          0.1125
         ]
        },
        {
         "hoverinfo": "none",
         "legendgroup": "bearings",
         "line": {
          "color": "#355d7a",
          "width": 1
         },
         "mode": "lines",
         "name": "Bearing 2",
         "showlegend": false,
         "type": "scatter",
         "x": [
          -0.0071428571428571435,
          -0.0071428571428571435,
          -0.010714285714285714,
          -0.003571428571428572,
          -0.010714285714285714,
          -0.003571428571428572,
          -0.010714285714285714,
          -0.003571428571428572,
          -0.0071428571428571435,
          -0.0071428571428571435
         ],
         "y": [
          -0.0875,
          -0.09107142857142855,
          -0.09107142857142855,
          -0.09464285714285714,
          -0.09821428571428573,
          -0.10178571428571428,
          -0.10535714285714286,
          -0.10892857142857144,
          -0.10892857142857142,
          -0.1125
         ]
        },
        {
         "hoverinfo": "none",
         "legendgroup": "bearings",
         "line": {
          "color": "#355d7a",
          "width": 1
         },
         "mode": "lines",
         "name": "Bearing 2",
         "showlegend": false,
         "type": "scatter",
         "x": [
          0.0071428571428571435,
          0.0071428571428571435
         ],
         "y": [
          0.0875,
          0.09464285714285714
         ]
        },
        {
         "hoverinfo": "none",
         "legendgroup": "bearings",
         "line": {
          "color": "#355d7a",
          "width": 1
         },
         "mode": "lines",
         "name": "Bearing 2",
         "showlegend": false,
         "type": "scatter",
         "x": [
          0.0071428571428571435,
          0.0071428571428571435
         ],
         "y": [
          -0.0875,
          -0.09464285714285714
         ]
        },
        {
         "hoverinfo": "none",
         "legendgroup": "bearings",
         "line": {
          "color": "#355d7a",
          "width": 1
         },
         "mode": "lines",
         "name": "Bearing 2",
         "showlegend": false,
         "type": "scatter",
         "x": [
          0,
          0,
          0.014285714285714289,
          0.014285714285714289
         ],
         "y": [
          0.10535714285714286,
          0.09464285714285714,
          0.09464285714285714,
          0.10535714285714286
         ]
        },
        {
         "hoverinfo": "none",
         "legendgroup": "bearings",
         "line": {
          "color": "#355d7a",
          "width": 1
         },
         "mode": "lines",
         "name": "Bearing 2",
         "showlegend": false,
         "type": "scatter",
         "x": [
          0,
          0,
          0.014285714285714289,
          0.014285714285714289
         ],
         "y": [
          -0.10535714285714286,
          -0.09464285714285714,
          -0.09464285714285714,
          -0.10535714285714286
         ]
        },
        {
         "hoverinfo": "none",
         "legendgroup": "bearings",
         "line": {
          "color": "#355d7a",
          "width": 1
         },
         "mode": "lines",
         "name": "Bearing 2",
         "showlegend": false,
         "type": "scatter",
         "x": [
          0,
          0.014285714285714289,
          0.0071428571428571435,
          0.0071428571428571435
         ],
         "y": [
          0.10178571428571428,
          0.10178571428571428,
          0.10178571428571428,
          0.1125
         ]
        },
        {
         "hoverinfo": "none",
         "legendgroup": "bearings",
         "line": {
          "color": "#355d7a",
          "width": 1
         },
         "mode": "lines",
         "name": "Bearing 2",
         "showlegend": false,
         "type": "scatter",
         "x": [
          0,
          0.014285714285714289,
          0.0071428571428571435,
          0.0071428571428571435
         ],
         "y": [
          -0.10178571428571428,
          -0.10178571428571428,
          -0.10178571428571428,
          -0.1125
         ]
        },
        {
         "customdata": [
          [
           7,
           30,
           30,
           30
          ],
          [
           7,
           30,
           30,
           30
          ]
         ],
         "hoverinfo": "text",
         "hoverlabel": {
          "bgcolor": "DarkSalmon"
         },
         "hovertemplate": "PointMass Node: 7<br>Mass (X): 30.000<br>Mass (Y): 30.000<br>Mass (Z): 30.000<br>",
         "legendgroup": "pointmass",
         "marker": {
          "color": "DarkSalmon",
          "size": 5
         },
         "mode": "markers",
         "name": "Point Mass 0",
         "showlegend": false,
         "text": "PointMass Node: 7<br>Mass (X): 30.000<br>Mass (Y): 30.000<br>Mass (Z): 30.000<br>",
         "type": "scatter",
         "x": [
          0,
          0
         ],
         "y": [
          0.075,
          -0.075
         ]
        }
       ],
       "layout": {
        "shapes": [
         {
          "fillcolor": "Firebrick",
          "line": {
           "color": "Firebrick"
          },
          "type": "circle",
          "x0": 0.49375,
          "x1": 0.50625,
          "xref": "x",
          "y0": 0.11875,
          "y1": 0.13125,
          "yref": "y"
         },
         {
          "fillcolor": "Firebrick",
          "line": {
           "color": "Firebrick"
          },
          "type": "circle",
          "x0": 0.49375,
          "x1": 0.50625,
          "xref": "x",
          "y0": -0.13125,
          "y1": -0.11875,
          "yref": "y"
         },
         {
          "fillcolor": "Firebrick",
          "line": {
           "color": "Firebrick"
          },
          "type": "circle",
          "x0": 0.99375,
          "x1": 1.00625,
          "xref": "x",
          "y0": 0.11875,
          "y1": 0.13125,
          "yref": "y"
         },
         {
          "fillcolor": "Firebrick",
          "line": {
           "color": "Firebrick"
          },
          "type": "circle",
          "x0": 0.99375,
          "x1": 1.00625,
          "xref": "x",
          "y0": -0.13125,
          "y1": -0.11875,
          "yref": "y"
         },
         {
          "fillcolor": "DarkSalmon",
          "line": {
           "color": "black"
          },
          "type": "circle",
          "x0": -0.0062499999999999995,
          "x1": 0.0062499999999999995,
          "xref": "x",
          "y0": 0.06874999999999999,
          "y1": 0.08125,
          "yref": "y"
         },
         {
          "fillcolor": "DarkSalmon",
          "line": {
           "color": "black"
          },
          "type": "circle",
          "x0": -0.0062499999999999995,
          "x1": 0.0062499999999999995,
          "xref": "x",
          "y0": -0.08125,
          "y1": -0.06874999999999999,
          "yref": "y"
         }
        ],
        "template": {
         "data": {
          "bar": [
           {
            "error_x": {
             "color": "#2a3f5f"
            },
            "error_y": {
             "color": "#2a3f5f"
            },
            "marker": {
             "line": {
              "color": "white",
              "width": 0.5
             }
            },
            "type": "bar"
           }
          ],
          "barpolar": [
           {
            "marker": {
             "line": {
              "color": "white",
              "width": 0.5
             }
            },
            "type": "barpolar"
           }
          ],
          "carpet": [
           {
            "aaxis": {
             "endlinecolor": "#2a3f5f",
             "gridcolor": "#C8D4E3",
             "linecolor": "#C8D4E3",
             "minorgridcolor": "#C8D4E3",
             "startlinecolor": "#2a3f5f"
            },
            "baxis": {
             "endlinecolor": "#2a3f5f",
             "gridcolor": "#C8D4E3",
             "linecolor": "#C8D4E3",
             "minorgridcolor": "#C8D4E3",
             "startlinecolor": "#2a3f5f"
            },
            "type": "carpet"
           }
          ],
          "choropleth": [
           {
            "colorbar": {
             "outlinewidth": 0,
             "ticks": ""
            },
            "type": "choropleth"
           }
          ],
          "contour": [
           {
            "colorbar": {
             "outlinewidth": 0,
             "ticks": ""
            },
            "colorscale": [
             [
              0,
              "#0d0887"
             ],
             [
              0.1111111111111111,
              "#46039f"
             ],
             [
              0.2222222222222222,
              "#7201a8"
             ],
             [
              0.3333333333333333,
              "#9c179e"
             ],
             [
              0.4444444444444444,
              "#bd3786"
             ],
             [
              0.5555555555555556,
              "#d8576b"
             ],
             [
              0.6666666666666666,
              "#ed7953"
             ],
             [
              0.7777777777777778,
              "#fb9f3a"
             ],
             [
              0.8888888888888888,
              "#fdca26"
             ],
             [
              1,
              "#f0f921"
             ]
            ],
            "type": "contour"
           }
          ],
          "contourcarpet": [
           {
            "colorbar": {
             "outlinewidth": 0,
             "ticks": ""
            },
            "type": "contourcarpet"
           }
          ],
          "heatmap": [
           {
            "colorbar": {
             "outlinewidth": 0,
             "ticks": ""
            },
            "colorscale": [
             [
              0,
              "#0d0887"
             ],
             [
              0.1111111111111111,
              "#46039f"
             ],
             [
              0.2222222222222222,
              "#7201a8"
             ],
             [
              0.3333333333333333,
              "#9c179e"
             ],
             [
              0.4444444444444444,
              "#bd3786"
             ],
             [
              0.5555555555555556,
              "#d8576b"
             ],
             [
              0.6666666666666666,
              "#ed7953"
             ],
             [
              0.7777777777777778,
              "#fb9f3a"
             ],
             [
              0.8888888888888888,
              "#fdca26"
             ],
             [
              1,
              "#f0f921"
             ]
            ],
            "type": "heatmap"
           }
          ],
          "heatmapgl": [
           {
            "colorbar": {
             "outlinewidth": 0,
             "ticks": ""
            },
            "colorscale": [
             [
              0,
              "#0d0887"
             ],
             [
              0.1111111111111111,
              "#46039f"
             ],
             [
              0.2222222222222222,
              "#7201a8"
             ],
             [
              0.3333333333333333,
              "#9c179e"
             ],
             [
              0.4444444444444444,
              "#bd3786"
             ],
             [
              0.5555555555555556,
              "#d8576b"
             ],
             [
              0.6666666666666666,
              "#ed7953"
             ],
             [
              0.7777777777777778,
              "#fb9f3a"
             ],
             [
              0.8888888888888888,
              "#fdca26"
             ],
             [
              1,
              "#f0f921"
             ]
            ],
            "type": "heatmapgl"
           }
          ],
          "histogram": [
           {
            "marker": {
             "colorbar": {
              "outlinewidth": 0,
              "ticks": ""
             }
            },
            "type": "histogram"
           }
          ],
          "histogram2d": [
           {
            "colorbar": {
             "outlinewidth": 0,
             "ticks": ""
            },
            "colorscale": [
             [
              0,
              "#0d0887"
             ],
             [
              0.1111111111111111,
              "#46039f"
             ],
             [
              0.2222222222222222,
              "#7201a8"
             ],
             [
              0.3333333333333333,
              "#9c179e"
             ],
             [
              0.4444444444444444,
              "#bd3786"
             ],
             [
              0.5555555555555556,
              "#d8576b"
             ],
             [
              0.6666666666666666,
              "#ed7953"
             ],
             [
              0.7777777777777778,
              "#fb9f3a"
             ],
             [
              0.8888888888888888,
              "#fdca26"
             ],
             [
              1,
              "#f0f921"
             ]
            ],
            "type": "histogram2d"
           }
          ],
          "histogram2dcontour": [
           {
            "colorbar": {
             "outlinewidth": 0,
             "ticks": ""
            },
            "colorscale": [
             [
              0,
              "#0d0887"
             ],
             [
              0.1111111111111111,
              "#46039f"
             ],
             [
              0.2222222222222222,
              "#7201a8"
             ],
             [
              0.3333333333333333,
              "#9c179e"
             ],
             [
              0.4444444444444444,
              "#bd3786"
             ],
             [
              0.5555555555555556,
              "#d8576b"
             ],
             [
              0.6666666666666666,
              "#ed7953"
             ],
             [
              0.7777777777777778,
              "#fb9f3a"
             ],
             [
              0.8888888888888888,
              "#fdca26"
             ],
             [
              1,
              "#f0f921"
             ]
            ],
            "type": "histogram2dcontour"
           }
          ],
          "mesh3d": [
           {
            "colorbar": {
             "outlinewidth": 0,
             "ticks": ""
            },
            "type": "mesh3d"
           }
          ],
          "parcoords": [
           {
            "line": {
             "colorbar": {
              "outlinewidth": 0,
              "ticks": ""
             }
            },
            "type": "parcoords"
           }
          ],
          "pie": [
           {
            "automargin": true,
            "type": "pie"
           }
          ],
          "scatter": [
           {
            "marker": {
             "colorbar": {
              "outlinewidth": 0,
              "ticks": ""
             }
            },
            "type": "scatter"
           }
          ],
          "scatter3d": [
           {
            "line": {
             "colorbar": {
              "outlinewidth": 0,
              "ticks": ""
             }
            },
            "marker": {
             "colorbar": {
              "outlinewidth": 0,
              "ticks": ""
             },
             "size": 4
            },
            "type": "scatter3d"
           }
          ],
          "scattercarpet": [
           {
            "marker": {
             "colorbar": {
              "outlinewidth": 0,
              "ticks": ""
             }
            },
            "type": "scattercarpet"
           }
          ],
          "scattergeo": [
           {
            "marker": {
             "colorbar": {
              "outlinewidth": 0,
              "ticks": ""
             }
            },
            "type": "scattergeo"
           }
          ],
          "scattergl": [
           {
            "marker": {
             "colorbar": {
              "outlinewidth": 0,
              "ticks": ""
             }
            },
            "type": "scattergl"
           }
          ],
          "scattermapbox": [
           {
            "marker": {
             "colorbar": {
              "outlinewidth": 0,
              "ticks": ""
             }
            },
            "type": "scattermapbox"
           }
          ],
          "scatterpolar": [
           {
            "marker": {
             "colorbar": {
              "outlinewidth": 0,
              "ticks": ""
             }
            },
            "type": "scatterpolar"
           }
          ],
          "scatterpolargl": [
           {
            "marker": {
             "colorbar": {
              "outlinewidth": 0,
              "ticks": ""
             }
            },
            "type": "scatterpolargl"
           }
          ],
          "scatterternary": [
           {
            "marker": {
             "colorbar": {
              "outlinewidth": 0,
              "ticks": ""
             }
            },
            "type": "scatterternary"
           }
          ],
          "surface": [
           {
            "colorbar": {
             "outlinewidth": 0,
             "ticks": ""
            },
            "colorscale": [
             [
              0,
              "#0d0887"
             ],
             [
              0.1111111111111111,
              "#46039f"
             ],
             [
              0.2222222222222222,
              "#7201a8"
             ],
             [
              0.3333333333333333,
              "#9c179e"
             ],
             [
              0.4444444444444444,
              "#bd3786"
             ],
             [
              0.5555555555555556,
              "#d8576b"
             ],
             [
              0.6666666666666666,
              "#ed7953"
             ],
             [
              0.7777777777777778,
              "#fb9f3a"
             ],
             [
              0.8888888888888888,
              "#fdca26"
             ],
             [
              1,
              "#f0f921"
             ]
            ],
            "type": "surface"
           }
          ],
          "table": [
           {
            "cells": {
             "fill": {
              "color": "#EBF0F8"
             },
             "line": {
              "color": "white"
             }
            },
            "header": {
             "fill": {
              "color": "#C8D4E3"
             },
             "line": {
              "color": "white"
             }
            },
            "type": "table"
           }
          ]
         },
         "layout": {
          "annotationdefaults": {
           "arrowcolor": "#2a3f5f",
           "arrowhead": 0,
           "arrowwidth": 1
          },
          "coloraxis": {
           "colorbar": {
            "outlinewidth": 0,
            "ticks": ""
           }
          },
          "colorscale": {
           "diverging": [
            [
             0,
             "#8e0152"
            ],
            [
             0.1,
             "#c51b7d"
            ],
            [
             0.2,
             "#de77ae"
            ],
            [
             0.3,
             "#f1b6da"
            ],
            [
             0.4,
             "#fde0ef"
            ],
            [
             0.5,
             "#f7f7f7"
            ],
            [
             0.6,
             "#e6f5d0"
            ],
            [
             0.7,
             "#b8e186"
            ],
            [
             0.8,
             "#7fbc41"
            ],
            [
             0.9,
             "#4d9221"
            ],
            [
             1,
             "#276419"
            ]
           ],
           "sequential": [
            [
             0,
             "#0d0887"
            ],
            [
             0.1111111111111111,
             "#46039f"
            ],
            [
             0.2222222222222222,
             "#7201a8"
            ],
            [
             0.3333333333333333,
             "#9c179e"
            ],
            [
             0.4444444444444444,
             "#bd3786"
            ],
            [
             0.5555555555555556,
             "#d8576b"
            ],
            [
             0.6666666666666666,
             "#ed7953"
            ],
            [
             0.7777777777777778,
             "#fb9f3a"
            ],
            [
             0.8888888888888888,
             "#fdca26"
            ],
            [
             1,
             "#f0f921"
            ]
           ],
           "sequentialminus": [
            [
             0,
             "#0d0887"
            ],
            [
             0.1111111111111111,
             "#46039f"
            ],
            [
             0.2222222222222222,
             "#7201a8"
            ],
            [
             0.3333333333333333,
             "#9c179e"
            ],
            [
             0.4444444444444444,
             "#bd3786"
            ],
            [
             0.5555555555555556,
             "#d8576b"
            ],
            [
             0.6666666666666666,
             "#ed7953"
            ],
            [
             0.7777777777777778,
             "#fb9f3a"
            ],
            [
             0.8888888888888888,
             "#fdca26"
            ],
            [
             1,
             "#f0f921"
            ]
           ]
          },
          "colorway": [
           "#1f77b4",
           "#ff7f0e",
           "#2ca02c",
           "#d62728",
           "#9467bd",
           "#8c564b",
           "#e377c2",
           "#7f7f7f",
           "#bcbd22",
           "#17becf"
          ],
          "font": {
           "color": "#2a3f5f"
          },
          "geo": {
           "bgcolor": "white",
           "lakecolor": "white",
           "landcolor": "white",
           "showlakes": true,
           "showland": true,
           "subunitcolor": "#C8D4E3"
          },
          "hoverlabel": {
           "align": "left"
          },
          "hovermode": "closest",
          "mapbox": {
           "style": "light"
          },
          "paper_bgcolor": "white",
          "plot_bgcolor": "white",
          "polar": {
           "angularaxis": {
            "gridcolor": "#EBF0F8",
            "linecolor": "#EBF0F8",
            "ticks": ""
           },
           "bgcolor": "white",
           "radialaxis": {
            "gridcolor": "#EBF0F8",
            "linecolor": "#EBF0F8",
            "ticks": ""
           }
          },
          "scene": {
           "camera": {
            "center": {
             "x": 0,
             "y": 0,
             "z": 0
            },
            "eye": {
             "x": 2,
             "y": 2,
             "z": 2
            },
            "up": {
             "x": 0,
             "y": 0,
             "z": 1
            }
           },
           "xaxis": {
            "backgroundcolor": "white",
            "gridcolor": "#DFE8F3",
            "gridwidth": 2,
            "linecolor": "#EBF0F8",
            "showbackground": true,
            "showspikes": false,
            "ticks": "",
            "zerolinecolor": "#EBF0F8"
           },
           "yaxis": {
            "backgroundcolor": "white",
            "gridcolor": "#DFE8F3",
            "gridwidth": 2,
            "linecolor": "#EBF0F8",
            "showbackground": true,
            "showspikes": false,
            "ticks": "",
            "zerolinecolor": "#EBF0F8"
           },
           "zaxis": {
            "backgroundcolor": "white",
            "gridcolor": "#DFE8F3",
            "gridwidth": 2,
            "linecolor": "#EBF0F8",
            "showbackground": true,
            "showspikes": false,
            "ticks": "",
            "zerolinecolor": "#EBF0F8"
           }
          },
          "shapedefaults": {
           "line": {
            "color": "#2a3f5f"
           }
          },
          "ternary": {
           "aaxis": {
            "gridcolor": "#DFE8F3",
            "linecolor": "#A2B1C6",
            "ticks": ""
           },
           "baxis": {
            "gridcolor": "#DFE8F3",
            "linecolor": "#A2B1C6",
            "ticks": ""
           },
           "bgcolor": "white",
           "caxis": {
            "gridcolor": "#DFE8F3",
            "linecolor": "#A2B1C6",
            "ticks": ""
           }
          },
          "title": {
           "x": 0.05
          },
          "xaxis": {
           "automargin": true,
           "gridcolor": "#EBF0F8",
           "linecolor": "black",
           "linewidth": 2,
           "mirror": true,
           "showline": true,
           "ticks": "",
           "title": {
            "standoff": 15
           },
           "zeroline": false,
           "zerolinecolor": "#EBF0F8",
           "zerolinewidth": 2
          },
          "yaxis": {
           "automargin": true,
           "gridcolor": "#EBF0F8",
           "linecolor": "black",
           "linewidth": 2,
           "mirror": true,
           "showline": true,
           "ticks": "",
           "title": {
            "standoff": 15
           },
           "zeroline": false,
           "zerolinecolor": "#EBF0F8",
           "zerolinewidth": 2
          }
         }
        },
        "title": {
         "text": "Rotor Model"
        },
        "xaxis": {
         "mirror": true,
         "range": [
          -0.15000000000000002,
          1.65
         ],
         "showgrid": false,
         "title": {
          "text": "Axial location (m)"
         }
        },
        "yaxis": {
         "mirror": true,
         "range": [
          -0.45,
          0.45
         ],
         "showgrid": false,
         "title": {
          "text": "Shaft radius (m)"
         }
        }
       }
      }
     },
     "metadata": {},
     "output_type": "display_data"
    }
   ],
   "source": [
    "rotor1.plot_rotor()"
   ]
  },
  {
   "cell_type": "markdown",
   "metadata": {},
   "source": [
    "Let's visualize another rotor example with **overlapping shaft elements**:"
   ]
  },
  {
   "cell_type": "code",
   "execution_count": 40,
   "metadata": {
    "execution": {
     "iopub.execute_input": "2023-05-04T01:05:10.357835Z",
     "iopub.status.busy": "2023-05-04T01:05:10.357706Z",
     "iopub.status.idle": "2023-05-04T01:05:10.609905Z",
     "shell.execute_reply": "2023-05-04T01:05:10.609360Z"
    }
   },
   "outputs": [],
   "source": [
    "shaft_file = Path(\"shaft_si.xls\")\n",
    "shaft = rs.ShaftElement.from_table(\n",
    "    file=shaft_file, sheet_type=\"Model\", sheet_name=\"Model\"\n",
    ")\n",
    "\n",
    "file_path = Path(\"shaft_si.xls\")\n",
    "list_of_disks = rs.DiskElement.from_table(file=file_path, sheet_name=\"More\")\n",
    "\n",
    "bearing1 = rs.BearingElement.from_table(n=7, file=\"bearing_seal_si.xls\")\n",
    "bearing2 = rs.BearingElement.from_table(n=48, file=\"bearing_seal_si.xls\")\n",
    "\n",
    "bearings = [bearing1, bearing2]\n",
    "\n",
    "rotor3 = rs.Rotor(shaft, list_of_disks, bearings)"
   ]
  },
  {
   "cell_type": "code",
   "execution_count": 41,
   "metadata": {
    "execution": {
     "iopub.execute_input": "2023-05-04T01:05:10.612551Z",
     "iopub.status.busy": "2023-05-04T01:05:10.612389Z",
     "iopub.status.idle": "2023-05-04T01:05:10.775797Z",
     "shell.execute_reply": "2023-05-04T01:05:10.775436Z"
    }
   },
   "outputs": [
    {
     "data": {
      "application/vnd.plotly.v1+json": {
       "config": {
        "plotlyServerURL": "https://plot.ly"
       },
       "data": [
        {
         "hoverinfo": "none",
         "line": {
          "color": "black",
          "dash": "dashdot",
          "width": 3
         },
         "mode": "lines",
         "opacity": 0.7,
         "showlegend": false,
         "type": "scatter",
         "x": [
          -0.33065000000000005,
          1.9839
         ],
         "y": [
          0,
          0
         ]
        },
        {
         "hoverinfo": "none",
         "marker": {
          "color": "#ffcc99",
          "line": {
           "color": "black",
           "width": 1
          },
          "opacity": 0.7,
          "size": 20
         },
         "mode": "markers+text",
         "showlegend": false,
         "text": [
          "0",
          "5",
          "10",
          "15",
          "20",
          "25",
          "30",
          "35",
          "40",
          "45",
          "50",
          "55"
         ],
         "type": "scatter",
         "x": [
          0,
          0.185,
          0.32750000000000007,
          0.4515000000000001,
          0.6299900000000002,
          0.7740000000000002,
          0.8870000000000002,
          1.0381000000000002,
          1.2095000000000002,
          1.3335,
          1.512375,
          1.65325
         ],
         "y": [
          0,
          0,
          0,
          0,
          0,
          0,
          0,
          0,
          0,
          0,
          0,
          0
         ]
        },
        {
         "customdata": [
          [
           0,
           0.151003,
           0.1409954,
           0.151003,
           0.1409954,
           0.035500000000000004,
           "shaft_mat_3"
          ],
          [
           0,
           0.151003,
           0.1409954,
           0.151003,
           0.1409954,
           0.035500000000000004,
           "shaft_mat_3"
          ],
          [
           0,
           0.151003,
           0.1409954,
           0.151003,
           0.1409954,
           0.035500000000000004,
           "shaft_mat_3"
          ],
          [
           0,
           0.151003,
           0.1409954,
           0.151003,
           0.1409954,
           0.035500000000000004,
           "shaft_mat_3"
          ],
          [
           0,
           0.151003,
           0.1409954,
           0.151003,
           0.1409954,
           0.035500000000000004,
           "shaft_mat_3"
          ],
          [
           0,
           0.151003,
           0.1409954,
           0.151003,
           0.1409954,
           0.035500000000000004,
           "shaft_mat_3"
          ],
          [
           0,
           0.151003,
           0.1409954,
           0.151003,
           0.1409954,
           0.035500000000000004,
           "shaft_mat_3"
          ],
          [
           0,
           0.151003,
           0.1409954,
           0.151003,
           0.1409954,
           0.035500000000000004,
           "shaft_mat_3"
          ],
          [
           0,
           0.151003,
           0.1409954,
           0.151003,
           0.1409954,
           0.035500000000000004,
           "shaft_mat_3"
          ],
          [
           0,
           0.151003,
           0.1409954,
           0.151003,
           0.1409954,
           0.035500000000000004,
           "shaft_mat_3"
          ]
         ],
         "fill": "toself",
         "fillcolor": "#525252",
         "hoverinfo": "text",
         "hoverlabel": {
          "bgcolor": "#525252"
         },
         "hoveron": "points+fills",
         "hovertemplate": "Element Number: 0<br>Left Outer Diameter: 0.151003 m<br>Left Inner Diameter: 0.140995 m<br>Right Outer Diameter: 0.151003 m<br>Right Inner Diameter: 0.140995 m<br>Element Length: 0.0355 m<br>Material: shaft_mat_3<br>",
         "legendgroup": "Shaft",
         "line": {
          "color": "black",
          "width": 1.5
         },
         "mode": "lines",
         "name": "ShaftElement 0",
         "opacity": 0.5,
         "showlegend": false,
         "text": "Element Number: 0<br>Left Outer Diameter: 0.151003 m<br>Left Inner Diameter: 0.140995 m<br>Right Outer Diameter: 0.151003 m<br>Right Inner Diameter: 0.140995 m<br>Element Length: 0.0355 m<br>Material: shaft_mat_3<br>",
         "type": "scatter",
         "x": [
          0,
          0,
          0.035500000000000004,
          0.035500000000000004,
          0,
          0,
          0,
          0.035500000000000004,
          0.035500000000000004,
          0
         ],
         "y": [
          0.0704977,
          0.0755015,
          0.0755015,
          0.0704977,
          0.0704977,
          -0.0704977,
          -0.0755015,
          -0.0755015,
          -0.0704977,
          -0.0704977
         ]
        },
        {
         "customdata": [
          [
           1,
           0.151003,
           0.1409954,
           0.151003,
           0.1409954,
           0.036000000000000004,
           "shaft_mat_3"
          ],
          [
           1,
           0.151003,
           0.1409954,
           0.151003,
           0.1409954,
           0.036000000000000004,
           "shaft_mat_3"
          ],
          [
           1,
           0.151003,
           0.1409954,
           0.151003,
           0.1409954,
           0.036000000000000004,
           "shaft_mat_3"
          ],
          [
           1,
           0.151003,
           0.1409954,
           0.151003,
           0.1409954,
           0.036000000000000004,
           "shaft_mat_3"
          ],
          [
           1,
           0.151003,
           0.1409954,
           0.151003,
           0.1409954,
           0.036000000000000004,
           "shaft_mat_3"
          ],
          [
           1,
           0.151003,
           0.1409954,
           0.151003,
           0.1409954,
           0.036000000000000004,
           "shaft_mat_3"
          ],
          [
           1,
           0.151003,
           0.1409954,
           0.151003,
           0.1409954,
           0.036000000000000004,
           "shaft_mat_3"
          ],
          [
           1,
           0.151003,
           0.1409954,
           0.151003,
           0.1409954,
           0.036000000000000004,
           "shaft_mat_3"
          ],
          [
           1,
           0.151003,
           0.1409954,
           0.151003,
           0.1409954,
           0.036000000000000004,
           "shaft_mat_3"
          ],
          [
           1,
           0.151003,
           0.1409954,
           0.151003,
           0.1409954,
           0.036000000000000004,
           "shaft_mat_3"
          ]
         ],
         "fill": "toself",
         "fillcolor": "#525252",
         "hoverinfo": "text",
         "hoverlabel": {
          "bgcolor": "#525252"
         },
         "hoveron": "points+fills",
         "hovertemplate": "Element Number: 1<br>Left Outer Diameter: 0.151003 m<br>Left Inner Diameter: 0.140995 m<br>Right Outer Diameter: 0.151003 m<br>Right Inner Diameter: 0.140995 m<br>Element Length: 0.036 m<br>Material: shaft_mat_3<br>",
         "legendgroup": "Shaft",
         "line": {
          "color": "black",
          "width": 1.5
         },
         "mode": "lines",
         "name": "ShaftElement 1",
         "opacity": 0.5,
         "showlegend": false,
         "text": "Element Number: 1<br>Left Outer Diameter: 0.151003 m<br>Left Inner Diameter: 0.140995 m<br>Right Outer Diameter: 0.151003 m<br>Right Inner Diameter: 0.140995 m<br>Element Length: 0.036 m<br>Material: shaft_mat_3<br>",
         "type": "scatter",
         "x": [
          0.035500000000000004,
          0.035500000000000004,
          0.07150000000000001,
          0.07150000000000001,
          0.035500000000000004,
          0.035500000000000004,
          0.035500000000000004,
          0.07150000000000001,
          0.07150000000000001,
          0.035500000000000004
         ],
         "y": [
          0.0704977,
          0.0755015,
          0.0755015,
          0.0704977,
          0.0704977,
          -0.0704977,
          -0.0755015,
          -0.0755015,
          -0.0704977,
          -0.0704977
         ]
        },
        {
         "customdata": [
          [
           2,
           0.08,
           0,
           0.08,
           0,
           0.054000000000000006,
           "shaft_mat_1"
          ],
          [
           2,
           0.08,
           0,
           0.08,
           0,
           0.054000000000000006,
           "shaft_mat_1"
          ],
          [
           2,
           0.08,
           0,
           0.08,
           0,
           0.054000000000000006,
           "shaft_mat_1"
          ],
          [
           2,
           0.08,
           0,
           0.08,
           0,
           0.054000000000000006,
           "shaft_mat_1"
          ],
          [
           2,
           0.08,
           0,
           0.08,
           0,
           0.054000000000000006,
           "shaft_mat_1"
          ],
          [
           2,
           0.08,
           0,
           0.08,
           0,
           0.054000000000000006,
           "shaft_mat_1"
          ],
          [
           2,
           0.08,
           0,
           0.08,
           0,
           0.054000000000000006,
           "shaft_mat_1"
          ],
          [
           2,
           0.08,
           0,
           0.08,
           0,
           0.054000000000000006,
           "shaft_mat_1"
          ],
          [
           2,
           0.08,
           0,
           0.08,
           0,
           0.054000000000000006,
           "shaft_mat_1"
          ],
          [
           2,
           0.08,
           0,
           0.08,
           0,
           0.054000000000000006,
           "shaft_mat_1"
          ]
         ],
         "fill": "toself",
         "fillcolor": "#525252",
         "hoverinfo": "text",
         "hoverlabel": {
          "bgcolor": "#525252"
         },
         "hoveron": "points+fills",
         "hovertemplate": "Element Number: 2<br>Left Outer Diameter: 0.08 m<br>Left Inner Diameter: 0.0 m<br>Right Outer Diameter: 0.08 m<br>Right Inner Diameter: 0.0 m<br>Element Length: 0.054 m<br>Material: shaft_mat_1<br>",
         "legendgroup": "Shaft",
         "line": {
          "color": "black",
          "width": 1.5
         },
         "mode": "lines",
         "name": "ShaftElement 2",
         "opacity": 0.5,
         "showlegend": false,
         "text": "Element Number: 2<br>Left Outer Diameter: 0.08 m<br>Left Inner Diameter: 0.0 m<br>Right Outer Diameter: 0.08 m<br>Right Inner Diameter: 0.0 m<br>Element Length: 0.054 m<br>Material: shaft_mat_1<br>",
         "type": "scatter",
         "x": [
          0.07150000000000001,
          0.07150000000000001,
          0.1255,
          0.1255,
          0.07150000000000001,
          0.07150000000000001,
          0.07150000000000001,
          0.1255,
          0.1255,
          0.07150000000000001
         ],
         "y": [
          0,
          0.04,
          0.04,
          0,
          0,
          0,
          -0.04,
          -0.04,
          0,
          0
         ]
        },
        {
         "customdata": [
          [
           3,
           0.08,
           0,
           0.08,
           0,
           0.043,
           "shaft_mat_1"
          ],
          [
           3,
           0.08,
           0,
           0.08,
           0,
           0.043,
           "shaft_mat_1"
          ],
          [
           3,
           0.08,
           0,
           0.08,
           0,
           0.043,
           "shaft_mat_1"
          ],
          [
           3,
           0.08,
           0,
           0.08,
           0,
           0.043,
           "shaft_mat_1"
          ],
          [
           3,
           0.08,
           0,
           0.08,
           0,
           0.043,
           "shaft_mat_1"
          ],
          [
           3,
           0.08,
           0,
           0.08,
           0,
           0.043,
           "shaft_mat_1"
          ],
          [
           3,
           0.08,
           0,
           0.08,
           0,
           0.043,
           "shaft_mat_1"
          ],
          [
           3,
           0.08,
           0,
           0.08,
           0,
           0.043,
           "shaft_mat_1"
          ],
          [
           3,
           0.08,
           0,
           0.08,
           0,
           0.043,
           "shaft_mat_1"
          ],
          [
           3,
           0.08,
           0,
           0.08,
           0,
           0.043,
           "shaft_mat_1"
          ]
         ],
         "fill": "toself",
         "fillcolor": "#525252",
         "hoverinfo": "text",
         "hoverlabel": {
          "bgcolor": "#525252"
         },
         "hoveron": "points+fills",
         "hovertemplate": "Element Number: 3<br>Left Outer Diameter: 0.08 m<br>Left Inner Diameter: 0.0 m<br>Right Outer Diameter: 0.08 m<br>Right Inner Diameter: 0.0 m<br>Element Length: 0.043 m<br>Material: shaft_mat_1<br>",
         "legendgroup": "Shaft",
         "line": {
          "color": "black",
          "width": 1.5
         },
         "mode": "lines",
         "name": "ShaftElement 3",
         "opacity": 0.5,
         "showlegend": false,
         "text": "Element Number: 3<br>Left Outer Diameter: 0.08 m<br>Left Inner Diameter: 0.0 m<br>Right Outer Diameter: 0.08 m<br>Right Inner Diameter: 0.0 m<br>Element Length: 0.043 m<br>Material: shaft_mat_1<br>",
         "type": "scatter",
         "x": [
          0.1255,
          0.1255,
          0.1685,
          0.1685,
          0.1255,
          0.1255,
          0.1255,
          0.1685,
          0.1685,
          0.1255
         ],
         "y": [
          0,
          0.04,
          0.04,
          0,
          0,
          0,
          -0.04,
          -0.04,
          0,
          0
         ]
        },
        {
         "customdata": [
          [
           4,
           0.088,
           0,
           0.088,
           0,
           0.0165,
           "shaft_mat_1"
          ],
          [
           4,
           0.088,
           0,
           0.088,
           0,
           0.0165,
           "shaft_mat_1"
          ],
          [
           4,
           0.088,
           0,
           0.088,
           0,
           0.0165,
           "shaft_mat_1"
          ],
          [
           4,
           0.088,
           0,
           0.088,
           0,
           0.0165,
           "shaft_mat_1"
          ],
          [
           4,
           0.088,
           0,
           0.088,
           0,
           0.0165,
           "shaft_mat_1"
          ],
          [
           4,
           0.088,
           0,
           0.088,
           0,
           0.0165,
           "shaft_mat_1"
          ],
          [
           4,
           0.088,
           0,
           0.088,
           0,
           0.0165,
           "shaft_mat_1"
          ],
          [
           4,
           0.088,
           0,
           0.088,
           0,
           0.0165,
           "shaft_mat_1"
          ],
          [
           4,
           0.088,
           0,
           0.088,
           0,
           0.0165,
           "shaft_mat_1"
          ],
          [
           4,
           0.088,
           0,
           0.088,
           0,
           0.0165,
           "shaft_mat_1"
          ]
         ],
         "fill": "toself",
         "fillcolor": "#525252",
         "hoverinfo": "text",
         "hoverlabel": {
          "bgcolor": "#525252"
         },
         "hoveron": "points+fills",
         "hovertemplate": "Element Number: 4<br>Left Outer Diameter: 0.088 m<br>Left Inner Diameter: 0.0 m<br>Right Outer Diameter: 0.088 m<br>Right Inner Diameter: 0.0 m<br>Element Length: 0.0165 m<br>Material: shaft_mat_1<br>",
         "legendgroup": "Shaft",
         "line": {
          "color": "black",
          "width": 1.5
         },
         "mode": "lines",
         "name": "ShaftElement 4",
         "opacity": 0.5,
         "showlegend": false,
         "text": "Element Number: 4<br>Left Outer Diameter: 0.088 m<br>Left Inner Diameter: 0.0 m<br>Right Outer Diameter: 0.088 m<br>Right Inner Diameter: 0.0 m<br>Element Length: 0.0165 m<br>Material: shaft_mat_1<br>",
         "type": "scatter",
         "x": [
          0.1685,
          0.1685,
          0.185,
          0.185,
          0.1685,
          0.1685,
          0.1685,
          0.185,
          0.185,
          0.1685
         ],
         "y": [
          0,
          0.044,
          0.044,
          0,
          0,
          0,
          -0.044,
          -0.044,
          0,
          0
         ]
        },
        {
         "customdata": [
          [
           5,
           0.088,
           0,
           0.088,
           0,
           0.014,
           "shaft_mat_1"
          ],
          [
           5,
           0.088,
           0,
           0.088,
           0,
           0.014,
           "shaft_mat_1"
          ],
          [
           5,
           0.088,
           0,
           0.088,
           0,
           0.014,
           "shaft_mat_1"
          ],
          [
           5,
           0.088,
           0,
           0.088,
           0,
           0.014,
           "shaft_mat_1"
          ],
          [
           5,
           0.088,
           0,
           0.088,
           0,
           0.014,
           "shaft_mat_1"
          ],
          [
           5,
           0.088,
           0,
           0.088,
           0,
           0.014,
           "shaft_mat_1"
          ],
          [
           5,
           0.088,
           0,
           0.088,
           0,
           0.014,
           "shaft_mat_1"
          ],
          [
           5,
           0.088,
           0,
           0.088,
           0,
           0.014,
           "shaft_mat_1"
          ],
          [
           5,
           0.088,
           0,
           0.088,
           0,
           0.014,
           "shaft_mat_1"
          ],
          [
           5,
           0.088,
           0,
           0.088,
           0,
           0.014,
           "shaft_mat_1"
          ]
         ],
         "fill": "toself",
         "fillcolor": "#525252",
         "hoverinfo": "text",
         "hoverlabel": {
          "bgcolor": "#525252"
         },
         "hoveron": "points+fills",
         "hovertemplate": "Element Number: 5<br>Left Outer Diameter: 0.088 m<br>Left Inner Diameter: 0.0 m<br>Right Outer Diameter: 0.088 m<br>Right Inner Diameter: 0.0 m<br>Element Length: 0.014 m<br>Material: shaft_mat_1<br>",
         "legendgroup": "Shaft",
         "line": {
          "color": "black",
          "width": 1.5
         },
         "mode": "lines",
         "name": "ShaftElement 5",
         "opacity": 0.5,
         "showlegend": false,
         "text": "Element Number: 5<br>Left Outer Diameter: 0.088 m<br>Left Inner Diameter: 0.0 m<br>Right Outer Diameter: 0.088 m<br>Right Inner Diameter: 0.0 m<br>Element Length: 0.014 m<br>Material: shaft_mat_1<br>",
         "type": "scatter",
         "x": [
          0.185,
          0.185,
          0.199,
          0.199,
          0.185,
          0.185,
          0.185,
          0.199,
          0.199,
          0.185
         ],
         "y": [
          0,
          0.044,
          0.044,
          0,
          0,
          0,
          -0.044,
          -0.044,
          0,
          0
         ]
        },
        {
         "customdata": [
          [
           6,
           0.09000000000000001,
           0,
           0.09000000000000001,
           0,
           0.036500000000000005,
           "shaft_mat_1"
          ],
          [
           6,
           0.09000000000000001,
           0,
           0.09000000000000001,
           0,
           0.036500000000000005,
           "shaft_mat_1"
          ],
          [
           6,
           0.09000000000000001,
           0,
           0.09000000000000001,
           0,
           0.036500000000000005,
           "shaft_mat_1"
          ],
          [
           6,
           0.09000000000000001,
           0,
           0.09000000000000001,
           0,
           0.036500000000000005,
           "shaft_mat_1"
          ],
          [
           6,
           0.09000000000000001,
           0,
           0.09000000000000001,
           0,
           0.036500000000000005,
           "shaft_mat_1"
          ],
          [
           6,
           0.09000000000000001,
           0,
           0.09000000000000001,
           0,
           0.036500000000000005,
           "shaft_mat_1"
          ],
          [
           6,
           0.09000000000000001,
           0,
           0.09000000000000001,
           0,
           0.036500000000000005,
           "shaft_mat_1"
          ],
          [
           6,
           0.09000000000000001,
           0,
           0.09000000000000001,
           0,
           0.036500000000000005,
           "shaft_mat_1"
          ],
          [
           6,
           0.09000000000000001,
           0,
           0.09000000000000001,
           0,
           0.036500000000000005,
           "shaft_mat_1"
          ],
          [
           6,
           0.09000000000000001,
           0,
           0.09000000000000001,
           0,
           0.036500000000000005,
           "shaft_mat_1"
          ]
         ],
         "fill": "toself",
         "fillcolor": "#525252",
         "hoverinfo": "text",
         "hoverlabel": {
          "bgcolor": "#525252"
         },
         "hoveron": "points+fills",
         "hovertemplate": "Element Number: 6<br>Left Outer Diameter: 0.09 m<br>Left Inner Diameter: 0.0 m<br>Right Outer Diameter: 0.09 m<br>Right Inner Diameter: 0.0 m<br>Element Length: 0.0365 m<br>Material: shaft_mat_1<br>",
         "legendgroup": "Shaft",
         "line": {
          "color": "black",
          "width": 1.5
         },
         "mode": "lines",
         "name": "ShaftElement 6",
         "opacity": 0.5,
         "showlegend": false,
         "text": "Element Number: 6<br>Left Outer Diameter: 0.09 m<br>Left Inner Diameter: 0.0 m<br>Right Outer Diameter: 0.09 m<br>Right Inner Diameter: 0.0 m<br>Element Length: 0.0365 m<br>Material: shaft_mat_1<br>",
         "type": "scatter",
         "x": [
          0.199,
          0.199,
          0.2355,
          0.2355,
          0.199,
          0.199,
          0.199,
          0.2355,
          0.2355,
          0.199
         ],
         "y": [
          0,
          0.045000000000000005,
          0.045000000000000005,
          0,
          0,
          0,
          -0.045000000000000005,
          -0.045000000000000005,
          0,
          0
         ]
        },
        {
         "customdata": [
          [
           7,
           0.09000000000000001,
           0,
           0.09000000000000001,
           0,
           0.051,
           "shaft_mat_1"
          ],
          [
           7,
           0.09000000000000001,
           0,
           0.09000000000000001,
           0,
           0.051,
           "shaft_mat_1"
          ],
          [
           7,
           0.09000000000000001,
           0,
           0.09000000000000001,
           0,
           0.051,
           "shaft_mat_1"
          ],
          [
           7,
           0.09000000000000001,
           0,
           0.09000000000000001,
           0,
           0.051,
           "shaft_mat_1"
          ],
          [
           7,
           0.09000000000000001,
           0,
           0.09000000000000001,
           0,
           0.051,
           "shaft_mat_1"
          ],
          [
           7,
           0.09000000000000001,
           0,
           0.09000000000000001,
           0,
           0.051,
           "shaft_mat_1"
          ],
          [
           7,
           0.09000000000000001,
           0,
           0.09000000000000001,
           0,
           0.051,
           "shaft_mat_1"
          ],
          [
           7,
           0.09000000000000001,
           0,
           0.09000000000000001,
           0,
           0.051,
           "shaft_mat_1"
          ],
          [
           7,
           0.09000000000000001,
           0,
           0.09000000000000001,
           0,
           0.051,
           "shaft_mat_1"
          ],
          [
           7,
           0.09000000000000001,
           0,
           0.09000000000000001,
           0,
           0.051,
           "shaft_mat_1"
          ]
         ],
         "fill": "toself",
         "fillcolor": "#525252",
         "hoverinfo": "text",
         "hoverlabel": {
          "bgcolor": "#525252"
         },
         "hoveron": "points+fills",
         "hovertemplate": "Element Number: 7<br>Left Outer Diameter: 0.09 m<br>Left Inner Diameter: 0.0 m<br>Right Outer Diameter: 0.09 m<br>Right Inner Diameter: 0.0 m<br>Element Length: 0.051 m<br>Material: shaft_mat_1<br>",
         "legendgroup": "Shaft",
         "line": {
          "color": "black",
          "width": 1.5
         },
         "mode": "lines",
         "name": "ShaftElement 7",
         "opacity": 0.5,
         "showlegend": false,
         "text": "Element Number: 7<br>Left Outer Diameter: 0.09 m<br>Left Inner Diameter: 0.0 m<br>Right Outer Diameter: 0.09 m<br>Right Inner Diameter: 0.0 m<br>Element Length: 0.051 m<br>Material: shaft_mat_1<br>",
         "type": "scatter",
         "x": [
          0.2355,
          0.2355,
          0.28650000000000003,
          0.28650000000000003,
          0.2355,
          0.2355,
          0.2355,
          0.28650000000000003,
          0.28650000000000003,
          0.2355
         ],
         "y": [
          0,
          0.045000000000000005,
          0.045000000000000005,
          0,
          0,
          0,
          -0.045000000000000005,
          -0.045000000000000005,
          0,
          0
         ]
        },
        {
         "customdata": [
          [
           8,
           0.103,
           0,
           0.103,
           0,
           0.025,
           "shaft_mat_1"
          ],
          [
           8,
           0.103,
           0,
           0.103,
           0,
           0.025,
           "shaft_mat_1"
          ],
          [
           8,
           0.103,
           0,
           0.103,
           0,
           0.025,
           "shaft_mat_1"
          ],
          [
           8,
           0.103,
           0,
           0.103,
           0,
           0.025,
           "shaft_mat_1"
          ],
          [
           8,
           0.103,
           0,
           0.103,
           0,
           0.025,
           "shaft_mat_1"
          ],
          [
           8,
           0.103,
           0,
           0.103,
           0,
           0.025,
           "shaft_mat_1"
          ],
          [
           8,
           0.103,
           0,
           0.103,
           0,
           0.025,
           "shaft_mat_1"
          ],
          [
           8,
           0.103,
           0,
           0.103,
           0,
           0.025,
           "shaft_mat_1"
          ],
          [
           8,
           0.103,
           0,
           0.103,
           0,
           0.025,
           "shaft_mat_1"
          ],
          [
           8,
           0.103,
           0,
           0.103,
           0,
           0.025,
           "shaft_mat_1"
          ]
         ],
         "fill": "toself",
         "fillcolor": "#525252",
         "hoverinfo": "text",
         "hoverlabel": {
          "bgcolor": "#525252"
         },
         "hoveron": "points+fills",
         "hovertemplate": "Element Number: 8<br>Left Outer Diameter: 0.103 m<br>Left Inner Diameter: 0.0 m<br>Right Outer Diameter: 0.103 m<br>Right Inner Diameter: 0.0 m<br>Element Length: 0.025 m<br>Material: shaft_mat_1<br>",
         "legendgroup": "Shaft",
         "line": {
          "color": "black",
          "width": 1.5
         },
         "mode": "lines",
         "name": "ShaftElement 8",
         "opacity": 0.5,
         "showlegend": false,
         "text": "Element Number: 8<br>Left Outer Diameter: 0.103 m<br>Left Inner Diameter: 0.0 m<br>Right Outer Diameter: 0.103 m<br>Right Inner Diameter: 0.0 m<br>Element Length: 0.025 m<br>Material: shaft_mat_1<br>",
         "type": "scatter",
         "x": [
          0.28650000000000003,
          0.28650000000000003,
          0.31150000000000005,
          0.31150000000000005,
          0.28650000000000003,
          0.28650000000000003,
          0.28650000000000003,
          0.31150000000000005,
          0.31150000000000005,
          0.28650000000000003
         ],
         "y": [
          0,
          0.0515,
          0.0515,
          0,
          0,
          0,
          -0.0515,
          -0.0515,
          0,
          0
         ]
        },
        {
         "customdata": [
          [
           8,
           0.13799999999999998,
           0.103,
           0.13799999999999998,
           0.103,
           0.025,
           "shaft_mat_2"
          ],
          [
           8,
           0.13799999999999998,
           0.103,
           0.13799999999999998,
           0.103,
           0.025,
           "shaft_mat_2"
          ],
          [
           8,
           0.13799999999999998,
           0.103,
           0.13799999999999998,
           0.103,
           0.025,
           "shaft_mat_2"
          ],
          [
           8,
           0.13799999999999998,
           0.103,
           0.13799999999999998,
           0.103,
           0.025,
           "shaft_mat_2"
          ],
          [
           8,
           0.13799999999999998,
           0.103,
           0.13799999999999998,
           0.103,
           0.025,
           "shaft_mat_2"
          ],
          [
           8,
           0.13799999999999998,
           0.103,
           0.13799999999999998,
           0.103,
           0.025,
           "shaft_mat_2"
          ],
          [
           8,
           0.13799999999999998,
           0.103,
           0.13799999999999998,
           0.103,
           0.025,
           "shaft_mat_2"
          ],
          [
           8,
           0.13799999999999998,
           0.103,
           0.13799999999999998,
           0.103,
           0.025,
           "shaft_mat_2"
          ],
          [
           8,
           0.13799999999999998,
           0.103,
           0.13799999999999998,
           0.103,
           0.025,
           "shaft_mat_2"
          ],
          [
           8,
           0.13799999999999998,
           0.103,
           0.13799999999999998,
           0.103,
           0.025,
           "shaft_mat_2"
          ]
         ],
         "fill": "toself",
         "fillcolor": "#525252",
         "hoverinfo": "text",
         "hoverlabel": {
          "bgcolor": "#525252"
         },
         "hoveron": "points+fills",
         "hovertemplate": "Element Number: 8<br>Left Outer Diameter: 0.138 m<br>Left Inner Diameter: 0.103 m<br>Right Outer Diameter: 0.138 m<br>Right Inner Diameter: 0.103 m<br>Element Length: 0.025 m<br>Material: shaft_mat_2<br>",
         "legendgroup": "Shaft",
         "line": {
          "color": "black",
          "width": 1.5
         },
         "mode": "lines",
         "name": "ShaftElement 9",
         "opacity": 0.5,
         "showlegend": false,
         "text": "Element Number: 8<br>Left Outer Diameter: 0.138 m<br>Left Inner Diameter: 0.103 m<br>Right Outer Diameter: 0.138 m<br>Right Inner Diameter: 0.103 m<br>Element Length: 0.025 m<br>Material: shaft_mat_2<br>",
         "type": "scatter",
         "x": [
          0.28650000000000003,
          0.28650000000000003,
          0.31150000000000005,
          0.31150000000000005,
          0.28650000000000003,
          0.28650000000000003,
          0.28650000000000003,
          0.31150000000000005,
          0.31150000000000005,
          0.28650000000000003
         ],
         "y": [
          0.0515,
          0.06899999999999999,
          0.06899999999999999,
          0.0515,
          0.0515,
          -0.0515,
          -0.06899999999999999,
          -0.06899999999999999,
          -0.0515,
          -0.0515
         ]
        },
        {
         "customdata": [
          [
           9,
           0.085,
           0,
           0.085,
           0,
           0.016,
           "shaft_mat_1"
          ],
          [
           9,
           0.085,
           0,
           0.085,
           0,
           0.016,
           "shaft_mat_1"
          ],
          [
           9,
           0.085,
           0,
           0.085,
           0,
           0.016,
           "shaft_mat_1"
          ],
          [
           9,
           0.085,
           0,
           0.085,
           0,
           0.016,
           "shaft_mat_1"
          ],
          [
           9,
           0.085,
           0,
           0.085,
           0,
           0.016,
           "shaft_mat_1"
          ],
          [
           9,
           0.085,
           0,
           0.085,
           0,
           0.016,
           "shaft_mat_1"
          ],
          [
           9,
           0.085,
           0,
           0.085,
           0,
           0.016,
           "shaft_mat_1"
          ],
          [
           9,
           0.085,
           0,
           0.085,
           0,
           0.016,
           "shaft_mat_1"
          ],
          [
           9,
           0.085,
           0,
           0.085,
           0,
           0.016,
           "shaft_mat_1"
          ],
          [
           9,
           0.085,
           0,
           0.085,
           0,
           0.016,
           "shaft_mat_1"
          ]
         ],
         "fill": "toself",
         "fillcolor": "#525252",
         "hoverinfo": "text",
         "hoverlabel": {
          "bgcolor": "#525252"
         },
         "hoveron": "points+fills",
         "hovertemplate": "Element Number: 9<br>Left Outer Diameter: 0.085 m<br>Left Inner Diameter: 0.0 m<br>Right Outer Diameter: 0.085 m<br>Right Inner Diameter: 0.0 m<br>Element Length: 0.016 m<br>Material: shaft_mat_1<br>",
         "legendgroup": "Shaft",
         "line": {
          "color": "black",
          "width": 1.5
         },
         "mode": "lines",
         "name": "ShaftElement 10",
         "opacity": 0.5,
         "showlegend": false,
         "text": "Element Number: 9<br>Left Outer Diameter: 0.085 m<br>Left Inner Diameter: 0.0 m<br>Right Outer Diameter: 0.085 m<br>Right Inner Diameter: 0.0 m<br>Element Length: 0.016 m<br>Material: shaft_mat_1<br>",
         "type": "scatter",
         "x": [
          0.31150000000000005,
          0.31150000000000005,
          0.32750000000000007,
          0.32750000000000007,
          0.31150000000000005,
          0.31150000000000005,
          0.31150000000000005,
          0.32750000000000007,
          0.32750000000000007,
          0.31150000000000005
         ],
         "y": [
          0,
          0.0425,
          0.0425,
          0,
          0,
          0,
          -0.0425,
          -0.0425,
          0,
          0
         ]
        },
        {
         "customdata": [
          [
           9,
           0.13799999999999998,
           0.085,
           0.13799999999999998,
           0.085,
           0.016,
           "shaft_mat_2"
          ],
          [
           9,
           0.13799999999999998,
           0.085,
           0.13799999999999998,
           0.085,
           0.016,
           "shaft_mat_2"
          ],
          [
           9,
           0.13799999999999998,
           0.085,
           0.13799999999999998,
           0.085,
           0.016,
           "shaft_mat_2"
          ],
          [
           9,
           0.13799999999999998,
           0.085,
           0.13799999999999998,
           0.085,
           0.016,
           "shaft_mat_2"
          ],
          [
           9,
           0.13799999999999998,
           0.085,
           0.13799999999999998,
           0.085,
           0.016,
           "shaft_mat_2"
          ],
          [
           9,
           0.13799999999999998,
           0.085,
           0.13799999999999998,
           0.085,
           0.016,
           "shaft_mat_2"
          ],
          [
           9,
           0.13799999999999998,
           0.085,
           0.13799999999999998,
           0.085,
           0.016,
           "shaft_mat_2"
          ],
          [
           9,
           0.13799999999999998,
           0.085,
           0.13799999999999998,
           0.085,
           0.016,
           "shaft_mat_2"
          ],
          [
           9,
           0.13799999999999998,
           0.085,
           0.13799999999999998,
           0.085,
           0.016,
           "shaft_mat_2"
          ],
          [
           9,
           0.13799999999999998,
           0.085,
           0.13799999999999998,
           0.085,
           0.016,
           "shaft_mat_2"
          ]
         ],
         "fill": "toself",
         "fillcolor": "#525252",
         "hoverinfo": "text",
         "hoverlabel": {
          "bgcolor": "#525252"
         },
         "hoveron": "points+fills",
         "hovertemplate": "Element Number: 9<br>Left Outer Diameter: 0.138 m<br>Left Inner Diameter: 0.085 m<br>Right Outer Diameter: 0.138 m<br>Right Inner Diameter: 0.085 m<br>Element Length: 0.016 m<br>Material: shaft_mat_2<br>",
         "legendgroup": "Shaft",
         "line": {
          "color": "black",
          "width": 1.5
         },
         "mode": "lines",
         "name": "ShaftElement 11",
         "opacity": 0.5,
         "showlegend": false,
         "text": "Element Number: 9<br>Left Outer Diameter: 0.138 m<br>Left Inner Diameter: 0.085 m<br>Right Outer Diameter: 0.138 m<br>Right Inner Diameter: 0.085 m<br>Element Length: 0.016 m<br>Material: shaft_mat_2<br>",
         "type": "scatter",
         "x": [
          0.31150000000000005,
          0.31150000000000005,
          0.32750000000000007,
          0.32750000000000007,
          0.31150000000000005,
          0.31150000000000005,
          0.31150000000000005,
          0.32750000000000007,
          0.32750000000000007,
          0.31150000000000005
         ],
         "y": [
          0.0425,
          0.06899999999999999,
          0.06899999999999999,
          0.0425,
          0.0425,
          -0.0425,
          -0.06899999999999999,
          -0.06899999999999999,
          -0.0425,
          -0.0425
         ]
        },
        {
         "customdata": [
          [
           10,
           0.104,
           0,
           0.104,
           0,
           0.0242,
           "shaft_mat_1"
          ],
          [
           10,
           0.104,
           0,
           0.104,
           0,
           0.0242,
           "shaft_mat_1"
          ],
          [
           10,
           0.104,
           0,
           0.104,
           0,
           0.0242,
           "shaft_mat_1"
          ],
          [
           10,
           0.104,
           0,
           0.104,
           0,
           0.0242,
           "shaft_mat_1"
          ],
          [
           10,
           0.104,
           0,
           0.104,
           0,
           0.0242,
           "shaft_mat_1"
          ],
          [
           10,
           0.104,
           0,
           0.104,
           0,
           0.0242,
           "shaft_mat_1"
          ],
          [
           10,
           0.104,
           0,
           0.104,
           0,
           0.0242,
           "shaft_mat_1"
          ],
          [
           10,
           0.104,
           0,
           0.104,
           0,
           0.0242,
           "shaft_mat_1"
          ],
          [
           10,
           0.104,
           0,
           0.104,
           0,
           0.0242,
           "shaft_mat_1"
          ],
          [
           10,
           0.104,
           0,
           0.104,
           0,
           0.0242,
           "shaft_mat_1"
          ]
         ],
         "fill": "toself",
         "fillcolor": "#525252",
         "hoverinfo": "text",
         "hoverlabel": {
          "bgcolor": "#525252"
         },
         "hoveron": "points+fills",
         "hovertemplate": "Element Number: 10<br>Left Outer Diameter: 0.104 m<br>Left Inner Diameter: 0.0 m<br>Right Outer Diameter: 0.104 m<br>Right Inner Diameter: 0.0 m<br>Element Length: 0.0242 m<br>Material: shaft_mat_1<br>",
         "legendgroup": "Shaft",
         "line": {
          "color": "black",
          "width": 1.5
         },
         "mode": "lines",
         "name": "ShaftElement 12",
         "opacity": 0.5,
         "showlegend": false,
         "text": "Element Number: 10<br>Left Outer Diameter: 0.104 m<br>Left Inner Diameter: 0.0 m<br>Right Outer Diameter: 0.104 m<br>Right Inner Diameter: 0.0 m<br>Element Length: 0.0242 m<br>Material: shaft_mat_1<br>",
         "type": "scatter",
         "x": [
          0.32750000000000007,
          0.32750000000000007,
          0.35170000000000007,
          0.35170000000000007,
          0.32750000000000007,
          0.32750000000000007,
          0.32750000000000007,
          0.35170000000000007,
          0.35170000000000007,
          0.32750000000000007
         ],
         "y": [
          0,
          0.052,
          0.052,
          0,
          0,
          0,
          -0.052,
          -0.052,
          0,
          0
         ]
        },
        {
         "customdata": [
          [
           10,
           0.174,
           0.104,
           0.174,
           0.104,
           0.0242,
           "shaft_mat_2"
          ],
          [
           10,
           0.174,
           0.104,
           0.174,
           0.104,
           0.0242,
           "shaft_mat_2"
          ],
          [
           10,
           0.174,
           0.104,
           0.174,
           0.104,
           0.0242,
           "shaft_mat_2"
          ],
          [
           10,
           0.174,
           0.104,
           0.174,
           0.104,
           0.0242,
           "shaft_mat_2"
          ],
          [
           10,
           0.174,
           0.104,
           0.174,
           0.104,
           0.0242,
           "shaft_mat_2"
          ],
          [
           10,
           0.174,
           0.104,
           0.174,
           0.104,
           0.0242,
           "shaft_mat_2"
          ],
          [
           10,
           0.174,
           0.104,
           0.174,
           0.104,
           0.0242,
           "shaft_mat_2"
          ],
          [
           10,
           0.174,
           0.104,
           0.174,
           0.104,
           0.0242,
           "shaft_mat_2"
          ],
          [
           10,
           0.174,
           0.104,
           0.174,
           0.104,
           0.0242,
           "shaft_mat_2"
          ],
          [
           10,
           0.174,
           0.104,
           0.174,
           0.104,
           0.0242,
           "shaft_mat_2"
          ]
         ],
         "fill": "toself",
         "fillcolor": "#525252",
         "hoverinfo": "text",
         "hoverlabel": {
          "bgcolor": "#525252"
         },
         "hoveron": "points+fills",
         "hovertemplate": "Element Number: 10<br>Left Outer Diameter: 0.174 m<br>Left Inner Diameter: 0.104 m<br>Right Outer Diameter: 0.174 m<br>Right Inner Diameter: 0.104 m<br>Element Length: 0.0242 m<br>Material: shaft_mat_2<br>",
         "legendgroup": "Shaft",
         "line": {
          "color": "black",
          "width": 1.5
         },
         "mode": "lines",
         "name": "ShaftElement 13",
         "opacity": 0.5,
         "showlegend": false,
         "text": "Element Number: 10<br>Left Outer Diameter: 0.174 m<br>Left Inner Diameter: 0.104 m<br>Right Outer Diameter: 0.174 m<br>Right Inner Diameter: 0.104 m<br>Element Length: 0.0242 m<br>Material: shaft_mat_2<br>",
         "type": "scatter",
         "x": [
          0.32750000000000007,
          0.32750000000000007,
          0.35170000000000007,
          0.35170000000000007,
          0.32750000000000007,
          0.32750000000000007,
          0.32750000000000007,
          0.35170000000000007,
          0.35170000000000007,
          0.32750000000000007
         ],
         "y": [
          0.052,
          0.087,
          0.087,
          0.052,
          0.052,
          -0.052,
          -0.087,
          -0.087,
          -0.052,
          -0.052
         ]
        },
        {
         "customdata": [
          [
           11,
           0.0982,
           0,
           0.0982,
           0,
           0.0045000000000000005,
           "shaft_mat_1"
          ],
          [
           11,
           0.0982,
           0,
           0.0982,
           0,
           0.0045000000000000005,
           "shaft_mat_1"
          ],
          [
           11,
           0.0982,
           0,
           0.0982,
           0,
           0.0045000000000000005,
           "shaft_mat_1"
          ],
          [
           11,
           0.0982,
           0,
           0.0982,
           0,
           0.0045000000000000005,
           "shaft_mat_1"
          ],
          [
           11,
           0.0982,
           0,
           0.0982,
           0,
           0.0045000000000000005,
           "shaft_mat_1"
          ],
          [
           11,
           0.0982,
           0,
           0.0982,
           0,
           0.0045000000000000005,
           "shaft_mat_1"
          ],
          [
           11,
           0.0982,
           0,
           0.0982,
           0,
           0.0045000000000000005,
           "shaft_mat_1"
          ],
          [
           11,
           0.0982,
           0,
           0.0982,
           0,
           0.0045000000000000005,
           "shaft_mat_1"
          ],
          [
           11,
           0.0982,
           0,
           0.0982,
           0,
           0.0045000000000000005,
           "shaft_mat_1"
          ],
          [
           11,
           0.0982,
           0,
           0.0982,
           0,
           0.0045000000000000005,
           "shaft_mat_1"
          ]
         ],
         "fill": "toself",
         "fillcolor": "#525252",
         "hoverinfo": "text",
         "hoverlabel": {
          "bgcolor": "#525252"
         },
         "hoveron": "points+fills",
         "hovertemplate": "Element Number: 11<br>Left Outer Diameter: 0.0982 m<br>Left Inner Diameter: 0.0 m<br>Right Outer Diameter: 0.0982 m<br>Right Inner Diameter: 0.0 m<br>Element Length: 0.0045 m<br>Material: shaft_mat_1<br>",
         "legendgroup": "Shaft",
         "line": {
          "color": "black",
          "width": 1.5
         },
         "mode": "lines",
         "name": "ShaftElement 14",
         "opacity": 0.5,
         "showlegend": false,
         "text": "Element Number: 11<br>Left Outer Diameter: 0.0982 m<br>Left Inner Diameter: 0.0 m<br>Right Outer Diameter: 0.0982 m<br>Right Inner Diameter: 0.0 m<br>Element Length: 0.0045 m<br>Material: shaft_mat_1<br>",
         "type": "scatter",
         "x": [
          0.35170000000000007,
          0.35170000000000007,
          0.35620000000000007,
          0.35620000000000007,
          0.35170000000000007,
          0.35170000000000007,
          0.35170000000000007,
          0.35620000000000007,
          0.35620000000000007,
          0.35170000000000007
         ],
         "y": [
          0,
          0.0491,
          0.0491,
          0,
          0,
          0,
          -0.0491,
          -0.0491,
          0,
          0
         ]
        },
        {
         "customdata": [
          [
           11,
           0.174,
           0.0982,
           0.174,
           0.0982,
           0.0045000000000000005,
           "shaft_mat_2"
          ],
          [
           11,
           0.174,
           0.0982,
           0.174,
           0.0982,
           0.0045000000000000005,
           "shaft_mat_2"
          ],
          [
           11,
           0.174,
           0.0982,
           0.174,
           0.0982,
           0.0045000000000000005,
           "shaft_mat_2"
          ],
          [
           11,
           0.174,
           0.0982,
           0.174,
           0.0982,
           0.0045000000000000005,
           "shaft_mat_2"
          ],
          [
           11,
           0.174,
           0.0982,
           0.174,
           0.0982,
           0.0045000000000000005,
           "shaft_mat_2"
          ],
          [
           11,
           0.174,
           0.0982,
           0.174,
           0.0982,
           0.0045000000000000005,
           "shaft_mat_2"
          ],
          [
           11,
           0.174,
           0.0982,
           0.174,
           0.0982,
           0.0045000000000000005,
           "shaft_mat_2"
          ],
          [
           11,
           0.174,
           0.0982,
           0.174,
           0.0982,
           0.0045000000000000005,
           "shaft_mat_2"
          ],
          [
           11,
           0.174,
           0.0982,
           0.174,
           0.0982,
           0.0045000000000000005,
           "shaft_mat_2"
          ],
          [
           11,
           0.174,
           0.0982,
           0.174,
           0.0982,
           0.0045000000000000005,
           "shaft_mat_2"
          ]
         ],
         "fill": "toself",
         "fillcolor": "#525252",
         "hoverinfo": "text",
         "hoverlabel": {
          "bgcolor": "#525252"
         },
         "hoveron": "points+fills",
         "hovertemplate": "Element Number: 11<br>Left Outer Diameter: 0.174 m<br>Left Inner Diameter: 0.0982 m<br>Right Outer Diameter: 0.174 m<br>Right Inner Diameter: 0.0982 m<br>Element Length: 0.0045 m<br>Material: shaft_mat_2<br>",
         "legendgroup": "Shaft",
         "line": {
          "color": "black",
          "width": 1.5
         },
         "mode": "lines",
         "name": "ShaftElement 15",
         "opacity": 0.5,
         "showlegend": false,
         "text": "Element Number: 11<br>Left Outer Diameter: 0.174 m<br>Left Inner Diameter: 0.0982 m<br>Right Outer Diameter: 0.174 m<br>Right Inner Diameter: 0.0982 m<br>Element Length: 0.0045 m<br>Material: shaft_mat_2<br>",
         "type": "scatter",
         "x": [
          0.35170000000000007,
          0.35170000000000007,
          0.35620000000000007,
          0.35620000000000007,
          0.35170000000000007,
          0.35170000000000007,
          0.35170000000000007,
          0.35620000000000007,
          0.35620000000000007,
          0.35170000000000007
         ],
         "y": [
          0.0491,
          0.087,
          0.087,
          0.0491,
          0.0491,
          -0.0491,
          -0.087,
          -0.087,
          -0.0491,
          -0.0491
         ]
        },
        {
         "customdata": [
          [
           12,
           0.104,
           0,
           0.104,
           0,
           0.01257,
           "shaft_mat_1"
          ],
          [
           12,
           0.104,
           0,
           0.104,
           0,
           0.01257,
           "shaft_mat_1"
          ],
          [
           12,
           0.104,
           0,
           0.104,
           0,
           0.01257,
           "shaft_mat_1"
          ],
          [
           12,
           0.104,
           0,
           0.104,
           0,
           0.01257,
           "shaft_mat_1"
          ],
          [
           12,
           0.104,
           0,
           0.104,
           0,
           0.01257,
           "shaft_mat_1"
          ],
          [
           12,
           0.104,
           0,
           0.104,
           0,
           0.01257,
           "shaft_mat_1"
          ],
          [
           12,
           0.104,
           0,
           0.104,
           0,
           0.01257,
           "shaft_mat_1"
          ],
          [
           12,
           0.104,
           0,
           0.104,
           0,
           0.01257,
           "shaft_mat_1"
          ],
          [
           12,
           0.104,
           0,
           0.104,
           0,
           0.01257,
           "shaft_mat_1"
          ],
          [
           12,
           0.104,
           0,
           0.104,
           0,
           0.01257,
           "shaft_mat_1"
          ]
         ],
         "fill": "toself",
         "fillcolor": "#525252",
         "hoverinfo": "text",
         "hoverlabel": {
          "bgcolor": "#525252"
         },
         "hoveron": "points+fills",
         "hovertemplate": "Element Number: 12<br>Left Outer Diameter: 0.104 m<br>Left Inner Diameter: 0.0 m<br>Right Outer Diameter: 0.104 m<br>Right Inner Diameter: 0.0 m<br>Element Length: 0.01257 m<br>Material: shaft_mat_1<br>",
         "legendgroup": "Shaft",
         "line": {
          "color": "black",
          "width": 1.5
         },
         "mode": "lines",
         "name": "ShaftElement 16",
         "opacity": 0.5,
         "showlegend": false,
         "text": "Element Number: 12<br>Left Outer Diameter: 0.104 m<br>Left Inner Diameter: 0.0 m<br>Right Outer Diameter: 0.104 m<br>Right Inner Diameter: 0.0 m<br>Element Length: 0.01257 m<br>Material: shaft_mat_1<br>",
         "type": "scatter",
         "x": [
          0.35620000000000007,
          0.35620000000000007,
          0.3687700000000001,
          0.3687700000000001,
          0.35620000000000007,
          0.35620000000000007,
          0.35620000000000007,
          0.3687700000000001,
          0.3687700000000001,
          0.35620000000000007
         ],
         "y": [
          0,
          0.052,
          0.052,
          0,
          0,
          0,
          -0.052,
          -0.052,
          0,
          0
         ]
        },
        {
         "customdata": [
          [
           12,
           0.174,
           0.104,
           0.174,
           0.104,
           0.01257,
           "shaft_mat_2"
          ],
          [
           12,
           0.174,
           0.104,
           0.174,
           0.104,
           0.01257,
           "shaft_mat_2"
          ],
          [
           12,
           0.174,
           0.104,
           0.174,
           0.104,
           0.01257,
           "shaft_mat_2"
          ],
          [
           12,
           0.174,
           0.104,
           0.174,
           0.104,
           0.01257,
           "shaft_mat_2"
          ],
          [
           12,
           0.174,
           0.104,
           0.174,
           0.104,
           0.01257,
           "shaft_mat_2"
          ],
          [
           12,
           0.174,
           0.104,
           0.174,
           0.104,
           0.01257,
           "shaft_mat_2"
          ],
          [
           12,
           0.174,
           0.104,
           0.174,
           0.104,
           0.01257,
           "shaft_mat_2"
          ],
          [
           12,
           0.174,
           0.104,
           0.174,
           0.104,
           0.01257,
           "shaft_mat_2"
          ],
          [
           12,
           0.174,
           0.104,
           0.174,
           0.104,
           0.01257,
           "shaft_mat_2"
          ],
          [
           12,
           0.174,
           0.104,
           0.174,
           0.104,
           0.01257,
           "shaft_mat_2"
          ]
         ],
         "fill": "toself",
         "fillcolor": "#525252",
         "hoverinfo": "text",
         "hoverlabel": {
          "bgcolor": "#525252"
         },
         "hoveron": "points+fills",
         "hovertemplate": "Element Number: 12<br>Left Outer Diameter: 0.174 m<br>Left Inner Diameter: 0.104 m<br>Right Outer Diameter: 0.174 m<br>Right Inner Diameter: 0.104 m<br>Element Length: 0.01257 m<br>Material: shaft_mat_2<br>",
         "legendgroup": "Shaft",
         "line": {
          "color": "black",
          "width": 1.5
         },
         "mode": "lines",
         "name": "ShaftElement 17",
         "opacity": 0.5,
         "showlegend": false,
         "text": "Element Number: 12<br>Left Outer Diameter: 0.174 m<br>Left Inner Diameter: 0.104 m<br>Right Outer Diameter: 0.174 m<br>Right Inner Diameter: 0.104 m<br>Element Length: 0.01257 m<br>Material: shaft_mat_2<br>",
         "type": "scatter",
         "x": [
          0.35620000000000007,
          0.35620000000000007,
          0.3687700000000001,
          0.3687700000000001,
          0.35620000000000007,
          0.35620000000000007,
          0.35620000000000007,
          0.3687700000000001,
          0.3687700000000001,
          0.35620000000000007
         ],
         "y": [
          0.052,
          0.087,
          0.087,
          0.052,
          0.052,
          -0.052,
          -0.087,
          -0.087,
          -0.052,
          -0.052
         ]
        },
        {
         "customdata": [
          [
           13,
           0.106,
           0,
           0.106,
           0,
           0.02,
           "shaft_mat_1"
          ],
          [
           13,
           0.106,
           0,
           0.106,
           0,
           0.02,
           "shaft_mat_1"
          ],
          [
           13,
           0.106,
           0,
           0.106,
           0,
           0.02,
           "shaft_mat_1"
          ],
          [
           13,
           0.106,
           0,
           0.106,
           0,
           0.02,
           "shaft_mat_1"
          ],
          [
           13,
           0.106,
           0,
           0.106,
           0,
           0.02,
           "shaft_mat_1"
          ],
          [
           13,
           0.106,
           0,
           0.106,
           0,
           0.02,
           "shaft_mat_1"
          ],
          [
           13,
           0.106,
           0,
           0.106,
           0,
           0.02,
           "shaft_mat_1"
          ],
          [
           13,
           0.106,
           0,
           0.106,
           0,
           0.02,
           "shaft_mat_1"
          ],
          [
           13,
           0.106,
           0,
           0.106,
           0,
           0.02,
           "shaft_mat_1"
          ],
          [
           13,
           0.106,
           0,
           0.106,
           0,
           0.02,
           "shaft_mat_1"
          ]
         ],
         "fill": "toself",
         "fillcolor": "#525252",
         "hoverinfo": "text",
         "hoverlabel": {
          "bgcolor": "#525252"
         },
         "hoveron": "points+fills",
         "hovertemplate": "Element Number: 13<br>Left Outer Diameter: 0.106 m<br>Left Inner Diameter: 0.0 m<br>Right Outer Diameter: 0.106 m<br>Right Inner Diameter: 0.0 m<br>Element Length: 0.02 m<br>Material: shaft_mat_1<br>",
         "legendgroup": "Shaft",
         "line": {
          "color": "black",
          "width": 1.5
         },
         "mode": "lines",
         "name": "ShaftElement 18",
         "opacity": 0.5,
         "showlegend": false,
         "text": "Element Number: 13<br>Left Outer Diameter: 0.106 m<br>Left Inner Diameter: 0.0 m<br>Right Outer Diameter: 0.106 m<br>Right Inner Diameter: 0.0 m<br>Element Length: 0.02 m<br>Material: shaft_mat_1<br>",
         "type": "scatter",
         "x": [
          0.3687700000000001,
          0.3687700000000001,
          0.3887700000000001,
          0.3887700000000001,
          0.3687700000000001,
          0.3687700000000001,
          0.3687700000000001,
          0.3887700000000001,
          0.3887700000000001,
          0.3687700000000001
         ],
         "y": [
          0,
          0.053000000000000005,
          0.053000000000000005,
          0,
          0,
          0,
          -0.053000000000000005,
          -0.053000000000000005,
          0,
          0
         ]
        },
        {
         "customdata": [
          [
           13,
           0.184,
           0.106,
           0.184,
           0.106,
           0.02,
           "shaft_mat_2"
          ],
          [
           13,
           0.184,
           0.106,
           0.184,
           0.106,
           0.02,
           "shaft_mat_2"
          ],
          [
           13,
           0.184,
           0.106,
           0.184,
           0.106,
           0.02,
           "shaft_mat_2"
          ],
          [
           13,
           0.184,
           0.106,
           0.184,
           0.106,
           0.02,
           "shaft_mat_2"
          ],
          [
           13,
           0.184,
           0.106,
           0.184,
           0.106,
           0.02,
           "shaft_mat_2"
          ],
          [
           13,
           0.184,
           0.106,
           0.184,
           0.106,
           0.02,
           "shaft_mat_2"
          ],
          [
           13,
           0.184,
           0.106,
           0.184,
           0.106,
           0.02,
           "shaft_mat_2"
          ],
          [
           13,
           0.184,
           0.106,
           0.184,
           0.106,
           0.02,
           "shaft_mat_2"
          ],
          [
           13,
           0.184,
           0.106,
           0.184,
           0.106,
           0.02,
           "shaft_mat_2"
          ],
          [
           13,
           0.184,
           0.106,
           0.184,
           0.106,
           0.02,
           "shaft_mat_2"
          ]
         ],
         "fill": "toself",
         "fillcolor": "#525252",
         "hoverinfo": "text",
         "hoverlabel": {
          "bgcolor": "#525252"
         },
         "hoveron": "points+fills",
         "hovertemplate": "Element Number: 13<br>Left Outer Diameter: 0.184 m<br>Left Inner Diameter: 0.106 m<br>Right Outer Diameter: 0.184 m<br>Right Inner Diameter: 0.106 m<br>Element Length: 0.02 m<br>Material: shaft_mat_2<br>",
         "legendgroup": "Shaft",
         "line": {
          "color": "black",
          "width": 1.5
         },
         "mode": "lines",
         "name": "ShaftElement 19",
         "opacity": 0.5,
         "showlegend": false,
         "text": "Element Number: 13<br>Left Outer Diameter: 0.184 m<br>Left Inner Diameter: 0.106 m<br>Right Outer Diameter: 0.184 m<br>Right Inner Diameter: 0.106 m<br>Element Length: 0.02 m<br>Material: shaft_mat_2<br>",
         "type": "scatter",
         "x": [
          0.3687700000000001,
          0.3687700000000001,
          0.3887700000000001,
          0.3887700000000001,
          0.3687700000000001,
          0.3687700000000001,
          0.3687700000000001,
          0.3887700000000001,
          0.3887700000000001,
          0.3687700000000001
         ],
         "y": [
          0.053000000000000005,
          0.092,
          0.092,
          0.053000000000000005,
          0.053000000000000005,
          -0.053000000000000005,
          -0.092,
          -0.092,
          -0.053000000000000005,
          -0.053000000000000005
         ]
        },
        {
         "customdata": [
          [
           14,
           0.108,
           0,
           0.108,
           0,
           0.06273000000000001,
           "shaft_mat_1"
          ],
          [
           14,
           0.108,
           0,
           0.108,
           0,
           0.06273000000000001,
           "shaft_mat_1"
          ],
          [
           14,
           0.108,
           0,
           0.108,
           0,
           0.06273000000000001,
           "shaft_mat_1"
          ],
          [
           14,
           0.108,
           0,
           0.108,
           0,
           0.06273000000000001,
           "shaft_mat_1"
          ],
          [
           14,
           0.108,
           0,
           0.108,
           0,
           0.06273000000000001,
           "shaft_mat_1"
          ],
          [
           14,
           0.108,
           0,
           0.108,
           0,
           0.06273000000000001,
           "shaft_mat_1"
          ],
          [
           14,
           0.108,
           0,
           0.108,
           0,
           0.06273000000000001,
           "shaft_mat_1"
          ],
          [
           14,
           0.108,
           0,
           0.108,
           0,
           0.06273000000000001,
           "shaft_mat_1"
          ],
          [
           14,
           0.108,
           0,
           0.108,
           0,
           0.06273000000000001,
           "shaft_mat_1"
          ],
          [
           14,
           0.108,
           0,
           0.108,
           0,
           0.06273000000000001,
           "shaft_mat_1"
          ]
         ],
         "fill": "toself",
         "fillcolor": "#525252",
         "hoverinfo": "text",
         "hoverlabel": {
          "bgcolor": "#525252"
         },
         "hoveron": "points+fills",
         "hovertemplate": "Element Number: 14<br>Left Outer Diameter: 0.108 m<br>Left Inner Diameter: 0.0 m<br>Right Outer Diameter: 0.108 m<br>Right Inner Diameter: 0.0 m<br>Element Length: 0.06273 m<br>Material: shaft_mat_1<br>",
         "legendgroup": "Shaft",
         "line": {
          "color": "black",
          "width": 1.5
         },
         "mode": "lines",
         "name": "ShaftElement 20",
         "opacity": 0.5,
         "showlegend": false,
         "text": "Element Number: 14<br>Left Outer Diameter: 0.108 m<br>Left Inner Diameter: 0.0 m<br>Right Outer Diameter: 0.108 m<br>Right Inner Diameter: 0.0 m<br>Element Length: 0.06273 m<br>Material: shaft_mat_1<br>",
         "type": "scatter",
         "x": [
          0.3887700000000001,
          0.3887700000000001,
          0.4515000000000001,
          0.4515000000000001,
          0.3887700000000001,
          0.3887700000000001,
          0.3887700000000001,
          0.4515000000000001,
          0.4515000000000001,
          0.3887700000000001
         ],
         "y": [
          0,
          0.054000000000000006,
          0.054000000000000006,
          0,
          0,
          0,
          -0.054000000000000006,
          -0.054000000000000006,
          0,
          0
         ]
        },
        {
         "customdata": [
          [
           14,
           0.184,
           0.108,
           0.184,
           0.108,
           0.06273000000000001,
           "shaft_mat_2"
          ],
          [
           14,
           0.184,
           0.108,
           0.184,
           0.108,
           0.06273000000000001,
           "shaft_mat_2"
          ],
          [
           14,
           0.184,
           0.108,
           0.184,
           0.108,
           0.06273000000000001,
           "shaft_mat_2"
          ],
          [
           14,
           0.184,
           0.108,
           0.184,
           0.108,
           0.06273000000000001,
           "shaft_mat_2"
          ],
          [
           14,
           0.184,
           0.108,
           0.184,
           0.108,
           0.06273000000000001,
           "shaft_mat_2"
          ],
          [
           14,
           0.184,
           0.108,
           0.184,
           0.108,
           0.06273000000000001,
           "shaft_mat_2"
          ],
          [
           14,
           0.184,
           0.108,
           0.184,
           0.108,
           0.06273000000000001,
           "shaft_mat_2"
          ],
          [
           14,
           0.184,
           0.108,
           0.184,
           0.108,
           0.06273000000000001,
           "shaft_mat_2"
          ],
          [
           14,
           0.184,
           0.108,
           0.184,
           0.108,
           0.06273000000000001,
           "shaft_mat_2"
          ],
          [
           14,
           0.184,
           0.108,
           0.184,
           0.108,
           0.06273000000000001,
           "shaft_mat_2"
          ]
         ],
         "fill": "toself",
         "fillcolor": "#525252",
         "hoverinfo": "text",
         "hoverlabel": {
          "bgcolor": "#525252"
         },
         "hoveron": "points+fills",
         "hovertemplate": "Element Number: 14<br>Left Outer Diameter: 0.184 m<br>Left Inner Diameter: 0.108 m<br>Right Outer Diameter: 0.184 m<br>Right Inner Diameter: 0.108 m<br>Element Length: 0.06273 m<br>Material: shaft_mat_2<br>",
         "legendgroup": "Shaft",
         "line": {
          "color": "black",
          "width": 1.5
         },
         "mode": "lines",
         "name": "ShaftElement 21",
         "opacity": 0.5,
         "showlegend": false,
         "text": "Element Number: 14<br>Left Outer Diameter: 0.184 m<br>Left Inner Diameter: 0.108 m<br>Right Outer Diameter: 0.184 m<br>Right Inner Diameter: 0.108 m<br>Element Length: 0.06273 m<br>Material: shaft_mat_2<br>",
         "type": "scatter",
         "x": [
          0.3887700000000001,
          0.3887700000000001,
          0.4515000000000001,
          0.4515000000000001,
          0.3887700000000001,
          0.3887700000000001,
          0.3887700000000001,
          0.4515000000000001,
          0.4515000000000001,
          0.3887700000000001
         ],
         "y": [
          0.054000000000000006,
          0.092,
          0.092,
          0.054000000000000006,
          0.054000000000000006,
          -0.054000000000000006,
          -0.092,
          -0.092,
          -0.054000000000000006,
          -0.054000000000000006
         ]
        },
        {
         "customdata": [
          [
           15,
           0.11,
           0,
           0.11,
           0,
           0.038,
           "shaft_mat_1"
          ],
          [
           15,
           0.11,
           0,
           0.11,
           0,
           0.038,
           "shaft_mat_1"
          ],
          [
           15,
           0.11,
           0,
           0.11,
           0,
           0.038,
           "shaft_mat_1"
          ],
          [
           15,
           0.11,
           0,
           0.11,
           0,
           0.038,
           "shaft_mat_1"
          ],
          [
           15,
           0.11,
           0,
           0.11,
           0,
           0.038,
           "shaft_mat_1"
          ],
          [
           15,
           0.11,
           0,
           0.11,
           0,
           0.038,
           "shaft_mat_1"
          ],
          [
           15,
           0.11,
           0,
           0.11,
           0,
           0.038,
           "shaft_mat_1"
          ],
          [
           15,
           0.11,
           0,
           0.11,
           0,
           0.038,
           "shaft_mat_1"
          ],
          [
           15,
           0.11,
           0,
           0.11,
           0,
           0.038,
           "shaft_mat_1"
          ],
          [
           15,
           0.11,
           0,
           0.11,
           0,
           0.038,
           "shaft_mat_1"
          ]
         ],
         "fill": "toself",
         "fillcolor": "#525252",
         "hoverinfo": "text",
         "hoverlabel": {
          "bgcolor": "#525252"
         },
         "hoveron": "points+fills",
         "hovertemplate": "Element Number: 15<br>Left Outer Diameter: 0.11 m<br>Left Inner Diameter: 0.0 m<br>Right Outer Diameter: 0.11 m<br>Right Inner Diameter: 0.0 m<br>Element Length: 0.038 m<br>Material: shaft_mat_1<br>",
         "legendgroup": "Shaft",
         "line": {
          "color": "black",
          "width": 1.5
         },
         "mode": "lines",
         "name": "ShaftElement 22",
         "opacity": 0.5,
         "showlegend": false,
         "text": "Element Number: 15<br>Left Outer Diameter: 0.11 m<br>Left Inner Diameter: 0.0 m<br>Right Outer Diameter: 0.11 m<br>Right Inner Diameter: 0.0 m<br>Element Length: 0.038 m<br>Material: shaft_mat_1<br>",
         "type": "scatter",
         "x": [
          0.4515000000000001,
          0.4515000000000001,
          0.4895000000000001,
          0.4895000000000001,
          0.4515000000000001,
          0.4515000000000001,
          0.4515000000000001,
          0.4895000000000001,
          0.4895000000000001,
          0.4515000000000001
         ],
         "y": [
          0,
          0.055,
          0.055,
          0,
          0,
          0,
          -0.055,
          -0.055,
          0,
          0
         ]
        },
        {
         "customdata": [
          [
           15,
           0.184,
           0.11,
           0.184,
           0.11,
           0.038,
           "shaft_mat_2"
          ],
          [
           15,
           0.184,
           0.11,
           0.184,
           0.11,
           0.038,
           "shaft_mat_2"
          ],
          [
           15,
           0.184,
           0.11,
           0.184,
           0.11,
           0.038,
           "shaft_mat_2"
          ],
          [
           15,
           0.184,
           0.11,
           0.184,
           0.11,
           0.038,
           "shaft_mat_2"
          ],
          [
           15,
           0.184,
           0.11,
           0.184,
           0.11,
           0.038,
           "shaft_mat_2"
          ],
          [
           15,
           0.184,
           0.11,
           0.184,
           0.11,
           0.038,
           "shaft_mat_2"
          ],
          [
           15,
           0.184,
           0.11,
           0.184,
           0.11,
           0.038,
           "shaft_mat_2"
          ],
          [
           15,
           0.184,
           0.11,
           0.184,
           0.11,
           0.038,
           "shaft_mat_2"
          ],
          [
           15,
           0.184,
           0.11,
           0.184,
           0.11,
           0.038,
           "shaft_mat_2"
          ],
          [
           15,
           0.184,
           0.11,
           0.184,
           0.11,
           0.038,
           "shaft_mat_2"
          ]
         ],
         "fill": "toself",
         "fillcolor": "#525252",
         "hoverinfo": "text",
         "hoverlabel": {
          "bgcolor": "#525252"
         },
         "hoveron": "points+fills",
         "hovertemplate": "Element Number: 15<br>Left Outer Diameter: 0.184 m<br>Left Inner Diameter: 0.11 m<br>Right Outer Diameter: 0.184 m<br>Right Inner Diameter: 0.11 m<br>Element Length: 0.038 m<br>Material: shaft_mat_2<br>",
         "legendgroup": "Shaft",
         "line": {
          "color": "black",
          "width": 1.5
         },
         "mode": "lines",
         "name": "ShaftElement 23",
         "opacity": 0.5,
         "showlegend": false,
         "text": "Element Number: 15<br>Left Outer Diameter: 0.184 m<br>Left Inner Diameter: 0.11 m<br>Right Outer Diameter: 0.184 m<br>Right Inner Diameter: 0.11 m<br>Element Length: 0.038 m<br>Material: shaft_mat_2<br>",
         "type": "scatter",
         "x": [
          0.4515000000000001,
          0.4515000000000001,
          0.4895000000000001,
          0.4895000000000001,
          0.4515000000000001,
          0.4515000000000001,
          0.4515000000000001,
          0.4895000000000001,
          0.4895000000000001,
          0.4515000000000001
         ],
         "y": [
          0.055,
          0.092,
          0.092,
          0.055,
          0.055,
          -0.055,
          -0.092,
          -0.092,
          -0.055,
          -0.055
         ]
        },
        {
         "customdata": [
          [
           16,
           0.122,
           0,
           0.122,
           0,
           0.038,
           "shaft_mat_1"
          ],
          [
           16,
           0.122,
           0,
           0.122,
           0,
           0.038,
           "shaft_mat_1"
          ],
          [
           16,
           0.122,
           0,
           0.122,
           0,
           0.038,
           "shaft_mat_1"
          ],
          [
           16,
           0.122,
           0,
           0.122,
           0,
           0.038,
           "shaft_mat_1"
          ],
          [
           16,
           0.122,
           0,
           0.122,
           0,
           0.038,
           "shaft_mat_1"
          ],
          [
           16,
           0.122,
           0,
           0.122,
           0,
           0.038,
           "shaft_mat_1"
          ],
          [
           16,
           0.122,
           0,
           0.122,
           0,
           0.038,
           "shaft_mat_1"
          ],
          [
           16,
           0.122,
           0,
           0.122,
           0,
           0.038,
           "shaft_mat_1"
          ],
          [
           16,
           0.122,
           0,
           0.122,
           0,
           0.038,
           "shaft_mat_1"
          ],
          [
           16,
           0.122,
           0,
           0.122,
           0,
           0.038,
           "shaft_mat_1"
          ]
         ],
         "fill": "toself",
         "fillcolor": "#525252",
         "hoverinfo": "text",
         "hoverlabel": {
          "bgcolor": "#525252"
         },
         "hoveron": "points+fills",
         "hovertemplate": "Element Number: 16<br>Left Outer Diameter: 0.122 m<br>Left Inner Diameter: 0.0 m<br>Right Outer Diameter: 0.122 m<br>Right Inner Diameter: 0.0 m<br>Element Length: 0.038 m<br>Material: shaft_mat_1<br>",
         "legendgroup": "Shaft",
         "line": {
          "color": "black",
          "width": 1.5
         },
         "mode": "lines",
         "name": "ShaftElement 24",
         "opacity": 0.5,
         "showlegend": false,
         "text": "Element Number: 16<br>Left Outer Diameter: 0.122 m<br>Left Inner Diameter: 0.0 m<br>Right Outer Diameter: 0.122 m<br>Right Inner Diameter: 0.0 m<br>Element Length: 0.038 m<br>Material: shaft_mat_1<br>",
         "type": "scatter",
         "x": [
          0.4895000000000001,
          0.4895000000000001,
          0.5275000000000001,
          0.5275000000000001,
          0.4895000000000001,
          0.4895000000000001,
          0.4895000000000001,
          0.5275000000000001,
          0.5275000000000001,
          0.4895000000000001
         ],
         "y": [
          0,
          0.061,
          0.061,
          0,
          0,
          0,
          -0.061,
          -0.061,
          0,
          0
         ]
        },
        {
         "customdata": [
          [
           16,
           0.13899999999999998,
           0.122,
           0.13899999999999998,
           0.122,
           0.038,
           "shaft_mat_2"
          ],
          [
           16,
           0.13899999999999998,
           0.122,
           0.13899999999999998,
           0.122,
           0.038,
           "shaft_mat_2"
          ],
          [
           16,
           0.13899999999999998,
           0.122,
           0.13899999999999998,
           0.122,
           0.038,
           "shaft_mat_2"
          ],
          [
           16,
           0.13899999999999998,
           0.122,
           0.13899999999999998,
           0.122,
           0.038,
           "shaft_mat_2"
          ],
          [
           16,
           0.13899999999999998,
           0.122,
           0.13899999999999998,
           0.122,
           0.038,
           "shaft_mat_2"
          ],
          [
           16,
           0.13899999999999998,
           0.122,
           0.13899999999999998,
           0.122,
           0.038,
           "shaft_mat_2"
          ],
          [
           16,
           0.13899999999999998,
           0.122,
           0.13899999999999998,
           0.122,
           0.038,
           "shaft_mat_2"
          ],
          [
           16,
           0.13899999999999998,
           0.122,
           0.13899999999999998,
           0.122,
           0.038,
           "shaft_mat_2"
          ],
          [
           16,
           0.13899999999999998,
           0.122,
           0.13899999999999998,
           0.122,
           0.038,
           "shaft_mat_2"
          ],
          [
           16,
           0.13899999999999998,
           0.122,
           0.13899999999999998,
           0.122,
           0.038,
           "shaft_mat_2"
          ]
         ],
         "fill": "toself",
         "fillcolor": "#525252",
         "hoverinfo": "text",
         "hoverlabel": {
          "bgcolor": "#525252"
         },
         "hoveron": "points+fills",
         "hovertemplate": "Element Number: 16<br>Left Outer Diameter: 0.139 m<br>Left Inner Diameter: 0.122 m<br>Right Outer Diameter: 0.139 m<br>Right Inner Diameter: 0.122 m<br>Element Length: 0.038 m<br>Material: shaft_mat_2<br>",
         "legendgroup": "Shaft",
         "line": {
          "color": "black",
          "width": 1.5
         },
         "mode": "lines",
         "name": "ShaftElement 25",
         "opacity": 0.5,
         "showlegend": false,
         "text": "Element Number: 16<br>Left Outer Diameter: 0.139 m<br>Left Inner Diameter: 0.122 m<br>Right Outer Diameter: 0.139 m<br>Right Inner Diameter: 0.122 m<br>Element Length: 0.038 m<br>Material: shaft_mat_2<br>",
         "type": "scatter",
         "x": [
          0.4895000000000001,
          0.4895000000000001,
          0.5275000000000001,
          0.5275000000000001,
          0.4895000000000001,
          0.4895000000000001,
          0.4895000000000001,
          0.5275000000000001,
          0.5275000000000001,
          0.4895000000000001
         ],
         "y": [
          0.061,
          0.06949999999999999,
          0.06949999999999999,
          0.061,
          0.061,
          -0.061,
          -0.06949999999999999,
          -0.06949999999999999,
          -0.061,
          -0.061
         ]
        },
        {
         "customdata": [
          [
           17,
           0.135,
           0,
           0.135,
           0,
           0.03,
           "shaft_mat_1"
          ],
          [
           17,
           0.135,
           0,
           0.135,
           0,
           0.03,
           "shaft_mat_1"
          ],
          [
           17,
           0.135,
           0,
           0.135,
           0,
           0.03,
           "shaft_mat_1"
          ],
          [
           17,
           0.135,
           0,
           0.135,
           0,
           0.03,
           "shaft_mat_1"
          ],
          [
           17,
           0.135,
           0,
           0.135,
           0,
           0.03,
           "shaft_mat_1"
          ],
          [
           17,
           0.135,
           0,
           0.135,
           0,
           0.03,
           "shaft_mat_1"
          ],
          [
           17,
           0.135,
           0,
           0.135,
           0,
           0.03,
           "shaft_mat_1"
          ],
          [
           17,
           0.135,
           0,
           0.135,
           0,
           0.03,
           "shaft_mat_1"
          ],
          [
           17,
           0.135,
           0,
           0.135,
           0,
           0.03,
           "shaft_mat_1"
          ],
          [
           17,
           0.135,
           0,
           0.135,
           0,
           0.03,
           "shaft_mat_1"
          ]
         ],
         "fill": "toself",
         "fillcolor": "#525252",
         "hoverinfo": "text",
         "hoverlabel": {
          "bgcolor": "#525252"
         },
         "hoveron": "points+fills",
         "hovertemplate": "Element Number: 17<br>Left Outer Diameter: 0.135 m<br>Left Inner Diameter: 0.0 m<br>Right Outer Diameter: 0.135 m<br>Right Inner Diameter: 0.0 m<br>Element Length: 0.03 m<br>Material: shaft_mat_1<br>",
         "legendgroup": "Shaft",
         "line": {
          "color": "black",
          "width": 1.5
         },
         "mode": "lines",
         "name": "ShaftElement 26",
         "opacity": 0.5,
         "showlegend": false,
         "text": "Element Number: 17<br>Left Outer Diameter: 0.135 m<br>Left Inner Diameter: 0.0 m<br>Right Outer Diameter: 0.135 m<br>Right Inner Diameter: 0.0 m<br>Element Length: 0.03 m<br>Material: shaft_mat_1<br>",
         "type": "scatter",
         "x": [
          0.5275000000000001,
          0.5275000000000001,
          0.5575000000000001,
          0.5575000000000001,
          0.5275000000000001,
          0.5275000000000001,
          0.5275000000000001,
          0.5575000000000001,
          0.5575000000000001,
          0.5275000000000001
         ],
         "y": [
          0,
          0.0675,
          0.0675,
          0,
          0,
          0,
          -0.0675,
          -0.0675,
          0,
          0
         ]
        },
        {
         "customdata": [
          [
           17,
           0.175,
           0.135,
           0.175,
           0.135,
           0.03,
           "shaft_mat_2"
          ],
          [
           17,
           0.175,
           0.135,
           0.175,
           0.135,
           0.03,
           "shaft_mat_2"
          ],
          [
           17,
           0.175,
           0.135,
           0.175,
           0.135,
           0.03,
           "shaft_mat_2"
          ],
          [
           17,
           0.175,
           0.135,
           0.175,
           0.135,
           0.03,
           "shaft_mat_2"
          ],
          [
           17,
           0.175,
           0.135,
           0.175,
           0.135,
           0.03,
           "shaft_mat_2"
          ],
          [
           17,
           0.175,
           0.135,
           0.175,
           0.135,
           0.03,
           "shaft_mat_2"
          ],
          [
           17,
           0.175,
           0.135,
           0.175,
           0.135,
           0.03,
           "shaft_mat_2"
          ],
          [
           17,
           0.175,
           0.135,
           0.175,
           0.135,
           0.03,
           "shaft_mat_2"
          ],
          [
           17,
           0.175,
           0.135,
           0.175,
           0.135,
           0.03,
           "shaft_mat_2"
          ],
          [
           17,
           0.175,
           0.135,
           0.175,
           0.135,
           0.03,
           "shaft_mat_2"
          ]
         ],
         "fill": "toself",
         "fillcolor": "#525252",
         "hoverinfo": "text",
         "hoverlabel": {
          "bgcolor": "#525252"
         },
         "hoveron": "points+fills",
         "hovertemplate": "Element Number: 17<br>Left Outer Diameter: 0.175 m<br>Left Inner Diameter: 0.135 m<br>Right Outer Diameter: 0.175 m<br>Right Inner Diameter: 0.135 m<br>Element Length: 0.03 m<br>Material: shaft_mat_2<br>",
         "legendgroup": "Shaft",
         "line": {
          "color": "black",
          "width": 1.5
         },
         "mode": "lines",
         "name": "ShaftElement 27",
         "opacity": 0.5,
         "showlegend": false,
         "text": "Element Number: 17<br>Left Outer Diameter: 0.175 m<br>Left Inner Diameter: 0.135 m<br>Right Outer Diameter: 0.175 m<br>Right Inner Diameter: 0.135 m<br>Element Length: 0.03 m<br>Material: shaft_mat_2<br>",
         "type": "scatter",
         "x": [
          0.5275000000000001,
          0.5275000000000001,
          0.5575000000000001,
          0.5575000000000001,
          0.5275000000000001,
          0.5275000000000001,
          0.5275000000000001,
          0.5575000000000001,
          0.5575000000000001,
          0.5275000000000001
         ],
         "y": [
          0.0675,
          0.0875,
          0.0875,
          0.0675,
          0.0675,
          -0.0675,
          -0.0875,
          -0.0875,
          -0.0675,
          -0.0675
         ]
        },
        {
         "customdata": [
          [
           18,
           0.1177,
           0,
           0.1177,
           0,
           0.053000000000000005,
           "shaft_mat_1"
          ],
          [
           18,
           0.1177,
           0,
           0.1177,
           0,
           0.053000000000000005,
           "shaft_mat_1"
          ],
          [
           18,
           0.1177,
           0,
           0.1177,
           0,
           0.053000000000000005,
           "shaft_mat_1"
          ],
          [
           18,
           0.1177,
           0,
           0.1177,
           0,
           0.053000000000000005,
           "shaft_mat_1"
          ],
          [
           18,
           0.1177,
           0,
           0.1177,
           0,
           0.053000000000000005,
           "shaft_mat_1"
          ],
          [
           18,
           0.1177,
           0,
           0.1177,
           0,
           0.053000000000000005,
           "shaft_mat_1"
          ],
          [
           18,
           0.1177,
           0,
           0.1177,
           0,
           0.053000000000000005,
           "shaft_mat_1"
          ],
          [
           18,
           0.1177,
           0,
           0.1177,
           0,
           0.053000000000000005,
           "shaft_mat_1"
          ],
          [
           18,
           0.1177,
           0,
           0.1177,
           0,
           0.053000000000000005,
           "shaft_mat_1"
          ],
          [
           18,
           0.1177,
           0,
           0.1177,
           0,
           0.053000000000000005,
           "shaft_mat_1"
          ]
         ],
         "fill": "toself",
         "fillcolor": "#525252",
         "hoverinfo": "text",
         "hoverlabel": {
          "bgcolor": "#525252"
         },
         "hoveron": "points+fills",
         "hovertemplate": "Element Number: 18<br>Left Outer Diameter: 0.1177 m<br>Left Inner Diameter: 0.0 m<br>Right Outer Diameter: 0.1177 m<br>Right Inner Diameter: 0.0 m<br>Element Length: 0.053 m<br>Material: shaft_mat_1<br>",
         "legendgroup": "Shaft",
         "line": {
          "color": "black",
          "width": 1.5
         },
         "mode": "lines",
         "name": "ShaftElement 28",
         "opacity": 0.5,
         "showlegend": false,
         "text": "Element Number: 18<br>Left Outer Diameter: 0.1177 m<br>Left Inner Diameter: 0.0 m<br>Right Outer Diameter: 0.1177 m<br>Right Inner Diameter: 0.0 m<br>Element Length: 0.053 m<br>Material: shaft_mat_1<br>",
         "type": "scatter",
         "x": [
          0.5575000000000001,
          0.5575000000000001,
          0.6105000000000002,
          0.6105000000000002,
          0.5575000000000001,
          0.5575000000000001,
          0.5575000000000001,
          0.6105000000000002,
          0.6105000000000002,
          0.5575000000000001
         ],
         "y": [
          0,
          0.058850000000000006,
          0.058850000000000006,
          0,
          0,
          0,
          -0.058850000000000006,
          -0.058850000000000006,
          0,
          0
         ]
        },
        {
         "customdata": [
          [
           18,
           0.1965,
           0.1177,
           0.1965,
           0.1177,
           0.053000000000000005,
           "shaft_mat_2"
          ],
          [
           18,
           0.1965,
           0.1177,
           0.1965,
           0.1177,
           0.053000000000000005,
           "shaft_mat_2"
          ],
          [
           18,
           0.1965,
           0.1177,
           0.1965,
           0.1177,
           0.053000000000000005,
           "shaft_mat_2"
          ],
          [
           18,
           0.1965,
           0.1177,
           0.1965,
           0.1177,
           0.053000000000000005,
           "shaft_mat_2"
          ],
          [
           18,
           0.1965,
           0.1177,
           0.1965,
           0.1177,
           0.053000000000000005,
           "shaft_mat_2"
          ],
          [
           18,
           0.1965,
           0.1177,
           0.1965,
           0.1177,
           0.053000000000000005,
           "shaft_mat_2"
          ],
          [
           18,
           0.1965,
           0.1177,
           0.1965,
           0.1177,
           0.053000000000000005,
           "shaft_mat_2"
          ],
          [
           18,
           0.1965,
           0.1177,
           0.1965,
           0.1177,
           0.053000000000000005,
           "shaft_mat_2"
          ],
          [
           18,
           0.1965,
           0.1177,
           0.1965,
           0.1177,
           0.053000000000000005,
           "shaft_mat_2"
          ],
          [
           18,
           0.1965,
           0.1177,
           0.1965,
           0.1177,
           0.053000000000000005,
           "shaft_mat_2"
          ]
         ],
         "fill": "toself",
         "fillcolor": "#525252",
         "hoverinfo": "text",
         "hoverlabel": {
          "bgcolor": "#525252"
         },
         "hoveron": "points+fills",
         "hovertemplate": "Element Number: 18<br>Left Outer Diameter: 0.1965 m<br>Left Inner Diameter: 0.1177 m<br>Right Outer Diameter: 0.1965 m<br>Right Inner Diameter: 0.1177 m<br>Element Length: 0.053 m<br>Material: shaft_mat_2<br>",
         "legendgroup": "Shaft",
         "line": {
          "color": "black",
          "width": 1.5
         },
         "mode": "lines",
         "name": "ShaftElement 29",
         "opacity": 0.5,
         "showlegend": false,
         "text": "Element Number: 18<br>Left Outer Diameter: 0.1965 m<br>Left Inner Diameter: 0.1177 m<br>Right Outer Diameter: 0.1965 m<br>Right Inner Diameter: 0.1177 m<br>Element Length: 0.053 m<br>Material: shaft_mat_2<br>",
         "type": "scatter",
         "x": [
          0.5575000000000001,
          0.5575000000000001,
          0.6105000000000002,
          0.6105000000000002,
          0.5575000000000001,
          0.5575000000000001,
          0.5575000000000001,
          0.6105000000000002,
          0.6105000000000002,
          0.5575000000000001
         ],
         "y": [
          0.058850000000000006,
          0.09825,
          0.09825,
          0.058850000000000006,
          0.058850000000000006,
          -0.058850000000000006,
          -0.09825,
          -0.09825,
          -0.058850000000000006,
          -0.058850000000000006
         ]
        },
        {
         "customdata": [
          [
           19,
           0.12235,
           0,
           0.12235,
           0,
           0.01949,
           "shaft_mat_1"
          ],
          [
           19,
           0.12235,
           0,
           0.12235,
           0,
           0.01949,
           "shaft_mat_1"
          ],
          [
           19,
           0.12235,
           0,
           0.12235,
           0,
           0.01949,
           "shaft_mat_1"
          ],
          [
           19,
           0.12235,
           0,
           0.12235,
           0,
           0.01949,
           "shaft_mat_1"
          ],
          [
           19,
           0.12235,
           0,
           0.12235,
           0,
           0.01949,
           "shaft_mat_1"
          ],
          [
           19,
           0.12235,
           0,
           0.12235,
           0,
           0.01949,
           "shaft_mat_1"
          ],
          [
           19,
           0.12235,
           0,
           0.12235,
           0,
           0.01949,
           "shaft_mat_1"
          ],
          [
           19,
           0.12235,
           0,
           0.12235,
           0,
           0.01949,
           "shaft_mat_1"
          ],
          [
           19,
           0.12235,
           0,
           0.12235,
           0,
           0.01949,
           "shaft_mat_1"
          ],
          [
           19,
           0.12235,
           0,
           0.12235,
           0,
           0.01949,
           "shaft_mat_1"
          ]
         ],
         "fill": "toself",
         "fillcolor": "#525252",
         "hoverinfo": "text",
         "hoverlabel": {
          "bgcolor": "#525252"
         },
         "hoveron": "points+fills",
         "hovertemplate": "Element Number: 19<br>Left Outer Diameter: 0.12235 m<br>Left Inner Diameter: 0.0 m<br>Right Outer Diameter: 0.12235 m<br>Right Inner Diameter: 0.0 m<br>Element Length: 0.01949 m<br>Material: shaft_mat_1<br>",
         "legendgroup": "Shaft",
         "line": {
          "color": "black",
          "width": 1.5
         },
         "mode": "lines",
         "name": "ShaftElement 30",
         "opacity": 0.5,
         "showlegend": false,
         "text": "Element Number: 19<br>Left Outer Diameter: 0.12235 m<br>Left Inner Diameter: 0.0 m<br>Right Outer Diameter: 0.12235 m<br>Right Inner Diameter: 0.0 m<br>Element Length: 0.01949 m<br>Material: shaft_mat_1<br>",
         "type": "scatter",
         "x": [
          0.6105000000000002,
          0.6105000000000002,
          0.6299900000000002,
          0.6299900000000002,
          0.6105000000000002,
          0.6105000000000002,
          0.6105000000000002,
          0.6299900000000002,
          0.6299900000000002,
          0.6105000000000002
         ],
         "y": [
          0,
          0.06117499999999999,
          0.06117499999999999,
          0,
          0,
          0,
          -0.06117499999999999,
          -0.06117499999999999,
          0,
          0
         ]
        },
        {
         "customdata": [
          [
           19,
           0.127,
           0.12235,
           0.127,
           0.12235,
           0.01949,
           "shaft_mat_2"
          ],
          [
           19,
           0.127,
           0.12235,
           0.127,
           0.12235,
           0.01949,
           "shaft_mat_2"
          ],
          [
           19,
           0.127,
           0.12235,
           0.127,
           0.12235,
           0.01949,
           "shaft_mat_2"
          ],
          [
           19,
           0.127,
           0.12235,
           0.127,
           0.12235,
           0.01949,
           "shaft_mat_2"
          ],
          [
           19,
           0.127,
           0.12235,
           0.127,
           0.12235,
           0.01949,
           "shaft_mat_2"
          ],
          [
           19,
           0.127,
           0.12235,
           0.127,
           0.12235,
           0.01949,
           "shaft_mat_2"
          ],
          [
           19,
           0.127,
           0.12235,
           0.127,
           0.12235,
           0.01949,
           "shaft_mat_2"
          ],
          [
           19,
           0.127,
           0.12235,
           0.127,
           0.12235,
           0.01949,
           "shaft_mat_2"
          ],
          [
           19,
           0.127,
           0.12235,
           0.127,
           0.12235,
           0.01949,
           "shaft_mat_2"
          ],
          [
           19,
           0.127,
           0.12235,
           0.127,
           0.12235,
           0.01949,
           "shaft_mat_2"
          ]
         ],
         "fill": "toself",
         "fillcolor": "#525252",
         "hoverinfo": "text",
         "hoverlabel": {
          "bgcolor": "#525252"
         },
         "hoveron": "points+fills",
         "hovertemplate": "Element Number: 19<br>Left Outer Diameter: 0.127 m<br>Left Inner Diameter: 0.12235 m<br>Right Outer Diameter: 0.127 m<br>Right Inner Diameter: 0.12235 m<br>Element Length: 0.01949 m<br>Material: shaft_mat_2<br>",
         "legendgroup": "Shaft",
         "line": {
          "color": "black",
          "width": 1.5
         },
         "mode": "lines",
         "name": "ShaftElement 31",
         "opacity": 0.5,
         "showlegend": false,
         "text": "Element Number: 19<br>Left Outer Diameter: 0.127 m<br>Left Inner Diameter: 0.12235 m<br>Right Outer Diameter: 0.127 m<br>Right Inner Diameter: 0.12235 m<br>Element Length: 0.01949 m<br>Material: shaft_mat_2<br>",
         "type": "scatter",
         "x": [
          0.6105000000000002,
          0.6105000000000002,
          0.6299900000000002,
          0.6299900000000002,
          0.6105000000000002,
          0.6105000000000002,
          0.6105000000000002,
          0.6299900000000002,
          0.6299900000000002,
          0.6105000000000002
         ],
         "y": [
          0.06117499999999999,
          0.0635,
          0.0635,
          0.06117499999999999,
          0.06117499999999999,
          -0.06117499999999999,
          -0.0635,
          -0.0635,
          -0.06117499999999999,
          -0.06117499999999999
         ]
        },
        {
         "customdata": [
          [
           20,
           0.12235,
           0,
           0.12235,
           0,
           0.013510000000000005,
           "shaft_mat_1"
          ],
          [
           20,
           0.12235,
           0,
           0.12235,
           0,
           0.013510000000000005,
           "shaft_mat_1"
          ],
          [
           20,
           0.12235,
           0,
           0.12235,
           0,
           0.013510000000000005,
           "shaft_mat_1"
          ],
          [
           20,
           0.12235,
           0,
           0.12235,
           0,
           0.013510000000000005,
           "shaft_mat_1"
          ],
          [
           20,
           0.12235,
           0,
           0.12235,
           0,
           0.013510000000000005,
           "shaft_mat_1"
          ],
          [
           20,
           0.12235,
           0,
           0.12235,
           0,
           0.013510000000000005,
           "shaft_mat_1"
          ],
          [
           20,
           0.12235,
           0,
           0.12235,
           0,
           0.013510000000000005,
           "shaft_mat_1"
          ],
          [
           20,
           0.12235,
           0,
           0.12235,
           0,
           0.013510000000000005,
           "shaft_mat_1"
          ],
          [
           20,
           0.12235,
           0,
           0.12235,
           0,
           0.013510000000000005,
           "shaft_mat_1"
          ],
          [
           20,
           0.12235,
           0,
           0.12235,
           0,
           0.013510000000000005,
           "shaft_mat_1"
          ]
         ],
         "fill": "toself",
         "fillcolor": "#525252",
         "hoverinfo": "text",
         "hoverlabel": {
          "bgcolor": "#525252"
         },
         "hoveron": "points+fills",
         "hovertemplate": "Element Number: 20<br>Left Outer Diameter: 0.12235 m<br>Left Inner Diameter: 0.0 m<br>Right Outer Diameter: 0.12235 m<br>Right Inner Diameter: 0.0 m<br>Element Length: 0.01351 m<br>Material: shaft_mat_1<br>",
         "legendgroup": "Shaft",
         "line": {
          "color": "black",
          "width": 1.5
         },
         "mode": "lines",
         "name": "ShaftElement 32",
         "opacity": 0.5,
         "showlegend": false,
         "text": "Element Number: 20<br>Left Outer Diameter: 0.12235 m<br>Left Inner Diameter: 0.0 m<br>Right Outer Diameter: 0.12235 m<br>Right Inner Diameter: 0.0 m<br>Element Length: 0.01351 m<br>Material: shaft_mat_1<br>",
         "type": "scatter",
         "x": [
          0.6299900000000002,
          0.6299900000000002,
          0.6435000000000002,
          0.6435000000000002,
          0.6299900000000002,
          0.6299900000000002,
          0.6299900000000002,
          0.6435000000000002,
          0.6435000000000002,
          0.6299900000000002
         ],
         "y": [
          0,
          0.06117499999999999,
          0.06117499999999999,
          0,
          0,
          0,
          -0.06117499999999999,
          -0.06117499999999999,
          0,
          0
         ]
        },
        {
         "customdata": [
          [
           20,
           0.127,
           0.12235,
           0.127,
           0.12235,
           0.013510000000000005,
           "shaft_mat_2"
          ],
          [
           20,
           0.127,
           0.12235,
           0.127,
           0.12235,
           0.013510000000000005,
           "shaft_mat_2"
          ],
          [
           20,
           0.127,
           0.12235,
           0.127,
           0.12235,
           0.013510000000000005,
           "shaft_mat_2"
          ],
          [
           20,
           0.127,
           0.12235,
           0.127,
           0.12235,
           0.013510000000000005,
           "shaft_mat_2"
          ],
          [
           20,
           0.127,
           0.12235,
           0.127,
           0.12235,
           0.013510000000000005,
           "shaft_mat_2"
          ],
          [
           20,
           0.127,
           0.12235,
           0.127,
           0.12235,
           0.013510000000000005,
           "shaft_mat_2"
          ],
          [
           20,
           0.127,
           0.12235,
           0.127,
           0.12235,
           0.013510000000000005,
           "shaft_mat_2"
          ],
          [
           20,
           0.127,
           0.12235,
           0.127,
           0.12235,
           0.013510000000000005,
           "shaft_mat_2"
          ],
          [
           20,
           0.127,
           0.12235,
           0.127,
           0.12235,
           0.013510000000000005,
           "shaft_mat_2"
          ],
          [
           20,
           0.127,
           0.12235,
           0.127,
           0.12235,
           0.013510000000000005,
           "shaft_mat_2"
          ]
         ],
         "fill": "toself",
         "fillcolor": "#525252",
         "hoverinfo": "text",
         "hoverlabel": {
          "bgcolor": "#525252"
         },
         "hoveron": "points+fills",
         "hovertemplate": "Element Number: 20<br>Left Outer Diameter: 0.127 m<br>Left Inner Diameter: 0.12235 m<br>Right Outer Diameter: 0.127 m<br>Right Inner Diameter: 0.12235 m<br>Element Length: 0.01351 m<br>Material: shaft_mat_2<br>",
         "legendgroup": "Shaft",
         "line": {
          "color": "black",
          "width": 1.5
         },
         "mode": "lines",
         "name": "ShaftElement 33",
         "opacity": 0.5,
         "showlegend": false,
         "text": "Element Number: 20<br>Left Outer Diameter: 0.127 m<br>Left Inner Diameter: 0.12235 m<br>Right Outer Diameter: 0.127 m<br>Right Inner Diameter: 0.12235 m<br>Element Length: 0.01351 m<br>Material: shaft_mat_2<br>",
         "type": "scatter",
         "x": [
          0.6299900000000002,
          0.6299900000000002,
          0.6435000000000002,
          0.6435000000000002,
          0.6299900000000002,
          0.6299900000000002,
          0.6299900000000002,
          0.6435000000000002,
          0.6435000000000002,
          0.6299900000000002
         ],
         "y": [
          0.06117499999999999,
          0.0635,
          0.0635,
          0.06117499999999999,
          0.06117499999999999,
          -0.06117499999999999,
          -0.0635,
          -0.0635,
          -0.06117499999999999,
          -0.06117499999999999
         ]
        },
        {
         "customdata": [
          [
           21,
           0.1177,
           0,
           0.1177,
           0,
           0.0495,
           "shaft_mat_1"
          ],
          [
           21,
           0.1177,
           0,
           0.1177,
           0,
           0.0495,
           "shaft_mat_1"
          ],
          [
           21,
           0.1177,
           0,
           0.1177,
           0,
           0.0495,
           "shaft_mat_1"
          ],
          [
           21,
           0.1177,
           0,
           0.1177,
           0,
           0.0495,
           "shaft_mat_1"
          ],
          [
           21,
           0.1177,
           0,
           0.1177,
           0,
           0.0495,
           "shaft_mat_1"
          ],
          [
           21,
           0.1177,
           0,
           0.1177,
           0,
           0.0495,
           "shaft_mat_1"
          ],
          [
           21,
           0.1177,
           0,
           0.1177,
           0,
           0.0495,
           "shaft_mat_1"
          ],
          [
           21,
           0.1177,
           0,
           0.1177,
           0,
           0.0495,
           "shaft_mat_1"
          ],
          [
           21,
           0.1177,
           0,
           0.1177,
           0,
           0.0495,
           "shaft_mat_1"
          ],
          [
           21,
           0.1177,
           0,
           0.1177,
           0,
           0.0495,
           "shaft_mat_1"
          ]
         ],
         "fill": "toself",
         "fillcolor": "#525252",
         "hoverinfo": "text",
         "hoverlabel": {
          "bgcolor": "#525252"
         },
         "hoveron": "points+fills",
         "hovertemplate": "Element Number: 21<br>Left Outer Diameter: 0.1177 m<br>Left Inner Diameter: 0.0 m<br>Right Outer Diameter: 0.1177 m<br>Right Inner Diameter: 0.0 m<br>Element Length: 0.0495 m<br>Material: shaft_mat_1<br>",
         "legendgroup": "Shaft",
         "line": {
          "color": "black",
          "width": 1.5
         },
         "mode": "lines",
         "name": "ShaftElement 34",
         "opacity": 0.5,
         "showlegend": false,
         "text": "Element Number: 21<br>Left Outer Diameter: 0.1177 m<br>Left Inner Diameter: 0.0 m<br>Right Outer Diameter: 0.1177 m<br>Right Inner Diameter: 0.0 m<br>Element Length: 0.0495 m<br>Material: shaft_mat_1<br>",
         "type": "scatter",
         "x": [
          0.6435000000000002,
          0.6435000000000002,
          0.6930000000000002,
          0.6930000000000002,
          0.6435000000000002,
          0.6435000000000002,
          0.6435000000000002,
          0.6930000000000002,
          0.6930000000000002,
          0.6435000000000002
         ],
         "y": [
          0,
          0.058850000000000006,
          0.058850000000000006,
          0,
          0,
          0,
          -0.058850000000000006,
          -0.058850000000000006,
          0,
          0
         ]
        },
        {
         "customdata": [
          [
           22,
           0.12235,
           0,
           0.12235,
           0,
           0.01959,
           "shaft_mat_1"
          ],
          [
           22,
           0.12235,
           0,
           0.12235,
           0,
           0.01959,
           "shaft_mat_1"
          ],
          [
           22,
           0.12235,
           0,
           0.12235,
           0,
           0.01959,
           "shaft_mat_1"
          ],
          [
           22,
           0.12235,
           0,
           0.12235,
           0,
           0.01959,
           "shaft_mat_1"
          ],
          [
           22,
           0.12235,
           0,
           0.12235,
           0,
           0.01959,
           "shaft_mat_1"
          ],
          [
           22,
           0.12235,
           0,
           0.12235,
           0,
           0.01959,
           "shaft_mat_1"
          ],
          [
           22,
           0.12235,
           0,
           0.12235,
           0,
           0.01959,
           "shaft_mat_1"
          ],
          [
           22,
           0.12235,
           0,
           0.12235,
           0,
           0.01959,
           "shaft_mat_1"
          ],
          [
           22,
           0.12235,
           0,
           0.12235,
           0,
           0.01959,
           "shaft_mat_1"
          ],
          [
           22,
           0.12235,
           0,
           0.12235,
           0,
           0.01959,
           "shaft_mat_1"
          ]
         ],
         "fill": "toself",
         "fillcolor": "#525252",
         "hoverinfo": "text",
         "hoverlabel": {
          "bgcolor": "#525252"
         },
         "hoveron": "points+fills",
         "hovertemplate": "Element Number: 22<br>Left Outer Diameter: 0.12235 m<br>Left Inner Diameter: 0.0 m<br>Right Outer Diameter: 0.12235 m<br>Right Inner Diameter: 0.0 m<br>Element Length: 0.01959 m<br>Material: shaft_mat_1<br>",
         "legendgroup": "Shaft",
         "line": {
          "color": "black",
          "width": 1.5
         },
         "mode": "lines",
         "name": "ShaftElement 35",
         "opacity": 0.5,
         "showlegend": false,
         "text": "Element Number: 22<br>Left Outer Diameter: 0.12235 m<br>Left Inner Diameter: 0.0 m<br>Right Outer Diameter: 0.12235 m<br>Right Inner Diameter: 0.0 m<br>Element Length: 0.01959 m<br>Material: shaft_mat_1<br>",
         "type": "scatter",
         "x": [
          0.6930000000000002,
          0.6930000000000002,
          0.7125900000000002,
          0.7125900000000002,
          0.6930000000000002,
          0.6930000000000002,
          0.6930000000000002,
          0.7125900000000002,
          0.7125900000000002,
          0.6930000000000002
         ],
         "y": [
          0,
          0.06117499999999999,
          0.06117499999999999,
          0,
          0,
          0,
          -0.06117499999999999,
          -0.06117499999999999,
          0,
          0
         ]
        },
        {
         "customdata": [
          [
           22,
           0.127,
           0.12235,
           0.127,
           0.12235,
           0.01959,
           "shaft_mat_2"
          ],
          [
           22,
           0.127,
           0.12235,
           0.127,
           0.12235,
           0.01959,
           "shaft_mat_2"
          ],
          [
           22,
           0.127,
           0.12235,
           0.127,
           0.12235,
           0.01959,
           "shaft_mat_2"
          ],
          [
           22,
           0.127,
           0.12235,
           0.127,
           0.12235,
           0.01959,
           "shaft_mat_2"
          ],
          [
           22,
           0.127,
           0.12235,
           0.127,
           0.12235,
           0.01959,
           "shaft_mat_2"
          ],
          [
           22,
           0.127,
           0.12235,
           0.127,
           0.12235,
           0.01959,
           "shaft_mat_2"
          ],
          [
           22,
           0.127,
           0.12235,
           0.127,
           0.12235,
           0.01959,
           "shaft_mat_2"
          ],
          [
           22,
           0.127,
           0.12235,
           0.127,
           0.12235,
           0.01959,
           "shaft_mat_2"
          ],
          [
           22,
           0.127,
           0.12235,
           0.127,
           0.12235,
           0.01959,
           "shaft_mat_2"
          ],
          [
           22,
           0.127,
           0.12235,
           0.127,
           0.12235,
           0.01959,
           "shaft_mat_2"
          ]
         ],
         "fill": "toself",
         "fillcolor": "#525252",
         "hoverinfo": "text",
         "hoverlabel": {
          "bgcolor": "#525252"
         },
         "hoveron": "points+fills",
         "hovertemplate": "Element Number: 22<br>Left Outer Diameter: 0.127 m<br>Left Inner Diameter: 0.12235 m<br>Right Outer Diameter: 0.127 m<br>Right Inner Diameter: 0.12235 m<br>Element Length: 0.01959 m<br>Material: shaft_mat_2<br>",
         "legendgroup": "Shaft",
         "line": {
          "color": "black",
          "width": 1.5
         },
         "mode": "lines",
         "name": "ShaftElement 36",
         "opacity": 0.5,
         "showlegend": false,
         "text": "Element Number: 22<br>Left Outer Diameter: 0.127 m<br>Left Inner Diameter: 0.12235 m<br>Right Outer Diameter: 0.127 m<br>Right Inner Diameter: 0.12235 m<br>Element Length: 0.01959 m<br>Material: shaft_mat_2<br>",
         "type": "scatter",
         "x": [
          0.6930000000000002,
          0.6930000000000002,
          0.7125900000000002,
          0.7125900000000002,
          0.6930000000000002,
          0.6930000000000002,
          0.6930000000000002,
          0.7125900000000002,
          0.7125900000000002,
          0.6930000000000002
         ],
         "y": [
          0.06117499999999999,
          0.0635,
          0.0635,
          0.06117499999999999,
          0.06117499999999999,
          -0.06117499999999999,
          -0.0635,
          -0.0635,
          -0.06117499999999999,
          -0.06117499999999999
         ]
        },
        {
         "customdata": [
          [
           23,
           0.12235,
           0,
           0.12235,
           0,
           0.01241,
           "shaft_mat_1"
          ],
          [
           23,
           0.12235,
           0,
           0.12235,
           0,
           0.01241,
           "shaft_mat_1"
          ],
          [
           23,
           0.12235,
           0,
           0.12235,
           0,
           0.01241,
           "shaft_mat_1"
          ],
          [
           23,
           0.12235,
           0,
           0.12235,
           0,
           0.01241,
           "shaft_mat_1"
          ],
          [
           23,
           0.12235,
           0,
           0.12235,
           0,
           0.01241,
           "shaft_mat_1"
          ],
          [
           23,
           0.12235,
           0,
           0.12235,
           0,
           0.01241,
           "shaft_mat_1"
          ],
          [
           23,
           0.12235,
           0,
           0.12235,
           0,
           0.01241,
           "shaft_mat_1"
          ],
          [
           23,
           0.12235,
           0,
           0.12235,
           0,
           0.01241,
           "shaft_mat_1"
          ],
          [
           23,
           0.12235,
           0,
           0.12235,
           0,
           0.01241,
           "shaft_mat_1"
          ],
          [
           23,
           0.12235,
           0,
           0.12235,
           0,
           0.01241,
           "shaft_mat_1"
          ]
         ],
         "fill": "toself",
         "fillcolor": "#525252",
         "hoverinfo": "text",
         "hoverlabel": {
          "bgcolor": "#525252"
         },
         "hoveron": "points+fills",
         "hovertemplate": "Element Number: 23<br>Left Outer Diameter: 0.12235 m<br>Left Inner Diameter: 0.0 m<br>Right Outer Diameter: 0.12235 m<br>Right Inner Diameter: 0.0 m<br>Element Length: 0.01241 m<br>Material: shaft_mat_1<br>",
         "legendgroup": "Shaft",
         "line": {
          "color": "black",
          "width": 1.5
         },
         "mode": "lines",
         "name": "ShaftElement 37",
         "opacity": 0.5,
         "showlegend": false,
         "text": "Element Number: 23<br>Left Outer Diameter: 0.12235 m<br>Left Inner Diameter: 0.0 m<br>Right Outer Diameter: 0.12235 m<br>Right Inner Diameter: 0.0 m<br>Element Length: 0.01241 m<br>Material: shaft_mat_1<br>",
         "type": "scatter",
         "x": [
          0.7125900000000002,
          0.7125900000000002,
          0.7250000000000002,
          0.7250000000000002,
          0.7125900000000002,
          0.7125900000000002,
          0.7125900000000002,
          0.7250000000000002,
          0.7250000000000002,
          0.7125900000000002
         ],
         "y": [
          0,
          0.06117499999999999,
          0.06117499999999999,
          0,
          0,
          0,
          -0.06117499999999999,
          -0.06117499999999999,
          0,
          0
         ]
        },
        {
         "customdata": [
          [
           23,
           0.127,
           0.12235,
           0.127,
           0.12235,
           0.01241,
           "shaft_mat_2"
          ],
          [
           23,
           0.127,
           0.12235,
           0.127,
           0.12235,
           0.01241,
           "shaft_mat_2"
          ],
          [
           23,
           0.127,
           0.12235,
           0.127,
           0.12235,
           0.01241,
           "shaft_mat_2"
          ],
          [
           23,
           0.127,
           0.12235,
           0.127,
           0.12235,
           0.01241,
           "shaft_mat_2"
          ],
          [
           23,
           0.127,
           0.12235,
           0.127,
           0.12235,
           0.01241,
           "shaft_mat_2"
          ],
          [
           23,
           0.127,
           0.12235,
           0.127,
           0.12235,
           0.01241,
           "shaft_mat_2"
          ],
          [
           23,
           0.127,
           0.12235,
           0.127,
           0.12235,
           0.01241,
           "shaft_mat_2"
          ],
          [
           23,
           0.127,
           0.12235,
           0.127,
           0.12235,
           0.01241,
           "shaft_mat_2"
          ],
          [
           23,
           0.127,
           0.12235,
           0.127,
           0.12235,
           0.01241,
           "shaft_mat_2"
          ],
          [
           23,
           0.127,
           0.12235,
           0.127,
           0.12235,
           0.01241,
           "shaft_mat_2"
          ]
         ],
         "fill": "toself",
         "fillcolor": "#525252",
         "hoverinfo": "text",
         "hoverlabel": {
          "bgcolor": "#525252"
         },
         "hoveron": "points+fills",
         "hovertemplate": "Element Number: 23<br>Left Outer Diameter: 0.127 m<br>Left Inner Diameter: 0.12235 m<br>Right Outer Diameter: 0.127 m<br>Right Inner Diameter: 0.12235 m<br>Element Length: 0.01241 m<br>Material: shaft_mat_2<br>",
         "legendgroup": "Shaft",
         "line": {
          "color": "black",
          "width": 1.5
         },
         "mode": "lines",
         "name": "ShaftElement 38",
         "opacity": 0.5,
         "showlegend": false,
         "text": "Element Number: 23<br>Left Outer Diameter: 0.127 m<br>Left Inner Diameter: 0.12235 m<br>Right Outer Diameter: 0.127 m<br>Right Inner Diameter: 0.12235 m<br>Element Length: 0.01241 m<br>Material: shaft_mat_2<br>",
         "type": "scatter",
         "x": [
          0.7125900000000002,
          0.7125900000000002,
          0.7250000000000002,
          0.7250000000000002,
          0.7125900000000002,
          0.7125900000000002,
          0.7125900000000002,
          0.7250000000000002,
          0.7250000000000002,
          0.7125900000000002
         ],
         "y": [
          0.06117499999999999,
          0.0635,
          0.0635,
          0.06117499999999999,
          0.06117499999999999,
          -0.06117499999999999,
          -0.0635,
          -0.0635,
          -0.06117499999999999,
          -0.06117499999999999
         ]
        },
        {
         "customdata": [
          [
           24,
           0.1177,
           0,
           0.1177,
           0,
           0.049,
           "shaft_mat_1"
          ],
          [
           24,
           0.1177,
           0,
           0.1177,
           0,
           0.049,
           "shaft_mat_1"
          ],
          [
           24,
           0.1177,
           0,
           0.1177,
           0,
           0.049,
           "shaft_mat_1"
          ],
          [
           24,
           0.1177,
           0,
           0.1177,
           0,
           0.049,
           "shaft_mat_1"
          ],
          [
           24,
           0.1177,
           0,
           0.1177,
           0,
           0.049,
           "shaft_mat_1"
          ],
          [
           24,
           0.1177,
           0,
           0.1177,
           0,
           0.049,
           "shaft_mat_1"
          ],
          [
           24,
           0.1177,
           0,
           0.1177,
           0,
           0.049,
           "shaft_mat_1"
          ],
          [
           24,
           0.1177,
           0,
           0.1177,
           0,
           0.049,
           "shaft_mat_1"
          ],
          [
           24,
           0.1177,
           0,
           0.1177,
           0,
           0.049,
           "shaft_mat_1"
          ],
          [
           24,
           0.1177,
           0,
           0.1177,
           0,
           0.049,
           "shaft_mat_1"
          ]
         ],
         "fill": "toself",
         "fillcolor": "#525252",
         "hoverinfo": "text",
         "hoverlabel": {
          "bgcolor": "#525252"
         },
         "hoveron": "points+fills",
         "hovertemplate": "Element Number: 24<br>Left Outer Diameter: 0.1177 m<br>Left Inner Diameter: 0.0 m<br>Right Outer Diameter: 0.1177 m<br>Right Inner Diameter: 0.0 m<br>Element Length: 0.049 m<br>Material: shaft_mat_1<br>",
         "legendgroup": "Shaft",
         "line": {
          "color": "black",
          "width": 1.5
         },
         "mode": "lines",
         "name": "ShaftElement 39",
         "opacity": 0.5,
         "showlegend": false,
         "text": "Element Number: 24<br>Left Outer Diameter: 0.1177 m<br>Left Inner Diameter: 0.0 m<br>Right Outer Diameter: 0.1177 m<br>Right Inner Diameter: 0.0 m<br>Element Length: 0.049 m<br>Material: shaft_mat_1<br>",
         "type": "scatter",
         "x": [
          0.7250000000000002,
          0.7250000000000002,
          0.7740000000000002,
          0.7740000000000002,
          0.7250000000000002,
          0.7250000000000002,
          0.7250000000000002,
          0.7740000000000002,
          0.7740000000000002,
          0.7250000000000002
         ],
         "y": [
          0,
          0.058850000000000006,
          0.058850000000000006,
          0,
          0,
          0,
          -0.058850000000000006,
          -0.058850000000000006,
          0,
          0
         ]
        },
        {
         "customdata": [
          [
           25,
           0.12235,
           0,
           0.12235,
           0,
           0.0197,
           "shaft_mat_1"
          ],
          [
           25,
           0.12235,
           0,
           0.12235,
           0,
           0.0197,
           "shaft_mat_1"
          ],
          [
           25,
           0.12235,
           0,
           0.12235,
           0,
           0.0197,
           "shaft_mat_1"
          ],
          [
           25,
           0.12235,
           0,
           0.12235,
           0,
           0.0197,
           "shaft_mat_1"
          ],
          [
           25,
           0.12235,
           0,
           0.12235,
           0,
           0.0197,
           "shaft_mat_1"
          ],
          [
           25,
           0.12235,
           0,
           0.12235,
           0,
           0.0197,
           "shaft_mat_1"
          ],
          [
           25,
           0.12235,
           0,
           0.12235,
           0,
           0.0197,
           "shaft_mat_1"
          ],
          [
           25,
           0.12235,
           0,
           0.12235,
           0,
           0.0197,
           "shaft_mat_1"
          ],
          [
           25,
           0.12235,
           0,
           0.12235,
           0,
           0.0197,
           "shaft_mat_1"
          ],
          [
           25,
           0.12235,
           0,
           0.12235,
           0,
           0.0197,
           "shaft_mat_1"
          ]
         ],
         "fill": "toself",
         "fillcolor": "#525252",
         "hoverinfo": "text",
         "hoverlabel": {
          "bgcolor": "#525252"
         },
         "hoveron": "points+fills",
         "hovertemplate": "Element Number: 25<br>Left Outer Diameter: 0.12235 m<br>Left Inner Diameter: 0.0 m<br>Right Outer Diameter: 0.12235 m<br>Right Inner Diameter: 0.0 m<br>Element Length: 0.0197 m<br>Material: shaft_mat_1<br>",
         "legendgroup": "Shaft",
         "line": {
          "color": "black",
          "width": 1.5
         },
         "mode": "lines",
         "name": "ShaftElement 40",
         "opacity": 0.5,
         "showlegend": false,
         "text": "Element Number: 25<br>Left Outer Diameter: 0.12235 m<br>Left Inner Diameter: 0.0 m<br>Right Outer Diameter: 0.12235 m<br>Right Inner Diameter: 0.0 m<br>Element Length: 0.0197 m<br>Material: shaft_mat_1<br>",
         "type": "scatter",
         "x": [
          0.7740000000000002,
          0.7740000000000002,
          0.7937000000000003,
          0.7937000000000003,
          0.7740000000000002,
          0.7740000000000002,
          0.7740000000000002,
          0.7937000000000003,
          0.7937000000000003,
          0.7740000000000002
         ],
         "y": [
          0,
          0.06117499999999999,
          0.06117499999999999,
          0,
          0,
          0,
          -0.06117499999999999,
          -0.06117499999999999,
          0,
          0
         ]
        },
        {
         "customdata": [
          [
           25,
           0.127,
           0.12235,
           0.127,
           0.12235,
           0.0197,
           "shaft_mat_2"
          ],
          [
           25,
           0.127,
           0.12235,
           0.127,
           0.12235,
           0.0197,
           "shaft_mat_2"
          ],
          [
           25,
           0.127,
           0.12235,
           0.127,
           0.12235,
           0.0197,
           "shaft_mat_2"
          ],
          [
           25,
           0.127,
           0.12235,
           0.127,
           0.12235,
           0.0197,
           "shaft_mat_2"
          ],
          [
           25,
           0.127,
           0.12235,
           0.127,
           0.12235,
           0.0197,
           "shaft_mat_2"
          ],
          [
           25,
           0.127,
           0.12235,
           0.127,
           0.12235,
           0.0197,
           "shaft_mat_2"
          ],
          [
           25,
           0.127,
           0.12235,
           0.127,
           0.12235,
           0.0197,
           "shaft_mat_2"
          ],
          [
           25,
           0.127,
           0.12235,
           0.127,
           0.12235,
           0.0197,
           "shaft_mat_2"
          ],
          [
           25,
           0.127,
           0.12235,
           0.127,
           0.12235,
           0.0197,
           "shaft_mat_2"
          ],
          [
           25,
           0.127,
           0.12235,
           0.127,
           0.12235,
           0.0197,
           "shaft_mat_2"
          ]
         ],
         "fill": "toself",
         "fillcolor": "#525252",
         "hoverinfo": "text",
         "hoverlabel": {
          "bgcolor": "#525252"
         },
         "hoveron": "points+fills",
         "hovertemplate": "Element Number: 25<br>Left Outer Diameter: 0.127 m<br>Left Inner Diameter: 0.12235 m<br>Right Outer Diameter: 0.127 m<br>Right Inner Diameter: 0.12235 m<br>Element Length: 0.0197 m<br>Material: shaft_mat_2<br>",
         "legendgroup": "Shaft",
         "line": {
          "color": "black",
          "width": 1.5
         },
         "mode": "lines",
         "name": "ShaftElement 41",
         "opacity": 0.5,
         "showlegend": false,
         "text": "Element Number: 25<br>Left Outer Diameter: 0.127 m<br>Left Inner Diameter: 0.12235 m<br>Right Outer Diameter: 0.127 m<br>Right Inner Diameter: 0.12235 m<br>Element Length: 0.0197 m<br>Material: shaft_mat_2<br>",
         "type": "scatter",
         "x": [
          0.7740000000000002,
          0.7740000000000002,
          0.7937000000000003,
          0.7937000000000003,
          0.7740000000000002,
          0.7740000000000002,
          0.7740000000000002,
          0.7937000000000003,
          0.7937000000000003,
          0.7740000000000002
         ],
         "y": [
          0.06117499999999999,
          0.0635,
          0.0635,
          0.06117499999999999,
          0.06117499999999999,
          -0.06117499999999999,
          -0.0635,
          -0.0635,
          -0.06117499999999999,
          -0.06117499999999999
         ]
        },
        {
         "customdata": [
          [
           26,
           0.12235,
           0,
           0.12235,
           0,
           0.0123,
           "shaft_mat_1"
          ],
          [
           26,
           0.12235,
           0,
           0.12235,
           0,
           0.0123,
           "shaft_mat_1"
          ],
          [
           26,
           0.12235,
           0,
           0.12235,
           0,
           0.0123,
           "shaft_mat_1"
          ],
          [
           26,
           0.12235,
           0,
           0.12235,
           0,
           0.0123,
           "shaft_mat_1"
          ],
          [
           26,
           0.12235,
           0,
           0.12235,
           0,
           0.0123,
           "shaft_mat_1"
          ],
          [
           26,
           0.12235,
           0,
           0.12235,
           0,
           0.0123,
           "shaft_mat_1"
          ],
          [
           26,
           0.12235,
           0,
           0.12235,
           0,
           0.0123,
           "shaft_mat_1"
          ],
          [
           26,
           0.12235,
           0,
           0.12235,
           0,
           0.0123,
           "shaft_mat_1"
          ],
          [
           26,
           0.12235,
           0,
           0.12235,
           0,
           0.0123,
           "shaft_mat_1"
          ],
          [
           26,
           0.12235,
           0,
           0.12235,
           0,
           0.0123,
           "shaft_mat_1"
          ]
         ],
         "fill": "toself",
         "fillcolor": "#525252",
         "hoverinfo": "text",
         "hoverlabel": {
          "bgcolor": "#525252"
         },
         "hoveron": "points+fills",
         "hovertemplate": "Element Number: 26<br>Left Outer Diameter: 0.12235 m<br>Left Inner Diameter: 0.0 m<br>Right Outer Diameter: 0.12235 m<br>Right Inner Diameter: 0.0 m<br>Element Length: 0.0123 m<br>Material: shaft_mat_1<br>",
         "legendgroup": "Shaft",
         "line": {
          "color": "black",
          "width": 1.5
         },
         "mode": "lines",
         "name": "ShaftElement 42",
         "opacity": 0.5,
         "showlegend": false,
         "text": "Element Number: 26<br>Left Outer Diameter: 0.12235 m<br>Left Inner Diameter: 0.0 m<br>Right Outer Diameter: 0.12235 m<br>Right Inner Diameter: 0.0 m<br>Element Length: 0.0123 m<br>Material: shaft_mat_1<br>",
         "type": "scatter",
         "x": [
          0.7937000000000003,
          0.7937000000000003,
          0.8060000000000003,
          0.8060000000000003,
          0.7937000000000003,
          0.7937000000000003,
          0.7937000000000003,
          0.8060000000000003,
          0.8060000000000003,
          0.7937000000000003
         ],
         "y": [
          0,
          0.06117499999999999,
          0.06117499999999999,
          0,
          0,
          0,
          -0.06117499999999999,
          -0.06117499999999999,
          0,
          0
         ]
        },
        {
         "customdata": [
          [
           26,
           0.127,
           0.12235,
           0.127,
           0.12235,
           0.0123,
           "shaft_mat_2"
          ],
          [
           26,
           0.127,
           0.12235,
           0.127,
           0.12235,
           0.0123,
           "shaft_mat_2"
          ],
          [
           26,
           0.127,
           0.12235,
           0.127,
           0.12235,
           0.0123,
           "shaft_mat_2"
          ],
          [
           26,
           0.127,
           0.12235,
           0.127,
           0.12235,
           0.0123,
           "shaft_mat_2"
          ],
          [
           26,
           0.127,
           0.12235,
           0.127,
           0.12235,
           0.0123,
           "shaft_mat_2"
          ],
          [
           26,
           0.127,
           0.12235,
           0.127,
           0.12235,
           0.0123,
           "shaft_mat_2"
          ],
          [
           26,
           0.127,
           0.12235,
           0.127,
           0.12235,
           0.0123,
           "shaft_mat_2"
          ],
          [
           26,
           0.127,
           0.12235,
           0.127,
           0.12235,
           0.0123,
           "shaft_mat_2"
          ],
          [
           26,
           0.127,
           0.12235,
           0.127,
           0.12235,
           0.0123,
           "shaft_mat_2"
          ],
          [
           26,
           0.127,
           0.12235,
           0.127,
           0.12235,
           0.0123,
           "shaft_mat_2"
          ]
         ],
         "fill": "toself",
         "fillcolor": "#525252",
         "hoverinfo": "text",
         "hoverlabel": {
          "bgcolor": "#525252"
         },
         "hoveron": "points+fills",
         "hovertemplate": "Element Number: 26<br>Left Outer Diameter: 0.127 m<br>Left Inner Diameter: 0.12235 m<br>Right Outer Diameter: 0.127 m<br>Right Inner Diameter: 0.12235 m<br>Element Length: 0.0123 m<br>Material: shaft_mat_2<br>",
         "legendgroup": "Shaft",
         "line": {
          "color": "black",
          "width": 1.5
         },
         "mode": "lines",
         "name": "ShaftElement 43",
         "opacity": 0.5,
         "showlegend": false,
         "text": "Element Number: 26<br>Left Outer Diameter: 0.127 m<br>Left Inner Diameter: 0.12235 m<br>Right Outer Diameter: 0.127 m<br>Right Inner Diameter: 0.12235 m<br>Element Length: 0.0123 m<br>Material: shaft_mat_2<br>",
         "type": "scatter",
         "x": [
          0.7937000000000003,
          0.7937000000000003,
          0.8060000000000003,
          0.8060000000000003,
          0.7937000000000003,
          0.7937000000000003,
          0.7937000000000003,
          0.8060000000000003,
          0.8060000000000003,
          0.7937000000000003
         ],
         "y": [
          0.06117499999999999,
          0.0635,
          0.0635,
          0.06117499999999999,
          0.06117499999999999,
          -0.06117499999999999,
          -0.0635,
          -0.0635,
          -0.06117499999999999,
          -0.06117499999999999
         ]
        },
        {
         "customdata": [
          [
           27,
           0.1177,
           0,
           0.1177,
           0,
           0.0495,
           "shaft_mat_1"
          ],
          [
           27,
           0.1177,
           0,
           0.1177,
           0,
           0.0495,
           "shaft_mat_1"
          ],
          [
           27,
           0.1177,
           0,
           0.1177,
           0,
           0.0495,
           "shaft_mat_1"
          ],
          [
           27,
           0.1177,
           0,
           0.1177,
           0,
           0.0495,
           "shaft_mat_1"
          ],
          [
           27,
           0.1177,
           0,
           0.1177,
           0,
           0.0495,
           "shaft_mat_1"
          ],
          [
           27,
           0.1177,
           0,
           0.1177,
           0,
           0.0495,
           "shaft_mat_1"
          ],
          [
           27,
           0.1177,
           0,
           0.1177,
           0,
           0.0495,
           "shaft_mat_1"
          ],
          [
           27,
           0.1177,
           0,
           0.1177,
           0,
           0.0495,
           "shaft_mat_1"
          ],
          [
           27,
           0.1177,
           0,
           0.1177,
           0,
           0.0495,
           "shaft_mat_1"
          ],
          [
           27,
           0.1177,
           0,
           0.1177,
           0,
           0.0495,
           "shaft_mat_1"
          ]
         ],
         "fill": "toself",
         "fillcolor": "#525252",
         "hoverinfo": "text",
         "hoverlabel": {
          "bgcolor": "#525252"
         },
         "hoveron": "points+fills",
         "hovertemplate": "Element Number: 27<br>Left Outer Diameter: 0.1177 m<br>Left Inner Diameter: 0.0 m<br>Right Outer Diameter: 0.1177 m<br>Right Inner Diameter: 0.0 m<br>Element Length: 0.0495 m<br>Material: shaft_mat_1<br>",
         "legendgroup": "Shaft",
         "line": {
          "color": "black",
          "width": 1.5
         },
         "mode": "lines",
         "name": "ShaftElement 44",
         "opacity": 0.5,
         "showlegend": false,
         "text": "Element Number: 27<br>Left Outer Diameter: 0.1177 m<br>Left Inner Diameter: 0.0 m<br>Right Outer Diameter: 0.1177 m<br>Right Inner Diameter: 0.0 m<br>Element Length: 0.0495 m<br>Material: shaft_mat_1<br>",
         "type": "scatter",
         "x": [
          0.8060000000000003,
          0.8060000000000003,
          0.8555000000000003,
          0.8555000000000003,
          0.8060000000000003,
          0.8060000000000003,
          0.8060000000000003,
          0.8555000000000003,
          0.8555000000000003,
          0.8060000000000003
         ],
         "y": [
          0,
          0.058850000000000006,
          0.058850000000000006,
          0,
          0,
          0,
          -0.058850000000000006,
          -0.058850000000000006,
          0,
          0
         ]
        },
        {
         "customdata": [
          [
           28,
           0.12235,
           0,
           0.12235,
           0,
           0.019829999999999997,
           "shaft_mat_1"
          ],
          [
           28,
           0.12235,
           0,
           0.12235,
           0,
           0.019829999999999997,
           "shaft_mat_1"
          ],
          [
           28,
           0.12235,
           0,
           0.12235,
           0,
           0.019829999999999997,
           "shaft_mat_1"
          ],
          [
           28,
           0.12235,
           0,
           0.12235,
           0,
           0.019829999999999997,
           "shaft_mat_1"
          ],
          [
           28,
           0.12235,
           0,
           0.12235,
           0,
           0.019829999999999997,
           "shaft_mat_1"
          ],
          [
           28,
           0.12235,
           0,
           0.12235,
           0,
           0.019829999999999997,
           "shaft_mat_1"
          ],
          [
           28,
           0.12235,
           0,
           0.12235,
           0,
           0.019829999999999997,
           "shaft_mat_1"
          ],
          [
           28,
           0.12235,
           0,
           0.12235,
           0,
           0.019829999999999997,
           "shaft_mat_1"
          ],
          [
           28,
           0.12235,
           0,
           0.12235,
           0,
           0.019829999999999997,
           "shaft_mat_1"
          ],
          [
           28,
           0.12235,
           0,
           0.12235,
           0,
           0.019829999999999997,
           "shaft_mat_1"
          ]
         ],
         "fill": "toself",
         "fillcolor": "#525252",
         "hoverinfo": "text",
         "hoverlabel": {
          "bgcolor": "#525252"
         },
         "hoveron": "points+fills",
         "hovertemplate": "Element Number: 28<br>Left Outer Diameter: 0.12235 m<br>Left Inner Diameter: 0.0 m<br>Right Outer Diameter: 0.12235 m<br>Right Inner Diameter: 0.0 m<br>Element Length: 0.01983 m<br>Material: shaft_mat_1<br>",
         "legendgroup": "Shaft",
         "line": {
          "color": "black",
          "width": 1.5
         },
         "mode": "lines",
         "name": "ShaftElement 45",
         "opacity": 0.5,
         "showlegend": false,
         "text": "Element Number: 28<br>Left Outer Diameter: 0.12235 m<br>Left Inner Diameter: 0.0 m<br>Right Outer Diameter: 0.12235 m<br>Right Inner Diameter: 0.0 m<br>Element Length: 0.01983 m<br>Material: shaft_mat_1<br>",
         "type": "scatter",
         "x": [
          0.8555000000000003,
          0.8555000000000003,
          0.8753300000000003,
          0.8753300000000003,
          0.8555000000000003,
          0.8555000000000003,
          0.8555000000000003,
          0.8753300000000003,
          0.8753300000000003,
          0.8555000000000003
         ],
         "y": [
          0,
          0.06117499999999999,
          0.06117499999999999,
          0,
          0,
          0,
          -0.06117499999999999,
          -0.06117499999999999,
          0,
          0
         ]
        },
        {
         "customdata": [
          [
           28,
           0.127,
           0.12235,
           0.127,
           0.12235,
           0.019829999999999997,
           "shaft_mat_2"
          ],
          [
           28,
           0.127,
           0.12235,
           0.127,
           0.12235,
           0.019829999999999997,
           "shaft_mat_2"
          ],
          [
           28,
           0.127,
           0.12235,
           0.127,
           0.12235,
           0.019829999999999997,
           "shaft_mat_2"
          ],
          [
           28,
           0.127,
           0.12235,
           0.127,
           0.12235,
           0.019829999999999997,
           "shaft_mat_2"
          ],
          [
           28,
           0.127,
           0.12235,
           0.127,
           0.12235,
           0.019829999999999997,
           "shaft_mat_2"
          ],
          [
           28,
           0.127,
           0.12235,
           0.127,
           0.12235,
           0.019829999999999997,
           "shaft_mat_2"
          ],
          [
           28,
           0.127,
           0.12235,
           0.127,
           0.12235,
           0.019829999999999997,
           "shaft_mat_2"
          ],
          [
           28,
           0.127,
           0.12235,
           0.127,
           0.12235,
           0.019829999999999997,
           "shaft_mat_2"
          ],
          [
           28,
           0.127,
           0.12235,
           0.127,
           0.12235,
           0.019829999999999997,
           "shaft_mat_2"
          ],
          [
           28,
           0.127,
           0.12235,
           0.127,
           0.12235,
           0.019829999999999997,
           "shaft_mat_2"
          ]
         ],
         "fill": "toself",
         "fillcolor": "#525252",
         "hoverinfo": "text",
         "hoverlabel": {
          "bgcolor": "#525252"
         },
         "hoveron": "points+fills",
         "hovertemplate": "Element Number: 28<br>Left Outer Diameter: 0.127 m<br>Left Inner Diameter: 0.12235 m<br>Right Outer Diameter: 0.127 m<br>Right Inner Diameter: 0.12235 m<br>Element Length: 0.01983 m<br>Material: shaft_mat_2<br>",
         "legendgroup": "Shaft",
         "line": {
          "color": "black",
          "width": 1.5
         },
         "mode": "lines",
         "name": "ShaftElement 46",
         "opacity": 0.5,
         "showlegend": false,
         "text": "Element Number: 28<br>Left Outer Diameter: 0.127 m<br>Left Inner Diameter: 0.12235 m<br>Right Outer Diameter: 0.127 m<br>Right Inner Diameter: 0.12235 m<br>Element Length: 0.01983 m<br>Material: shaft_mat_2<br>",
         "type": "scatter",
         "x": [
          0.8555000000000003,
          0.8555000000000003,
          0.8753300000000003,
          0.8753300000000003,
          0.8555000000000003,
          0.8555000000000003,
          0.8555000000000003,
          0.8753300000000003,
          0.8753300000000003,
          0.8555000000000003
         ],
         "y": [
          0.06117499999999999,
          0.0635,
          0.0635,
          0.06117499999999999,
          0.06117499999999999,
          -0.06117499999999999,
          -0.0635,
          -0.0635,
          -0.06117499999999999,
          -0.06117499999999999
         ]
        },
        {
         "customdata": [
          [
           29,
           0.12235,
           0,
           0.12235,
           0,
           0.011670000000000002,
           "shaft_mat_1"
          ],
          [
           29,
           0.12235,
           0,
           0.12235,
           0,
           0.011670000000000002,
           "shaft_mat_1"
          ],
          [
           29,
           0.12235,
           0,
           0.12235,
           0,
           0.011670000000000002,
           "shaft_mat_1"
          ],
          [
           29,
           0.12235,
           0,
           0.12235,
           0,
           0.011670000000000002,
           "shaft_mat_1"
          ],
          [
           29,
           0.12235,
           0,
           0.12235,
           0,
           0.011670000000000002,
           "shaft_mat_1"
          ],
          [
           29,
           0.12235,
           0,
           0.12235,
           0,
           0.011670000000000002,
           "shaft_mat_1"
          ],
          [
           29,
           0.12235,
           0,
           0.12235,
           0,
           0.011670000000000002,
           "shaft_mat_1"
          ],
          [
           29,
           0.12235,
           0,
           0.12235,
           0,
           0.011670000000000002,
           "shaft_mat_1"
          ],
          [
           29,
           0.12235,
           0,
           0.12235,
           0,
           0.011670000000000002,
           "shaft_mat_1"
          ],
          [
           29,
           0.12235,
           0,
           0.12235,
           0,
           0.011670000000000002,
           "shaft_mat_1"
          ]
         ],
         "fill": "toself",
         "fillcolor": "#525252",
         "hoverinfo": "text",
         "hoverlabel": {
          "bgcolor": "#525252"
         },
         "hoveron": "points+fills",
         "hovertemplate": "Element Number: 29<br>Left Outer Diameter: 0.12235 m<br>Left Inner Diameter: 0.0 m<br>Right Outer Diameter: 0.12235 m<br>Right Inner Diameter: 0.0 m<br>Element Length: 0.01167 m<br>Material: shaft_mat_1<br>",
         "legendgroup": "Shaft",
         "line": {
          "color": "black",
          "width": 1.5
         },
         "mode": "lines",
         "name": "ShaftElement 47",
         "opacity": 0.5,
         "showlegend": false,
         "text": "Element Number: 29<br>Left Outer Diameter: 0.12235 m<br>Left Inner Diameter: 0.0 m<br>Right Outer Diameter: 0.12235 m<br>Right Inner Diameter: 0.0 m<br>Element Length: 0.01167 m<br>Material: shaft_mat_1<br>",
         "type": "scatter",
         "x": [
          0.8753300000000003,
          0.8753300000000003,
          0.8870000000000002,
          0.8870000000000002,
          0.8753300000000003,
          0.8753300000000003,
          0.8753300000000003,
          0.8870000000000002,
          0.8870000000000002,
          0.8753300000000003
         ],
         "y": [
          0,
          0.06117499999999999,
          0.06117499999999999,
          0,
          0,
          0,
          -0.06117499999999999,
          -0.06117499999999999,
          0,
          0
         ]
        },
        {
         "customdata": [
          [
           29,
           0.127,
           0.12235,
           0.127,
           0.12235,
           0.011670000000000002,
           "shaft_mat_2"
          ],
          [
           29,
           0.127,
           0.12235,
           0.127,
           0.12235,
           0.011670000000000002,
           "shaft_mat_2"
          ],
          [
           29,
           0.127,
           0.12235,
           0.127,
           0.12235,
           0.011670000000000002,
           "shaft_mat_2"
          ],
          [
           29,
           0.127,
           0.12235,
           0.127,
           0.12235,
           0.011670000000000002,
           "shaft_mat_2"
          ],
          [
           29,
           0.127,
           0.12235,
           0.127,
           0.12235,
           0.011670000000000002,
           "shaft_mat_2"
          ],
          [
           29,
           0.127,
           0.12235,
           0.127,
           0.12235,
           0.011670000000000002,
           "shaft_mat_2"
          ],
          [
           29,
           0.127,
           0.12235,
           0.127,
           0.12235,
           0.011670000000000002,
           "shaft_mat_2"
          ],
          [
           29,
           0.127,
           0.12235,
           0.127,
           0.12235,
           0.011670000000000002,
           "shaft_mat_2"
          ],
          [
           29,
           0.127,
           0.12235,
           0.127,
           0.12235,
           0.011670000000000002,
           "shaft_mat_2"
          ],
          [
           29,
           0.127,
           0.12235,
           0.127,
           0.12235,
           0.011670000000000002,
           "shaft_mat_2"
          ]
         ],
         "fill": "toself",
         "fillcolor": "#525252",
         "hoverinfo": "text",
         "hoverlabel": {
          "bgcolor": "#525252"
         },
         "hoveron": "points+fills",
         "hovertemplate": "Element Number: 29<br>Left Outer Diameter: 0.127 m<br>Left Inner Diameter: 0.12235 m<br>Right Outer Diameter: 0.127 m<br>Right Inner Diameter: 0.12235 m<br>Element Length: 0.01167 m<br>Material: shaft_mat_2<br>",
         "legendgroup": "Shaft",
         "line": {
          "color": "black",
          "width": 1.5
         },
         "mode": "lines",
         "name": "ShaftElement 48",
         "opacity": 0.5,
         "showlegend": false,
         "text": "Element Number: 29<br>Left Outer Diameter: 0.127 m<br>Left Inner Diameter: 0.12235 m<br>Right Outer Diameter: 0.127 m<br>Right Inner Diameter: 0.12235 m<br>Element Length: 0.01167 m<br>Material: shaft_mat_2<br>",
         "type": "scatter",
         "x": [
          0.8753300000000003,
          0.8753300000000003,
          0.8870000000000002,
          0.8870000000000002,
          0.8753300000000003,
          0.8753300000000003,
          0.8753300000000003,
          0.8870000000000002,
          0.8870000000000002,
          0.8753300000000003
         ],
         "y": [
          0.06117499999999999,
          0.0635,
          0.0635,
          0.06117499999999999,
          0.06117499999999999,
          -0.06117499999999999,
          -0.0635,
          -0.0635,
          -0.06117499999999999,
          -0.06117499999999999
         ]
        },
        {
         "customdata": [
          [
           30,
           0.1177,
           0,
           0.1177,
           0,
           0.0495,
           "shaft_mat_1"
          ],
          [
           30,
           0.1177,
           0,
           0.1177,
           0,
           0.0495,
           "shaft_mat_1"
          ],
          [
           30,
           0.1177,
           0,
           0.1177,
           0,
           0.0495,
           "shaft_mat_1"
          ],
          [
           30,
           0.1177,
           0,
           0.1177,
           0,
           0.0495,
           "shaft_mat_1"
          ],
          [
           30,
           0.1177,
           0,
           0.1177,
           0,
           0.0495,
           "shaft_mat_1"
          ],
          [
           30,
           0.1177,
           0,
           0.1177,
           0,
           0.0495,
           "shaft_mat_1"
          ],
          [
           30,
           0.1177,
           0,
           0.1177,
           0,
           0.0495,
           "shaft_mat_1"
          ],
          [
           30,
           0.1177,
           0,
           0.1177,
           0,
           0.0495,
           "shaft_mat_1"
          ],
          [
           30,
           0.1177,
           0,
           0.1177,
           0,
           0.0495,
           "shaft_mat_1"
          ],
          [
           30,
           0.1177,
           0,
           0.1177,
           0,
           0.0495,
           "shaft_mat_1"
          ]
         ],
         "fill": "toself",
         "fillcolor": "#525252",
         "hoverinfo": "text",
         "hoverlabel": {
          "bgcolor": "#525252"
         },
         "hoveron": "points+fills",
         "hovertemplate": "Element Number: 30<br>Left Outer Diameter: 0.1177 m<br>Left Inner Diameter: 0.0 m<br>Right Outer Diameter: 0.1177 m<br>Right Inner Diameter: 0.0 m<br>Element Length: 0.0495 m<br>Material: shaft_mat_1<br>",
         "legendgroup": "Shaft",
         "line": {
          "color": "black",
          "width": 1.5
         },
         "mode": "lines",
         "name": "ShaftElement 49",
         "opacity": 0.5,
         "showlegend": false,
         "text": "Element Number: 30<br>Left Outer Diameter: 0.1177 m<br>Left Inner Diameter: 0.0 m<br>Right Outer Diameter: 0.1177 m<br>Right Inner Diameter: 0.0 m<br>Element Length: 0.0495 m<br>Material: shaft_mat_1<br>",
         "type": "scatter",
         "x": [
          0.8870000000000002,
          0.8870000000000002,
          0.9365000000000002,
          0.9365000000000002,
          0.8870000000000002,
          0.8870000000000002,
          0.8870000000000002,
          0.9365000000000002,
          0.9365000000000002,
          0.8870000000000002
         ],
         "y": [
          0,
          0.058850000000000006,
          0.058850000000000006,
          0,
          0,
          0,
          -0.058850000000000006,
          -0.058850000000000006,
          0,
          0
         ]
        },
        {
         "customdata": [
          [
           31,
           0.12235,
           0,
           0.12235,
           0,
           0.01998,
           "shaft_mat_1"
          ],
          [
           31,
           0.12235,
           0,
           0.12235,
           0,
           0.01998,
           "shaft_mat_1"
          ],
          [
           31,
           0.12235,
           0,
           0.12235,
           0,
           0.01998,
           "shaft_mat_1"
          ],
          [
           31,
           0.12235,
           0,
           0.12235,
           0,
           0.01998,
           "shaft_mat_1"
          ],
          [
           31,
           0.12235,
           0,
           0.12235,
           0,
           0.01998,
           "shaft_mat_1"
          ],
          [
           31,
           0.12235,
           0,
           0.12235,
           0,
           0.01998,
           "shaft_mat_1"
          ],
          [
           31,
           0.12235,
           0,
           0.12235,
           0,
           0.01998,
           "shaft_mat_1"
          ],
          [
           31,
           0.12235,
           0,
           0.12235,
           0,
           0.01998,
           "shaft_mat_1"
          ],
          [
           31,
           0.12235,
           0,
           0.12235,
           0,
           0.01998,
           "shaft_mat_1"
          ],
          [
           31,
           0.12235,
           0,
           0.12235,
           0,
           0.01998,
           "shaft_mat_1"
          ]
         ],
         "fill": "toself",
         "fillcolor": "#525252",
         "hoverinfo": "text",
         "hoverlabel": {
          "bgcolor": "#525252"
         },
         "hoveron": "points+fills",
         "hovertemplate": "Element Number: 31<br>Left Outer Diameter: 0.12235 m<br>Left Inner Diameter: 0.0 m<br>Right Outer Diameter: 0.12235 m<br>Right Inner Diameter: 0.0 m<br>Element Length: 0.01998 m<br>Material: shaft_mat_1<br>",
         "legendgroup": "Shaft",
         "line": {
          "color": "black",
          "width": 1.5
         },
         "mode": "lines",
         "name": "ShaftElement 50",
         "opacity": 0.5,
         "showlegend": false,
         "text": "Element Number: 31<br>Left Outer Diameter: 0.12235 m<br>Left Inner Diameter: 0.0 m<br>Right Outer Diameter: 0.12235 m<br>Right Inner Diameter: 0.0 m<br>Element Length: 0.01998 m<br>Material: shaft_mat_1<br>",
         "type": "scatter",
         "x": [
          0.9365000000000002,
          0.9365000000000002,
          0.9564800000000002,
          0.9564800000000002,
          0.9365000000000002,
          0.9365000000000002,
          0.9365000000000002,
          0.9564800000000002,
          0.9564800000000002,
          0.9365000000000002
         ],
         "y": [
          0,
          0.06117499999999999,
          0.06117499999999999,
          0,
          0,
          0,
          -0.06117499999999999,
          -0.06117499999999999,
          0,
          0
         ]
        },
        {
         "customdata": [
          [
           31,
           0.127,
           0.12235,
           0.127,
           0.12235,
           0.01998,
           "shaft_mat_2"
          ],
          [
           31,
           0.127,
           0.12235,
           0.127,
           0.12235,
           0.01998,
           "shaft_mat_2"
          ],
          [
           31,
           0.127,
           0.12235,
           0.127,
           0.12235,
           0.01998,
           "shaft_mat_2"
          ],
          [
           31,
           0.127,
           0.12235,
           0.127,
           0.12235,
           0.01998,
           "shaft_mat_2"
          ],
          [
           31,
           0.127,
           0.12235,
           0.127,
           0.12235,
           0.01998,
           "shaft_mat_2"
          ],
          [
           31,
           0.127,
           0.12235,
           0.127,
           0.12235,
           0.01998,
           "shaft_mat_2"
          ],
          [
           31,
           0.127,
           0.12235,
           0.127,
           0.12235,
           0.01998,
           "shaft_mat_2"
          ],
          [
           31,
           0.127,
           0.12235,
           0.127,
           0.12235,
           0.01998,
           "shaft_mat_2"
          ],
          [
           31,
           0.127,
           0.12235,
           0.127,
           0.12235,
           0.01998,
           "shaft_mat_2"
          ],
          [
           31,
           0.127,
           0.12235,
           0.127,
           0.12235,
           0.01998,
           "shaft_mat_2"
          ]
         ],
         "fill": "toself",
         "fillcolor": "#525252",
         "hoverinfo": "text",
         "hoverlabel": {
          "bgcolor": "#525252"
         },
         "hoveron": "points+fills",
         "hovertemplate": "Element Number: 31<br>Left Outer Diameter: 0.127 m<br>Left Inner Diameter: 0.12235 m<br>Right Outer Diameter: 0.127 m<br>Right Inner Diameter: 0.12235 m<br>Element Length: 0.01998 m<br>Material: shaft_mat_2<br>",
         "legendgroup": "Shaft",
         "line": {
          "color": "black",
          "width": 1.5
         },
         "mode": "lines",
         "name": "ShaftElement 51",
         "opacity": 0.5,
         "showlegend": false,
         "text": "Element Number: 31<br>Left Outer Diameter: 0.127 m<br>Left Inner Diameter: 0.12235 m<br>Right Outer Diameter: 0.127 m<br>Right Inner Diameter: 0.12235 m<br>Element Length: 0.01998 m<br>Material: shaft_mat_2<br>",
         "type": "scatter",
         "x": [
          0.9365000000000002,
          0.9365000000000002,
          0.9564800000000002,
          0.9564800000000002,
          0.9365000000000002,
          0.9365000000000002,
          0.9365000000000002,
          0.9564800000000002,
          0.9564800000000002,
          0.9365000000000002
         ],
         "y": [
          0.06117499999999999,
          0.0635,
          0.0635,
          0.06117499999999999,
          0.06117499999999999,
          -0.06117499999999999,
          -0.0635,
          -0.0635,
          -0.06117499999999999,
          -0.06117499999999999
         ]
        },
        {
         "customdata": [
          [
           32,
           0.12235,
           0,
           0.12235,
           0,
           0.01202,
           "shaft_mat_1"
          ],
          [
           32,
           0.12235,
           0,
           0.12235,
           0,
           0.01202,
           "shaft_mat_1"
          ],
          [
           32,
           0.12235,
           0,
           0.12235,
           0,
           0.01202,
           "shaft_mat_1"
          ],
          [
           32,
           0.12235,
           0,
           0.12235,
           0,
           0.01202,
           "shaft_mat_1"
          ],
          [
           32,
           0.12235,
           0,
           0.12235,
           0,
           0.01202,
           "shaft_mat_1"
          ],
          [
           32,
           0.12235,
           0,
           0.12235,
           0,
           0.01202,
           "shaft_mat_1"
          ],
          [
           32,
           0.12235,
           0,
           0.12235,
           0,
           0.01202,
           "shaft_mat_1"
          ],
          [
           32,
           0.12235,
           0,
           0.12235,
           0,
           0.01202,
           "shaft_mat_1"
          ],
          [
           32,
           0.12235,
           0,
           0.12235,
           0,
           0.01202,
           "shaft_mat_1"
          ],
          [
           32,
           0.12235,
           0,
           0.12235,
           0,
           0.01202,
           "shaft_mat_1"
          ]
         ],
         "fill": "toself",
         "fillcolor": "#525252",
         "hoverinfo": "text",
         "hoverlabel": {
          "bgcolor": "#525252"
         },
         "hoveron": "points+fills",
         "hovertemplate": "Element Number: 32<br>Left Outer Diameter: 0.12235 m<br>Left Inner Diameter: 0.0 m<br>Right Outer Diameter: 0.12235 m<br>Right Inner Diameter: 0.0 m<br>Element Length: 0.01202 m<br>Material: shaft_mat_1<br>",
         "legendgroup": "Shaft",
         "line": {
          "color": "black",
          "width": 1.5
         },
         "mode": "lines",
         "name": "ShaftElement 52",
         "opacity": 0.5,
         "showlegend": false,
         "text": "Element Number: 32<br>Left Outer Diameter: 0.12235 m<br>Left Inner Diameter: 0.0 m<br>Right Outer Diameter: 0.12235 m<br>Right Inner Diameter: 0.0 m<br>Element Length: 0.01202 m<br>Material: shaft_mat_1<br>",
         "type": "scatter",
         "x": [
          0.9564800000000002,
          0.9564800000000002,
          0.9685000000000002,
          0.9685000000000002,
          0.9564800000000002,
          0.9564800000000002,
          0.9564800000000002,
          0.9685000000000002,
          0.9685000000000002,
          0.9564800000000002
         ],
         "y": [
          0,
          0.06117499999999999,
          0.06117499999999999,
          0,
          0,
          0,
          -0.06117499999999999,
          -0.06117499999999999,
          0,
          0
         ]
        },
        {
         "customdata": [
          [
           32,
           0.127,
           0.12235,
           0.127,
           0.12235,
           0.01202,
           "shaft_mat_2"
          ],
          [
           32,
           0.127,
           0.12235,
           0.127,
           0.12235,
           0.01202,
           "shaft_mat_2"
          ],
          [
           32,
           0.127,
           0.12235,
           0.127,
           0.12235,
           0.01202,
           "shaft_mat_2"
          ],
          [
           32,
           0.127,
           0.12235,
           0.127,
           0.12235,
           0.01202,
           "shaft_mat_2"
          ],
          [
           32,
           0.127,
           0.12235,
           0.127,
           0.12235,
           0.01202,
           "shaft_mat_2"
          ],
          [
           32,
           0.127,
           0.12235,
           0.127,
           0.12235,
           0.01202,
           "shaft_mat_2"
          ],
          [
           32,
           0.127,
           0.12235,
           0.127,
           0.12235,
           0.01202,
           "shaft_mat_2"
          ],
          [
           32,
           0.127,
           0.12235,
           0.127,
           0.12235,
           0.01202,
           "shaft_mat_2"
          ],
          [
           32,
           0.127,
           0.12235,
           0.127,
           0.12235,
           0.01202,
           "shaft_mat_2"
          ],
          [
           32,
           0.127,
           0.12235,
           0.127,
           0.12235,
           0.01202,
           "shaft_mat_2"
          ]
         ],
         "fill": "toself",
         "fillcolor": "#525252",
         "hoverinfo": "text",
         "hoverlabel": {
          "bgcolor": "#525252"
         },
         "hoveron": "points+fills",
         "hovertemplate": "Element Number: 32<br>Left Outer Diameter: 0.127 m<br>Left Inner Diameter: 0.12235 m<br>Right Outer Diameter: 0.127 m<br>Right Inner Diameter: 0.12235 m<br>Element Length: 0.01202 m<br>Material: shaft_mat_2<br>",
         "legendgroup": "Shaft",
         "line": {
          "color": "black",
          "width": 1.5
         },
         "mode": "lines",
         "name": "ShaftElement 53",
         "opacity": 0.5,
         "showlegend": false,
         "text": "Element Number: 32<br>Left Outer Diameter: 0.127 m<br>Left Inner Diameter: 0.12235 m<br>Right Outer Diameter: 0.127 m<br>Right Inner Diameter: 0.12235 m<br>Element Length: 0.01202 m<br>Material: shaft_mat_2<br>",
         "type": "scatter",
         "x": [
          0.9564800000000002,
          0.9564800000000002,
          0.9685000000000002,
          0.9685000000000002,
          0.9564800000000002,
          0.9564800000000002,
          0.9564800000000002,
          0.9685000000000002,
          0.9685000000000002,
          0.9564800000000002
         ],
         "y": [
          0.06117499999999999,
          0.0635,
          0.0635,
          0.06117499999999999,
          0.06117499999999999,
          -0.06117499999999999,
          -0.0635,
          -0.0635,
          -0.06117499999999999,
          -0.06117499999999999
         ]
        },
        {
         "customdata": [
          [
           33,
           0.1177,
           0,
           0.1177,
           0,
           0.0495,
           "shaft_mat_1"
          ],
          [
           33,
           0.1177,
           0,
           0.1177,
           0,
           0.0495,
           "shaft_mat_1"
          ],
          [
           33,
           0.1177,
           0,
           0.1177,
           0,
           0.0495,
           "shaft_mat_1"
          ],
          [
           33,
           0.1177,
           0,
           0.1177,
           0,
           0.0495,
           "shaft_mat_1"
          ],
          [
           33,
           0.1177,
           0,
           0.1177,
           0,
           0.0495,
           "shaft_mat_1"
          ],
          [
           33,
           0.1177,
           0,
           0.1177,
           0,
           0.0495,
           "shaft_mat_1"
          ],
          [
           33,
           0.1177,
           0,
           0.1177,
           0,
           0.0495,
           "shaft_mat_1"
          ],
          [
           33,
           0.1177,
           0,
           0.1177,
           0,
           0.0495,
           "shaft_mat_1"
          ],
          [
           33,
           0.1177,
           0,
           0.1177,
           0,
           0.0495,
           "shaft_mat_1"
          ],
          [
           33,
           0.1177,
           0,
           0.1177,
           0,
           0.0495,
           "shaft_mat_1"
          ]
         ],
         "fill": "toself",
         "fillcolor": "#525252",
         "hoverinfo": "text",
         "hoverlabel": {
          "bgcolor": "#525252"
         },
         "hoveron": "points+fills",
         "hovertemplate": "Element Number: 33<br>Left Outer Diameter: 0.1177 m<br>Left Inner Diameter: 0.0 m<br>Right Outer Diameter: 0.1177 m<br>Right Inner Diameter: 0.0 m<br>Element Length: 0.0495 m<br>Material: shaft_mat_1<br>",
         "legendgroup": "Shaft",
         "line": {
          "color": "black",
          "width": 1.5
         },
         "mode": "lines",
         "name": "ShaftElement 54",
         "opacity": 0.5,
         "showlegend": false,
         "text": "Element Number: 33<br>Left Outer Diameter: 0.1177 m<br>Left Inner Diameter: 0.0 m<br>Right Outer Diameter: 0.1177 m<br>Right Inner Diameter: 0.0 m<br>Element Length: 0.0495 m<br>Material: shaft_mat_1<br>",
         "type": "scatter",
         "x": [
          0.9685000000000002,
          0.9685000000000002,
          1.0180000000000002,
          1.0180000000000002,
          0.9685000000000002,
          0.9685000000000002,
          0.9685000000000002,
          1.0180000000000002,
          1.0180000000000002,
          0.9685000000000002
         ],
         "y": [
          0,
          0.058850000000000006,
          0.058850000000000006,
          0,
          0,
          0,
          -0.058850000000000006,
          -0.058850000000000006,
          0,
          0
         ]
        },
        {
         "customdata": [
          [
           34,
           0.12235,
           0,
           0.12235,
           0,
           0.020100000000000003,
           "shaft_mat_1"
          ],
          [
           34,
           0.12235,
           0,
           0.12235,
           0,
           0.020100000000000003,
           "shaft_mat_1"
          ],
          [
           34,
           0.12235,
           0,
           0.12235,
           0,
           0.020100000000000003,
           "shaft_mat_1"
          ],
          [
           34,
           0.12235,
           0,
           0.12235,
           0,
           0.020100000000000003,
           "shaft_mat_1"
          ],
          [
           34,
           0.12235,
           0,
           0.12235,
           0,
           0.020100000000000003,
           "shaft_mat_1"
          ],
          [
           34,
           0.12235,
           0,
           0.12235,
           0,
           0.020100000000000003,
           "shaft_mat_1"
          ],
          [
           34,
           0.12235,
           0,
           0.12235,
           0,
           0.020100000000000003,
           "shaft_mat_1"
          ],
          [
           34,
           0.12235,
           0,
           0.12235,
           0,
           0.020100000000000003,
           "shaft_mat_1"
          ],
          [
           34,
           0.12235,
           0,
           0.12235,
           0,
           0.020100000000000003,
           "shaft_mat_1"
          ],
          [
           34,
           0.12235,
           0,
           0.12235,
           0,
           0.020100000000000003,
           "shaft_mat_1"
          ]
         ],
         "fill": "toself",
         "fillcolor": "#525252",
         "hoverinfo": "text",
         "hoverlabel": {
          "bgcolor": "#525252"
         },
         "hoveron": "points+fills",
         "hovertemplate": "Element Number: 34<br>Left Outer Diameter: 0.12235 m<br>Left Inner Diameter: 0.0 m<br>Right Outer Diameter: 0.12235 m<br>Right Inner Diameter: 0.0 m<br>Element Length: 0.0201 m<br>Material: shaft_mat_1<br>",
         "legendgroup": "Shaft",
         "line": {
          "color": "black",
          "width": 1.5
         },
         "mode": "lines",
         "name": "ShaftElement 55",
         "opacity": 0.5,
         "showlegend": false,
         "text": "Element Number: 34<br>Left Outer Diameter: 0.12235 m<br>Left Inner Diameter: 0.0 m<br>Right Outer Diameter: 0.12235 m<br>Right Inner Diameter: 0.0 m<br>Element Length: 0.0201 m<br>Material: shaft_mat_1<br>",
         "type": "scatter",
         "x": [
          1.0180000000000002,
          1.0180000000000002,
          1.0381000000000002,
          1.0381000000000002,
          1.0180000000000002,
          1.0180000000000002,
          1.0180000000000002,
          1.0381000000000002,
          1.0381000000000002,
          1.0180000000000002
         ],
         "y": [
          0,
          0.06117499999999999,
          0.06117499999999999,
          0,
          0,
          0,
          -0.06117499999999999,
          -0.06117499999999999,
          0,
          0
         ]
        },
        {
         "customdata": [
          [
           34,
           0.127,
           0.12235,
           0.127,
           0.12235,
           0.020100000000000003,
           "shaft_mat_2"
          ],
          [
           34,
           0.127,
           0.12235,
           0.127,
           0.12235,
           0.020100000000000003,
           "shaft_mat_2"
          ],
          [
           34,
           0.127,
           0.12235,
           0.127,
           0.12235,
           0.020100000000000003,
           "shaft_mat_2"
          ],
          [
           34,
           0.127,
           0.12235,
           0.127,
           0.12235,
           0.020100000000000003,
           "shaft_mat_2"
          ],
          [
           34,
           0.127,
           0.12235,
           0.127,
           0.12235,
           0.020100000000000003,
           "shaft_mat_2"
          ],
          [
           34,
           0.127,
           0.12235,
           0.127,
           0.12235,
           0.020100000000000003,
           "shaft_mat_2"
          ],
          [
           34,
           0.127,
           0.12235,
           0.127,
           0.12235,
           0.020100000000000003,
           "shaft_mat_2"
          ],
          [
           34,
           0.127,
           0.12235,
           0.127,
           0.12235,
           0.020100000000000003,
           "shaft_mat_2"
          ],
          [
           34,
           0.127,
           0.12235,
           0.127,
           0.12235,
           0.020100000000000003,
           "shaft_mat_2"
          ],
          [
           34,
           0.127,
           0.12235,
           0.127,
           0.12235,
           0.020100000000000003,
           "shaft_mat_2"
          ]
         ],
         "fill": "toself",
         "fillcolor": "#525252",
         "hoverinfo": "text",
         "hoverlabel": {
          "bgcolor": "#525252"
         },
         "hoveron": "points+fills",
         "hovertemplate": "Element Number: 34<br>Left Outer Diameter: 0.127 m<br>Left Inner Diameter: 0.12235 m<br>Right Outer Diameter: 0.127 m<br>Right Inner Diameter: 0.12235 m<br>Element Length: 0.0201 m<br>Material: shaft_mat_2<br>",
         "legendgroup": "Shaft",
         "line": {
          "color": "black",
          "width": 1.5
         },
         "mode": "lines",
         "name": "ShaftElement 56",
         "opacity": 0.5,
         "showlegend": false,
         "text": "Element Number: 34<br>Left Outer Diameter: 0.127 m<br>Left Inner Diameter: 0.12235 m<br>Right Outer Diameter: 0.127 m<br>Right Inner Diameter: 0.12235 m<br>Element Length: 0.0201 m<br>Material: shaft_mat_2<br>",
         "type": "scatter",
         "x": [
          1.0180000000000002,
          1.0180000000000002,
          1.0381000000000002,
          1.0381000000000002,
          1.0180000000000002,
          1.0180000000000002,
          1.0180000000000002,
          1.0381000000000002,
          1.0381000000000002,
          1.0180000000000002
         ],
         "y": [
          0.06117499999999999,
          0.0635,
          0.0635,
          0.06117499999999999,
          0.06117499999999999,
          -0.06117499999999999,
          -0.0635,
          -0.0635,
          -0.06117499999999999,
          -0.06117499999999999
         ]
        },
        {
         "customdata": [
          [
           35,
           0.12235,
           0,
           0.12235,
           0,
           0.012399999999999998,
           "shaft_mat_1"
          ],
          [
           35,
           0.12235,
           0,
           0.12235,
           0,
           0.012399999999999998,
           "shaft_mat_1"
          ],
          [
           35,
           0.12235,
           0,
           0.12235,
           0,
           0.012399999999999998,
           "shaft_mat_1"
          ],
          [
           35,
           0.12235,
           0,
           0.12235,
           0,
           0.012399999999999998,
           "shaft_mat_1"
          ],
          [
           35,
           0.12235,
           0,
           0.12235,
           0,
           0.012399999999999998,
           "shaft_mat_1"
          ],
          [
           35,
           0.12235,
           0,
           0.12235,
           0,
           0.012399999999999998,
           "shaft_mat_1"
          ],
          [
           35,
           0.12235,
           0,
           0.12235,
           0,
           0.012399999999999998,
           "shaft_mat_1"
          ],
          [
           35,
           0.12235,
           0,
           0.12235,
           0,
           0.012399999999999998,
           "shaft_mat_1"
          ],
          [
           35,
           0.12235,
           0,
           0.12235,
           0,
           0.012399999999999998,
           "shaft_mat_1"
          ],
          [
           35,
           0.12235,
           0,
           0.12235,
           0,
           0.012399999999999998,
           "shaft_mat_1"
          ]
         ],
         "fill": "toself",
         "fillcolor": "#525252",
         "hoverinfo": "text",
         "hoverlabel": {
          "bgcolor": "#525252"
         },
         "hoveron": "points+fills",
         "hovertemplate": "Element Number: 35<br>Left Outer Diameter: 0.12235 m<br>Left Inner Diameter: 0.0 m<br>Right Outer Diameter: 0.12235 m<br>Right Inner Diameter: 0.0 m<br>Element Length: 0.0124 m<br>Material: shaft_mat_1<br>",
         "legendgroup": "Shaft",
         "line": {
          "color": "black",
          "width": 1.5
         },
         "mode": "lines",
         "name": "ShaftElement 57",
         "opacity": 0.5,
         "showlegend": false,
         "text": "Element Number: 35<br>Left Outer Diameter: 0.12235 m<br>Left Inner Diameter: 0.0 m<br>Right Outer Diameter: 0.12235 m<br>Right Inner Diameter: 0.0 m<br>Element Length: 0.0124 m<br>Material: shaft_mat_1<br>",
         "type": "scatter",
         "x": [
          1.0381000000000002,
          1.0381000000000002,
          1.0505000000000002,
          1.0505000000000002,
          1.0381000000000002,
          1.0381000000000002,
          1.0381000000000002,
          1.0505000000000002,
          1.0505000000000002,
          1.0381000000000002
         ],
         "y": [
          0,
          0.06117499999999999,
          0.06117499999999999,
          0,
          0,
          0,
          -0.06117499999999999,
          -0.06117499999999999,
          0,
          0
         ]
        },
        {
         "customdata": [
          [
           35,
           0.127,
           0.12235,
           0.127,
           0.12235,
           0.012399999999999998,
           "shaft_mat_2"
          ],
          [
           35,
           0.127,
           0.12235,
           0.127,
           0.12235,
           0.012399999999999998,
           "shaft_mat_2"
          ],
          [
           35,
           0.127,
           0.12235,
           0.127,
           0.12235,
           0.012399999999999998,
           "shaft_mat_2"
          ],
          [
           35,
           0.127,
           0.12235,
           0.127,
           0.12235,
           0.012399999999999998,
           "shaft_mat_2"
          ],
          [
           35,
           0.127,
           0.12235,
           0.127,
           0.12235,
           0.012399999999999998,
           "shaft_mat_2"
          ],
          [
           35,
           0.127,
           0.12235,
           0.127,
           0.12235,
           0.012399999999999998,
           "shaft_mat_2"
          ],
          [
           35,
           0.127,
           0.12235,
           0.127,
           0.12235,
           0.012399999999999998,
           "shaft_mat_2"
          ],
          [
           35,
           0.127,
           0.12235,
           0.127,
           0.12235,
           0.012399999999999998,
           "shaft_mat_2"
          ],
          [
           35,
           0.127,
           0.12235,
           0.127,
           0.12235,
           0.012399999999999998,
           "shaft_mat_2"
          ],
          [
           35,
           0.127,
           0.12235,
           0.127,
           0.12235,
           0.012399999999999998,
           "shaft_mat_2"
          ]
         ],
         "fill": "toself",
         "fillcolor": "#525252",
         "hoverinfo": "text",
         "hoverlabel": {
          "bgcolor": "#525252"
         },
         "hoveron": "points+fills",
         "hovertemplate": "Element Number: 35<br>Left Outer Diameter: 0.127 m<br>Left Inner Diameter: 0.12235 m<br>Right Outer Diameter: 0.127 m<br>Right Inner Diameter: 0.12235 m<br>Element Length: 0.0124 m<br>Material: shaft_mat_2<br>",
         "legendgroup": "Shaft",
         "line": {
          "color": "black",
          "width": 1.5
         },
         "mode": "lines",
         "name": "ShaftElement 58",
         "opacity": 0.5,
         "showlegend": false,
         "text": "Element Number: 35<br>Left Outer Diameter: 0.127 m<br>Left Inner Diameter: 0.12235 m<br>Right Outer Diameter: 0.127 m<br>Right Inner Diameter: 0.12235 m<br>Element Length: 0.0124 m<br>Material: shaft_mat_2<br>",
         "type": "scatter",
         "x": [
          1.0381000000000002,
          1.0381000000000002,
          1.0505000000000002,
          1.0505000000000002,
          1.0381000000000002,
          1.0381000000000002,
          1.0381000000000002,
          1.0505000000000002,
          1.0505000000000002,
          1.0381000000000002
         ],
         "y": [
          0.06117499999999999,
          0.0635,
          0.0635,
          0.06117499999999999,
          0.06117499999999999,
          -0.06117499999999999,
          -0.0635,
          -0.0635,
          -0.06117499999999999,
          -0.06117499999999999
         ]
        },
        {
         "customdata": [
          [
           36,
           0.1177,
           0,
           0.1177,
           0,
           0.056999999999999995,
           "shaft_mat_1"
          ],
          [
           36,
           0.1177,
           0,
           0.1177,
           0,
           0.056999999999999995,
           "shaft_mat_1"
          ],
          [
           36,
           0.1177,
           0,
           0.1177,
           0,
           0.056999999999999995,
           "shaft_mat_1"
          ],
          [
           36,
           0.1177,
           0,
           0.1177,
           0,
           0.056999999999999995,
           "shaft_mat_1"
          ],
          [
           36,
           0.1177,
           0,
           0.1177,
           0,
           0.056999999999999995,
           "shaft_mat_1"
          ],
          [
           36,
           0.1177,
           0,
           0.1177,
           0,
           0.056999999999999995,
           "shaft_mat_1"
          ],
          [
           36,
           0.1177,
           0,
           0.1177,
           0,
           0.056999999999999995,
           "shaft_mat_1"
          ],
          [
           36,
           0.1177,
           0,
           0.1177,
           0,
           0.056999999999999995,
           "shaft_mat_1"
          ],
          [
           36,
           0.1177,
           0,
           0.1177,
           0,
           0.056999999999999995,
           "shaft_mat_1"
          ],
          [
           36,
           0.1177,
           0,
           0.1177,
           0,
           0.056999999999999995,
           "shaft_mat_1"
          ]
         ],
         "fill": "toself",
         "fillcolor": "#525252",
         "hoverinfo": "text",
         "hoverlabel": {
          "bgcolor": "#525252"
         },
         "hoveron": "points+fills",
         "hovertemplate": "Element Number: 36<br>Left Outer Diameter: 0.1177 m<br>Left Inner Diameter: 0.0 m<br>Right Outer Diameter: 0.1177 m<br>Right Inner Diameter: 0.0 m<br>Element Length: 0.057 m<br>Material: shaft_mat_1<br>",
         "legendgroup": "Shaft",
         "line": {
          "color": "black",
          "width": 1.5
         },
         "mode": "lines",
         "name": "ShaftElement 59",
         "opacity": 0.5,
         "showlegend": false,
         "text": "Element Number: 36<br>Left Outer Diameter: 0.1177 m<br>Left Inner Diameter: 0.0 m<br>Right Outer Diameter: 0.1177 m<br>Right Inner Diameter: 0.0 m<br>Element Length: 0.057 m<br>Material: shaft_mat_1<br>",
         "type": "scatter",
         "x": [
          1.0505000000000002,
          1.0505000000000002,
          1.1075000000000002,
          1.1075000000000002,
          1.0505000000000002,
          1.0505000000000002,
          1.0505000000000002,
          1.1075000000000002,
          1.1075000000000002,
          1.0505000000000002
         ],
         "y": [
          0,
          0.058850000000000006,
          0.058850000000000006,
          0,
          0,
          0,
          -0.058850000000000006,
          -0.058850000000000006,
          0,
          0
         ]
        },
        {
         "customdata": [
          [
           37,
           0.135,
           0,
           0.135,
           0,
           0.026,
           "shaft_mat_1"
          ],
          [
           37,
           0.135,
           0,
           0.135,
           0,
           0.026,
           "shaft_mat_1"
          ],
          [
           37,
           0.135,
           0,
           0.135,
           0,
           0.026,
           "shaft_mat_1"
          ],
          [
           37,
           0.135,
           0,
           0.135,
           0,
           0.026,
           "shaft_mat_1"
          ],
          [
           37,
           0.135,
           0,
           0.135,
           0,
           0.026,
           "shaft_mat_1"
          ],
          [
           37,
           0.135,
           0,
           0.135,
           0,
           0.026,
           "shaft_mat_1"
          ],
          [
           37,
           0.135,
           0,
           0.135,
           0,
           0.026,
           "shaft_mat_1"
          ],
          [
           37,
           0.135,
           0,
           0.135,
           0,
           0.026,
           "shaft_mat_1"
          ],
          [
           37,
           0.135,
           0,
           0.135,
           0,
           0.026,
           "shaft_mat_1"
          ],
          [
           37,
           0.135,
           0,
           0.135,
           0,
           0.026,
           "shaft_mat_1"
          ]
         ],
         "fill": "toself",
         "fillcolor": "#525252",
         "hoverinfo": "text",
         "hoverlabel": {
          "bgcolor": "#525252"
         },
         "hoveron": "points+fills",
         "hovertemplate": "Element Number: 37<br>Left Outer Diameter: 0.135 m<br>Left Inner Diameter: 0.0 m<br>Right Outer Diameter: 0.135 m<br>Right Inner Diameter: 0.0 m<br>Element Length: 0.026 m<br>Material: shaft_mat_1<br>",
         "legendgroup": "Shaft",
         "line": {
          "color": "black",
          "width": 1.5
         },
         "mode": "lines",
         "name": "ShaftElement 60",
         "opacity": 0.5,
         "showlegend": false,
         "text": "Element Number: 37<br>Left Outer Diameter: 0.135 m<br>Left Inner Diameter: 0.0 m<br>Right Outer Diameter: 0.135 m<br>Right Inner Diameter: 0.0 m<br>Element Length: 0.026 m<br>Material: shaft_mat_1<br>",
         "type": "scatter",
         "x": [
          1.1075000000000002,
          1.1075000000000002,
          1.1335000000000002,
          1.1335000000000002,
          1.1075000000000002,
          1.1075000000000002,
          1.1075000000000002,
          1.1335000000000002,
          1.1335000000000002,
          1.1075000000000002
         ],
         "y": [
          0,
          0.0675,
          0.0675,
          0,
          0,
          0,
          -0.0675,
          -0.0675,
          0,
          0
         ]
        },
        {
         "customdata": [
          [
           37,
           0.175,
           0.135,
           0.175,
           0.135,
           0.026,
           "shaft_mat_2"
          ],
          [
           37,
           0.175,
           0.135,
           0.175,
           0.135,
           0.026,
           "shaft_mat_2"
          ],
          [
           37,
           0.175,
           0.135,
           0.175,
           0.135,
           0.026,
           "shaft_mat_2"
          ],
          [
           37,
           0.175,
           0.135,
           0.175,
           0.135,
           0.026,
           "shaft_mat_2"
          ],
          [
           37,
           0.175,
           0.135,
           0.175,
           0.135,
           0.026,
           "shaft_mat_2"
          ],
          [
           37,
           0.175,
           0.135,
           0.175,
           0.135,
           0.026,
           "shaft_mat_2"
          ],
          [
           37,
           0.175,
           0.135,
           0.175,
           0.135,
           0.026,
           "shaft_mat_2"
          ],
          [
           37,
           0.175,
           0.135,
           0.175,
           0.135,
           0.026,
           "shaft_mat_2"
          ],
          [
           37,
           0.175,
           0.135,
           0.175,
           0.135,
           0.026,
           "shaft_mat_2"
          ],
          [
           37,
           0.175,
           0.135,
           0.175,
           0.135,
           0.026,
           "shaft_mat_2"
          ]
         ],
         "fill": "toself",
         "fillcolor": "#525252",
         "hoverinfo": "text",
         "hoverlabel": {
          "bgcolor": "#525252"
         },
         "hoveron": "points+fills",
         "hovertemplate": "Element Number: 37<br>Left Outer Diameter: 0.175 m<br>Left Inner Diameter: 0.135 m<br>Right Outer Diameter: 0.175 m<br>Right Inner Diameter: 0.135 m<br>Element Length: 0.026 m<br>Material: shaft_mat_2<br>",
         "legendgroup": "Shaft",
         "line": {
          "color": "black",
          "width": 1.5
         },
         "mode": "lines",
         "name": "ShaftElement 61",
         "opacity": 0.5,
         "showlegend": false,
         "text": "Element Number: 37<br>Left Outer Diameter: 0.175 m<br>Left Inner Diameter: 0.135 m<br>Right Outer Diameter: 0.175 m<br>Right Inner Diameter: 0.135 m<br>Element Length: 0.026 m<br>Material: shaft_mat_2<br>",
         "type": "scatter",
         "x": [
          1.1075000000000002,
          1.1075000000000002,
          1.1335000000000002,
          1.1335000000000002,
          1.1075000000000002,
          1.1075000000000002,
          1.1075000000000002,
          1.1335000000000002,
          1.1335000000000002,
          1.1075000000000002
         ],
         "y": [
          0.0675,
          0.0875,
          0.0875,
          0.0675,
          0.0675,
          -0.0675,
          -0.0875,
          -0.0875,
          -0.0675,
          -0.0675
         ]
        },
        {
         "customdata": [
          [
           38,
           0.122,
           0,
           0.122,
           0,
           0.038,
           "shaft_mat_1"
          ],
          [
           38,
           0.122,
           0,
           0.122,
           0,
           0.038,
           "shaft_mat_1"
          ],
          [
           38,
           0.122,
           0,
           0.122,
           0,
           0.038,
           "shaft_mat_1"
          ],
          [
           38,
           0.122,
           0,
           0.122,
           0,
           0.038,
           "shaft_mat_1"
          ],
          [
           38,
           0.122,
           0,
           0.122,
           0,
           0.038,
           "shaft_mat_1"
          ],
          [
           38,
           0.122,
           0,
           0.122,
           0,
           0.038,
           "shaft_mat_1"
          ],
          [
           38,
           0.122,
           0,
           0.122,
           0,
           0.038,
           "shaft_mat_1"
          ],
          [
           38,
           0.122,
           0,
           0.122,
           0,
           0.038,
           "shaft_mat_1"
          ],
          [
           38,
           0.122,
           0,
           0.122,
           0,
           0.038,
           "shaft_mat_1"
          ],
          [
           38,
           0.122,
           0,
           0.122,
           0,
           0.038,
           "shaft_mat_1"
          ]
         ],
         "fill": "toself",
         "fillcolor": "#525252",
         "hoverinfo": "text",
         "hoverlabel": {
          "bgcolor": "#525252"
         },
         "hoveron": "points+fills",
         "hovertemplate": "Element Number: 38<br>Left Outer Diameter: 0.122 m<br>Left Inner Diameter: 0.0 m<br>Right Outer Diameter: 0.122 m<br>Right Inner Diameter: 0.0 m<br>Element Length: 0.038 m<br>Material: shaft_mat_1<br>",
         "legendgroup": "Shaft",
         "line": {
          "color": "black",
          "width": 1.5
         },
         "mode": "lines",
         "name": "ShaftElement 62",
         "opacity": 0.5,
         "showlegend": false,
         "text": "Element Number: 38<br>Left Outer Diameter: 0.122 m<br>Left Inner Diameter: 0.0 m<br>Right Outer Diameter: 0.122 m<br>Right Inner Diameter: 0.0 m<br>Element Length: 0.038 m<br>Material: shaft_mat_1<br>",
         "type": "scatter",
         "x": [
          1.1335000000000002,
          1.1335000000000002,
          1.1715000000000002,
          1.1715000000000002,
          1.1335000000000002,
          1.1335000000000002,
          1.1335000000000002,
          1.1715000000000002,
          1.1715000000000002,
          1.1335000000000002
         ],
         "y": [
          0,
          0.061,
          0.061,
          0,
          0,
          0,
          -0.061,
          -0.061,
          0,
          0
         ]
        },
        {
         "customdata": [
          [
           38,
           0.13899999999999998,
           0.122,
           0.13899999999999998,
           0.122,
           0.038,
           "shaft_mat_2"
          ],
          [
           38,
           0.13899999999999998,
           0.122,
           0.13899999999999998,
           0.122,
           0.038,
           "shaft_mat_2"
          ],
          [
           38,
           0.13899999999999998,
           0.122,
           0.13899999999999998,
           0.122,
           0.038,
           "shaft_mat_2"
          ],
          [
           38,
           0.13899999999999998,
           0.122,
           0.13899999999999998,
           0.122,
           0.038,
           "shaft_mat_2"
          ],
          [
           38,
           0.13899999999999998,
           0.122,
           0.13899999999999998,
           0.122,
           0.038,
           "shaft_mat_2"
          ],
          [
           38,
           0.13899999999999998,
           0.122,
           0.13899999999999998,
           0.122,
           0.038,
           "shaft_mat_2"
          ],
          [
           38,
           0.13899999999999998,
           0.122,
           0.13899999999999998,
           0.122,
           0.038,
           "shaft_mat_2"
          ],
          [
           38,
           0.13899999999999998,
           0.122,
           0.13899999999999998,
           0.122,
           0.038,
           "shaft_mat_2"
          ],
          [
           38,
           0.13899999999999998,
           0.122,
           0.13899999999999998,
           0.122,
           0.038,
           "shaft_mat_2"
          ],
          [
           38,
           0.13899999999999998,
           0.122,
           0.13899999999999998,
           0.122,
           0.038,
           "shaft_mat_2"
          ]
         ],
         "fill": "toself",
         "fillcolor": "#525252",
         "hoverinfo": "text",
         "hoverlabel": {
          "bgcolor": "#525252"
         },
         "hoveron": "points+fills",
         "hovertemplate": "Element Number: 38<br>Left Outer Diameter: 0.139 m<br>Left Inner Diameter: 0.122 m<br>Right Outer Diameter: 0.139 m<br>Right Inner Diameter: 0.122 m<br>Element Length: 0.038 m<br>Material: shaft_mat_2<br>",
         "legendgroup": "Shaft",
         "line": {
          "color": "black",
          "width": 1.5
         },
         "mode": "lines",
         "name": "ShaftElement 63",
         "opacity": 0.5,
         "showlegend": false,
         "text": "Element Number: 38<br>Left Outer Diameter: 0.139 m<br>Left Inner Diameter: 0.122 m<br>Right Outer Diameter: 0.139 m<br>Right Inner Diameter: 0.122 m<br>Element Length: 0.038 m<br>Material: shaft_mat_2<br>",
         "type": "scatter",
         "x": [
          1.1335000000000002,
          1.1335000000000002,
          1.1715000000000002,
          1.1715000000000002,
          1.1335000000000002,
          1.1335000000000002,
          1.1335000000000002,
          1.1715000000000002,
          1.1715000000000002,
          1.1335000000000002
         ],
         "y": [
          0.061,
          0.06949999999999999,
          0.06949999999999999,
          0.061,
          0.061,
          -0.061,
          -0.06949999999999999,
          -0.06949999999999999,
          -0.061,
          -0.061
         ]
        },
        {
         "customdata": [
          [
           39,
           0.11,
           0,
           0.11,
           0,
           0.038,
           "shaft_mat_1"
          ],
          [
           39,
           0.11,
           0,
           0.11,
           0,
           0.038,
           "shaft_mat_1"
          ],
          [
           39,
           0.11,
           0,
           0.11,
           0,
           0.038,
           "shaft_mat_1"
          ],
          [
           39,
           0.11,
           0,
           0.11,
           0,
           0.038,
           "shaft_mat_1"
          ],
          [
           39,
           0.11,
           0,
           0.11,
           0,
           0.038,
           "shaft_mat_1"
          ],
          [
           39,
           0.11,
           0,
           0.11,
           0,
           0.038,
           "shaft_mat_1"
          ],
          [
           39,
           0.11,
           0,
           0.11,
           0,
           0.038,
           "shaft_mat_1"
          ],
          [
           39,
           0.11,
           0,
           0.11,
           0,
           0.038,
           "shaft_mat_1"
          ],
          [
           39,
           0.11,
           0,
           0.11,
           0,
           0.038,
           "shaft_mat_1"
          ],
          [
           39,
           0.11,
           0,
           0.11,
           0,
           0.038,
           "shaft_mat_1"
          ]
         ],
         "fill": "toself",
         "fillcolor": "#525252",
         "hoverinfo": "text",
         "hoverlabel": {
          "bgcolor": "#525252"
         },
         "hoveron": "points+fills",
         "hovertemplate": "Element Number: 39<br>Left Outer Diameter: 0.11 m<br>Left Inner Diameter: 0.0 m<br>Right Outer Diameter: 0.11 m<br>Right Inner Diameter: 0.0 m<br>Element Length: 0.038 m<br>Material: shaft_mat_1<br>",
         "legendgroup": "Shaft",
         "line": {
          "color": "black",
          "width": 1.5
         },
         "mode": "lines",
         "name": "ShaftElement 64",
         "opacity": 0.5,
         "showlegend": false,
         "text": "Element Number: 39<br>Left Outer Diameter: 0.11 m<br>Left Inner Diameter: 0.0 m<br>Right Outer Diameter: 0.11 m<br>Right Inner Diameter: 0.0 m<br>Element Length: 0.038 m<br>Material: shaft_mat_1<br>",
         "type": "scatter",
         "x": [
          1.1715000000000002,
          1.1715000000000002,
          1.2095000000000002,
          1.2095000000000002,
          1.1715000000000002,
          1.1715000000000002,
          1.1715000000000002,
          1.2095000000000002,
          1.2095000000000002,
          1.1715000000000002
         ],
         "y": [
          0,
          0.055,
          0.055,
          0,
          0,
          0,
          -0.055,
          -0.055,
          0,
          0
         ]
        },
        {
         "customdata": [
          [
           39,
           0.184,
           0.11,
           0.184,
           0.11,
           0.038,
           "shaft_mat_2"
          ],
          [
           39,
           0.184,
           0.11,
           0.184,
           0.11,
           0.038,
           "shaft_mat_2"
          ],
          [
           39,
           0.184,
           0.11,
           0.184,
           0.11,
           0.038,
           "shaft_mat_2"
          ],
          [
           39,
           0.184,
           0.11,
           0.184,
           0.11,
           0.038,
           "shaft_mat_2"
          ],
          [
           39,
           0.184,
           0.11,
           0.184,
           0.11,
           0.038,
           "shaft_mat_2"
          ],
          [
           39,
           0.184,
           0.11,
           0.184,
           0.11,
           0.038,
           "shaft_mat_2"
          ],
          [
           39,
           0.184,
           0.11,
           0.184,
           0.11,
           0.038,
           "shaft_mat_2"
          ],
          [
           39,
           0.184,
           0.11,
           0.184,
           0.11,
           0.038,
           "shaft_mat_2"
          ],
          [
           39,
           0.184,
           0.11,
           0.184,
           0.11,
           0.038,
           "shaft_mat_2"
          ],
          [
           39,
           0.184,
           0.11,
           0.184,
           0.11,
           0.038,
           "shaft_mat_2"
          ]
         ],
         "fill": "toself",
         "fillcolor": "#525252",
         "hoverinfo": "text",
         "hoverlabel": {
          "bgcolor": "#525252"
         },
         "hoveron": "points+fills",
         "hovertemplate": "Element Number: 39<br>Left Outer Diameter: 0.184 m<br>Left Inner Diameter: 0.11 m<br>Right Outer Diameter: 0.184 m<br>Right Inner Diameter: 0.11 m<br>Element Length: 0.038 m<br>Material: shaft_mat_2<br>",
         "legendgroup": "Shaft",
         "line": {
          "color": "black",
          "width": 1.5
         },
         "mode": "lines",
         "name": "ShaftElement 65",
         "opacity": 0.5,
         "showlegend": false,
         "text": "Element Number: 39<br>Left Outer Diameter: 0.184 m<br>Left Inner Diameter: 0.11 m<br>Right Outer Diameter: 0.184 m<br>Right Inner Diameter: 0.11 m<br>Element Length: 0.038 m<br>Material: shaft_mat_2<br>",
         "type": "scatter",
         "x": [
          1.1715000000000002,
          1.1715000000000002,
          1.2095000000000002,
          1.2095000000000002,
          1.1715000000000002,
          1.1715000000000002,
          1.1715000000000002,
          1.2095000000000002,
          1.2095000000000002,
          1.1715000000000002
         ],
         "y": [
          0.055,
          0.092,
          0.092,
          0.055,
          0.055,
          -0.055,
          -0.092,
          -0.092,
          -0.055,
          -0.055
         ]
        },
        {
         "customdata": [
          [
           40,
           0.108,
           0,
           0.108,
           0,
           0.06273000000000001,
           "shaft_mat_1"
          ],
          [
           40,
           0.108,
           0,
           0.108,
           0,
           0.06273000000000001,
           "shaft_mat_1"
          ],
          [
           40,
           0.108,
           0,
           0.108,
           0,
           0.06273000000000001,
           "shaft_mat_1"
          ],
          [
           40,
           0.108,
           0,
           0.108,
           0,
           0.06273000000000001,
           "shaft_mat_1"
          ],
          [
           40,
           0.108,
           0,
           0.108,
           0,
           0.06273000000000001,
           "shaft_mat_1"
          ],
          [
           40,
           0.108,
           0,
           0.108,
           0,
           0.06273000000000001,
           "shaft_mat_1"
          ],
          [
           40,
           0.108,
           0,
           0.108,
           0,
           0.06273000000000001,
           "shaft_mat_1"
          ],
          [
           40,
           0.108,
           0,
           0.108,
           0,
           0.06273000000000001,
           "shaft_mat_1"
          ],
          [
           40,
           0.108,
           0,
           0.108,
           0,
           0.06273000000000001,
           "shaft_mat_1"
          ],
          [
           40,
           0.108,
           0,
           0.108,
           0,
           0.06273000000000001,
           "shaft_mat_1"
          ]
         ],
         "fill": "toself",
         "fillcolor": "#525252",
         "hoverinfo": "text",
         "hoverlabel": {
          "bgcolor": "#525252"
         },
         "hoveron": "points+fills",
         "hovertemplate": "Element Number: 40<br>Left Outer Diameter: 0.108 m<br>Left Inner Diameter: 0.0 m<br>Right Outer Diameter: 0.108 m<br>Right Inner Diameter: 0.0 m<br>Element Length: 0.06273 m<br>Material: shaft_mat_1<br>",
         "legendgroup": "Shaft",
         "line": {
          "color": "black",
          "width": 1.5
         },
         "mode": "lines",
         "name": "ShaftElement 66",
         "opacity": 0.5,
         "showlegend": false,
         "text": "Element Number: 40<br>Left Outer Diameter: 0.108 m<br>Left Inner Diameter: 0.0 m<br>Right Outer Diameter: 0.108 m<br>Right Inner Diameter: 0.0 m<br>Element Length: 0.06273 m<br>Material: shaft_mat_1<br>",
         "type": "scatter",
         "x": [
          1.2095000000000002,
          1.2095000000000002,
          1.2722300000000002,
          1.2722300000000002,
          1.2095000000000002,
          1.2095000000000002,
          1.2095000000000002,
          1.2722300000000002,
          1.2722300000000002,
          1.2095000000000002
         ],
         "y": [
          0,
          0.054000000000000006,
          0.054000000000000006,
          0,
          0,
          0,
          -0.054000000000000006,
          -0.054000000000000006,
          0,
          0
         ]
        },
        {
         "customdata": [
          [
           40,
           0.184,
           0.108,
           0.184,
           0.108,
           0.06273000000000001,
           "shaft_mat_2"
          ],
          [
           40,
           0.184,
           0.108,
           0.184,
           0.108,
           0.06273000000000001,
           "shaft_mat_2"
          ],
          [
           40,
           0.184,
           0.108,
           0.184,
           0.108,
           0.06273000000000001,
           "shaft_mat_2"
          ],
          [
           40,
           0.184,
           0.108,
           0.184,
           0.108,
           0.06273000000000001,
           "shaft_mat_2"
          ],
          [
           40,
           0.184,
           0.108,
           0.184,
           0.108,
           0.06273000000000001,
           "shaft_mat_2"
          ],
          [
           40,
           0.184,
           0.108,
           0.184,
           0.108,
           0.06273000000000001,
           "shaft_mat_2"
          ],
          [
           40,
           0.184,
           0.108,
           0.184,
           0.108,
           0.06273000000000001,
           "shaft_mat_2"
          ],
          [
           40,
           0.184,
           0.108,
           0.184,
           0.108,
           0.06273000000000001,
           "shaft_mat_2"
          ],
          [
           40,
           0.184,
           0.108,
           0.184,
           0.108,
           0.06273000000000001,
           "shaft_mat_2"
          ],
          [
           40,
           0.184,
           0.108,
           0.184,
           0.108,
           0.06273000000000001,
           "shaft_mat_2"
          ]
         ],
         "fill": "toself",
         "fillcolor": "#525252",
         "hoverinfo": "text",
         "hoverlabel": {
          "bgcolor": "#525252"
         },
         "hoveron": "points+fills",
         "hovertemplate": "Element Number: 40<br>Left Outer Diameter: 0.184 m<br>Left Inner Diameter: 0.108 m<br>Right Outer Diameter: 0.184 m<br>Right Inner Diameter: 0.108 m<br>Element Length: 0.06273 m<br>Material: shaft_mat_2<br>",
         "legendgroup": "Shaft",
         "line": {
          "color": "black",
          "width": 1.5
         },
         "mode": "lines",
         "name": "ShaftElement 67",
         "opacity": 0.5,
         "showlegend": false,
         "text": "Element Number: 40<br>Left Outer Diameter: 0.184 m<br>Left Inner Diameter: 0.108 m<br>Right Outer Diameter: 0.184 m<br>Right Inner Diameter: 0.108 m<br>Element Length: 0.06273 m<br>Material: shaft_mat_2<br>",
         "type": "scatter",
         "x": [
          1.2095000000000002,
          1.2095000000000002,
          1.2722300000000002,
          1.2722300000000002,
          1.2095000000000002,
          1.2095000000000002,
          1.2095000000000002,
          1.2722300000000002,
          1.2722300000000002,
          1.2095000000000002
         ],
         "y": [
          0.054000000000000006,
          0.092,
          0.092,
          0.054000000000000006,
          0.054000000000000006,
          -0.054000000000000006,
          -0.092,
          -0.092,
          -0.054000000000000006,
          -0.054000000000000006
         ]
        },
        {
         "customdata": [
          [
           41,
           0.106,
           0,
           0.106,
           0,
           0.02,
           "shaft_mat_1"
          ],
          [
           41,
           0.106,
           0,
           0.106,
           0,
           0.02,
           "shaft_mat_1"
          ],
          [
           41,
           0.106,
           0,
           0.106,
           0,
           0.02,
           "shaft_mat_1"
          ],
          [
           41,
           0.106,
           0,
           0.106,
           0,
           0.02,
           "shaft_mat_1"
          ],
          [
           41,
           0.106,
           0,
           0.106,
           0,
           0.02,
           "shaft_mat_1"
          ],
          [
           41,
           0.106,
           0,
           0.106,
           0,
           0.02,
           "shaft_mat_1"
          ],
          [
           41,
           0.106,
           0,
           0.106,
           0,
           0.02,
           "shaft_mat_1"
          ],
          [
           41,
           0.106,
           0,
           0.106,
           0,
           0.02,
           "shaft_mat_1"
          ],
          [
           41,
           0.106,
           0,
           0.106,
           0,
           0.02,
           "shaft_mat_1"
          ],
          [
           41,
           0.106,
           0,
           0.106,
           0,
           0.02,
           "shaft_mat_1"
          ]
         ],
         "fill": "toself",
         "fillcolor": "#525252",
         "hoverinfo": "text",
         "hoverlabel": {
          "bgcolor": "#525252"
         },
         "hoveron": "points+fills",
         "hovertemplate": "Element Number: 41<br>Left Outer Diameter: 0.106 m<br>Left Inner Diameter: 0.0 m<br>Right Outer Diameter: 0.106 m<br>Right Inner Diameter: 0.0 m<br>Element Length: 0.02 m<br>Material: shaft_mat_1<br>",
         "legendgroup": "Shaft",
         "line": {
          "color": "black",
          "width": 1.5
         },
         "mode": "lines",
         "name": "ShaftElement 68",
         "opacity": 0.5,
         "showlegend": false,
         "text": "Element Number: 41<br>Left Outer Diameter: 0.106 m<br>Left Inner Diameter: 0.0 m<br>Right Outer Diameter: 0.106 m<br>Right Inner Diameter: 0.0 m<br>Element Length: 0.02 m<br>Material: shaft_mat_1<br>",
         "type": "scatter",
         "x": [
          1.2722300000000002,
          1.2722300000000002,
          1.2922300000000002,
          1.2922300000000002,
          1.2722300000000002,
          1.2722300000000002,
          1.2722300000000002,
          1.2922300000000002,
          1.2922300000000002,
          1.2722300000000002
         ],
         "y": [
          0,
          0.053000000000000005,
          0.053000000000000005,
          0,
          0,
          0,
          -0.053000000000000005,
          -0.053000000000000005,
          0,
          0
         ]
        },
        {
         "customdata": [
          [
           41,
           0.184,
           0.106,
           0.184,
           0.106,
           0.02,
           "shaft_mat_2"
          ],
          [
           41,
           0.184,
           0.106,
           0.184,
           0.106,
           0.02,
           "shaft_mat_2"
          ],
          [
           41,
           0.184,
           0.106,
           0.184,
           0.106,
           0.02,
           "shaft_mat_2"
          ],
          [
           41,
           0.184,
           0.106,
           0.184,
           0.106,
           0.02,
           "shaft_mat_2"
          ],
          [
           41,
           0.184,
           0.106,
           0.184,
           0.106,
           0.02,
           "shaft_mat_2"
          ],
          [
           41,
           0.184,
           0.106,
           0.184,
           0.106,
           0.02,
           "shaft_mat_2"
          ],
          [
           41,
           0.184,
           0.106,
           0.184,
           0.106,
           0.02,
           "shaft_mat_2"
          ],
          [
           41,
           0.184,
           0.106,
           0.184,
           0.106,
           0.02,
           "shaft_mat_2"
          ],
          [
           41,
           0.184,
           0.106,
           0.184,
           0.106,
           0.02,
           "shaft_mat_2"
          ],
          [
           41,
           0.184,
           0.106,
           0.184,
           0.106,
           0.02,
           "shaft_mat_2"
          ]
         ],
         "fill": "toself",
         "fillcolor": "#525252",
         "hoverinfo": "text",
         "hoverlabel": {
          "bgcolor": "#525252"
         },
         "hoveron": "points+fills",
         "hovertemplate": "Element Number: 41<br>Left Outer Diameter: 0.184 m<br>Left Inner Diameter: 0.106 m<br>Right Outer Diameter: 0.184 m<br>Right Inner Diameter: 0.106 m<br>Element Length: 0.02 m<br>Material: shaft_mat_2<br>",
         "legendgroup": "Shaft",
         "line": {
          "color": "black",
          "width": 1.5
         },
         "mode": "lines",
         "name": "ShaftElement 69",
         "opacity": 0.5,
         "showlegend": false,
         "text": "Element Number: 41<br>Left Outer Diameter: 0.184 m<br>Left Inner Diameter: 0.106 m<br>Right Outer Diameter: 0.184 m<br>Right Inner Diameter: 0.106 m<br>Element Length: 0.02 m<br>Material: shaft_mat_2<br>",
         "type": "scatter",
         "x": [
          1.2722300000000002,
          1.2722300000000002,
          1.2922300000000002,
          1.2922300000000002,
          1.2722300000000002,
          1.2722300000000002,
          1.2722300000000002,
          1.2922300000000002,
          1.2922300000000002,
          1.2722300000000002
         ],
         "y": [
          0.053000000000000005,
          0.092,
          0.092,
          0.053000000000000005,
          0.053000000000000005,
          -0.053000000000000005,
          -0.092,
          -0.092,
          -0.053000000000000005,
          -0.053000000000000005
         ]
        },
        {
         "customdata": [
          [
           42,
           0.104,
           0,
           0.104,
           0,
           0.01257,
           "shaft_mat_1"
          ],
          [
           42,
           0.104,
           0,
           0.104,
           0,
           0.01257,
           "shaft_mat_1"
          ],
          [
           42,
           0.104,
           0,
           0.104,
           0,
           0.01257,
           "shaft_mat_1"
          ],
          [
           42,
           0.104,
           0,
           0.104,
           0,
           0.01257,
           "shaft_mat_1"
          ],
          [
           42,
           0.104,
           0,
           0.104,
           0,
           0.01257,
           "shaft_mat_1"
          ],
          [
           42,
           0.104,
           0,
           0.104,
           0,
           0.01257,
           "shaft_mat_1"
          ],
          [
           42,
           0.104,
           0,
           0.104,
           0,
           0.01257,
           "shaft_mat_1"
          ],
          [
           42,
           0.104,
           0,
           0.104,
           0,
           0.01257,
           "shaft_mat_1"
          ],
          [
           42,
           0.104,
           0,
           0.104,
           0,
           0.01257,
           "shaft_mat_1"
          ],
          [
           42,
           0.104,
           0,
           0.104,
           0,
           0.01257,
           "shaft_mat_1"
          ]
         ],
         "fill": "toself",
         "fillcolor": "#525252",
         "hoverinfo": "text",
         "hoverlabel": {
          "bgcolor": "#525252"
         },
         "hoveron": "points+fills",
         "hovertemplate": "Element Number: 42<br>Left Outer Diameter: 0.104 m<br>Left Inner Diameter: 0.0 m<br>Right Outer Diameter: 0.104 m<br>Right Inner Diameter: 0.0 m<br>Element Length: 0.01257 m<br>Material: shaft_mat_1<br>",
         "legendgroup": "Shaft",
         "line": {
          "color": "black",
          "width": 1.5
         },
         "mode": "lines",
         "name": "ShaftElement 70",
         "opacity": 0.5,
         "showlegend": false,
         "text": "Element Number: 42<br>Left Outer Diameter: 0.104 m<br>Left Inner Diameter: 0.0 m<br>Right Outer Diameter: 0.104 m<br>Right Inner Diameter: 0.0 m<br>Element Length: 0.01257 m<br>Material: shaft_mat_1<br>",
         "type": "scatter",
         "x": [
          1.2922300000000002,
          1.2922300000000002,
          1.3048000000000002,
          1.3048000000000002,
          1.2922300000000002,
          1.2922300000000002,
          1.2922300000000002,
          1.3048000000000002,
          1.3048000000000002,
          1.2922300000000002
         ],
         "y": [
          0,
          0.052,
          0.052,
          0,
          0,
          0,
          -0.052,
          -0.052,
          0,
          0
         ]
        },
        {
         "customdata": [
          [
           42,
           0.174,
           0.104,
           0.174,
           0.104,
           0.01257,
           "shaft_mat_2"
          ],
          [
           42,
           0.174,
           0.104,
           0.174,
           0.104,
           0.01257,
           "shaft_mat_2"
          ],
          [
           42,
           0.174,
           0.104,
           0.174,
           0.104,
           0.01257,
           "shaft_mat_2"
          ],
          [
           42,
           0.174,
           0.104,
           0.174,
           0.104,
           0.01257,
           "shaft_mat_2"
          ],
          [
           42,
           0.174,
           0.104,
           0.174,
           0.104,
           0.01257,
           "shaft_mat_2"
          ],
          [
           42,
           0.174,
           0.104,
           0.174,
           0.104,
           0.01257,
           "shaft_mat_2"
          ],
          [
           42,
           0.174,
           0.104,
           0.174,
           0.104,
           0.01257,
           "shaft_mat_2"
          ],
          [
           42,
           0.174,
           0.104,
           0.174,
           0.104,
           0.01257,
           "shaft_mat_2"
          ],
          [
           42,
           0.174,
           0.104,
           0.174,
           0.104,
           0.01257,
           "shaft_mat_2"
          ],
          [
           42,
           0.174,
           0.104,
           0.174,
           0.104,
           0.01257,
           "shaft_mat_2"
          ]
         ],
         "fill": "toself",
         "fillcolor": "#525252",
         "hoverinfo": "text",
         "hoverlabel": {
          "bgcolor": "#525252"
         },
         "hoveron": "points+fills",
         "hovertemplate": "Element Number: 42<br>Left Outer Diameter: 0.174 m<br>Left Inner Diameter: 0.104 m<br>Right Outer Diameter: 0.174 m<br>Right Inner Diameter: 0.104 m<br>Element Length: 0.01257 m<br>Material: shaft_mat_2<br>",
         "legendgroup": "Shaft",
         "line": {
          "color": "black",
          "width": 1.5
         },
         "mode": "lines",
         "name": "ShaftElement 71",
         "opacity": 0.5,
         "showlegend": false,
         "text": "Element Number: 42<br>Left Outer Diameter: 0.174 m<br>Left Inner Diameter: 0.104 m<br>Right Outer Diameter: 0.174 m<br>Right Inner Diameter: 0.104 m<br>Element Length: 0.01257 m<br>Material: shaft_mat_2<br>",
         "type": "scatter",
         "x": [
          1.2922300000000002,
          1.2922300000000002,
          1.3048000000000002,
          1.3048000000000002,
          1.2922300000000002,
          1.2922300000000002,
          1.2922300000000002,
          1.3048000000000002,
          1.3048000000000002,
          1.2922300000000002
         ],
         "y": [
          0.052,
          0.087,
          0.087,
          0.052,
          0.052,
          -0.052,
          -0.087,
          -0.087,
          -0.052,
          -0.052
         ]
        },
        {
         "customdata": [
          [
           43,
           0.0982,
           0,
           0.0982,
           0,
           0.0045000000000000005,
           "shaft_mat_1"
          ],
          [
           43,
           0.0982,
           0,
           0.0982,
           0,
           0.0045000000000000005,
           "shaft_mat_1"
          ],
          [
           43,
           0.0982,
           0,
           0.0982,
           0,
           0.0045000000000000005,
           "shaft_mat_1"
          ],
          [
           43,
           0.0982,
           0,
           0.0982,
           0,
           0.0045000000000000005,
           "shaft_mat_1"
          ],
          [
           43,
           0.0982,
           0,
           0.0982,
           0,
           0.0045000000000000005,
           "shaft_mat_1"
          ],
          [
           43,
           0.0982,
           0,
           0.0982,
           0,
           0.0045000000000000005,
           "shaft_mat_1"
          ],
          [
           43,
           0.0982,
           0,
           0.0982,
           0,
           0.0045000000000000005,
           "shaft_mat_1"
          ],
          [
           43,
           0.0982,
           0,
           0.0982,
           0,
           0.0045000000000000005,
           "shaft_mat_1"
          ],
          [
           43,
           0.0982,
           0,
           0.0982,
           0,
           0.0045000000000000005,
           "shaft_mat_1"
          ],
          [
           43,
           0.0982,
           0,
           0.0982,
           0,
           0.0045000000000000005,
           "shaft_mat_1"
          ]
         ],
         "fill": "toself",
         "fillcolor": "#525252",
         "hoverinfo": "text",
         "hoverlabel": {
          "bgcolor": "#525252"
         },
         "hoveron": "points+fills",
         "hovertemplate": "Element Number: 43<br>Left Outer Diameter: 0.0982 m<br>Left Inner Diameter: 0.0 m<br>Right Outer Diameter: 0.0982 m<br>Right Inner Diameter: 0.0 m<br>Element Length: 0.0045 m<br>Material: shaft_mat_1<br>",
         "legendgroup": "Shaft",
         "line": {
          "color": "black",
          "width": 1.5
         },
         "mode": "lines",
         "name": "ShaftElement 72",
         "opacity": 0.5,
         "showlegend": false,
         "text": "Element Number: 43<br>Left Outer Diameter: 0.0982 m<br>Left Inner Diameter: 0.0 m<br>Right Outer Diameter: 0.0982 m<br>Right Inner Diameter: 0.0 m<br>Element Length: 0.0045 m<br>Material: shaft_mat_1<br>",
         "type": "scatter",
         "x": [
          1.3048000000000002,
          1.3048000000000002,
          1.3093,
          1.3093,
          1.3048000000000002,
          1.3048000000000002,
          1.3048000000000002,
          1.3093,
          1.3093,
          1.3048000000000002
         ],
         "y": [
          0,
          0.0491,
          0.0491,
          0,
          0,
          0,
          -0.0491,
          -0.0491,
          0,
          0
         ]
        },
        {
         "customdata": [
          [
           43,
           0.174,
           0.0982,
           0.174,
           0.0982,
           0.0045000000000000005,
           "shaft_mat_2"
          ],
          [
           43,
           0.174,
           0.0982,
           0.174,
           0.0982,
           0.0045000000000000005,
           "shaft_mat_2"
          ],
          [
           43,
           0.174,
           0.0982,
           0.174,
           0.0982,
           0.0045000000000000005,
           "shaft_mat_2"
          ],
          [
           43,
           0.174,
           0.0982,
           0.174,
           0.0982,
           0.0045000000000000005,
           "shaft_mat_2"
          ],
          [
           43,
           0.174,
           0.0982,
           0.174,
           0.0982,
           0.0045000000000000005,
           "shaft_mat_2"
          ],
          [
           43,
           0.174,
           0.0982,
           0.174,
           0.0982,
           0.0045000000000000005,
           "shaft_mat_2"
          ],
          [
           43,
           0.174,
           0.0982,
           0.174,
           0.0982,
           0.0045000000000000005,
           "shaft_mat_2"
          ],
          [
           43,
           0.174,
           0.0982,
           0.174,
           0.0982,
           0.0045000000000000005,
           "shaft_mat_2"
          ],
          [
           43,
           0.174,
           0.0982,
           0.174,
           0.0982,
           0.0045000000000000005,
           "shaft_mat_2"
          ],
          [
           43,
           0.174,
           0.0982,
           0.174,
           0.0982,
           0.0045000000000000005,
           "shaft_mat_2"
          ]
         ],
         "fill": "toself",
         "fillcolor": "#525252",
         "hoverinfo": "text",
         "hoverlabel": {
          "bgcolor": "#525252"
         },
         "hoveron": "points+fills",
         "hovertemplate": "Element Number: 43<br>Left Outer Diameter: 0.174 m<br>Left Inner Diameter: 0.0982 m<br>Right Outer Diameter: 0.174 m<br>Right Inner Diameter: 0.0982 m<br>Element Length: 0.0045 m<br>Material: shaft_mat_2<br>",
         "legendgroup": "Shaft",
         "line": {
          "color": "black",
          "width": 1.5
         },
         "mode": "lines",
         "name": "ShaftElement 73",
         "opacity": 0.5,
         "showlegend": false,
         "text": "Element Number: 43<br>Left Outer Diameter: 0.174 m<br>Left Inner Diameter: 0.0982 m<br>Right Outer Diameter: 0.174 m<br>Right Inner Diameter: 0.0982 m<br>Element Length: 0.0045 m<br>Material: shaft_mat_2<br>",
         "type": "scatter",
         "x": [
          1.3048000000000002,
          1.3048000000000002,
          1.3093,
          1.3093,
          1.3048000000000002,
          1.3048000000000002,
          1.3048000000000002,
          1.3093,
          1.3093,
          1.3048000000000002
         ],
         "y": [
          0.0491,
          0.087,
          0.087,
          0.0491,
          0.0491,
          -0.0491,
          -0.087,
          -0.087,
          -0.0491,
          -0.0491
         ]
        },
        {
         "customdata": [
          [
           44,
           0.104,
           0,
           0.104,
           0,
           0.0242,
           "shaft_mat_1"
          ],
          [
           44,
           0.104,
           0,
           0.104,
           0,
           0.0242,
           "shaft_mat_1"
          ],
          [
           44,
           0.104,
           0,
           0.104,
           0,
           0.0242,
           "shaft_mat_1"
          ],
          [
           44,
           0.104,
           0,
           0.104,
           0,
           0.0242,
           "shaft_mat_1"
          ],
          [
           44,
           0.104,
           0,
           0.104,
           0,
           0.0242,
           "shaft_mat_1"
          ],
          [
           44,
           0.104,
           0,
           0.104,
           0,
           0.0242,
           "shaft_mat_1"
          ],
          [
           44,
           0.104,
           0,
           0.104,
           0,
           0.0242,
           "shaft_mat_1"
          ],
          [
           44,
           0.104,
           0,
           0.104,
           0,
           0.0242,
           "shaft_mat_1"
          ],
          [
           44,
           0.104,
           0,
           0.104,
           0,
           0.0242,
           "shaft_mat_1"
          ],
          [
           44,
           0.104,
           0,
           0.104,
           0,
           0.0242,
           "shaft_mat_1"
          ]
         ],
         "fill": "toself",
         "fillcolor": "#525252",
         "hoverinfo": "text",
         "hoverlabel": {
          "bgcolor": "#525252"
         },
         "hoveron": "points+fills",
         "hovertemplate": "Element Number: 44<br>Left Outer Diameter: 0.104 m<br>Left Inner Diameter: 0.0 m<br>Right Outer Diameter: 0.104 m<br>Right Inner Diameter: 0.0 m<br>Element Length: 0.0242 m<br>Material: shaft_mat_1<br>",
         "legendgroup": "Shaft",
         "line": {
          "color": "black",
          "width": 1.5
         },
         "mode": "lines",
         "name": "ShaftElement 74",
         "opacity": 0.5,
         "showlegend": false,
         "text": "Element Number: 44<br>Left Outer Diameter: 0.104 m<br>Left Inner Diameter: 0.0 m<br>Right Outer Diameter: 0.104 m<br>Right Inner Diameter: 0.0 m<br>Element Length: 0.0242 m<br>Material: shaft_mat_1<br>",
         "type": "scatter",
         "x": [
          1.3093,
          1.3093,
          1.3335,
          1.3335,
          1.3093,
          1.3093,
          1.3093,
          1.3335,
          1.3335,
          1.3093
         ],
         "y": [
          0,
          0.052,
          0.052,
          0,
          0,
          0,
          -0.052,
          -0.052,
          0,
          0
         ]
        },
        {
         "customdata": [
          [
           44,
           0.174,
           0.104,
           0.174,
           0.104,
           0.0242,
           "shaft_mat_2"
          ],
          [
           44,
           0.174,
           0.104,
           0.174,
           0.104,
           0.0242,
           "shaft_mat_2"
          ],
          [
           44,
           0.174,
           0.104,
           0.174,
           0.104,
           0.0242,
           "shaft_mat_2"
          ],
          [
           44,
           0.174,
           0.104,
           0.174,
           0.104,
           0.0242,
           "shaft_mat_2"
          ],
          [
           44,
           0.174,
           0.104,
           0.174,
           0.104,
           0.0242,
           "shaft_mat_2"
          ],
          [
           44,
           0.174,
           0.104,
           0.174,
           0.104,
           0.0242,
           "shaft_mat_2"
          ],
          [
           44,
           0.174,
           0.104,
           0.174,
           0.104,
           0.0242,
           "shaft_mat_2"
          ],
          [
           44,
           0.174,
           0.104,
           0.174,
           0.104,
           0.0242,
           "shaft_mat_2"
          ],
          [
           44,
           0.174,
           0.104,
           0.174,
           0.104,
           0.0242,
           "shaft_mat_2"
          ],
          [
           44,
           0.174,
           0.104,
           0.174,
           0.104,
           0.0242,
           "shaft_mat_2"
          ]
         ],
         "fill": "toself",
         "fillcolor": "#525252",
         "hoverinfo": "text",
         "hoverlabel": {
          "bgcolor": "#525252"
         },
         "hoveron": "points+fills",
         "hovertemplate": "Element Number: 44<br>Left Outer Diameter: 0.174 m<br>Left Inner Diameter: 0.104 m<br>Right Outer Diameter: 0.174 m<br>Right Inner Diameter: 0.104 m<br>Element Length: 0.0242 m<br>Material: shaft_mat_2<br>",
         "legendgroup": "Shaft",
         "line": {
          "color": "black",
          "width": 1.5
         },
         "mode": "lines",
         "name": "ShaftElement 75",
         "opacity": 0.5,
         "showlegend": false,
         "text": "Element Number: 44<br>Left Outer Diameter: 0.174 m<br>Left Inner Diameter: 0.104 m<br>Right Outer Diameter: 0.174 m<br>Right Inner Diameter: 0.104 m<br>Element Length: 0.0242 m<br>Material: shaft_mat_2<br>",
         "type": "scatter",
         "x": [
          1.3093,
          1.3093,
          1.3335,
          1.3335,
          1.3093,
          1.3093,
          1.3093,
          1.3335,
          1.3335,
          1.3093
         ],
         "y": [
          0.052,
          0.087,
          0.087,
          0.052,
          0.052,
          -0.052,
          -0.087,
          -0.087,
          -0.052,
          -0.052
         ]
        },
        {
         "customdata": [
          [
           45,
           0.085,
           0,
           0.085,
           0,
           0.016,
           "shaft_mat_1"
          ],
          [
           45,
           0.085,
           0,
           0.085,
           0,
           0.016,
           "shaft_mat_1"
          ],
          [
           45,
           0.085,
           0,
           0.085,
           0,
           0.016,
           "shaft_mat_1"
          ],
          [
           45,
           0.085,
           0,
           0.085,
           0,
           0.016,
           "shaft_mat_1"
          ],
          [
           45,
           0.085,
           0,
           0.085,
           0,
           0.016,
           "shaft_mat_1"
          ],
          [
           45,
           0.085,
           0,
           0.085,
           0,
           0.016,
           "shaft_mat_1"
          ],
          [
           45,
           0.085,
           0,
           0.085,
           0,
           0.016,
           "shaft_mat_1"
          ],
          [
           45,
           0.085,
           0,
           0.085,
           0,
           0.016,
           "shaft_mat_1"
          ],
          [
           45,
           0.085,
           0,
           0.085,
           0,
           0.016,
           "shaft_mat_1"
          ],
          [
           45,
           0.085,
           0,
           0.085,
           0,
           0.016,
           "shaft_mat_1"
          ]
         ],
         "fill": "toself",
         "fillcolor": "#525252",
         "hoverinfo": "text",
         "hoverlabel": {
          "bgcolor": "#525252"
         },
         "hoveron": "points+fills",
         "hovertemplate": "Element Number: 45<br>Left Outer Diameter: 0.085 m<br>Left Inner Diameter: 0.0 m<br>Right Outer Diameter: 0.085 m<br>Right Inner Diameter: 0.0 m<br>Element Length: 0.016 m<br>Material: shaft_mat_1<br>",
         "legendgroup": "Shaft",
         "line": {
          "color": "black",
          "width": 1.5
         },
         "mode": "lines",
         "name": "ShaftElement 76",
         "opacity": 0.5,
         "showlegend": false,
         "text": "Element Number: 45<br>Left Outer Diameter: 0.085 m<br>Left Inner Diameter: 0.0 m<br>Right Outer Diameter: 0.085 m<br>Right Inner Diameter: 0.0 m<br>Element Length: 0.016 m<br>Material: shaft_mat_1<br>",
         "type": "scatter",
         "x": [
          1.3335,
          1.3335,
          1.3495,
          1.3495,
          1.3335,
          1.3335,
          1.3335,
          1.3495,
          1.3495,
          1.3335
         ],
         "y": [
          0,
          0.0425,
          0.0425,
          0,
          0,
          0,
          -0.0425,
          -0.0425,
          0,
          0
         ]
        },
        {
         "customdata": [
          [
           45,
           0.13799999999999998,
           0.085,
           0.13799999999999998,
           0.085,
           0.016,
           "shaft_mat_2"
          ],
          [
           45,
           0.13799999999999998,
           0.085,
           0.13799999999999998,
           0.085,
           0.016,
           "shaft_mat_2"
          ],
          [
           45,
           0.13799999999999998,
           0.085,
           0.13799999999999998,
           0.085,
           0.016,
           "shaft_mat_2"
          ],
          [
           45,
           0.13799999999999998,
           0.085,
           0.13799999999999998,
           0.085,
           0.016,
           "shaft_mat_2"
          ],
          [
           45,
           0.13799999999999998,
           0.085,
           0.13799999999999998,
           0.085,
           0.016,
           "shaft_mat_2"
          ],
          [
           45,
           0.13799999999999998,
           0.085,
           0.13799999999999998,
           0.085,
           0.016,
           "shaft_mat_2"
          ],
          [
           45,
           0.13799999999999998,
           0.085,
           0.13799999999999998,
           0.085,
           0.016,
           "shaft_mat_2"
          ],
          [
           45,
           0.13799999999999998,
           0.085,
           0.13799999999999998,
           0.085,
           0.016,
           "shaft_mat_2"
          ],
          [
           45,
           0.13799999999999998,
           0.085,
           0.13799999999999998,
           0.085,
           0.016,
           "shaft_mat_2"
          ],
          [
           45,
           0.13799999999999998,
           0.085,
           0.13799999999999998,
           0.085,
           0.016,
           "shaft_mat_2"
          ]
         ],
         "fill": "toself",
         "fillcolor": "#525252",
         "hoverinfo": "text",
         "hoverlabel": {
          "bgcolor": "#525252"
         },
         "hoveron": "points+fills",
         "hovertemplate": "Element Number: 45<br>Left Outer Diameter: 0.138 m<br>Left Inner Diameter: 0.085 m<br>Right Outer Diameter: 0.138 m<br>Right Inner Diameter: 0.085 m<br>Element Length: 0.016 m<br>Material: shaft_mat_2<br>",
         "legendgroup": "Shaft",
         "line": {
          "color": "black",
          "width": 1.5
         },
         "mode": "lines",
         "name": "ShaftElement 77",
         "opacity": 0.5,
         "showlegend": false,
         "text": "Element Number: 45<br>Left Outer Diameter: 0.138 m<br>Left Inner Diameter: 0.085 m<br>Right Outer Diameter: 0.138 m<br>Right Inner Diameter: 0.085 m<br>Element Length: 0.016 m<br>Material: shaft_mat_2<br>",
         "type": "scatter",
         "x": [
          1.3335,
          1.3335,
          1.3495,
          1.3495,
          1.3335,
          1.3335,
          1.3335,
          1.3495,
          1.3495,
          1.3335
         ],
         "y": [
          0.0425,
          0.06899999999999999,
          0.06899999999999999,
          0.0425,
          0.0425,
          -0.0425,
          -0.06899999999999999,
          -0.06899999999999999,
          -0.0425,
          -0.0425
         ]
        },
        {
         "customdata": [
          [
           46,
           0.103,
           0,
           0.103,
           0,
           0.025,
           "shaft_mat_1"
          ],
          [
           46,
           0.103,
           0,
           0.103,
           0,
           0.025,
           "shaft_mat_1"
          ],
          [
           46,
           0.103,
           0,
           0.103,
           0,
           0.025,
           "shaft_mat_1"
          ],
          [
           46,
           0.103,
           0,
           0.103,
           0,
           0.025,
           "shaft_mat_1"
          ],
          [
           46,
           0.103,
           0,
           0.103,
           0,
           0.025,
           "shaft_mat_1"
          ],
          [
           46,
           0.103,
           0,
           0.103,
           0,
           0.025,
           "shaft_mat_1"
          ],
          [
           46,
           0.103,
           0,
           0.103,
           0,
           0.025,
           "shaft_mat_1"
          ],
          [
           46,
           0.103,
           0,
           0.103,
           0,
           0.025,
           "shaft_mat_1"
          ],
          [
           46,
           0.103,
           0,
           0.103,
           0,
           0.025,
           "shaft_mat_1"
          ],
          [
           46,
           0.103,
           0,
           0.103,
           0,
           0.025,
           "shaft_mat_1"
          ]
         ],
         "fill": "toself",
         "fillcolor": "#525252",
         "hoverinfo": "text",
         "hoverlabel": {
          "bgcolor": "#525252"
         },
         "hoveron": "points+fills",
         "hovertemplate": "Element Number: 46<br>Left Outer Diameter: 0.103 m<br>Left Inner Diameter: 0.0 m<br>Right Outer Diameter: 0.103 m<br>Right Inner Diameter: 0.0 m<br>Element Length: 0.025 m<br>Material: shaft_mat_1<br>",
         "legendgroup": "Shaft",
         "line": {
          "color": "black",
          "width": 1.5
         },
         "mode": "lines",
         "name": "ShaftElement 78",
         "opacity": 0.5,
         "showlegend": false,
         "text": "Element Number: 46<br>Left Outer Diameter: 0.103 m<br>Left Inner Diameter: 0.0 m<br>Right Outer Diameter: 0.103 m<br>Right Inner Diameter: 0.0 m<br>Element Length: 0.025 m<br>Material: shaft_mat_1<br>",
         "type": "scatter",
         "x": [
          1.3495,
          1.3495,
          1.3745,
          1.3745,
          1.3495,
          1.3495,
          1.3495,
          1.3745,
          1.3745,
          1.3495
         ],
         "y": [
          0,
          0.0515,
          0.0515,
          0,
          0,
          0,
          -0.0515,
          -0.0515,
          0,
          0
         ]
        },
        {
         "customdata": [
          [
           46,
           0.13799999999999998,
           0.103,
           0.13799999999999998,
           0.103,
           0.025,
           "shaft_mat_2"
          ],
          [
           46,
           0.13799999999999998,
           0.103,
           0.13799999999999998,
           0.103,
           0.025,
           "shaft_mat_2"
          ],
          [
           46,
           0.13799999999999998,
           0.103,
           0.13799999999999998,
           0.103,
           0.025,
           "shaft_mat_2"
          ],
          [
           46,
           0.13799999999999998,
           0.103,
           0.13799999999999998,
           0.103,
           0.025,
           "shaft_mat_2"
          ],
          [
           46,
           0.13799999999999998,
           0.103,
           0.13799999999999998,
           0.103,
           0.025,
           "shaft_mat_2"
          ],
          [
           46,
           0.13799999999999998,
           0.103,
           0.13799999999999998,
           0.103,
           0.025,
           "shaft_mat_2"
          ],
          [
           46,
           0.13799999999999998,
           0.103,
           0.13799999999999998,
           0.103,
           0.025,
           "shaft_mat_2"
          ],
          [
           46,
           0.13799999999999998,
           0.103,
           0.13799999999999998,
           0.103,
           0.025,
           "shaft_mat_2"
          ],
          [
           46,
           0.13799999999999998,
           0.103,
           0.13799999999999998,
           0.103,
           0.025,
           "shaft_mat_2"
          ],
          [
           46,
           0.13799999999999998,
           0.103,
           0.13799999999999998,
           0.103,
           0.025,
           "shaft_mat_2"
          ]
         ],
         "fill": "toself",
         "fillcolor": "#525252",
         "hoverinfo": "text",
         "hoverlabel": {
          "bgcolor": "#525252"
         },
         "hoveron": "points+fills",
         "hovertemplate": "Element Number: 46<br>Left Outer Diameter: 0.138 m<br>Left Inner Diameter: 0.103 m<br>Right Outer Diameter: 0.138 m<br>Right Inner Diameter: 0.103 m<br>Element Length: 0.025 m<br>Material: shaft_mat_2<br>",
         "legendgroup": "Shaft",
         "line": {
          "color": "black",
          "width": 1.5
         },
         "mode": "lines",
         "name": "ShaftElement 79",
         "opacity": 0.5,
         "showlegend": false,
         "text": "Element Number: 46<br>Left Outer Diameter: 0.138 m<br>Left Inner Diameter: 0.103 m<br>Right Outer Diameter: 0.138 m<br>Right Inner Diameter: 0.103 m<br>Element Length: 0.025 m<br>Material: shaft_mat_2<br>",
         "type": "scatter",
         "x": [
          1.3495,
          1.3495,
          1.3745,
          1.3745,
          1.3495,
          1.3495,
          1.3495,
          1.3745,
          1.3745,
          1.3495
         ],
         "y": [
          0.0515,
          0.06899999999999999,
          0.06899999999999999,
          0.0515,
          0.0515,
          -0.0515,
          -0.06899999999999999,
          -0.06899999999999999,
          -0.0515,
          -0.0515
         ]
        },
        {
         "customdata": [
          [
           47,
           0.09000000000000001,
           0,
           0.09000000000000001,
           0,
           0.051,
           "shaft_mat_1"
          ],
          [
           47,
           0.09000000000000001,
           0,
           0.09000000000000001,
           0,
           0.051,
           "shaft_mat_1"
          ],
          [
           47,
           0.09000000000000001,
           0,
           0.09000000000000001,
           0,
           0.051,
           "shaft_mat_1"
          ],
          [
           47,
           0.09000000000000001,
           0,
           0.09000000000000001,
           0,
           0.051,
           "shaft_mat_1"
          ],
          [
           47,
           0.09000000000000001,
           0,
           0.09000000000000001,
           0,
           0.051,
           "shaft_mat_1"
          ],
          [
           47,
           0.09000000000000001,
           0,
           0.09000000000000001,
           0,
           0.051,
           "shaft_mat_1"
          ],
          [
           47,
           0.09000000000000001,
           0,
           0.09000000000000001,
           0,
           0.051,
           "shaft_mat_1"
          ],
          [
           47,
           0.09000000000000001,
           0,
           0.09000000000000001,
           0,
           0.051,
           "shaft_mat_1"
          ],
          [
           47,
           0.09000000000000001,
           0,
           0.09000000000000001,
           0,
           0.051,
           "shaft_mat_1"
          ],
          [
           47,
           0.09000000000000001,
           0,
           0.09000000000000001,
           0,
           0.051,
           "shaft_mat_1"
          ]
         ],
         "fill": "toself",
         "fillcolor": "#525252",
         "hoverinfo": "text",
         "hoverlabel": {
          "bgcolor": "#525252"
         },
         "hoveron": "points+fills",
         "hovertemplate": "Element Number: 47<br>Left Outer Diameter: 0.09 m<br>Left Inner Diameter: 0.0 m<br>Right Outer Diameter: 0.09 m<br>Right Inner Diameter: 0.0 m<br>Element Length: 0.051 m<br>Material: shaft_mat_1<br>",
         "legendgroup": "Shaft",
         "line": {
          "color": "black",
          "width": 1.5
         },
         "mode": "lines",
         "name": "ShaftElement 80",
         "opacity": 0.5,
         "showlegend": false,
         "text": "Element Number: 47<br>Left Outer Diameter: 0.09 m<br>Left Inner Diameter: 0.0 m<br>Right Outer Diameter: 0.09 m<br>Right Inner Diameter: 0.0 m<br>Element Length: 0.051 m<br>Material: shaft_mat_1<br>",
         "type": "scatter",
         "x": [
          1.3745,
          1.3745,
          1.4255,
          1.4255,
          1.3745,
          1.3745,
          1.3745,
          1.4255,
          1.4255,
          1.3745
         ],
         "y": [
          0,
          0.045000000000000005,
          0.045000000000000005,
          0,
          0,
          0,
          -0.045000000000000005,
          -0.045000000000000005,
          0,
          0
         ]
        },
        {
         "customdata": [
          [
           48,
           0.09000000000000001,
           0,
           0.09000000000000001,
           0,
           0.0505,
           "shaft_mat_1"
          ],
          [
           48,
           0.09000000000000001,
           0,
           0.09000000000000001,
           0,
           0.0505,
           "shaft_mat_1"
          ],
          [
           48,
           0.09000000000000001,
           0,
           0.09000000000000001,
           0,
           0.0505,
           "shaft_mat_1"
          ],
          [
           48,
           0.09000000000000001,
           0,
           0.09000000000000001,
           0,
           0.0505,
           "shaft_mat_1"
          ],
          [
           48,
           0.09000000000000001,
           0,
           0.09000000000000001,
           0,
           0.0505,
           "shaft_mat_1"
          ],
          [
           48,
           0.09000000000000001,
           0,
           0.09000000000000001,
           0,
           0.0505,
           "shaft_mat_1"
          ],
          [
           48,
           0.09000000000000001,
           0,
           0.09000000000000001,
           0,
           0.0505,
           "shaft_mat_1"
          ],
          [
           48,
           0.09000000000000001,
           0,
           0.09000000000000001,
           0,
           0.0505,
           "shaft_mat_1"
          ],
          [
           48,
           0.09000000000000001,
           0,
           0.09000000000000001,
           0,
           0.0505,
           "shaft_mat_1"
          ],
          [
           48,
           0.09000000000000001,
           0,
           0.09000000000000001,
           0,
           0.0505,
           "shaft_mat_1"
          ]
         ],
         "fill": "toself",
         "fillcolor": "#525252",
         "hoverinfo": "text",
         "hoverlabel": {
          "bgcolor": "#525252"
         },
         "hoveron": "points+fills",
         "hovertemplate": "Element Number: 48<br>Left Outer Diameter: 0.09 m<br>Left Inner Diameter: 0.0 m<br>Right Outer Diameter: 0.09 m<br>Right Inner Diameter: 0.0 m<br>Element Length: 0.0505 m<br>Material: shaft_mat_1<br>",
         "legendgroup": "Shaft",
         "line": {
          "color": "black",
          "width": 1.5
         },
         "mode": "lines",
         "name": "ShaftElement 81",
         "opacity": 0.5,
         "showlegend": false,
         "text": "Element Number: 48<br>Left Outer Diameter: 0.09 m<br>Left Inner Diameter: 0.0 m<br>Right Outer Diameter: 0.09 m<br>Right Inner Diameter: 0.0 m<br>Element Length: 0.0505 m<br>Material: shaft_mat_1<br>",
         "type": "scatter",
         "x": [
          1.4255,
          1.4255,
          1.476,
          1.476,
          1.4255,
          1.4255,
          1.4255,
          1.476,
          1.476,
          1.4255
         ],
         "y": [
          0,
          0.045000000000000005,
          0.045000000000000005,
          0,
          0,
          0,
          -0.045000000000000005,
          -0.045000000000000005,
          0,
          0
         ]
        },
        {
         "customdata": [
          [
           49,
           0.09000000000000001,
           0,
           0.09000000000000001,
           0,
           0.036375000000000005,
           "shaft_mat_1"
          ],
          [
           49,
           0.09000000000000001,
           0,
           0.09000000000000001,
           0,
           0.036375000000000005,
           "shaft_mat_1"
          ],
          [
           49,
           0.09000000000000001,
           0,
           0.09000000000000001,
           0,
           0.036375000000000005,
           "shaft_mat_1"
          ],
          [
           49,
           0.09000000000000001,
           0,
           0.09000000000000001,
           0,
           0.036375000000000005,
           "shaft_mat_1"
          ],
          [
           49,
           0.09000000000000001,
           0,
           0.09000000000000001,
           0,
           0.036375000000000005,
           "shaft_mat_1"
          ],
          [
           49,
           0.09000000000000001,
           0,
           0.09000000000000001,
           0,
           0.036375000000000005,
           "shaft_mat_1"
          ],
          [
           49,
           0.09000000000000001,
           0,
           0.09000000000000001,
           0,
           0.036375000000000005,
           "shaft_mat_1"
          ],
          [
           49,
           0.09000000000000001,
           0,
           0.09000000000000001,
           0,
           0.036375000000000005,
           "shaft_mat_1"
          ],
          [
           49,
           0.09000000000000001,
           0,
           0.09000000000000001,
           0,
           0.036375000000000005,
           "shaft_mat_1"
          ],
          [
           49,
           0.09000000000000001,
           0,
           0.09000000000000001,
           0,
           0.036375000000000005,
           "shaft_mat_1"
          ]
         ],
         "fill": "toself",
         "fillcolor": "#525252",
         "hoverinfo": "text",
         "hoverlabel": {
          "bgcolor": "#525252"
         },
         "hoveron": "points+fills",
         "hovertemplate": "Element Number: 49<br>Left Outer Diameter: 0.09 m<br>Left Inner Diameter: 0.0 m<br>Right Outer Diameter: 0.09 m<br>Right Inner Diameter: 0.0 m<br>Element Length: 0.036375 m<br>Material: shaft_mat_1<br>",
         "legendgroup": "Shaft",
         "line": {
          "color": "black",
          "width": 1.5
         },
         "mode": "lines",
         "name": "ShaftElement 82",
         "opacity": 0.5,
         "showlegend": false,
         "text": "Element Number: 49<br>Left Outer Diameter: 0.09 m<br>Left Inner Diameter: 0.0 m<br>Right Outer Diameter: 0.09 m<br>Right Inner Diameter: 0.0 m<br>Element Length: 0.036375 m<br>Material: shaft_mat_1<br>",
         "type": "scatter",
         "x": [
          1.476,
          1.476,
          1.512375,
          1.512375,
          1.476,
          1.476,
          1.476,
          1.512375,
          1.512375,
          1.476
         ],
         "y": [
          0,
          0.045000000000000005,
          0.045000000000000005,
          0,
          0,
          0,
          -0.045000000000000005,
          -0.045000000000000005,
          0,
          0
         ]
        },
        {
         "customdata": [
          [
           50,
           0.09000000000000001,
           0,
           0.09000000000000001,
           0,
           0.036375000000000005,
           "shaft_mat_1"
          ],
          [
           50,
           0.09000000000000001,
           0,
           0.09000000000000001,
           0,
           0.036375000000000005,
           "shaft_mat_1"
          ],
          [
           50,
           0.09000000000000001,
           0,
           0.09000000000000001,
           0,
           0.036375000000000005,
           "shaft_mat_1"
          ],
          [
           50,
           0.09000000000000001,
           0,
           0.09000000000000001,
           0,
           0.036375000000000005,
           "shaft_mat_1"
          ],
          [
           50,
           0.09000000000000001,
           0,
           0.09000000000000001,
           0,
           0.036375000000000005,
           "shaft_mat_1"
          ],
          [
           50,
           0.09000000000000001,
           0,
           0.09000000000000001,
           0,
           0.036375000000000005,
           "shaft_mat_1"
          ],
          [
           50,
           0.09000000000000001,
           0,
           0.09000000000000001,
           0,
           0.036375000000000005,
           "shaft_mat_1"
          ],
          [
           50,
           0.09000000000000001,
           0,
           0.09000000000000001,
           0,
           0.036375000000000005,
           "shaft_mat_1"
          ],
          [
           50,
           0.09000000000000001,
           0,
           0.09000000000000001,
           0,
           0.036375000000000005,
           "shaft_mat_1"
          ],
          [
           50,
           0.09000000000000001,
           0,
           0.09000000000000001,
           0,
           0.036375000000000005,
           "shaft_mat_1"
          ]
         ],
         "fill": "toself",
         "fillcolor": "#525252",
         "hoverinfo": "text",
         "hoverlabel": {
          "bgcolor": "#525252"
         },
         "hoveron": "points+fills",
         "hovertemplate": "Element Number: 50<br>Left Outer Diameter: 0.09 m<br>Left Inner Diameter: 0.0 m<br>Right Outer Diameter: 0.09 m<br>Right Inner Diameter: 0.0 m<br>Element Length: 0.036375 m<br>Material: shaft_mat_1<br>",
         "legendgroup": "Shaft",
         "line": {
          "color": "black",
          "width": 1.5
         },
         "mode": "lines",
         "name": "ShaftElement 83",
         "opacity": 0.5,
         "showlegend": false,
         "text": "Element Number: 50<br>Left Outer Diameter: 0.09 m<br>Left Inner Diameter: 0.0 m<br>Right Outer Diameter: 0.09 m<br>Right Inner Diameter: 0.0 m<br>Element Length: 0.036375 m<br>Material: shaft_mat_1<br>",
         "type": "scatter",
         "x": [
          1.512375,
          1.512375,
          1.54875,
          1.54875,
          1.512375,
          1.512375,
          1.512375,
          1.54875,
          1.54875,
          1.512375
         ],
         "y": [
          0,
          0.045000000000000005,
          0.045000000000000005,
          0,
          0,
          0,
          -0.045000000000000005,
          -0.045000000000000005,
          0,
          0
         ]
        },
        {
         "customdata": [
          [
           51,
           0.09000000000000001,
           0,
           0.09000000000000001,
           0,
           0.013500000000000002,
           "shaft_mat_1"
          ],
          [
           51,
           0.09000000000000001,
           0,
           0.09000000000000001,
           0,
           0.013500000000000002,
           "shaft_mat_1"
          ],
          [
           51,
           0.09000000000000001,
           0,
           0.09000000000000001,
           0,
           0.013500000000000002,
           "shaft_mat_1"
          ],
          [
           51,
           0.09000000000000001,
           0,
           0.09000000000000001,
           0,
           0.013500000000000002,
           "shaft_mat_1"
          ],
          [
           51,
           0.09000000000000001,
           0,
           0.09000000000000001,
           0,
           0.013500000000000002,
           "shaft_mat_1"
          ],
          [
           51,
           0.09000000000000001,
           0,
           0.09000000000000001,
           0,
           0.013500000000000002,
           "shaft_mat_1"
          ],
          [
           51,
           0.09000000000000001,
           0,
           0.09000000000000001,
           0,
           0.013500000000000002,
           "shaft_mat_1"
          ],
          [
           51,
           0.09000000000000001,
           0,
           0.09000000000000001,
           0,
           0.013500000000000002,
           "shaft_mat_1"
          ],
          [
           51,
           0.09000000000000001,
           0,
           0.09000000000000001,
           0,
           0.013500000000000002,
           "shaft_mat_1"
          ],
          [
           51,
           0.09000000000000001,
           0,
           0.09000000000000001,
           0,
           0.013500000000000002,
           "shaft_mat_1"
          ]
         ],
         "fill": "toself",
         "fillcolor": "#525252",
         "hoverinfo": "text",
         "hoverlabel": {
          "bgcolor": "#525252"
         },
         "hoveron": "points+fills",
         "hovertemplate": "Element Number: 51<br>Left Outer Diameter: 0.09 m<br>Left Inner Diameter: 0.0 m<br>Right Outer Diameter: 0.09 m<br>Right Inner Diameter: 0.0 m<br>Element Length: 0.0135 m<br>Material: shaft_mat_1<br>",
         "legendgroup": "Shaft",
         "line": {
          "color": "black",
          "width": 1.5
         },
         "mode": "lines",
         "name": "ShaftElement 84",
         "opacity": 0.5,
         "showlegend": false,
         "text": "Element Number: 51<br>Left Outer Diameter: 0.09 m<br>Left Inner Diameter: 0.0 m<br>Right Outer Diameter: 0.09 m<br>Right Inner Diameter: 0.0 m<br>Element Length: 0.0135 m<br>Material: shaft_mat_1<br>",
         "type": "scatter",
         "x": [
          1.54875,
          1.54875,
          1.56225,
          1.56225,
          1.54875,
          1.54875,
          1.54875,
          1.56225,
          1.56225,
          1.54875
         ],
         "y": [
          0,
          0.045000000000000005,
          0.045000000000000005,
          0,
          0,
          0,
          -0.045000000000000005,
          -0.045000000000000005,
          0,
          0
         ]
        },
        {
         "customdata": [
          [
           52,
           0.09000000000000001,
           0,
           0.09000000000000001,
           0,
           0.034999999999999996,
           "shaft_mat_1"
          ],
          [
           52,
           0.09000000000000001,
           0,
           0.09000000000000001,
           0,
           0.034999999999999996,
           "shaft_mat_1"
          ],
          [
           52,
           0.09000000000000001,
           0,
           0.09000000000000001,
           0,
           0.034999999999999996,
           "shaft_mat_1"
          ],
          [
           52,
           0.09000000000000001,
           0,
           0.09000000000000001,
           0,
           0.034999999999999996,
           "shaft_mat_1"
          ],
          [
           52,
           0.09000000000000001,
           0,
           0.09000000000000001,
           0,
           0.034999999999999996,
           "shaft_mat_1"
          ],
          [
           52,
           0.09000000000000001,
           0,
           0.09000000000000001,
           0,
           0.034999999999999996,
           "shaft_mat_1"
          ],
          [
           52,
           0.09000000000000001,
           0,
           0.09000000000000001,
           0,
           0.034999999999999996,
           "shaft_mat_1"
          ],
          [
           52,
           0.09000000000000001,
           0,
           0.09000000000000001,
           0,
           0.034999999999999996,
           "shaft_mat_1"
          ],
          [
           52,
           0.09000000000000001,
           0,
           0.09000000000000001,
           0,
           0.034999999999999996,
           "shaft_mat_1"
          ],
          [
           52,
           0.09000000000000001,
           0,
           0.09000000000000001,
           0,
           0.034999999999999996,
           "shaft_mat_1"
          ]
         ],
         "fill": "toself",
         "fillcolor": "#525252",
         "hoverinfo": "text",
         "hoverlabel": {
          "bgcolor": "#525252"
         },
         "hoveron": "points+fills",
         "hovertemplate": "Element Number: 52<br>Left Outer Diameter: 0.09 m<br>Left Inner Diameter: 0.0 m<br>Right Outer Diameter: 0.09 m<br>Right Inner Diameter: 0.0 m<br>Element Length: 0.035 m<br>Material: shaft_mat_1<br>",
         "legendgroup": "Shaft",
         "line": {
          "color": "black",
          "width": 1.5
         },
         "mode": "lines",
         "name": "ShaftElement 85",
         "opacity": 0.5,
         "showlegend": false,
         "text": "Element Number: 52<br>Left Outer Diameter: 0.09 m<br>Left Inner Diameter: 0.0 m<br>Right Outer Diameter: 0.09 m<br>Right Inner Diameter: 0.0 m<br>Element Length: 0.035 m<br>Material: shaft_mat_1<br>",
         "type": "scatter",
         "x": [
          1.56225,
          1.56225,
          1.59725,
          1.59725,
          1.56225,
          1.56225,
          1.56225,
          1.59725,
          1.59725,
          1.56225
         ],
         "y": [
          0,
          0.045000000000000005,
          0.045000000000000005,
          0,
          0,
          0,
          -0.045000000000000005,
          -0.045000000000000005,
          0,
          0
         ]
        },
        {
         "customdata": [
          [
           52,
           0.245,
           0.09000000000000001,
           0.245,
           0.09000000000000001,
           0.034999999999999996,
           "shaft_mat_2"
          ],
          [
           52,
           0.245,
           0.09000000000000001,
           0.245,
           0.09000000000000001,
           0.034999999999999996,
           "shaft_mat_2"
          ],
          [
           52,
           0.245,
           0.09000000000000001,
           0.245,
           0.09000000000000001,
           0.034999999999999996,
           "shaft_mat_2"
          ],
          [
           52,
           0.245,
           0.09000000000000001,
           0.245,
           0.09000000000000001,
           0.034999999999999996,
           "shaft_mat_2"
          ],
          [
           52,
           0.245,
           0.09000000000000001,
           0.245,
           0.09000000000000001,
           0.034999999999999996,
           "shaft_mat_2"
          ],
          [
           52,
           0.245,
           0.09000000000000001,
           0.245,
           0.09000000000000001,
           0.034999999999999996,
           "shaft_mat_2"
          ],
          [
           52,
           0.245,
           0.09000000000000001,
           0.245,
           0.09000000000000001,
           0.034999999999999996,
           "shaft_mat_2"
          ],
          [
           52,
           0.245,
           0.09000000000000001,
           0.245,
           0.09000000000000001,
           0.034999999999999996,
           "shaft_mat_2"
          ],
          [
           52,
           0.245,
           0.09000000000000001,
           0.245,
           0.09000000000000001,
           0.034999999999999996,
           "shaft_mat_2"
          ],
          [
           52,
           0.245,
           0.09000000000000001,
           0.245,
           0.09000000000000001,
           0.034999999999999996,
           "shaft_mat_2"
          ]
         ],
         "fill": "toself",
         "fillcolor": "#525252",
         "hoverinfo": "text",
         "hoverlabel": {
          "bgcolor": "#525252"
         },
         "hoveron": "points+fills",
         "hovertemplate": "Element Number: 52<br>Left Outer Diameter: 0.245 m<br>Left Inner Diameter: 0.09 m<br>Right Outer Diameter: 0.245 m<br>Right Inner Diameter: 0.09 m<br>Element Length: 0.035 m<br>Material: shaft_mat_2<br>",
         "legendgroup": "Shaft",
         "line": {
          "color": "black",
          "width": 1.5
         },
         "mode": "lines",
         "name": "ShaftElement 86",
         "opacity": 0.5,
         "showlegend": false,
         "text": "Element Number: 52<br>Left Outer Diameter: 0.245 m<br>Left Inner Diameter: 0.09 m<br>Right Outer Diameter: 0.245 m<br>Right Inner Diameter: 0.09 m<br>Element Length: 0.035 m<br>Material: shaft_mat_2<br>",
         "type": "scatter",
         "x": [
          1.56225,
          1.56225,
          1.59725,
          1.59725,
          1.56225,
          1.56225,
          1.56225,
          1.59725,
          1.59725,
          1.56225
         ],
         "y": [
          0.045000000000000005,
          0.1225,
          0.1225,
          0.045000000000000005,
          0.045000000000000005,
          -0.045000000000000005,
          -0.1225,
          -0.1225,
          -0.045000000000000005,
          -0.045000000000000005
         ]
        },
        {
         "customdata": [
          [
           53,
           0.0872,
           0,
           0.0872,
           0,
           0.024,
           "shaft_mat_1"
          ],
          [
           53,
           0.0872,
           0,
           0.0872,
           0,
           0.024,
           "shaft_mat_1"
          ],
          [
           53,
           0.0872,
           0,
           0.0872,
           0,
           0.024,
           "shaft_mat_1"
          ],
          [
           53,
           0.0872,
           0,
           0.0872,
           0,
           0.024,
           "shaft_mat_1"
          ],
          [
           53,
           0.0872,
           0,
           0.0872,
           0,
           0.024,
           "shaft_mat_1"
          ],
          [
           53,
           0.0872,
           0,
           0.0872,
           0,
           0.024,
           "shaft_mat_1"
          ],
          [
           53,
           0.0872,
           0,
           0.0872,
           0,
           0.024,
           "shaft_mat_1"
          ],
          [
           53,
           0.0872,
           0,
           0.0872,
           0,
           0.024,
           "shaft_mat_1"
          ],
          [
           53,
           0.0872,
           0,
           0.0872,
           0,
           0.024,
           "shaft_mat_1"
          ],
          [
           53,
           0.0872,
           0,
           0.0872,
           0,
           0.024,
           "shaft_mat_1"
          ]
         ],
         "fill": "toself",
         "fillcolor": "#525252",
         "hoverinfo": "text",
         "hoverlabel": {
          "bgcolor": "#525252"
         },
         "hoveron": "points+fills",
         "hovertemplate": "Element Number: 53<br>Left Outer Diameter: 0.0872 m<br>Left Inner Diameter: 0.0 m<br>Right Outer Diameter: 0.0872 m<br>Right Inner Diameter: 0.0 m<br>Element Length: 0.024 m<br>Material: shaft_mat_1<br>",
         "legendgroup": "Shaft",
         "line": {
          "color": "black",
          "width": 1.5
         },
         "mode": "lines",
         "name": "ShaftElement 87",
         "opacity": 0.5,
         "showlegend": false,
         "text": "Element Number: 53<br>Left Outer Diameter: 0.0872 m<br>Left Inner Diameter: 0.0 m<br>Right Outer Diameter: 0.0872 m<br>Right Inner Diameter: 0.0 m<br>Element Length: 0.024 m<br>Material: shaft_mat_1<br>",
         "type": "scatter",
         "x": [
          1.59725,
          1.59725,
          1.62125,
          1.62125,
          1.59725,
          1.59725,
          1.59725,
          1.62125,
          1.62125,
          1.59725
         ],
         "y": [
          0,
          0.0436,
          0.0436,
          0,
          0,
          0,
          -0.0436,
          -0.0436,
          0,
          0
         ]
        },
        {
         "customdata": [
          [
           53,
           0.112,
           0.0872,
           0.112,
           0.0872,
           0.024,
           "shaft_mat_2"
          ],
          [
           53,
           0.112,
           0.0872,
           0.112,
           0.0872,
           0.024,
           "shaft_mat_2"
          ],
          [
           53,
           0.112,
           0.0872,
           0.112,
           0.0872,
           0.024,
           "shaft_mat_2"
          ],
          [
           53,
           0.112,
           0.0872,
           0.112,
           0.0872,
           0.024,
           "shaft_mat_2"
          ],
          [
           53,
           0.112,
           0.0872,
           0.112,
           0.0872,
           0.024,
           "shaft_mat_2"
          ],
          [
           53,
           0.112,
           0.0872,
           0.112,
           0.0872,
           0.024,
           "shaft_mat_2"
          ],
          [
           53,
           0.112,
           0.0872,
           0.112,
           0.0872,
           0.024,
           "shaft_mat_2"
          ],
          [
           53,
           0.112,
           0.0872,
           0.112,
           0.0872,
           0.024,
           "shaft_mat_2"
          ],
          [
           53,
           0.112,
           0.0872,
           0.112,
           0.0872,
           0.024,
           "shaft_mat_2"
          ],
          [
           53,
           0.112,
           0.0872,
           0.112,
           0.0872,
           0.024,
           "shaft_mat_2"
          ]
         ],
         "fill": "toself",
         "fillcolor": "#525252",
         "hoverinfo": "text",
         "hoverlabel": {
          "bgcolor": "#525252"
         },
         "hoveron": "points+fills",
         "hovertemplate": "Element Number: 53<br>Left Outer Diameter: 0.112 m<br>Left Inner Diameter: 0.0872 m<br>Right Outer Diameter: 0.112 m<br>Right Inner Diameter: 0.0872 m<br>Element Length: 0.024 m<br>Material: shaft_mat_2<br>",
         "legendgroup": "Shaft",
         "line": {
          "color": "black",
          "width": 1.5
         },
         "mode": "lines",
         "name": "ShaftElement 88",
         "opacity": 0.5,
         "showlegend": false,
         "text": "Element Number: 53<br>Left Outer Diameter: 0.112 m<br>Left Inner Diameter: 0.0872 m<br>Right Outer Diameter: 0.112 m<br>Right Inner Diameter: 0.0872 m<br>Element Length: 0.024 m<br>Material: shaft_mat_2<br>",
         "type": "scatter",
         "x": [
          1.59725,
          1.59725,
          1.62125,
          1.62125,
          1.59725,
          1.59725,
          1.59725,
          1.62125,
          1.62125,
          1.59725
         ],
         "y": [
          0.0436,
          0.056,
          0.056,
          0.0436,
          0.0436,
          -0.0436,
          -0.056,
          -0.056,
          -0.0436,
          -0.0436
         ]
        },
        {
         "customdata": [
          [
           54,
           0.085,
           0,
           0.085,
           0,
           0.032,
           "shaft_mat_1"
          ],
          [
           54,
           0.085,
           0,
           0.085,
           0,
           0.032,
           "shaft_mat_1"
          ],
          [
           54,
           0.085,
           0,
           0.085,
           0,
           0.032,
           "shaft_mat_1"
          ],
          [
           54,
           0.085,
           0,
           0.085,
           0,
           0.032,
           "shaft_mat_1"
          ],
          [
           54,
           0.085,
           0,
           0.085,
           0,
           0.032,
           "shaft_mat_1"
          ],
          [
           54,
           0.085,
           0,
           0.085,
           0,
           0.032,
           "shaft_mat_1"
          ],
          [
           54,
           0.085,
           0,
           0.085,
           0,
           0.032,
           "shaft_mat_1"
          ],
          [
           54,
           0.085,
           0,
           0.085,
           0,
           0.032,
           "shaft_mat_1"
          ],
          [
           54,
           0.085,
           0,
           0.085,
           0,
           0.032,
           "shaft_mat_1"
          ],
          [
           54,
           0.085,
           0,
           0.085,
           0,
           0.032,
           "shaft_mat_1"
          ]
         ],
         "fill": "toself",
         "fillcolor": "#525252",
         "hoverinfo": "text",
         "hoverlabel": {
          "bgcolor": "#525252"
         },
         "hoveron": "points+fills",
         "hovertemplate": "Element Number: 54<br>Left Outer Diameter: 0.085 m<br>Left Inner Diameter: 0.0 m<br>Right Outer Diameter: 0.085 m<br>Right Inner Diameter: 0.0 m<br>Element Length: 0.032 m<br>Material: shaft_mat_1<br>",
         "legendgroup": "Shaft",
         "line": {
          "color": "black",
          "width": 1.5
         },
         "mode": "lines",
         "name": "ShaftElement 89",
         "opacity": 0.5,
         "showlegend": false,
         "text": "Element Number: 54<br>Left Outer Diameter: 0.085 m<br>Left Inner Diameter: 0.0 m<br>Right Outer Diameter: 0.085 m<br>Right Inner Diameter: 0.0 m<br>Element Length: 0.032 m<br>Material: shaft_mat_1<br>",
         "type": "scatter",
         "x": [
          1.62125,
          1.62125,
          1.65325,
          1.65325,
          1.62125,
          1.62125,
          1.62125,
          1.65325,
          1.65325,
          1.62125
         ],
         "y": [
          0,
          0.0425,
          0.0425,
          0,
          0,
          0,
          -0.0425,
          -0.0425,
          0,
          0
         ]
        },
        {
         "customdata": [
          [
           54,
           0.113,
           0.085,
           0.113,
           0.085,
           0.032,
           "shaft_mat_2"
          ],
          [
           54,
           0.113,
           0.085,
           0.113,
           0.085,
           0.032,
           "shaft_mat_2"
          ],
          [
           54,
           0.113,
           0.085,
           0.113,
           0.085,
           0.032,
           "shaft_mat_2"
          ],
          [
           54,
           0.113,
           0.085,
           0.113,
           0.085,
           0.032,
           "shaft_mat_2"
          ],
          [
           54,
           0.113,
           0.085,
           0.113,
           0.085,
           0.032,
           "shaft_mat_2"
          ],
          [
           54,
           0.113,
           0.085,
           0.113,
           0.085,
           0.032,
           "shaft_mat_2"
          ],
          [
           54,
           0.113,
           0.085,
           0.113,
           0.085,
           0.032,
           "shaft_mat_2"
          ],
          [
           54,
           0.113,
           0.085,
           0.113,
           0.085,
           0.032,
           "shaft_mat_2"
          ],
          [
           54,
           0.113,
           0.085,
           0.113,
           0.085,
           0.032,
           "shaft_mat_2"
          ],
          [
           54,
           0.113,
           0.085,
           0.113,
           0.085,
           0.032,
           "shaft_mat_2"
          ]
         ],
         "fill": "toself",
         "fillcolor": "#525252",
         "hoverinfo": "text",
         "hoverlabel": {
          "bgcolor": "#525252"
         },
         "hoveron": "points+fills",
         "hovertemplate": "Element Number: 54<br>Left Outer Diameter: 0.113 m<br>Left Inner Diameter: 0.085 m<br>Right Outer Diameter: 0.113 m<br>Right Inner Diameter: 0.085 m<br>Element Length: 0.032 m<br>Material: shaft_mat_2<br>",
         "legendgroup": "Shaft",
         "line": {
          "color": "black",
          "width": 1.5
         },
         "mode": "lines",
         "name": "ShaftElement 90",
         "opacity": 0.5,
         "showlegend": false,
         "text": "Element Number: 54<br>Left Outer Diameter: 0.113 m<br>Left Inner Diameter: 0.085 m<br>Right Outer Diameter: 0.113 m<br>Right Inner Diameter: 0.085 m<br>Element Length: 0.032 m<br>Material: shaft_mat_2<br>",
         "type": "scatter",
         "x": [
          1.62125,
          1.62125,
          1.65325,
          1.65325,
          1.62125,
          1.62125,
          1.62125,
          1.65325,
          1.65325,
          1.62125
         ],
         "y": [
          0.0425,
          0.0565,
          0.0565,
          0.0425,
          0.0425,
          -0.0425,
          -0.0565,
          -0.0565,
          -0.0425,
          -0.0425
         ]
        },
        {
         "customdata": [
          [
           3,
           0,
           0,
           15.119982018530925
          ],
          [
           3,
           0,
           0,
           15.119982018530925
          ],
          [
           3,
           0,
           0,
           15.119982018530925
          ],
          [
           3,
           0,
           0,
           15.119982018530925
          ],
          [
           3,
           0,
           0,
           15.119982018530925
          ],
          [
           3,
           0,
           0,
           15.119982018530925
          ],
          [
           3,
           0,
           0,
           15.119982018530925
          ],
          [
           3,
           0,
           0,
           15.119982018530925
          ],
          [
           3,
           0,
           0,
           15.119982018530925
          ]
         ],
         "fill": "toself",
         "fillcolor": "Firebrick",
         "hoverinfo": "text",
         "hoverlabel": {
          "bgcolor": "Firebrick"
         },
         "hoveron": "points+fills",
         "hovertemplate": "Disk Node: 3<br>Polar Inertia: 0.000e+00<br>Diametral Inertia: 0.000e+00<br>Disk mass: 15.120<br>",
         "legendgroup": "disks",
         "line": {
          "color": "Firebrick",
          "width": 2
         },
         "mode": "lines",
         "name": "Disk 0",
         "opacity": 0.8,
         "showlegend": false,
         "text": "Disk Node: 3<br>Polar Inertia: 0.000e+00<br>Diametral Inertia: 0.000e+00<br>Disk mass: 15.120<br>",
         "type": "scatter",
         "x": [
          0.1255,
          0.13129286357142858,
          0.11970713642857143,
          0.1255,
          null,
          0.1255,
          0.13129286357142858,
          0.11970713642857143,
          0.1255
         ],
         "y": [
          0.04,
          0.32964317857142855,
          0.32964317857142855,
          0.04,
          null,
          -0.04,
          -0.32964317857142855,
          -0.32964317857142855,
          -0.04
         ]
        },
        {
         "customdata": [
          [
           20,
           0.046999698810632776,
           0.02499983979288977,
           6.909991782278354
          ],
          [
           20,
           0.046999698810632776,
           0.02499983979288977,
           6.909991782278354
          ],
          [
           20,
           0.046999698810632776,
           0.02499983979288977,
           6.909991782278354
          ],
          [
           20,
           0.046999698810632776,
           0.02499983979288977,
           6.909991782278354
          ],
          [
           20,
           0.046999698810632776,
           0.02499983979288977,
           6.909991782278354
          ],
          [
           20,
           0.046999698810632776,
           0.02499983979288977,
           6.909991782278354
          ],
          [
           20,
           0.046999698810632776,
           0.02499983979288977,
           6.909991782278354
          ],
          [
           20,
           0.046999698810632776,
           0.02499983979288977,
           6.909991782278354
          ],
          [
           20,
           0.046999698810632776,
           0.02499983979288977,
           6.909991782278354
          ]
         ],
         "fill": "toself",
         "fillcolor": "Firebrick",
         "hoverinfo": "text",
         "hoverlabel": {
          "bgcolor": "Firebrick"
         },
         "hoveron": "points+fills",
         "hovertemplate": "Disk Node: 20<br>Polar Inertia: 4.700e-02<br>Diametral Inertia: 2.500e-02<br>Disk mass: 6.910<br>",
         "legendgroup": "disks",
         "line": {
          "color": "Firebrick",
          "width": 2
         },
         "mode": "lines",
         "name": "Disk 1",
         "opacity": 0.8,
         "showlegend": false,
         "text": "Disk Node: 20<br>Polar Inertia: 4.700e-02<br>Diametral Inertia: 2.500e-02<br>Disk mass: 6.910<br>",
         "type": "scatter",
         "x": [
          0.6299900000000002,
          0.6357828635714288,
          0.6241971364285716,
          0.6299900000000002,
          null,
          0.6299900000000002,
          0.6357828635714288,
          0.6241971364285716,
          0.6299900000000002
         ],
         "y": [
          0.0635,
          0.3531431785714286,
          0.3531431785714286,
          0.0635,
          null,
          -0.0635,
          -0.3531431785714286,
          -0.3531431785714286,
          -0.0635
         ]
        },
        {
         "customdata": [
          [
           23,
           0.046999698810632776,
           0.02499983979288977,
           6.929991758493341
          ],
          [
           23,
           0.046999698810632776,
           0.02499983979288977,
           6.929991758493341
          ],
          [
           23,
           0.046999698810632776,
           0.02499983979288977,
           6.929991758493341
          ],
          [
           23,
           0.046999698810632776,
           0.02499983979288977,
           6.929991758493341
          ],
          [
           23,
           0.046999698810632776,
           0.02499983979288977,
           6.929991758493341
          ],
          [
           23,
           0.046999698810632776,
           0.02499983979288977,
           6.929991758493341
          ],
          [
           23,
           0.046999698810632776,
           0.02499983979288977,
           6.929991758493341
          ],
          [
           23,
           0.046999698810632776,
           0.02499983979288977,
           6.929991758493341
          ],
          [
           23,
           0.046999698810632776,
           0.02499983979288977,
           6.929991758493341
          ]
         ],
         "fill": "toself",
         "fillcolor": "Firebrick",
         "hoverinfo": "text",
         "hoverlabel": {
          "bgcolor": "Firebrick"
         },
         "hoveron": "points+fills",
         "hovertemplate": "Disk Node: 23<br>Polar Inertia: 4.700e-02<br>Diametral Inertia: 2.500e-02<br>Disk mass: 6.930<br>",
         "legendgroup": "disks",
         "line": {
          "color": "Firebrick",
          "width": 2
         },
         "mode": "lines",
         "name": "Disk 2",
         "opacity": 0.8,
         "showlegend": false,
         "text": "Disk Node: 23<br>Polar Inertia: 4.700e-02<br>Diametral Inertia: 2.500e-02<br>Disk mass: 6.930<br>",
         "type": "scatter",
         "x": [
          0.7125900000000002,
          0.7183828635714288,
          0.7067971364285716,
          0.7125900000000002,
          null,
          0.7125900000000002,
          0.7183828635714288,
          0.7067971364285716,
          0.7125900000000002
         ],
         "y": [
          0.0635,
          0.3531431785714286,
          0.3531431785714286,
          0.0635,
          null,
          -0.0635,
          -0.3531431785714286,
          -0.3531431785714286,
          -0.0635
         ]
        },
        {
         "customdata": [
          [
           26,
           0.047999692402348366,
           0.02499983979288977,
           6.94999173470833
          ],
          [
           26,
           0.047999692402348366,
           0.02499983979288977,
           6.94999173470833
          ],
          [
           26,
           0.047999692402348366,
           0.02499983979288977,
           6.94999173470833
          ],
          [
           26,
           0.047999692402348366,
           0.02499983979288977,
           6.94999173470833
          ],
          [
           26,
           0.047999692402348366,
           0.02499983979288977,
           6.94999173470833
          ],
          [
           26,
           0.047999692402348366,
           0.02499983979288977,
           6.94999173470833
          ],
          [
           26,
           0.047999692402348366,
           0.02499983979288977,
           6.94999173470833
          ],
          [
           26,
           0.047999692402348366,
           0.02499983979288977,
           6.94999173470833
          ],
          [
           26,
           0.047999692402348366,
           0.02499983979288977,
           6.94999173470833
          ]
         ],
         "fill": "toself",
         "fillcolor": "Firebrick",
         "hoverinfo": "text",
         "hoverlabel": {
          "bgcolor": "Firebrick"
         },
         "hoveron": "points+fills",
         "hovertemplate": "Disk Node: 26<br>Polar Inertia: 4.800e-02<br>Diametral Inertia: 2.500e-02<br>Disk mass: 6.950<br>",
         "legendgroup": "disks",
         "line": {
          "color": "Firebrick",
          "width": 2
         },
         "mode": "lines",
         "name": "Disk 3",
         "opacity": 0.8,
         "showlegend": false,
         "text": "Disk Node: 26<br>Polar Inertia: 4.800e-02<br>Diametral Inertia: 2.500e-02<br>Disk mass: 6.950<br>",
         "type": "scatter",
         "x": [
          0.7937000000000003,
          0.7994928635714289,
          0.7879071364285717,
          0.7937000000000003,
          null,
          0.7937000000000003,
          0.7994928635714289,
          0.7879071364285717,
          0.7937000000000003
         ],
         "y": [
          0.0635,
          0.3531431785714286,
          0.3531431785714286,
          0.0635,
          null,
          -0.0635,
          -0.3531431785714286,
          -0.3531431785714286,
          -0.0635
         ]
        },
        {
         "customdata": [
          [
           29,
           0.047999692402348366,
           0.02499983979288977,
           6.979991699030812
          ],
          [
           29,
           0.047999692402348366,
           0.02499983979288977,
           6.979991699030812
          ],
          [
           29,
           0.047999692402348366,
           0.02499983979288977,
           6.979991699030812
          ],
          [
           29,
           0.047999692402348366,
           0.02499983979288977,
           6.979991699030812
          ],
          [
           29,
           0.047999692402348366,
           0.02499983979288977,
           6.979991699030812
          ],
          [
           29,
           0.047999692402348366,
           0.02499983979288977,
           6.979991699030812
          ],
          [
           29,
           0.047999692402348366,
           0.02499983979288977,
           6.979991699030812
          ],
          [
           29,
           0.047999692402348366,
           0.02499983979288977,
           6.979991699030812
          ],
          [
           29,
           0.047999692402348366,
           0.02499983979288977,
           6.979991699030812
          ]
         ],
         "fill": "toself",
         "fillcolor": "Firebrick",
         "hoverinfo": "text",
         "hoverlabel": {
          "bgcolor": "Firebrick"
         },
         "hoveron": "points+fills",
         "hovertemplate": "Disk Node: 29<br>Polar Inertia: 4.800e-02<br>Diametral Inertia: 2.500e-02<br>Disk mass: 6.980<br>",
         "legendgroup": "disks",
         "line": {
          "color": "Firebrick",
          "width": 2
         },
         "mode": "lines",
         "name": "Disk 4",
         "opacity": 0.8,
         "showlegend": false,
         "text": "Disk Node: 29<br>Polar Inertia: 4.800e-02<br>Diametral Inertia: 2.500e-02<br>Disk mass: 6.980<br>",
         "type": "scatter",
         "x": [
          0.8753300000000003,
          0.8811228635714289,
          0.8695371364285717,
          0.8753300000000003,
          null,
          0.8753300000000003,
          0.8811228635714289,
          0.8695371364285717,
          0.8753300000000003
         ],
         "y": [
          0.0635,
          0.3531431785714286,
          0.3531431785714286,
          0.0635,
          null,
          -0.0635,
          -0.3531431785714286,
          -0.3531431785714286,
          -0.0635
         ]
        },
        {
         "customdata": [
          [
           32,
           0.047999692402348366,
           0.02499983979288977,
           6.939991746600836
          ],
          [
           32,
           0.047999692402348366,
           0.02499983979288977,
           6.939991746600836
          ],
          [
           32,
           0.047999692402348366,
           0.02499983979288977,
           6.939991746600836
          ],
          [
           32,
           0.047999692402348366,
           0.02499983979288977,
           6.939991746600836
          ],
          [
           32,
           0.047999692402348366,
           0.02499983979288977,
           6.939991746600836
          ],
          [
           32,
           0.047999692402348366,
           0.02499983979288977,
           6.939991746600836
          ],
          [
           32,
           0.047999692402348366,
           0.02499983979288977,
           6.939991746600836
          ],
          [
           32,
           0.047999692402348366,
           0.02499983979288977,
           6.939991746600836
          ],
          [
           32,
           0.047999692402348366,
           0.02499983979288977,
           6.939991746600836
          ]
         ],
         "fill": "toself",
         "fillcolor": "Firebrick",
         "hoverinfo": "text",
         "hoverlabel": {
          "bgcolor": "Firebrick"
         },
         "hoveron": "points+fills",
         "hovertemplate": "Disk Node: 32<br>Polar Inertia: 4.800e-02<br>Diametral Inertia: 2.500e-02<br>Disk mass: 6.940<br>",
         "legendgroup": "disks",
         "line": {
          "color": "Firebrick",
          "width": 2
         },
         "mode": "lines",
         "name": "Disk 5",
         "opacity": 0.8,
         "showlegend": false,
         "text": "Disk Node: 32<br>Polar Inertia: 4.800e-02<br>Diametral Inertia: 2.500e-02<br>Disk mass: 6.940<br>",
         "type": "scatter",
         "x": [
          0.9564800000000002,
          0.9622728635714288,
          0.9506871364285716,
          0.9564800000000002,
          null,
          0.9564800000000002,
          0.9622728635714288,
          0.9506871364285716,
          0.9564800000000002
         ],
         "y": [
          0.0635,
          0.3531431785714286,
          0.3531431785714286,
          0.0635,
          null,
          -0.0635,
          -0.3531431785714286,
          -0.3531431785714286,
          -0.0635
         ]
        },
        {
         "customdata": [
          [
           35,
           0.047999692402348366,
           0.02499983979288977,
           6.959991722815824
          ],
          [
           35,
           0.047999692402348366,
           0.02499983979288977,
           6.959991722815824
          ],
          [
           35,
           0.047999692402348366,
           0.02499983979288977,
           6.959991722815824
          ],
          [
           35,
           0.047999692402348366,
           0.02499983979288977,
           6.959991722815824
          ],
          [
           35,
           0.047999692402348366,
           0.02499983979288977,
           6.959991722815824
          ],
          [
           35,
           0.047999692402348366,
           0.02499983979288977,
           6.959991722815824
          ],
          [
           35,
           0.047999692402348366,
           0.02499983979288977,
           6.959991722815824
          ],
          [
           35,
           0.047999692402348366,
           0.02499983979288977,
           6.959991722815824
          ],
          [
           35,
           0.047999692402348366,
           0.02499983979288977,
           6.959991722815824
          ]
         ],
         "fill": "toself",
         "fillcolor": "Firebrick",
         "hoverinfo": "text",
         "hoverlabel": {
          "bgcolor": "Firebrick"
         },
         "hoveron": "points+fills",
         "hovertemplate": "Disk Node: 35<br>Polar Inertia: 4.800e-02<br>Diametral Inertia: 2.500e-02<br>Disk mass: 6.960<br>",
         "legendgroup": "disks",
         "line": {
          "color": "Firebrick",
          "width": 2
         },
         "mode": "lines",
         "name": "Disk 6",
         "opacity": 0.8,
         "showlegend": false,
         "text": "Disk Node: 35<br>Polar Inertia: 4.800e-02<br>Diametral Inertia: 2.500e-02<br>Disk mass: 6.960<br>",
         "type": "scatter",
         "x": [
          1.0381000000000002,
          1.0438928635714289,
          1.0323071364285716,
          1.0381000000000002,
          null,
          1.0381000000000002,
          1.0438928635714289,
          1.0323071364285716,
          1.0381000000000002
         ],
         "y": [
          0.0635,
          0.3531431785714286,
          0.3531431785714286,
          0.0635,
          null,
          -0.0635,
          -0.3531431785714286,
          -0.3531431785714286,
          -0.0635
         ]
        },
        {
         "hoverinfo": "none",
         "legendgroup": "bearings",
         "line": {
          "color": "#355d7a",
          "width": 1
         },
         "mode": "lines",
         "name": "Bearing 0",
         "showlegend": false,
         "type": "scatter",
         "x": [
          0.2355,
          0.2355,
          0.21481120153061223,
          0.25618879846938775
         ],
         "y": [
          0.045000000000000005,
          0.08120539732142858,
          0.08120539732142858,
          0.08120539732142858
         ]
        },
        {
         "hoverinfo": "none",
         "legendgroup": "bearings",
         "line": {
          "color": "#355d7a",
          "width": 1
         },
         "mode": "lines",
         "name": "Bearing 0",
         "showlegend": false,
         "type": "scatter",
         "x": [
          0.2355,
          0.2355,
          0.21481120153061223,
          0.25618879846938775
         ],
         "y": [
          -0.045000000000000005,
          -0.08120539732142858,
          -0.08120539732142858,
          -0.08120539732142858
         ]
        },
        {
         "hoverinfo": "none",
         "legendgroup": "bearings",
         "line": {
          "color": "#355d7a",
          "width": 1
         },
         "mode": "lines",
         "name": "Bearing 0",
         "showlegend": false,
         "type": "scatter",
         "x": [
          0.2355,
          0.2355,
          0.21481120153061223,
          0.25618879846938775
         ],
         "y": [
          0.1898215892857143,
          0.15361619196428572,
          0.15361619196428572,
          0.15361619196428572
         ]
        },
        {
         "hoverinfo": "none",
         "legendgroup": "bearings",
         "line": {
          "color": "#355d7a",
          "width": 1
         },
         "mode": "lines",
         "name": "Bearing 0",
         "showlegend": false,
         "type": "scatter",
         "x": [
          0.2355,
          0.2355,
          0.21481120153061223,
          0.25618879846938775
         ],
         "y": [
          -0.1898215892857143,
          -0.15361619196428572,
          -0.15361619196428572,
          -0.15361619196428572
         ]
        },
        {
         "hoverinfo": "none",
         "legendgroup": "bearings",
         "line": {
          "color": "#355d7a",
          "width": 1
         },
         "mode": "lines",
         "name": "Bearing 0",
         "showlegend": false,
         "type": "scatter",
         "x": [
          0.2044668022959184,
          0.2665331977040816
         ],
         "y": [
          0.1898215892857143,
          0.1898215892857143
         ]
        },
        {
         "hoverinfo": "none",
         "legendgroup": "bearings",
         "line": {
          "color": "#355d7a",
          "width": 1
         },
         "mode": "lines",
         "name": "Bearing 0",
         "showlegend": false,
         "type": "scatter",
         "x": [
          0.2044668022959184,
          0.2665331977040816
         ],
         "y": [
          -0.1898215892857143,
          -0.1898215892857143
         ]
        },
        {
         "hoverinfo": "none",
         "legendgroup": "bearings",
         "line": {
          "color": "#355d7a",
          "width": 1
         },
         "mode": "lines",
         "name": "Bearing 0",
         "showlegend": false,
         "type": "scatter",
         "x": [
          0.2044668022959184,
          0.21688008137755105
         ],
         "y": [
          0.1898215892857143,
          0.20880374821428577
         ]
        },
        {
         "hoverinfo": "none",
         "legendgroup": "bearings",
         "line": {
          "color": "#355d7a",
          "width": 1
         },
         "mode": "lines",
         "name": "Bearing 0",
         "showlegend": false,
         "type": "scatter",
         "x": [
          0.2044668022959184,
          0.21688008137755105
         ],
         "y": [
          -0.1898215892857143,
          -0.20880374821428577
         ]
        },
        {
         "hoverinfo": "none",
         "legendgroup": "bearings",
         "line": {
          "color": "#355d7a",
          "width": 1
         },
         "mode": "lines",
         "name": "Bearing 0",
         "showlegend": false,
         "type": "scatter",
         "x": [
          0.21688008137755105,
          0.2292933604591837
         ],
         "y": [
          0.1898215892857143,
          0.20880374821428577
         ]
        },
        {
         "hoverinfo": "none",
         "legendgroup": "bearings",
         "line": {
          "color": "#355d7a",
          "width": 1
         },
         "mode": "lines",
         "name": "Bearing 0",
         "showlegend": false,
         "type": "scatter",
         "x": [
          0.21688008137755105,
          0.2292933604591837
         ],
         "y": [
          -0.1898215892857143,
          -0.20880374821428577
         ]
        },
        {
         "hoverinfo": "none",
         "legendgroup": "bearings",
         "line": {
          "color": "#355d7a",
          "width": 1
         },
         "mode": "lines",
         "name": "Bearing 0",
         "showlegend": false,
         "type": "scatter",
         "x": [
          0.2292933604591837,
          0.2417066395408163
         ],
         "y": [
          0.1898215892857143,
          0.20880374821428577
         ]
        },
        {
         "hoverinfo": "none",
         "legendgroup": "bearings",
         "line": {
          "color": "#355d7a",
          "width": 1
         },
         "mode": "lines",
         "name": "Bearing 0",
         "showlegend": false,
         "type": "scatter",
         "x": [
          0.2292933604591837,
          0.2417066395408163
         ],
         "y": [
          -0.1898215892857143,
          -0.20880374821428577
         ]
        },
        {
         "hoverinfo": "none",
         "legendgroup": "bearings",
         "line": {
          "color": "#355d7a",
          "width": 1
         },
         "mode": "lines",
         "name": "Bearing 0",
         "showlegend": false,
         "type": "scatter",
         "x": [
          0.2417066395408163,
          0.254119918622449
         ],
         "y": [
          0.1898215892857143,
          0.20880374821428577
         ]
        },
        {
         "hoverinfo": "none",
         "legendgroup": "bearings",
         "line": {
          "color": "#355d7a",
          "width": 1
         },
         "mode": "lines",
         "name": "Bearing 0",
         "showlegend": false,
         "type": "scatter",
         "x": [
          0.2417066395408163,
          0.254119918622449
         ],
         "y": [
          -0.1898215892857143,
          -0.20880374821428577
         ]
        },
        {
         "hoverinfo": "none",
         "legendgroup": "bearings",
         "line": {
          "color": "#355d7a",
          "width": 1
         },
         "mode": "lines",
         "name": "Bearing 0",
         "showlegend": false,
         "type": "scatter",
         "x": [
          0.254119918622449,
          0.2665331977040816
         ],
         "y": [
          0.1898215892857143,
          0.20880374821428577
         ]
        },
        {
         "hoverinfo": "none",
         "legendgroup": "bearings",
         "line": {
          "color": "#355d7a",
          "width": 1
         },
         "mode": "lines",
         "name": "Bearing 0",
         "showlegend": false,
         "type": "scatter",
         "x": [
          0.254119918622449,
          0.2665331977040816
         ],
         "y": [
          -0.1898215892857143,
          -0.20880374821428577
         ]
        },
        {
         "hoverinfo": "none",
         "legendgroup": "bearings",
         "line": {
          "color": "#355d7a",
          "width": 1
         },
         "mode": "lines",
         "name": "Bearing 0",
         "showlegend": false,
         "type": "scatter",
         "x": [
          0.2665331977040816,
          0.27894647678571427
         ],
         "y": [
          0.1898215892857143,
          0.20880374821428577
         ]
        },
        {
         "hoverinfo": "none",
         "legendgroup": "bearings",
         "line": {
          "color": "#355d7a",
          "width": 1
         },
         "mode": "lines",
         "name": "Bearing 0",
         "showlegend": false,
         "type": "scatter",
         "x": [
          0.2665331977040816,
          0.27894647678571427
         ],
         "y": [
          -0.1898215892857143,
          -0.20880374821428577
         ]
        },
        {
         "hoverinfo": "none",
         "legendgroup": "bearings",
         "line": {
          "color": "#355d7a",
          "width": 1
         },
         "mode": "lines",
         "name": "Bearing 0",
         "showlegend": false,
         "type": "scatter",
         "x": [
          0.21481120153061223,
          0.21481120153061223,
          0.2044668022959184,
          0.22515560076530616,
          0.2044668022959184,
          0.22515560076530616,
          0.2044668022959184,
          0.22515560076530616,
          0.21481120153061223,
          0.21481120153061223
         ],
         "y": [
          0.08120539732142858,
          0.09154979655612246,
          0.09154979655612246,
          0.10189419579081634,
          0.1122385950255102,
          0.12258299426020408,
          0.13292739349489796,
          0.14327179272959184,
          0.14327179272959184,
          0.15361619196428572
         ]
        },
        {
         "hoverinfo": "none",
         "legendgroup": "bearings",
         "line": {
          "color": "#355d7a",
          "width": 1
         },
         "mode": "lines",
         "name": "Bearing 0",
         "showlegend": false,
         "type": "scatter",
         "x": [
          0.21481120153061223,
          0.21481120153061223,
          0.2044668022959184,
          0.22515560076530616,
          0.2044668022959184,
          0.22515560076530616,
          0.2044668022959184,
          0.22515560076530616,
          0.21481120153061223,
          0.21481120153061223
         ],
         "y": [
          -0.08120539732142858,
          -0.09154979655612246,
          -0.09154979655612246,
          -0.10189419579081634,
          -0.1122385950255102,
          -0.12258299426020408,
          -0.13292739349489796,
          -0.14327179272959184,
          -0.14327179272959184,
          -0.15361619196428572
         ]
        },
        {
         "hoverinfo": "none",
         "legendgroup": "bearings",
         "line": {
          "color": "#355d7a",
          "width": 1
         },
         "mode": "lines",
         "name": "Bearing 0",
         "showlegend": false,
         "type": "scatter",
         "x": [
          0.25618879846938775,
          0.25618879846938775
         ],
         "y": [
          0.08120539732142858,
          0.10189419579081634
         ]
        },
        {
         "hoverinfo": "none",
         "legendgroup": "bearings",
         "line": {
          "color": "#355d7a",
          "width": 1
         },
         "mode": "lines",
         "name": "Bearing 0",
         "showlegend": false,
         "type": "scatter",
         "x": [
          0.25618879846938775,
          0.25618879846938775
         ],
         "y": [
          -0.08120539732142858,
          -0.10189419579081634
         ]
        },
        {
         "hoverinfo": "none",
         "legendgroup": "bearings",
         "line": {
          "color": "#355d7a",
          "width": 1
         },
         "mode": "lines",
         "name": "Bearing 0",
         "showlegend": false,
         "type": "scatter",
         "x": [
          0.2355,
          0.2355,
          0.2768775969387755,
          0.2768775969387755
         ],
         "y": [
          0.13292739349489796,
          0.10189419579081634,
          0.10189419579081634,
          0.13292739349489796
         ]
        },
        {
         "hoverinfo": "none",
         "legendgroup": "bearings",
         "line": {
          "color": "#355d7a",
          "width": 1
         },
         "mode": "lines",
         "name": "Bearing 0",
         "showlegend": false,
         "type": "scatter",
         "x": [
          0.2355,
          0.2355,
          0.2768775969387755,
          0.2768775969387755
         ],
         "y": [
          -0.13292739349489796,
          -0.10189419579081634,
          -0.10189419579081634,
          -0.13292739349489796
         ]
        },
        {
         "hoverinfo": "none",
         "legendgroup": "bearings",
         "line": {
          "color": "#355d7a",
          "width": 1
         },
         "mode": "lines",
         "name": "Bearing 0",
         "showlegend": false,
         "type": "scatter",
         "x": [
          0.2355,
          0.2768775969387755,
          0.25618879846938775,
          0.25618879846938775
         ],
         "y": [
          0.12258299426020408,
          0.12258299426020408,
          0.12258299426020408,
          0.15361619196428572
         ]
        },
        {
         "hoverinfo": "none",
         "legendgroup": "bearings",
         "line": {
          "color": "#355d7a",
          "width": 1
         },
         "mode": "lines",
         "name": "Bearing 0",
         "showlegend": false,
         "type": "scatter",
         "x": [
          0.2355,
          0.2768775969387755,
          0.25618879846938775,
          0.25618879846938775
         ],
         "y": [
          -0.12258299426020408,
          -0.12258299426020408,
          -0.12258299426020408,
          -0.15361619196428572
         ]
        },
        {
         "hoverinfo": "none",
         "legendgroup": "bearings",
         "line": {
          "color": "#355d7a",
          "width": 1
         },
         "mode": "lines",
         "name": "Bearing 1",
         "showlegend": false,
         "type": "scatter",
         "x": [
          1.4255,
          1.4255,
          1.4048112015306122,
          1.4461887984693875
         ],
         "y": [
          0.045000000000000005,
          0.08120539732142858,
          0.08120539732142858,
          0.08120539732142858
         ]
        },
        {
         "hoverinfo": "none",
         "legendgroup": "bearings",
         "line": {
          "color": "#355d7a",
          "width": 1
         },
         "mode": "lines",
         "name": "Bearing 1",
         "showlegend": false,
         "type": "scatter",
         "x": [
          1.4255,
          1.4255,
          1.4048112015306122,
          1.4461887984693875
         ],
         "y": [
          -0.045000000000000005,
          -0.08120539732142858,
          -0.08120539732142858,
          -0.08120539732142858
         ]
        },
        {
         "hoverinfo": "none",
         "legendgroup": "bearings",
         "line": {
          "color": "#355d7a",
          "width": 1
         },
         "mode": "lines",
         "name": "Bearing 1",
         "showlegend": false,
         "type": "scatter",
         "x": [
          1.4255,
          1.4255,
          1.4048112015306122,
          1.4461887984693875
         ],
         "y": [
          0.1898215892857143,
          0.15361619196428572,
          0.15361619196428572,
          0.15361619196428572
         ]
        },
        {
         "hoverinfo": "none",
         "legendgroup": "bearings",
         "line": {
          "color": "#355d7a",
          "width": 1
         },
         "mode": "lines",
         "name": "Bearing 1",
         "showlegend": false,
         "type": "scatter",
         "x": [
          1.4255,
          1.4255,
          1.4048112015306122,
          1.4461887984693875
         ],
         "y": [
          -0.1898215892857143,
          -0.15361619196428572,
          -0.15361619196428572,
          -0.15361619196428572
         ]
        },
        {
         "hoverinfo": "none",
         "legendgroup": "bearings",
         "line": {
          "color": "#355d7a",
          "width": 1
         },
         "mode": "lines",
         "name": "Bearing 1",
         "showlegend": false,
         "type": "scatter",
         "x": [
          1.3944668022959184,
          1.4565331977040816
         ],
         "y": [
          0.1898215892857143,
          0.1898215892857143
         ]
        },
        {
         "hoverinfo": "none",
         "legendgroup": "bearings",
         "line": {
          "color": "#355d7a",
          "width": 1
         },
         "mode": "lines",
         "name": "Bearing 1",
         "showlegend": false,
         "type": "scatter",
         "x": [
          1.3944668022959184,
          1.4565331977040816
         ],
         "y": [
          -0.1898215892857143,
          -0.1898215892857143
         ]
        },
        {
         "hoverinfo": "none",
         "legendgroup": "bearings",
         "line": {
          "color": "#355d7a",
          "width": 1
         },
         "mode": "lines",
         "name": "Bearing 1",
         "showlegend": false,
         "type": "scatter",
         "x": [
          1.3944668022959184,
          1.406880081377551
         ],
         "y": [
          0.1898215892857143,
          0.20880374821428577
         ]
        },
        {
         "hoverinfo": "none",
         "legendgroup": "bearings",
         "line": {
          "color": "#355d7a",
          "width": 1
         },
         "mode": "lines",
         "name": "Bearing 1",
         "showlegend": false,
         "type": "scatter",
         "x": [
          1.3944668022959184,
          1.406880081377551
         ],
         "y": [
          -0.1898215892857143,
          -0.20880374821428577
         ]
        },
        {
         "hoverinfo": "none",
         "legendgroup": "bearings",
         "line": {
          "color": "#355d7a",
          "width": 1
         },
         "mode": "lines",
         "name": "Bearing 1",
         "showlegend": false,
         "type": "scatter",
         "x": [
          1.406880081377551,
          1.4192933604591838
         ],
         "y": [
          0.1898215892857143,
          0.20880374821428577
         ]
        },
        {
         "hoverinfo": "none",
         "legendgroup": "bearings",
         "line": {
          "color": "#355d7a",
          "width": 1
         },
         "mode": "lines",
         "name": "Bearing 1",
         "showlegend": false,
         "type": "scatter",
         "x": [
          1.406880081377551,
          1.4192933604591838
         ],
         "y": [
          -0.1898215892857143,
          -0.20880374821428577
         ]
        },
        {
         "hoverinfo": "none",
         "legendgroup": "bearings",
         "line": {
          "color": "#355d7a",
          "width": 1
         },
         "mode": "lines",
         "name": "Bearing 1",
         "showlegend": false,
         "type": "scatter",
         "x": [
          1.4192933604591838,
          1.4317066395408162
         ],
         "y": [
          0.1898215892857143,
          0.20880374821428577
         ]
        },
        {
         "hoverinfo": "none",
         "legendgroup": "bearings",
         "line": {
          "color": "#355d7a",
          "width": 1
         },
         "mode": "lines",
         "name": "Bearing 1",
         "showlegend": false,
         "type": "scatter",
         "x": [
          1.4192933604591838,
          1.4317066395408162
         ],
         "y": [
          -0.1898215892857143,
          -0.20880374821428577
         ]
        },
        {
         "hoverinfo": "none",
         "legendgroup": "bearings",
         "line": {
          "color": "#355d7a",
          "width": 1
         },
         "mode": "lines",
         "name": "Bearing 1",
         "showlegend": false,
         "type": "scatter",
         "x": [
          1.4317066395408162,
          1.444119918622449
         ],
         "y": [
          0.1898215892857143,
          0.20880374821428577
         ]
        },
        {
         "hoverinfo": "none",
         "legendgroup": "bearings",
         "line": {
          "color": "#355d7a",
          "width": 1
         },
         "mode": "lines",
         "name": "Bearing 1",
         "showlegend": false,
         "type": "scatter",
         "x": [
          1.4317066395408162,
          1.444119918622449
         ],
         "y": [
          -0.1898215892857143,
          -0.20880374821428577
         ]
        },
        {
         "hoverinfo": "none",
         "legendgroup": "bearings",
         "line": {
          "color": "#355d7a",
          "width": 1
         },
         "mode": "lines",
         "name": "Bearing 1",
         "showlegend": false,
         "type": "scatter",
         "x": [
          1.444119918622449,
          1.4565331977040816
         ],
         "y": [
          0.1898215892857143,
          0.20880374821428577
         ]
        },
        {
         "hoverinfo": "none",
         "legendgroup": "bearings",
         "line": {
          "color": "#355d7a",
          "width": 1
         },
         "mode": "lines",
         "name": "Bearing 1",
         "showlegend": false,
         "type": "scatter",
         "x": [
          1.444119918622449,
          1.4565331977040816
         ],
         "y": [
          -0.1898215892857143,
          -0.20880374821428577
         ]
        },
        {
         "hoverinfo": "none",
         "legendgroup": "bearings",
         "line": {
          "color": "#355d7a",
          "width": 1
         },
         "mode": "lines",
         "name": "Bearing 1",
         "showlegend": false,
         "type": "scatter",
         "x": [
          1.4565331977040816,
          1.4689464767857143
         ],
         "y": [
          0.1898215892857143,
          0.20880374821428577
         ]
        },
        {
         "hoverinfo": "none",
         "legendgroup": "bearings",
         "line": {
          "color": "#355d7a",
          "width": 1
         },
         "mode": "lines",
         "name": "Bearing 1",
         "showlegend": false,
         "type": "scatter",
         "x": [
          1.4565331977040816,
          1.4689464767857143
         ],
         "y": [
          -0.1898215892857143,
          -0.20880374821428577
         ]
        },
        {
         "hoverinfo": "none",
         "legendgroup": "bearings",
         "line": {
          "color": "#355d7a",
          "width": 1
         },
         "mode": "lines",
         "name": "Bearing 1",
         "showlegend": false,
         "type": "scatter",
         "x": [
          1.4048112015306122,
          1.4048112015306122,
          1.3944668022959184,
          1.415155600765306,
          1.3944668022959184,
          1.415155600765306,
          1.3944668022959184,
          1.415155600765306,
          1.4048112015306122,
          1.4048112015306122
         ],
         "y": [
          0.08120539732142858,
          0.09154979655612246,
          0.09154979655612246,
          0.10189419579081634,
          0.1122385950255102,
          0.12258299426020408,
          0.13292739349489796,
          0.14327179272959184,
          0.14327179272959184,
          0.15361619196428572
         ]
        },
        {
         "hoverinfo": "none",
         "legendgroup": "bearings",
         "line": {
          "color": "#355d7a",
          "width": 1
         },
         "mode": "lines",
         "name": "Bearing 1",
         "showlegend": false,
         "type": "scatter",
         "x": [
          1.4048112015306122,
          1.4048112015306122,
          1.3944668022959184,
          1.415155600765306,
          1.3944668022959184,
          1.415155600765306,
          1.3944668022959184,
          1.415155600765306,
          1.4048112015306122,
          1.4048112015306122
         ],
         "y": [
          -0.08120539732142858,
          -0.09154979655612246,
          -0.09154979655612246,
          -0.10189419579081634,
          -0.1122385950255102,
          -0.12258299426020408,
          -0.13292739349489796,
          -0.14327179272959184,
          -0.14327179272959184,
          -0.15361619196428572
         ]
        },
        {
         "hoverinfo": "none",
         "legendgroup": "bearings",
         "line": {
          "color": "#355d7a",
          "width": 1
         },
         "mode": "lines",
         "name": "Bearing 1",
         "showlegend": false,
         "type": "scatter",
         "x": [
          1.4461887984693875,
          1.4461887984693875
         ],
         "y": [
          0.08120539732142858,
          0.10189419579081634
         ]
        },
        {
         "hoverinfo": "none",
         "legendgroup": "bearings",
         "line": {
          "color": "#355d7a",
          "width": 1
         },
         "mode": "lines",
         "name": "Bearing 1",
         "showlegend": false,
         "type": "scatter",
         "x": [
          1.4461887984693875,
          1.4461887984693875
         ],
         "y": [
          -0.08120539732142858,
          -0.10189419579081634
         ]
        },
        {
         "hoverinfo": "none",
         "legendgroup": "bearings",
         "line": {
          "color": "#355d7a",
          "width": 1
         },
         "mode": "lines",
         "name": "Bearing 1",
         "showlegend": false,
         "type": "scatter",
         "x": [
          1.4255,
          1.4255,
          1.4668775969387755,
          1.4668775969387755
         ],
         "y": [
          0.13292739349489796,
          0.10189419579081634,
          0.10189419579081634,
          0.13292739349489796
         ]
        },
        {
         "hoverinfo": "none",
         "legendgroup": "bearings",
         "line": {
          "color": "#355d7a",
          "width": 1
         },
         "mode": "lines",
         "name": "Bearing 1",
         "showlegend": false,
         "type": "scatter",
         "x": [
          1.4255,
          1.4255,
          1.4668775969387755,
          1.4668775969387755
         ],
         "y": [
          -0.13292739349489796,
          -0.10189419579081634,
          -0.10189419579081634,
          -0.13292739349489796
         ]
        },
        {
         "hoverinfo": "none",
         "legendgroup": "bearings",
         "line": {
          "color": "#355d7a",
          "width": 1
         },
         "mode": "lines",
         "name": "Bearing 1",
         "showlegend": false,
         "type": "scatter",
         "x": [
          1.4255,
          1.4668775969387755,
          1.4461887984693875,
          1.4461887984693875
         ],
         "y": [
          0.12258299426020408,
          0.12258299426020408,
          0.12258299426020408,
          0.15361619196428572
         ]
        },
        {
         "hoverinfo": "none",
         "legendgroup": "bearings",
         "line": {
          "color": "#355d7a",
          "width": 1
         },
         "mode": "lines",
         "name": "Bearing 1",
         "showlegend": false,
         "type": "scatter",
         "x": [
          1.4255,
          1.4668775969387755,
          1.4461887984693875,
          1.4461887984693875
         ],
         "y": [
          -0.12258299426020408,
          -0.12258299426020408,
          -0.12258299426020408,
          -0.15361619196428572
         ]
        }
       ],
       "layout": {
        "shapes": [
         {
          "fillcolor": "Firebrick",
          "line": {
           "color": "Firebrick"
          },
          "type": "circle",
          "x0": 0.10739730133928573,
          "x1": 0.1436026986607143,
          "xref": "x",
          "y0": 0.31154047991071426,
          "y1": 0.34774587723214284,
          "yref": "y"
         },
         {
          "fillcolor": "Firebrick",
          "line": {
           "color": "Firebrick"
          },
          "type": "circle",
          "x0": 0.10739730133928573,
          "x1": 0.1436026986607143,
          "xref": "x",
          "y0": -0.34774587723214284,
          "y1": -0.31154047991071426,
          "yref": "y"
         },
         {
          "fillcolor": "Firebrick",
          "line": {
           "color": "Firebrick"
          },
          "type": "circle",
          "x0": 0.6118873013392859,
          "x1": 0.6480926986607144,
          "xref": "x",
          "y0": 0.3350404799107143,
          "y1": 0.37124587723214286,
          "yref": "y"
         },
         {
          "fillcolor": "Firebrick",
          "line": {
           "color": "Firebrick"
          },
          "type": "circle",
          "x0": 0.6118873013392859,
          "x1": 0.6480926986607144,
          "xref": "x",
          "y0": -0.37124587723214286,
          "y1": -0.3350404799107143,
          "yref": "y"
         },
         {
          "fillcolor": "Firebrick",
          "line": {
           "color": "Firebrick"
          },
          "type": "circle",
          "x0": 0.6944873013392859,
          "x1": 0.7306926986607144,
          "xref": "x",
          "y0": 0.3350404799107143,
          "y1": 0.37124587723214286,
          "yref": "y"
         },
         {
          "fillcolor": "Firebrick",
          "line": {
           "color": "Firebrick"
          },
          "type": "circle",
          "x0": 0.6944873013392859,
          "x1": 0.7306926986607144,
          "xref": "x",
          "y0": -0.37124587723214286,
          "y1": -0.3350404799107143,
          "yref": "y"
         },
         {
          "fillcolor": "Firebrick",
          "line": {
           "color": "Firebrick"
          },
          "type": "circle",
          "x0": 0.7755973013392861,
          "x1": 0.8118026986607145,
          "xref": "x",
          "y0": 0.3350404799107143,
          "y1": 0.37124587723214286,
          "yref": "y"
         },
         {
          "fillcolor": "Firebrick",
          "line": {
           "color": "Firebrick"
          },
          "type": "circle",
          "x0": 0.7755973013392861,
          "x1": 0.8118026986607145,
          "xref": "x",
          "y0": -0.37124587723214286,
          "y1": -0.3350404799107143,
          "yref": "y"
         },
         {
          "fillcolor": "Firebrick",
          "line": {
           "color": "Firebrick"
          },
          "type": "circle",
          "x0": 0.857227301339286,
          "x1": 0.8934326986607145,
          "xref": "x",
          "y0": 0.3350404799107143,
          "y1": 0.37124587723214286,
          "yref": "y"
         },
         {
          "fillcolor": "Firebrick",
          "line": {
           "color": "Firebrick"
          },
          "type": "circle",
          "x0": 0.857227301339286,
          "x1": 0.8934326986607145,
          "xref": "x",
          "y0": -0.37124587723214286,
          "y1": -0.3350404799107143,
          "yref": "y"
         },
         {
          "fillcolor": "Firebrick",
          "line": {
           "color": "Firebrick"
          },
          "type": "circle",
          "x0": 0.938377301339286,
          "x1": 0.9745826986607145,
          "xref": "x",
          "y0": 0.3350404799107143,
          "y1": 0.37124587723214286,
          "yref": "y"
         },
         {
          "fillcolor": "Firebrick",
          "line": {
           "color": "Firebrick"
          },
          "type": "circle",
          "x0": 0.938377301339286,
          "x1": 0.9745826986607145,
          "xref": "x",
          "y0": -0.37124587723214286,
          "y1": -0.3350404799107143,
          "yref": "y"
         },
         {
          "fillcolor": "Firebrick",
          "line": {
           "color": "Firebrick"
          },
          "type": "circle",
          "x0": 1.019997301339286,
          "x1": 1.0562026986607145,
          "xref": "x",
          "y0": 0.3350404799107143,
          "y1": 0.37124587723214286,
          "yref": "y"
         },
         {
          "fillcolor": "Firebrick",
          "line": {
           "color": "Firebrick"
          },
          "type": "circle",
          "x0": 1.019997301339286,
          "x1": 1.0562026986607145,
          "xref": "x",
          "y0": -0.37124587723214286,
          "y1": -0.3350404799107143,
          "yref": "y"
         }
        ],
        "template": {
         "data": {
          "bar": [
           {
            "error_x": {
             "color": "#2a3f5f"
            },
            "error_y": {
             "color": "#2a3f5f"
            },
            "marker": {
             "line": {
              "color": "white",
              "width": 0.5
             }
            },
            "type": "bar"
           }
          ],
          "barpolar": [
           {
            "marker": {
             "line": {
              "color": "white",
              "width": 0.5
             }
            },
            "type": "barpolar"
           }
          ],
          "carpet": [
           {
            "aaxis": {
             "endlinecolor": "#2a3f5f",
             "gridcolor": "#C8D4E3",
             "linecolor": "#C8D4E3",
             "minorgridcolor": "#C8D4E3",
             "startlinecolor": "#2a3f5f"
            },
            "baxis": {
             "endlinecolor": "#2a3f5f",
             "gridcolor": "#C8D4E3",
             "linecolor": "#C8D4E3",
             "minorgridcolor": "#C8D4E3",
             "startlinecolor": "#2a3f5f"
            },
            "type": "carpet"
           }
          ],
          "choropleth": [
           {
            "colorbar": {
             "outlinewidth": 0,
             "ticks": ""
            },
            "type": "choropleth"
           }
          ],
          "contour": [
           {
            "colorbar": {
             "outlinewidth": 0,
             "ticks": ""
            },
            "colorscale": [
             [
              0,
              "#0d0887"
             ],
             [
              0.1111111111111111,
              "#46039f"
             ],
             [
              0.2222222222222222,
              "#7201a8"
             ],
             [
              0.3333333333333333,
              "#9c179e"
             ],
             [
              0.4444444444444444,
              "#bd3786"
             ],
             [
              0.5555555555555556,
              "#d8576b"
             ],
             [
              0.6666666666666666,
              "#ed7953"
             ],
             [
              0.7777777777777778,
              "#fb9f3a"
             ],
             [
              0.8888888888888888,
              "#fdca26"
             ],
             [
              1,
              "#f0f921"
             ]
            ],
            "type": "contour"
           }
          ],
          "contourcarpet": [
           {
            "colorbar": {
             "outlinewidth": 0,
             "ticks": ""
            },
            "type": "contourcarpet"
           }
          ],
          "heatmap": [
           {
            "colorbar": {
             "outlinewidth": 0,
             "ticks": ""
            },
            "colorscale": [
             [
              0,
              "#0d0887"
             ],
             [
              0.1111111111111111,
              "#46039f"
             ],
             [
              0.2222222222222222,
              "#7201a8"
             ],
             [
              0.3333333333333333,
              "#9c179e"
             ],
             [
              0.4444444444444444,
              "#bd3786"
             ],
             [
              0.5555555555555556,
              "#d8576b"
             ],
             [
              0.6666666666666666,
              "#ed7953"
             ],
             [
              0.7777777777777778,
              "#fb9f3a"
             ],
             [
              0.8888888888888888,
              "#fdca26"
             ],
             [
              1,
              "#f0f921"
             ]
            ],
            "type": "heatmap"
           }
          ],
          "heatmapgl": [
           {
            "colorbar": {
             "outlinewidth": 0,
             "ticks": ""
            },
            "colorscale": [
             [
              0,
              "#0d0887"
             ],
             [
              0.1111111111111111,
              "#46039f"
             ],
             [
              0.2222222222222222,
              "#7201a8"
             ],
             [
              0.3333333333333333,
              "#9c179e"
             ],
             [
              0.4444444444444444,
              "#bd3786"
             ],
             [
              0.5555555555555556,
              "#d8576b"
             ],
             [
              0.6666666666666666,
              "#ed7953"
             ],
             [
              0.7777777777777778,
              "#fb9f3a"
             ],
             [
              0.8888888888888888,
              "#fdca26"
             ],
             [
              1,
              "#f0f921"
             ]
            ],
            "type": "heatmapgl"
           }
          ],
          "histogram": [
           {
            "marker": {
             "colorbar": {
              "outlinewidth": 0,
              "ticks": ""
             }
            },
            "type": "histogram"
           }
          ],
          "histogram2d": [
           {
            "colorbar": {
             "outlinewidth": 0,
             "ticks": ""
            },
            "colorscale": [
             [
              0,
              "#0d0887"
             ],
             [
              0.1111111111111111,
              "#46039f"
             ],
             [
              0.2222222222222222,
              "#7201a8"
             ],
             [
              0.3333333333333333,
              "#9c179e"
             ],
             [
              0.4444444444444444,
              "#bd3786"
             ],
             [
              0.5555555555555556,
              "#d8576b"
             ],
             [
              0.6666666666666666,
              "#ed7953"
             ],
             [
              0.7777777777777778,
              "#fb9f3a"
             ],
             [
              0.8888888888888888,
              "#fdca26"
             ],
             [
              1,
              "#f0f921"
             ]
            ],
            "type": "histogram2d"
           }
          ],
          "histogram2dcontour": [
           {
            "colorbar": {
             "outlinewidth": 0,
             "ticks": ""
            },
            "colorscale": [
             [
              0,
              "#0d0887"
             ],
             [
              0.1111111111111111,
              "#46039f"
             ],
             [
              0.2222222222222222,
              "#7201a8"
             ],
             [
              0.3333333333333333,
              "#9c179e"
             ],
             [
              0.4444444444444444,
              "#bd3786"
             ],
             [
              0.5555555555555556,
              "#d8576b"
             ],
             [
              0.6666666666666666,
              "#ed7953"
             ],
             [
              0.7777777777777778,
              "#fb9f3a"
             ],
             [
              0.8888888888888888,
              "#fdca26"
             ],
             [
              1,
              "#f0f921"
             ]
            ],
            "type": "histogram2dcontour"
           }
          ],
          "mesh3d": [
           {
            "colorbar": {
             "outlinewidth": 0,
             "ticks": ""
            },
            "type": "mesh3d"
           }
          ],
          "parcoords": [
           {
            "line": {
             "colorbar": {
              "outlinewidth": 0,
              "ticks": ""
             }
            },
            "type": "parcoords"
           }
          ],
          "pie": [
           {
            "automargin": true,
            "type": "pie"
           }
          ],
          "scatter": [
           {
            "marker": {
             "colorbar": {
              "outlinewidth": 0,
              "ticks": ""
             }
            },
            "type": "scatter"
           }
          ],
          "scatter3d": [
           {
            "line": {
             "colorbar": {
              "outlinewidth": 0,
              "ticks": ""
             }
            },
            "marker": {
             "colorbar": {
              "outlinewidth": 0,
              "ticks": ""
             },
             "size": 4
            },
            "type": "scatter3d"
           }
          ],
          "scattercarpet": [
           {
            "marker": {
             "colorbar": {
              "outlinewidth": 0,
              "ticks": ""
             }
            },
            "type": "scattercarpet"
           }
          ],
          "scattergeo": [
           {
            "marker": {
             "colorbar": {
              "outlinewidth": 0,
              "ticks": ""
             }
            },
            "type": "scattergeo"
           }
          ],
          "scattergl": [
           {
            "marker": {
             "colorbar": {
              "outlinewidth": 0,
              "ticks": ""
             }
            },
            "type": "scattergl"
           }
          ],
          "scattermapbox": [
           {
            "marker": {
             "colorbar": {
              "outlinewidth": 0,
              "ticks": ""
             }
            },
            "type": "scattermapbox"
           }
          ],
          "scatterpolar": [
           {
            "marker": {
             "colorbar": {
              "outlinewidth": 0,
              "ticks": ""
             }
            },
            "type": "scatterpolar"
           }
          ],
          "scatterpolargl": [
           {
            "marker": {
             "colorbar": {
              "outlinewidth": 0,
              "ticks": ""
             }
            },
            "type": "scatterpolargl"
           }
          ],
          "scatterternary": [
           {
            "marker": {
             "colorbar": {
              "outlinewidth": 0,
              "ticks": ""
             }
            },
            "type": "scatterternary"
           }
          ],
          "surface": [
           {
            "colorbar": {
             "outlinewidth": 0,
             "ticks": ""
            },
            "colorscale": [
             [
              0,
              "#0d0887"
             ],
             [
              0.1111111111111111,
              "#46039f"
             ],
             [
              0.2222222222222222,
              "#7201a8"
             ],
             [
              0.3333333333333333,
              "#9c179e"
             ],
             [
              0.4444444444444444,
              "#bd3786"
             ],
             [
              0.5555555555555556,
              "#d8576b"
             ],
             [
              0.6666666666666666,
              "#ed7953"
             ],
             [
              0.7777777777777778,
              "#fb9f3a"
             ],
             [
              0.8888888888888888,
              "#fdca26"
             ],
             [
              1,
              "#f0f921"
             ]
            ],
            "type": "surface"
           }
          ],
          "table": [
           {
            "cells": {
             "fill": {
              "color": "#EBF0F8"
             },
             "line": {
              "color": "white"
             }
            },
            "header": {
             "fill": {
              "color": "#C8D4E3"
             },
             "line": {
              "color": "white"
             }
            },
            "type": "table"
           }
          ]
         },
         "layout": {
          "annotationdefaults": {
           "arrowcolor": "#2a3f5f",
           "arrowhead": 0,
           "arrowwidth": 1
          },
          "coloraxis": {
           "colorbar": {
            "outlinewidth": 0,
            "ticks": ""
           }
          },
          "colorscale": {
           "diverging": [
            [
             0,
             "#8e0152"
            ],
            [
             0.1,
             "#c51b7d"
            ],
            [
             0.2,
             "#de77ae"
            ],
            [
             0.3,
             "#f1b6da"
            ],
            [
             0.4,
             "#fde0ef"
            ],
            [
             0.5,
             "#f7f7f7"
            ],
            [
             0.6,
             "#e6f5d0"
            ],
            [
             0.7,
             "#b8e186"
            ],
            [
             0.8,
             "#7fbc41"
            ],
            [
             0.9,
             "#4d9221"
            ],
            [
             1,
             "#276419"
            ]
           ],
           "sequential": [
            [
             0,
             "#0d0887"
            ],
            [
             0.1111111111111111,
             "#46039f"
            ],
            [
             0.2222222222222222,
             "#7201a8"
            ],
            [
             0.3333333333333333,
             "#9c179e"
            ],
            [
             0.4444444444444444,
             "#bd3786"
            ],
            [
             0.5555555555555556,
             "#d8576b"
            ],
            [
             0.6666666666666666,
             "#ed7953"
            ],
            [
             0.7777777777777778,
             "#fb9f3a"
            ],
            [
             0.8888888888888888,
             "#fdca26"
            ],
            [
             1,
             "#f0f921"
            ]
           ],
           "sequentialminus": [
            [
             0,
             "#0d0887"
            ],
            [
             0.1111111111111111,
             "#46039f"
            ],
            [
             0.2222222222222222,
             "#7201a8"
            ],
            [
             0.3333333333333333,
             "#9c179e"
            ],
            [
             0.4444444444444444,
             "#bd3786"
            ],
            [
             0.5555555555555556,
             "#d8576b"
            ],
            [
             0.6666666666666666,
             "#ed7953"
            ],
            [
             0.7777777777777778,
             "#fb9f3a"
            ],
            [
             0.8888888888888888,
             "#fdca26"
            ],
            [
             1,
             "#f0f921"
            ]
           ]
          },
          "colorway": [
           "#1f77b4",
           "#ff7f0e",
           "#2ca02c",
           "#d62728",
           "#9467bd",
           "#8c564b",
           "#e377c2",
           "#7f7f7f",
           "#bcbd22",
           "#17becf"
          ],
          "font": {
           "color": "#2a3f5f"
          },
          "geo": {
           "bgcolor": "white",
           "lakecolor": "white",
           "landcolor": "white",
           "showlakes": true,
           "showland": true,
           "subunitcolor": "#C8D4E3"
          },
          "hoverlabel": {
           "align": "left"
          },
          "hovermode": "closest",
          "mapbox": {
           "style": "light"
          },
          "paper_bgcolor": "white",
          "plot_bgcolor": "white",
          "polar": {
           "angularaxis": {
            "gridcolor": "#EBF0F8",
            "linecolor": "#EBF0F8",
            "ticks": ""
           },
           "bgcolor": "white",
           "radialaxis": {
            "gridcolor": "#EBF0F8",
            "linecolor": "#EBF0F8",
            "ticks": ""
           }
          },
          "scene": {
           "camera": {
            "center": {
             "x": 0,
             "y": 0,
             "z": 0
            },
            "eye": {
             "x": 2,
             "y": 2,
             "z": 2
            },
            "up": {
             "x": 0,
             "y": 0,
             "z": 1
            }
           },
           "xaxis": {
            "backgroundcolor": "white",
            "gridcolor": "#DFE8F3",
            "gridwidth": 2,
            "linecolor": "#EBF0F8",
            "showbackground": true,
            "showspikes": false,
            "ticks": "",
            "zerolinecolor": "#EBF0F8"
           },
           "yaxis": {
            "backgroundcolor": "white",
            "gridcolor": "#DFE8F3",
            "gridwidth": 2,
            "linecolor": "#EBF0F8",
            "showbackground": true,
            "showspikes": false,
            "ticks": "",
            "zerolinecolor": "#EBF0F8"
           },
           "zaxis": {
            "backgroundcolor": "white",
            "gridcolor": "#DFE8F3",
            "gridwidth": 2,
            "linecolor": "#EBF0F8",
            "showbackground": true,
            "showspikes": false,
            "ticks": "",
            "zerolinecolor": "#EBF0F8"
           }
          },
          "shapedefaults": {
           "line": {
            "color": "#2a3f5f"
           }
          },
          "ternary": {
           "aaxis": {
            "gridcolor": "#DFE8F3",
            "linecolor": "#A2B1C6",
            "ticks": ""
           },
           "baxis": {
            "gridcolor": "#DFE8F3",
            "linecolor": "#A2B1C6",
            "ticks": ""
           },
           "bgcolor": "white",
           "caxis": {
            "gridcolor": "#DFE8F3",
            "linecolor": "#A2B1C6",
            "ticks": ""
           }
          },
          "title": {
           "x": 0.05
          },
          "xaxis": {
           "automargin": true,
           "gridcolor": "#EBF0F8",
           "linecolor": "black",
           "linewidth": 2,
           "mirror": true,
           "showline": true,
           "ticks": "",
           "title": {
            "standoff": 15
           },
           "zeroline": false,
           "zerolinecolor": "#EBF0F8",
           "zerolinewidth": 2
          },
          "yaxis": {
           "automargin": true,
           "gridcolor": "#EBF0F8",
           "linecolor": "black",
           "linewidth": 2,
           "mirror": true,
           "showline": true,
           "ticks": "",
           "title": {
            "standoff": 15
           },
           "zeroline": false,
           "zerolinecolor": "#EBF0F8",
           "zerolinewidth": 2
          }
         }
        },
        "title": {
         "text": "Rotor Model"
        },
        "xaxis": {
         "mirror": true,
         "range": [
          -0.16532500000000003,
          1.8185750000000005
         ],
         "showgrid": false,
         "title": {
          "text": "Axial location (m)"
         }
        },
        "yaxis": {
         "mirror": true,
         "range": [
          -0.495975,
          0.495975
         ],
         "showgrid": false,
         "title": {
          "text": "Shaft radius (m)"
         }
        }
       }
      }
     },
     "metadata": {},
     "output_type": "display_data"
    }
   ],
   "source": [
    "node_increment = 5\n",
    "rotor3.plot_rotor(nodes=node_increment)"
   ]
  },
  {
   "cell_type": "markdown",
   "metadata": {},
   "source": [
    "### 6.4 Saving a rotor model\n",
    "\n",
    "You can save a rotor model using the method `.save()`. This method saves the each element type and the rotor object in different *.toml* files. \n",
    "\n",
    "You just need to input a name and the diretory, where it will be saved. If you don't input a file_path, the rotor model is saved inside the \"ross\" folder.\n",
    "\n",
    "To save the `rotor2` we can use:"
   ]
  },
  {
   "cell_type": "code",
   "execution_count": 42,
   "metadata": {
    "execution": {
     "iopub.execute_input": "2023-05-04T01:05:10.785364Z",
     "iopub.status.busy": "2023-05-04T01:05:10.785067Z",
     "iopub.status.idle": "2023-05-04T01:05:10.819674Z",
     "shell.execute_reply": "2023-05-04T01:05:10.819294Z"
    }
   },
   "outputs": [],
   "source": [
    "rotor2.save(\"rotor2.toml\")"
   ]
  },
  {
   "cell_type": "markdown",
   "metadata": {},
   "source": [
    "### 6.5 Loading a rotor model\n",
    "\n",
    "You can load a rotor model using the method `.load()`. This method loads a previously saved rotor model.\n",
    "\n",
    "You just need to input the file path to the method.\n",
    "\n",
    "Now, let's load the `rotor2` we saved before:"
   ]
  },
  {
   "cell_type": "code",
   "execution_count": 43,
   "metadata": {
    "execution": {
     "iopub.execute_input": "2023-05-04T01:05:10.821493Z",
     "iopub.status.busy": "2023-05-04T01:05:10.821381Z",
     "iopub.status.idle": "2023-05-04T01:05:10.862399Z",
     "shell.execute_reply": "2023-05-04T01:05:10.861974Z"
    }
   },
   "outputs": [
    {
     "data": {
      "text/plain": [
       "True"
      ]
     },
     "execution_count": 43,
     "metadata": {},
     "output_type": "execute_result"
    }
   ],
   "source": [
    "rotor2_1 = rs.Rotor.load(\"rotor2.toml\")\n",
    "rotor2_1 == rotor2"
   ]
  },
  {
   "cell_type": "markdown",
   "metadata": {},
   "source": [
    "## Section 7: ROSS Units System\n",
    "\n",
    "ROSS uses an units system package called [Pint](https://pint.readthedocs.io/en/stable/).\n",
    "\n",
    "`Pint` defines, operates and manipulates **physical quantities**: the product of a numerical value and a unit of measurement. It allows arithmetic operations between them and conversions from and to different units.\n",
    "\n",
    "With `Pint`, it's possible to define units to every element type available in ROSS and manipulate the units when plotting graphs. ROSS takes the user-defined units and internally converts them to the International System (SI).\n",
    "\n",
    "**Important**: It's not possible to manipulate units for attributes from any class. Attributes' values are always returned converted to SI. **Only plot methods** are able to manipulate the output unit."
   ]
  },
  {
   "cell_type": "markdown",
   "metadata": {},
   "source": [
    "### 7.1 Inserting units\n",
    "\n",
    "Working with `Pint` requires a specific syntax to assign an unit to an argument.\n",
    "\n",
    "First of all, it's necessary to import a function called `Q_` from `ross.units`. This function must be assigned to every variable that are desired to have units, followed by a *tuple* containing the magnitude and the unit (in string format).\n",
    "\n",
    "The example below shows how to create a material using `Pint`, and how it is returned to the user."
   ]
  },
  {
   "cell_type": "code",
   "execution_count": 44,
   "metadata": {
    "execution": {
     "iopub.execute_input": "2023-05-04T01:05:10.864395Z",
     "iopub.status.busy": "2023-05-04T01:05:10.864284Z",
     "iopub.status.idle": "2023-05-04T01:05:10.867464Z",
     "shell.execute_reply": "2023-05-04T01:05:10.867095Z"
    }
   },
   "outputs": [],
   "source": [
    "from ross.units import Q_\n",
    "\n",
    "rho = Q_(487.56237, \"lb/foot**3\")  # Imperial System\n",
    "E = Q_(211.0e9, \"N/m**2\")  # International System\n",
    "G_s = Q_(81.2e9, \"N/m**2\")  # International System\n",
    "\n",
    "steel4 = rs.Material(name=\"steel\", rho=rho, E=E, G_s=G_s)"
   ]
  },
  {
   "cell_type": "markdown",
   "metadata": {},
   "source": [
    "**Note**: Taking a closer look to the output values, the material density is converted to the SI and it's returned this way to the user."
   ]
  },
  {
   "cell_type": "code",
   "execution_count": 45,
   "metadata": {
    "execution": {
     "iopub.execute_input": "2023-05-04T01:05:10.869015Z",
     "iopub.status.busy": "2023-05-04T01:05:10.868910Z",
     "iopub.status.idle": "2023-05-04T01:05:10.871367Z",
     "shell.execute_reply": "2023-05-04T01:05:10.870963Z"
    }
   },
   "outputs": [
    {
     "name": "stdout",
     "output_type": "stream",
     "text": [
      "steel\n",
      "-----------------------------------\n",
      "Density         (kg/m**3): 7810.0\n",
      "Young`s modulus (N/m**2):  2.11e+11\n",
      "Shear modulus   (N/m**2):  8.12e+10\n",
      "Poisson coefficient     :  0.29926108\n"
     ]
    }
   ],
   "source": [
    "print(steel4)"
   ]
  },
  {
   "cell_type": "markdown",
   "metadata": {},
   "source": [
    "The same syntax applies to elements instantiation, if units are desired. Besides, notice the output is displayed in SI units.\n",
    "\n",
    "#### Shaft Element using Pint"
   ]
  },
  {
   "cell_type": "code",
   "execution_count": 46,
   "metadata": {
    "execution": {
     "iopub.execute_input": "2023-05-04T01:05:10.873278Z",
     "iopub.status.busy": "2023-05-04T01:05:10.872871Z",
     "iopub.status.idle": "2023-05-04T01:05:10.876434Z",
     "shell.execute_reply": "2023-05-04T01:05:10.876046Z"
    }
   },
   "outputs": [
    {
     "name": "stdout",
     "output_type": "stream",
     "text": [
      "Element Number:             None\n",
      "Element Lenght   (m):      0.254\n",
      "Left Int. Diam.  (m):        0.0\n",
      "Left Out. Diam.  (m):       0.05\n",
      "Right Int. Diam. (m):        0.0\n",
      "Right Out. Diam. (m):       0.05\n",
      "-----------------------------------\n",
      "Steel\n",
      "-----------------------------------\n",
      "Density         (kg/m**3): 7810.0\n",
      "Young`s modulus (N/m**2):  2.11e+11\n",
      "Shear modulus   (N/m**2):  8.12e+10\n",
      "Poisson coefficient     :  0.29926108\n"
     ]
    }
   ],
   "source": [
    "L = Q_(10, \"in\")\n",
    "i_d = Q_(0.0, \"meter\")\n",
    "o_d = Q_(0.05, \"meter\")\n",
    "\n",
    "elem_pint = rs.ShaftElement(L=L, idl=i_d, odl=o_d, material=steel)\n",
    "print(elem_pint)"
   ]
  },
  {
   "cell_type": "markdown",
   "metadata": {},
   "source": [
    "#### Bearing Element using Pint"
   ]
  },
  {
   "cell_type": "code",
   "execution_count": 47,
   "metadata": {
    "execution": {
     "iopub.execute_input": "2023-05-04T01:05:10.878245Z",
     "iopub.status.busy": "2023-05-04T01:05:10.877978Z",
     "iopub.status.idle": "2023-05-04T01:05:10.881690Z",
     "shell.execute_reply": "2023-05-04T01:05:10.881300Z"
    },
    "scrolled": true
   },
   "outputs": [
    {
     "name": "stdout",
     "output_type": "stream",
     "text": [
      "BearingElement(n=0, n_link=None,\n",
      " kxx=[1000000.0], kxy=[0],\n",
      " kyx=[0], kyy=[1000000.0],\n",
      " kzz=[0], cxx=[100.0],\n",
      " cxy=[0], cyx=[0],\n",
      " cyy=[100.0], czz=[0],\n",
      " mxx=[0], mxy=[0],\n",
      " myx=[0], myy=[0],\n",
      " mzz=[0],\n",
      " frequency=None, tag=None)\n"
     ]
    }
   ],
   "source": [
    "kxx = Q_(2.54e4, \"N/in\")\n",
    "cxx = Q_(1e2, \"N*s/m\")\n",
    "\n",
    "brg_pint = rs.BearingElement(n=0, kxx=kxx, cxx=cxx)\n",
    "print(brg_pint)"
   ]
  },
  {
   "cell_type": "markdown",
   "metadata": {},
   "source": [
    "### 7.2 Manipulating units for plotting\n",
    "\n",
    "The plot methods presents arguments to change the units for each axis. This kind of manipulation does not affect the resulting data stored. It only converts the data on the graphs.\n",
    "\n",
    "The arguments names follow a simple logic. It is the \"axis name\" underscore \"units\" (axisname_units). It should help the user to identify which axis to modify. For example:\n",
    "\n",
    "- frequency_units:\n",
    "    - \"rad/s\", \"RPM\", \"Hz\"...\n",
    "- amplitude_units:\n",
    "    - \"m\", \"mm\", \"in\", \"foot\"...\n",
    "- displacement_units:\n",
    "    - \"m\", \"mm\", \"in\", \"foot\"...\n",
    "- rotor_length_units:\n",
    "    - \"m\", \"mm\", \"in\", \"foot\"...\n",
    "- moment_units:\n",
    "    - \"N/m\", \"lbf/foot\"...\n",
    "\n",
    "It's not necessary to add units previously to each element or material to use `Pint` with plots. But keep in mind ROSS will considers results values in the SI units.\n",
    "\n",
    "**Note**: If you input data using the Imperial System, for example, without using Pint, ROSS will consider it's in SI if you try to manipulate the units when plotting.\n",
    "\n",
    "Let's run a simple example of manipulating units for plotting."
   ]
  },
  {
   "cell_type": "code",
   "execution_count": 48,
   "metadata": {
    "execution": {
     "iopub.execute_input": "2023-05-04T01:05:10.883404Z",
     "iopub.status.busy": "2023-05-04T01:05:10.883142Z",
     "iopub.status.idle": "2023-05-04T01:05:19.502741Z",
     "shell.execute_reply": "2023-05-04T01:05:19.502417Z"
    }
   },
   "outputs": [],
   "source": [
    "samples = 31\n",
    "speed_range = np.linspace(315, 1150, samples)\n",
    "\n",
    "campbell = rotor3.run_campbell(speed_range)"
   ]
  },
  {
   "cell_type": "markdown",
   "metadata": {},
   "source": [
    "Plotting with default options will bring graphs with SI units. X and Y axes representing the frequencies are set to `rad/s` "
   ]
  },
  {
   "cell_type": "code",
   "execution_count": 49,
   "metadata": {
    "execution": {
     "iopub.execute_input": "2023-05-04T01:05:19.505216Z",
     "iopub.status.busy": "2023-05-04T01:05:19.505021Z",
     "iopub.status.idle": "2023-05-04T01:05:19.529661Z",
     "shell.execute_reply": "2023-05-04T01:05:19.529280Z"
    },
    "scrolled": false
   },
   "outputs": [
    {
     "data": {
      "application/vnd.plotly.v1+json": {
       "config": {
        "plotlyServerURL": "https://plot.ly"
       },
       "data": [
        {
         "hovertemplate": "Frequency (RPM): %{y:.2f}<br>Critical Speed (RPM): %{x:.2f}",
         "legendgroup": "Crit. Speed",
         "marker": {
          "color": "black",
          "symbol": "x"
         },
         "mode": "markers",
         "name": "Crit. Speed",
         "showlegend": true,
         "type": "scatter",
         "x": [
          6337.709616605819,
          7095.678955570789,
          6285.872952973383,
          7053.92219961087,
          6066.340473965502,
          6189.552990761897
         ],
         "y": [
          6337.709616605819,
          7095.678955570789,
          6285.872952973383,
          7053.92219961087,
          6066.340473965502,
          6189.552990761897
         ]
        },
        {
         "hoverinfo": "none",
         "legendgroup": "Forward",
         "marker": {
          "color": [
           1037.0912771497185,
           921.4057615327148,
           827.0573827271369,
           744.0008664445875,
           668.0100423141349,
           597.4402849880606,
           531.1587295625097,
           467.14900583566066,
           401.24923457484687,
           325.3758289110384,
           214.6100795782158,
           28.06561930655868,
           15.129785204293976,
           11.270854767852653,
           9.161300762851582,
           7.748696048899534,
           6.7042240213448965,
           5.898439576773788,
           5.261420154919689,
           4.749389488713092,
           4.33242724836494,
           3.988413673345152,
           3.70233314244538,
           3.4637148648255884,
           3.263294255667014,
           3.092628423349806,
           2.945522108919731,
           2.817348676391854,
           2.704542817659362,
           2.6042555188064656,
           2.5140789061528026
          ],
          "coloraxis": "coloraxis",
          "symbol": "triangle-up"
         },
         "mode": "markers",
         "name": "Forward",
         "showlegend": false,
         "type": "scatter",
         "x": [
          3008.028424436822,
          3273.8171794002874,
          3539.605934363753,
          3805.3946893272177,
          4071.183444290683,
          4336.972199254148,
          4602.760954217613,
          4868.5497091810785,
          5134.338464144544,
          5400.127219108009,
          5665.915974071474,
          5931.704729034939,
          6197.493483998405,
          6463.28223896187,
          6729.070993925335,
          6994.859748888801,
          7260.648503852265,
          7526.437258815731,
          7792.226013779196,
          8058.014768742661,
          8323.803523706127,
          8589.592278669592,
          8855.381033633057,
          9121.169788596522,
          9386.958543559987,
          9652.747298523453,
          9918.536053486916,
          10184.324808450385,
          10450.113563413848,
          10715.902318377312,
          10981.69107334078
         ],
         "y": [
          75.18729761146696,
          93.79554077807404,
          114.372984982292,
          137.41966759717138,
          163.29853425235945,
          192.1316071309244,
          223.89805788871007,
          258.9334170943823,
          299.44240948348676,
          355.2141414594202,
          489.348447745999,
          3102.8835327456386,
          5673.387318240745,
          7515.351251455647,
          9067.155468709296,
          10437.578611222309,
          11663.694552279634,
          12749.122724217492,
          13698.664374921464,
          14522.538436306324,
          15236.006508342343,
          15858.503568826309,
          16407.10708789264,
          16896.153251835964,
          17337.209039920428,
          17738.648969102593,
          18106.336264930214,
          18444.334184950832,
          18755.356300953677,
          19041.055160303164,
          19302.23673144957
         ]
        },
        {
         "hoverinfo": "none",
         "legendgroup": "Forward",
         "marker": {
          "color": [
           1232.561264007337,
           1151.0217092529438,
           1069.6070274013762,
           988.3795971518924,
           907.797444933141,
           828.6542430192301,
           752.078778489477,
           679.2419800471503,
           610.355236766888,
           543.5372687137666,
           474.1346344418449,
           394.20768520756025,
           288.1619727222264,
           77.75541794477331,
           18.29323263554961,
           12.450222117751112,
           9.756528892365544,
           8.11374696746641,
           6.9822997756116445,
           6.148646702121708,
           5.507317310050555,
           4.997773950070083,
           4.584495133293842,
           4.245355986478682,
           3.963407355430262,
           3.7246268100643247,
           3.519104944673807,
           3.339667310896423,
           3.180969333090029,
           3.038963032909508,
           2.910604893932013
          ],
          "coloraxis": "coloraxis",
          "symbol": "triangle-up"
         },
         "mode": "markers",
         "name": "Forward",
         "showlegend": false,
         "type": "scatter",
         "x": [
          3008.028424436822,
          3273.8171794002874,
          3539.605934363753,
          3805.3946893272177,
          4071.183444290683,
          4336.972199254148,
          4602.760954217613,
          4868.5497091810785,
          5134.338464144544,
          5400.127219108009,
          5665.915974071474,
          5931.704729034939,
          6197.493483998405,
          6463.28223896187,
          6729.070993925335,
          6994.859748888801,
          7260.648503852265,
          7526.437258815731,
          7792.226013779196,
          8058.014768742661,
          8323.803523706127,
          8589.592278669592,
          8855.381033633057,
          9121.169788596522,
          9386.958543559987,
          9652.747298523453,
          9918.536053486916,
          10184.324808450385,
          10450.113563413848,
          10715.902318377312,
          10981.69107334078
         ],
         "y": [
          79.5799832812108,
          91.67142832409804,
          105.32153831073757,
          120.73825099389664,
          138.0992240123612,
          157.48858081708065,
          178.77204081430543,
          201.4673970755356,
          224.8875135989757,
          249.1396084871932,
          276.67714793105347,
          315.2200864648429,
          394.3165585497322,
          1188.182641168605,
          4679.710332567746,
          6696.729653473693,
          8304.142840013825,
          9671.011687149006,
          10856.536339377706,
          11892.359168159415,
          12802.31842360364,
          13609.61531467131,
          14332.620145181265,
          14986.117754388595,
          15583.27480239054,
          16135.260015390637,
          16650.506120408732,
          17135.52852854722,
          17595.528287646735,
          18034.81322625679,
          18457.077341123877
         ]
        },
        {
         "hoverinfo": "none",
         "legendgroup": "Forward",
         "marker": {
          "color": [
           1.4562337743982643,
           1.4187922647803048,
           1.3727442564799544,
           1.3209765729345406,
           1.2644604013326493,
           1.2030136189476597,
           1.1360222215711764,
           1.0631031575435832,
           0.9846204730612512,
           0.9023477403325144,
           0.8197072698839603,
           0.7402918002026742,
           0.6666729491514013,
           0.5995548244120641,
           0.5386146512445719,
           0.48330202557712376,
           0.4331574396293457,
           0.3881976876458122,
           0.34838024438611487,
           0.31349579741536515,
           0.28312923128000833,
           0.25667266364532604,
           0.23360543823570976,
           0.2135005432931564,
           0.19596797931655768,
           0.18063563388373433,
           0.16718112176476752,
           0.15532889424193289,
           0.14484448365837072,
           0.13552879153747513,
           0.12721282304998494
          ],
          "coloraxis": "coloraxis",
          "symbol": "triangle-up"
         },
         "mode": "markers",
         "name": "Forward",
         "showlegend": false,
         "type": "scatter",
         "x": [
          3008.028424436822,
          3273.8171794002874,
          3539.605934363753,
          3805.3946893272177,
          4071.183444290683,
          4336.972199254148,
          4602.760954217613,
          4868.5497091810785,
          5134.338464144544,
          5400.127219108009,
          5665.915974071474,
          5931.704729034939,
          6197.493483998405,
          6463.28223896187,
          6729.070993925335,
          6994.859748888801,
          7260.648503852265,
          7526.437258815731,
          7792.226013779196,
          8058.014768742661,
          8323.803523706127,
          8589.592278669592,
          8855.381033633057,
          9121.169788596522,
          9386.958543559987,
          9652.747298523453,
          9918.536053486916,
          10184.324808450385,
          10450.113563413848,
          10715.902318377312,
          10981.69107334078
         ],
         "y": [
          7022.384727959478,
          6880.4343839895055,
          6758.984246013405,
          6653.225337195088,
          6559.646836665363,
          6476.185495315607,
          6402.104185445512,
          6337.67064846987,
          6283.708992628799,
          6241.875054377215,
          6213.092570358875,
          6196.312254338533,
          6189.344837771628,
          6189.565157850574,
          6194.890504887366,
          6203.904196966829,
          6215.660935387944,
          6229.503325477378,
          6244.802510692876,
          6260.974713329368,
          6277.575679840952,
          6294.375075207776,
          6311.229028987094,
          6328.037209896754,
          6344.65825407951,
          6360.924795654762,
          6376.726024460485,
          6391.994604906927,
          6406.693571730182,
          6420.806993558993,
          6434.3333215248085
         ]
        },
        {
         "hoverinfo": "none",
         "legendgroup": "Backward",
         "marker": {
          "color": [
           260930.6230645541,
           113975.50451057137,
           53901.48442881131,
           26999.130505421715,
           14135.23698824342,
           7675.490519820049,
           4298.63376452703,
           2462.5622400309317,
           1415.4002688588505,
           782.3757910829112,
           344.9207007912109,
           29.52265928024977,
           15.556529236996091,
           11.504149517742947,
           9.305335382570838,
           7.836714863872972,
           6.751235014157976,
           5.913190715352015,
           5.249716760458412,
           4.715367614566623,
           4.279092717622462,
           3.917842279598128,
           3.6158383402836334,
           3.361930024575747,
           3.1462541025997175,
           2.9598982384444983,
           2.7963132319783246,
           2.65065310410167,
           2.519313893520583,
           2.3996364333524904,
           2.2896732824681267
          ],
          "coloraxis": "coloraxis",
          "symbol": "triangle-down"
         },
         "mode": "markers",
         "name": "Backward",
         "showlegend": false,
         "type": "scatter",
         "x": [
          3008.028424436822,
          3273.8171794002874,
          3539.605934363753,
          3805.3946893272177,
          4071.183444290683,
          4336.972199254148,
          4602.760954217613,
          4868.5497091810785,
          5134.338464144544,
          5400.127219108009,
          5665.915974071474,
          5931.704729034939,
          6197.493483998405,
          6463.28223896187,
          6729.070993925335,
          6994.859748888801,
          7260.648503852265,
          7526.437258815731,
          7792.226013779196,
          8058.014768742661,
          8323.803523706127,
          8589.592278669592,
          8855.381033633057,
          9121.169788596522,
          9386.958543559987,
          9652.747298523453,
          9918.536053486916,
          10184.324808450385,
          10450.113563413848,
          10715.902318377312,
          10981.69107334078
         ],
         "y": [
          0.03874116257013536,
          0.10820147567242036,
          0.2744886675078465,
          0.6509401396311948,
          1.4690431898831462,
          3.190448628847891,
          6.7254569693552915,
          13.921772335813252,
          28.99773659687724,
          63.84077444355473,
          183.32281345062495,
          2789.7842549828547,
          5361.243436342098,
          7212.19828361979,
          8780.341041016405,
          10172.68333701814,
          11423.412977727983,
          12532.33452162077,
          13501.070272662111,
          14337.934936168298,
          15057.630853877708,
          15680.10781114994,
          16223.57772320495,
          16703.934746988703,
          17134.246719841845,
          17524.07944813176,
          17880.581798035313,
          18209.28449519199,
          18514.526927011877,
          18799.637883968688,
          19067.001789883525
         ]
        },
        {
         "hoverinfo": "none",
         "legendgroup": "Backward",
         "marker": {
          "color": [
           1294.5864313937468,
           1240.3462697776192,
           1186.2561597406093,
           1130.7117079883355,
           1072.421347702547,
           1010.2133904003116,
           942.8651533691838,
           868.9044224291606,
           786.3811474102548,
           694.115941905118,
           591.0482407263339,
           473.2136050744669,
           328.05059738516866,
           80.3578869814441,
           18.443902929726026,
           12.524244626996705,
           9.803892454284243,
           8.14713368407733,
           7.006885790025332,
           6.167136172549353,
           5.52141332435585,
           5.008758635199403,
           4.593541505758233,
           4.2537160247040875,
           3.97247099126618,
           3.735927446218814,
           3.5343426115631917,
           3.3606622992988577,
           3.2095349286903954,
           3.0767071721831787,
           2.958673795072262
          ],
          "coloraxis": "coloraxis",
          "symbol": "triangle-down"
         },
         "mode": "markers",
         "name": "Backward",
         "showlegend": false,
         "type": "scatter",
         "x": [
          3008.028424436822,
          3273.8171794002874,
          3539.605934363753,
          3805.3946893272177,
          4071.183444290683,
          4336.972199254148,
          4602.760954217613,
          4868.5497091810785,
          5134.338464144544,
          5400.127219108009,
          5665.915974071474,
          5931.704729034939,
          6197.493483998405,
          6463.28223896187,
          6729.070993925335,
          6994.859748888801,
          7260.648503852265,
          7526.437258815731,
          7792.226013779196,
          8058.014768742661,
          8323.803523706127,
          8589.592278669592,
          8855.381033633057,
          9121.169788596522,
          9386.958543559987,
          9652.747298523453,
          9918.536053486916,
          10184.324808450385,
          10450.113563413848,
          10715.902318377312,
          10981.69107334078
         ],
         "y": [
          6.916252258531415,
          8.641677337274945,
          10.631756838168588,
          12.981122142788651,
          15.821243694455866,
          19.343720889988024,
          23.84355029201276,
          29.80609571474278,
          38.093384871029976,
          50.176114940660554,
          68.91924667737344,
          101.70700765749116,
          177.4750631433228,
          970.2326498153436,
          4462.957495739877,
          6483.624811925941,
          8097.177568026504,
          9472.291048134788,
          10667.691699962746,
          11714.590277406009,
          12636.492996285057,
          13456.407441084724,
          14192.49902344628,
          14859.228462737556,
          15469.380962930683,
          16033.652244416897,
          16559.666071481588,
          17052.765990326945,
          17516.678307557922,
          17954.069263925085,
          18366.998114595208
         ]
        },
        {
         "hoverinfo": "none",
         "legendgroup": "Backward",
         "marker": {
          "color": [
           1.412502797578738,
           1.3711002021027523,
           1.3217172479802477,
           1.2670517836008863,
           1.2080039928569088,
           1.144444600974539,
           1.075914608509693,
           1.0022328614934997,
           0.9239295149566314,
           0.8428216367480568,
           0.7621566453438996,
           0.6852199911851398,
           0.6142944407426233,
           0.5499228502853867,
           0.4917197976741892,
           0.439111725192416,
           0.3916226658049414,
           0.34921831933508085,
           0.31180775787849085,
           0.27914725930601225,
           0.2508090433096802,
           0.22619789366283677,
           0.20480480880857904,
           0.18621134457112823,
           0.1700383841352691,
           0.15592892911790987,
           0.1435753734445833,
           0.13271599469289616,
           0.12312904164047866,
           0.11462699459710128,
           0.1070513381182158
          ],
          "coloraxis": "coloraxis",
          "symbol": "triangle-down"
         },
         "mode": "markers",
         "name": "Backward",
         "showlegend": false,
         "type": "scatter",
         "x": [
          3008.028424436822,
          3273.8171794002874,
          3539.605934363753,
          3805.3946893272177,
          4071.183444290683,
          4336.972199254148,
          4602.760954217613,
          4868.5497091810785,
          5134.338464144544,
          5400.127219108009,
          5665.915974071474,
          5931.704729034939,
          6197.493483998405,
          6463.28223896187,
          6729.070993925335,
          6994.859748888801,
          7260.648503852265,
          7526.437258815731,
          7792.226013779196,
          8058.014768742661,
          8323.803523706127,
          8589.592278669592,
          8855.381033633057,
          9121.169788596522,
          9386.958543559987,
          9652.747298523453,
          9918.536053486916,
          10184.324808450385,
          10450.113563413848,
          10715.902318377312,
          10981.69107334078
         ],
         "y": [
          6916.878414881941,
          6773.543052824832,
          6650.504147140471,
          6543.075819313423,
          6447.901858226217,
          6363.028661360778,
          6287.732704590799,
          6222.173997023632,
          6166.960704715362,
          6123.40390737707,
          6092.1224942756635,
          6071.976955577278,
          6060.849795915919,
          6056.2824720228045,
          6056.339798333127,
          6059.704257175552,
          6065.491244414916,
          6073.074798602869,
          6081.862593306162,
          6091.313103520541,
          6101.019280199866,
          6110.771805674974,
          6120.441198284279,
          6129.938632523526,
          6139.143703064118,
          6147.917877012829,
          6156.173502424005,
          6163.861466753642,
          6170.959238136233,
          6177.462389078369,
          6183.37859930542
         ]
        },
        {
         "hoverinfo": "none",
         "line": {
          "color": "blue",
          "dash": "dashdot"
         },
         "mode": "lines",
         "name": "1x speed",
         "type": "scatter",
         "x": [
          3008.028424436822,
          3273.8171794002874,
          3539.605934363753,
          3805.3946893272177,
          4071.183444290683,
          4336.972199254148,
          4602.760954217613,
          4868.5497091810785,
          5134.338464144544,
          5400.127219108009,
          5665.915974071474,
          5931.704729034939,
          6197.493483998405,
          6463.28223896187,
          6729.070993925335,
          6994.859748888801,
          7260.648503852265,
          7526.437258815731,
          7792.226013779196,
          8058.014768742661,
          8323.803523706127,
          8589.592278669592,
          8855.381033633057,
          9121.169788596522,
          9386.958543559987,
          9652.747298523453,
          9918.536053486916,
          10184.324808450385,
          10450.113563413848,
          10715.902318377312,
          10981.69107334078
         ],
         "y": [
          3008.028424436822,
          3273.8171794002874,
          3539.605934363753,
          3805.3946893272177,
          4071.183444290683,
          4336.972199254148,
          4602.760954217613,
          4868.5497091810785,
          5134.338464144544,
          5400.127219108009,
          5665.915974071474,
          5931.704729034939,
          6197.493483998405,
          6463.28223896187,
          6729.070993925335,
          6994.859748888801,
          7260.648503852265,
          7526.437258815731,
          7792.226013779196,
          8058.014768742661,
          8323.803523706127,
          8589.592278669592,
          8855.381033633057,
          9121.169788596522,
          9386.958543559987,
          9652.747298523453,
          9918.536053486916,
          10184.324808450385,
          10450.113563413848,
          10715.902318377312,
          10981.69107334078
         ]
        },
        {
         "hoverinfo": "none",
         "legendgroup": "Forward",
         "marker": {
          "color": "black",
          "symbol": "triangle-up"
         },
         "mode": "markers",
         "name": "Forward",
         "type": "scatter",
         "x": [
          0
         ],
         "y": [
          0
         ]
        },
        {
         "hoverinfo": "none",
         "legendgroup": "Mixed",
         "marker": {
          "color": "black",
          "symbol": "circle"
         },
         "mode": "markers",
         "name": "Mixed",
         "type": "scatter",
         "x": [
          0
         ],
         "y": [
          0
         ]
        },
        {
         "hoverinfo": "none",
         "legendgroup": "Backward",
         "marker": {
          "color": "black",
          "symbol": "triangle-down"
         },
         "mode": "markers",
         "name": "Backward",
         "type": "scatter",
         "x": [
          0
         ],
         "y": [
          0
         ]
        },
        {
         "hoverinfo": "none",
         "legendgroup": "Axial",
         "marker": {
          "color": "black",
          "symbol": "diamond-wide"
         },
         "mode": "markers",
         "name": "Axial",
         "type": "scatter",
         "x": [
          0
         ],
         "y": [
          0
         ]
        },
        {
         "hoverinfo": "none",
         "legendgroup": "Torsional",
         "marker": {
          "color": "black",
          "symbol": "bowtie"
         },
         "mode": "markers",
         "name": "Torsional",
         "type": "scatter",
         "x": [
          0
         ],
         "y": [
          0
         ]
        }
       ],
       "layout": {
        "coloraxis": {
         "cmax": 1,
         "cmin": 0,
         "colorbar": {
          "title": {
           "side": "right",
           "text": "<b>Log Dec</b>"
          }
         },
         "colorscale": [
          [
           0,
           "rgb(179,3,38)"
          ],
          [
           0.003937007874015748,
           "rgb(181,8,39)"
          ],
          [
           0.007874015748031496,
           "rgb(182,13,40)"
          ],
          [
           0.011811023622047244,
           "rgb(184,17,41)"
          ],
          [
           0.015748031496062992,
           "rgb(185,22,42)"
          ],
          [
           0.01968503937007874,
           "rgb(187,26,43)"
          ],
          [
           0.023622047244094488,
           "rgb(188,31,44)"
          ],
          [
           0.027559055118110236,
           "rgb(190,35,45)"
          ],
          [
           0.031496062992125984,
           "rgb(191,40,46)"
          ],
          [
           0.03543307086614173,
           "rgb(193,42,48)"
          ],
          [
           0.03937007874015748,
           "rgb(194,45,49)"
          ],
          [
           0.04330708661417323,
           "rgb(196,48,50)"
          ],
          [
           0.047244094488188976,
           "rgb(197,50,51)"
          ],
          [
           0.05118110236220472,
           "rgb(198,53,52)"
          ],
          [
           0.05511811023622047,
           "rgb(200,56,53)"
          ],
          [
           0.05905511811023622,
           "rgb(201,59,55)"
          ],
          [
           0.06299212598425197,
           "rgb(202,61,56)"
          ],
          [
           0.06692913385826772,
           "rgb(204,63,57)"
          ],
          [
           0.07086614173228346,
           "rgb(205,66,58)"
          ],
          [
           0.07480314960629922,
           "rgb(206,68,60)"
          ],
          [
           0.07874015748031496,
           "rgb(207,70,61)"
          ],
          [
           0.08267716535433071,
           "rgb(209,73,62)"
          ],
          [
           0.08661417322834646,
           "rgb(210,75,63)"
          ],
          [
           0.0905511811023622,
           "rgb(211,77,64)"
          ],
          [
           0.09448818897637797,
           "rgb(212,79,66)"
          ],
          [
           0.0984251968503937,
           "rgb(214,82,67)"
          ],
          [
           0.10236220472440943,
           "rgb(215,84,68)"
          ],
          [
           0.1062992125984252,
           "rgb(216,86,70)"
          ],
          [
           0.11023622047244094,
           "rgb(217,88,71)"
          ],
          [
           0.1141732283464567,
           "rgb(218,90,72)"
          ],
          [
           0.11811023622047244,
           "rgb(219,92,74)"
          ],
          [
           0.1220472440944882,
           "rgb(220,94,75)"
          ],
          [
           0.12598425196850394,
           "rgb(221,96,76)"
          ],
          [
           0.12992125984251968,
           "rgb(222,98,78)"
          ],
          [
           0.13385826771653545,
           "rgb(223,100,79)"
          ],
          [
           0.1377952755905512,
           "rgb(224,102,80)"
          ],
          [
           0.14173228346456693,
           "rgb(225,104,82)"
          ],
          [
           0.14566929133858267,
           "rgb(226,106,83)"
          ],
          [
           0.14960629921259844,
           "rgb(227,108,84)"
          ],
          [
           0.15354330708661418,
           "rgb(228,110,86)"
          ],
          [
           0.15748031496062992,
           "rgb(229,112,87)"
          ],
          [
           0.16141732283464566,
           "rgb(230,114,89)"
          ],
          [
           0.16535433070866143,
           "rgb(230,116,90)"
          ],
          [
           0.16929133858267717,
           "rgb(231,117,92)"
          ],
          [
           0.1732283464566929,
           "rgb(232,119,93)"
          ],
          [
           0.17716535433070865,
           "rgb(233,121,94)"
          ],
          [
           0.1811023622047244,
           "rgb(234,123,96)"
          ],
          [
           0.18503937007874016,
           "rgb(234,125,97)"
          ],
          [
           0.1889763779527559,
           "rgb(235,127,99)"
          ],
          [
           0.19291338582677164,
           "rgb(236,128,100)"
          ],
          [
           0.1968503937007874,
           "rgb(236,130,102)"
          ],
          [
           0.20078740157480315,
           "rgb(237,132,103)"
          ],
          [
           0.2047244094488189,
           "rgb(238,134,105)"
          ],
          [
           0.20866141732283464,
           "rgb(238,135,106)"
          ],
          [
           0.2125984251968504,
           "rgb(239,137,108)"
          ],
          [
           0.21653543307086617,
           "rgb(240,139,109)"
          ],
          [
           0.2204724409448819,
           "rgb(240,141,111)"
          ],
          [
           0.22440944881889763,
           "rgb(241,142,112)"
          ],
          [
           0.2283464566929134,
           "rgb(241,144,114)"
          ],
          [
           0.2322834645669291,
           "rgb(242,145,115)"
          ],
          [
           0.23622047244094488,
           "rgb(242,147,117)"
          ],
          [
           0.24015748031496065,
           "rgb(243,149,118)"
          ],
          [
           0.2440944881889764,
           "rgb(243,150,120)"
          ],
          [
           0.24803149606299213,
           "rgb(243,152,121)"
          ],
          [
           0.25196850393700787,
           "rgb(244,154,123)"
          ],
          [
           0.2559055118110236,
           "rgb(244,155,124)"
          ],
          [
           0.25984251968503935,
           "rgb(244,157,126)"
          ],
          [
           0.2637795275590551,
           "rgb(245,158,127)"
          ],
          [
           0.2677165354330709,
           "rgb(245,160,129)"
          ],
          [
           0.27165354330708663,
           "rgb(245,161,130)"
          ],
          [
           0.2755905511811024,
           "rgb(246,163,132)"
          ],
          [
           0.2795275590551181,
           "rgb(246,164,134)"
          ],
          [
           0.28346456692913385,
           "rgb(246,166,135)"
          ],
          [
           0.2874015748031496,
           "rgb(246,167,137)"
          ],
          [
           0.29133858267716534,
           "rgb(246,169,138)"
          ],
          [
           0.2952755905511811,
           "rgb(246,170,140)"
          ],
          [
           0.2992125984251969,
           "rgb(246,171,141)"
          ],
          [
           0.3031496062992126,
           "rgb(247,173,143)"
          ],
          [
           0.30708661417322836,
           "rgb(247,174,145)"
          ],
          [
           0.3110236220472441,
           "rgb(247,176,146)"
          ],
          [
           0.31496062992125984,
           "rgb(247,177,148)"
          ],
          [
           0.3188976377952756,
           "rgb(247,178,149)"
          ],
          [
           0.3228346456692913,
           "rgb(247,179,151)"
          ],
          [
           0.32677165354330706,
           "rgb(247,181,152)"
          ],
          [
           0.33070866141732286,
           "rgb(246,182,154)"
          ],
          [
           0.3346456692913386,
           "rgb(246,183,156)"
          ],
          [
           0.33858267716535434,
           "rgb(246,185,157)"
          ],
          [
           0.3425196850393701,
           "rgb(246,186,159)"
          ],
          [
           0.3464566929133858,
           "rgb(246,187,160)"
          ],
          [
           0.35039370078740156,
           "rgb(246,188,162)"
          ],
          [
           0.3543307086614173,
           "rgb(246,189,164)"
          ],
          [
           0.35826771653543305,
           "rgb(245,191,165)"
          ],
          [
           0.3622047244094488,
           "rgb(245,192,167)"
          ],
          [
           0.3661417322834646,
           "rgb(245,193,168)"
          ],
          [
           0.3700787401574803,
           "rgb(244,194,170)"
          ],
          [
           0.37401574803149606,
           "rgb(244,195,171)"
          ],
          [
           0.3779527559055118,
           "rgb(244,196,173)"
          ],
          [
           0.38188976377952755,
           "rgb(243,197,175)"
          ],
          [
           0.3858267716535433,
           "rgb(243,198,176)"
          ],
          [
           0.38976377952755903,
           "rgb(242,199,178)"
          ],
          [
           0.3937007874015748,
           "rgb(242,200,179)"
          ],
          [
           0.39763779527559057,
           "rgb(242,201,181)"
          ],
          [
           0.4015748031496063,
           "rgb(241,202,182)"
          ],
          [
           0.4055118110236221,
           "rgb(241,203,184)"
          ],
          [
           0.4094488188976378,
           "rgb(240,204,185)"
          ],
          [
           0.41338582677165353,
           "rgb(239,205,187)"
          ],
          [
           0.41732283464566927,
           "rgb(239,206,188)"
          ],
          [
           0.421259842519685,
           "rgb(238,207,190)"
          ],
          [
           0.4251968503937008,
           "rgb(237,207,192)"
          ],
          [
           0.42913385826771655,
           "rgb(237,208,193)"
          ],
          [
           0.4330708661417323,
           "rgb(236,209,195)"
          ],
          [
           0.437007874015748,
           "rgb(236,210,196)"
          ],
          [
           0.4409448818897638,
           "rgb(235,211,198)"
          ],
          [
           0.4448818897637795,
           "rgb(234,211,199)"
          ],
          [
           0.44881889763779526,
           "rgb(233,212,201)"
          ],
          [
           0.452755905511811,
           "rgb(232,213,202)"
          ],
          [
           0.4566929133858268,
           "rgb(231,214,204)"
          ],
          [
           0.46062992125984253,
           "rgb(231,214,205)"
          ],
          [
           0.4645669291338583,
           "rgb(230,215,207)"
          ],
          [
           0.468503937007874,
           "rgb(229,216,208)"
          ],
          [
           0.47244094488188976,
           "rgb(228,216,209)"
          ],
          [
           0.4763779527559055,
           "rgb(227,217,211)"
          ],
          [
           0.4803149606299213,
           "rgb(226,217,212)"
          ],
          [
           0.484251968503937,
           "rgb(225,218,214)"
          ],
          [
           0.4881889763779528,
           "rgb(224,218,215)"
          ],
          [
           0.4921259842519685,
           "rgb(223,219,217)"
          ],
          [
           0.49606299212598426,
           "rgb(222,219,218)"
          ],
          [
           0.5,
           "rgb(220,220,221)"
          ],
          [
           0.5039370078740157,
           "rgb(219,220,222)"
          ],
          [
           0.5078740157480315,
           "rgb(218,220,223)"
          ],
          [
           0.5118110236220472,
           "rgb(217,220,224)"
          ],
          [
           0.515748031496063,
           "rgb(216,219,225)"
          ],
          [
           0.5196850393700787,
           "rgb(215,219,226)"
          ],
          [
           0.5236220472440944,
           "rgb(214,219,228)"
          ],
          [
           0.5275590551181102,
           "rgb(213,219,229)"
          ],
          [
           0.531496062992126,
           "rgb(211,219,230)"
          ],
          [
           0.5354330708661418,
           "rgb(210,218,231)"
          ],
          [
           0.5393700787401575,
           "rgb(209,218,232)"
          ],
          [
           0.5433070866141733,
           "rgb(208,218,233)"
          ],
          [
           0.547244094488189,
           "rgb(207,217,234)"
          ],
          [
           0.5511811023622047,
           "rgb(206,217,235)"
          ],
          [
           0.5551181102362205,
           "rgb(205,217,236)"
          ],
          [
           0.5590551181102362,
           "rgb(204,216,237)"
          ],
          [
           0.562992125984252,
           "rgb(202,216,238)"
          ],
          [
           0.5669291338582677,
           "rgb(201,215,238)"
          ],
          [
           0.5708661417322834,
           "rgb(200,215,239)"
          ],
          [
           0.5748031496062992,
           "rgb(199,214,240)"
          ],
          [
           0.5787401574803149,
           "rgb(198,214,241)"
          ],
          [
           0.5826771653543307,
           "rgb(197,213,242)"
          ],
          [
           0.5866141732283464,
           "rgb(195,213,242)"
          ],
          [
           0.5905511811023622,
           "rgb(194,212,243)"
          ],
          [
           0.594488188976378,
           "rgb(193,212,244)"
          ],
          [
           0.5984251968503937,
           "rgb(192,211,245)"
          ],
          [
           0.6023622047244095,
           "rgb(190,211,245)"
          ],
          [
           0.6062992125984252,
           "rgb(189,210,246)"
          ],
          [
           0.610236220472441,
           "rgb(188,209,246)"
          ],
          [
           0.6141732283464567,
           "rgb(187,209,247)"
          ],
          [
           0.6181102362204725,
           "rgb(185,208,248)"
          ],
          [
           0.6220472440944882,
           "rgb(184,207,248)"
          ],
          [
           0.6259842519685039,
           "rgb(183,207,249)"
          ],
          [
           0.6299212598425197,
           "rgb(182,206,249)"
          ],
          [
           0.6338582677165354,
           "rgb(180,205,250)"
          ],
          [
           0.6377952755905512,
           "rgb(179,204,250)"
          ],
          [
           0.6417322834645669,
           "rgb(178,203,251)"
          ],
          [
           0.6456692913385826,
           "rgb(176,203,251)"
          ],
          [
           0.6496062992125984,
           "rgb(175,202,251)"
          ],
          [
           0.6535433070866141,
           "rgb(174,201,252)"
          ],
          [
           0.65748031496063,
           "rgb(172,200,252)"
          ],
          [
           0.6614173228346457,
           "rgb(171,199,252)"
          ],
          [
           0.6653543307086615,
           "rgb(170,198,253)"
          ],
          [
           0.6692913385826772,
           "rgb(168,197,253)"
          ],
          [
           0.6732283464566929,
           "rgb(167,196,253)"
          ],
          [
           0.6771653543307087,
           "rgb(166,195,253)"
          ],
          [
           0.6811023622047244,
           "rgb(164,194,254)"
          ],
          [
           0.6850393700787402,
           "rgb(163,193,254)"
          ],
          [
           0.6889763779527559,
           "rgb(162,192,254)"
          ],
          [
           0.6929133858267716,
           "rgb(160,191,254)"
          ],
          [
           0.6968503937007874,
           "rgb(159,190,254)"
          ],
          [
           0.7007874015748031,
           "rgb(157,189,254)"
          ],
          [
           0.7047244094488189,
           "rgb(156,188,254)"
          ],
          [
           0.7086614173228346,
           "rgb(155,187,254)"
          ],
          [
           0.7125984251968503,
           "rgb(153,186,254)"
          ],
          [
           0.7165354330708661,
           "rgb(152,185,254)"
          ],
          [
           0.7204724409448819,
           "rgb(151,184,254)"
          ],
          [
           0.7244094488188977,
           "rgb(149,183,254)"
          ],
          [
           0.7283464566929134,
           "rgb(148,181,254)"
          ],
          [
           0.7322834645669292,
           "rgb(146,180,254)"
          ],
          [
           0.7362204724409449,
           "rgb(145,179,254)"
          ],
          [
           0.7401574803149606,
           "rgb(144,178,254)"
          ],
          [
           0.7440944881889764,
           "rgb(142,177,253)"
          ],
          [
           0.7480314960629921,
           "rgb(141,175,253)"
          ],
          [
           0.7519685039370079,
           "rgb(139,174,253)"
          ],
          [
           0.7559055118110236,
           "rgb(138,173,253)"
          ],
          [
           0.7598425196850394,
           "rgb(137,172,252)"
          ],
          [
           0.7637795275590551,
           "rgb(135,170,252)"
          ],
          [
           0.7677165354330708,
           "rgb(134,169,252)"
          ],
          [
           0.7716535433070866,
           "rgb(133,168,251)"
          ],
          [
           0.7755905511811023,
           "rgb(131,166,251)"
          ],
          [
           0.7795275590551181,
           "rgb(130,165,251)"
          ],
          [
           0.7834645669291339,
           "rgb(128,164,250)"
          ],
          [
           0.7874015748031497,
           "rgb(127,162,250)"
          ],
          [
           0.7913385826771654,
           "rgb(126,161,249)"
          ],
          [
           0.7952755905511811,
           "rgb(124,160,249)"
          ],
          [
           0.7992125984251969,
           "rgb(123,158,248)"
          ],
          [
           0.8031496062992126,
           "rgb(122,157,248)"
          ],
          [
           0.8070866141732284,
           "rgb(120,155,247)"
          ],
          [
           0.8110236220472441,
           "rgb(119,154,246)"
          ],
          [
           0.8149606299212598,
           "rgb(117,152,246)"
          ],
          [
           0.8188976377952756,
           "rgb(116,151,245)"
          ],
          [
           0.8228346456692913,
           "rgb(115,149,244)"
          ],
          [
           0.8267716535433071,
           "rgb(113,148,244)"
          ],
          [
           0.8307086614173228,
           "rgb(112,147,243)"
          ],
          [
           0.8346456692913385,
           "rgb(111,145,242)"
          ],
          [
           0.8385826771653543,
           "rgb(109,144,241)"
          ],
          [
           0.84251968503937,
           "rgb(108,142,241)"
          ],
          [
           0.8464566929133859,
           "rgb(107,141,240)"
          ],
          [
           0.8503937007874016,
           "rgb(105,139,239)"
          ],
          [
           0.8543307086614174,
           "rgb(104,137,238)"
          ],
          [
           0.8582677165354331,
           "rgb(103,136,237)"
          ],
          [
           0.8622047244094488,
           "rgb(101,134,236)"
          ],
          [
           0.8661417322834646,
           "rgb(100,133,235)"
          ],
          [
           0.8700787401574803,
           "rgb(99,131,234)"
          ],
          [
           0.8740157480314961,
           "rgb(97,130,234)"
          ],
          [
           0.8779527559055118,
           "rgb(96,128,232)"
          ],
          [
           0.8818897637795275,
           "rgb(95,126,231)"
          ],
          [
           0.8858267716535433,
           "rgb(93,125,230)"
          ],
          [
           0.889763779527559,
           "rgb(92,123,229)"
          ],
          [
           0.8937007874015748,
           "rgb(91,121,228)"
          ],
          [
           0.8976377952755905,
           "rgb(90,120,227)"
          ],
          [
           0.9015748031496064,
           "rgb(88,118,226)"
          ],
          [
           0.905511811023622,
           "rgb(87,117,225)"
          ],
          [
           0.9094488188976378,
           "rgb(86,115,224)"
          ],
          [
           0.9133858267716536,
           "rgb(85,113,222)"
          ],
          [
           0.9173228346456692,
           "rgb(83,112,221)"
          ],
          [
           0.9212598425196852,
           "rgb(82,110,220)"
          ],
          [
           0.9251968503937008,
           "rgb(81,108,219)"
          ],
          [
           0.9291338582677166,
           "rgb(80,107,218)"
          ],
          [
           0.9330708661417324,
           "rgb(78,105,216)"
          ],
          [
           0.937007874015748,
           "rgb(77,103,215)"
          ],
          [
           0.9409448818897638,
           "rgb(76,102,214)"
          ],
          [
           0.9448818897637796,
           "rgb(75,100,212)"
          ],
          [
           0.9488188976377953,
           "rgb(73,98,211)"
          ],
          [
           0.952755905511811,
           "rgb(72,96,209)"
          ],
          [
           0.9566929133858268,
           "rgb(71,95,208)"
          ],
          [
           0.9606299212598424,
           "rgb(70,93,207)"
          ],
          [
           0.9645669291338582,
           "rgb(69,91,205)"
          ],
          [
           0.968503937007874,
           "rgb(67,90,204)"
          ],
          [
           0.9724409448818898,
           "rgb(66,88,202)"
          ],
          [
           0.9763779527559056,
           "rgb(65,86,201)"
          ],
          [
           0.9803149606299212,
           "rgb(64,84,199)"
          ],
          [
           0.984251968503937,
           "rgb(63,83,198)"
          ],
          [
           0.9881889763779528,
           "rgb(62,81,196)"
          ],
          [
           0.9921259842519684,
           "rgb(60,79,195)"
          ],
          [
           0.9960629921259844,
           "rgb(59,77,193)"
          ],
          [
           1,
           "rgb(58,76,192)"
          ]
         ]
        },
        "legend": {
         "orientation": "h",
         "x": 0.5,
         "xanchor": "center",
         "y": -0.3,
         "yanchor": "bottom",
         "yref": "container"
        },
        "template": {
         "data": {
          "bar": [
           {
            "error_x": {
             "color": "#2a3f5f"
            },
            "error_y": {
             "color": "#2a3f5f"
            },
            "marker": {
             "line": {
              "color": "white",
              "width": 0.5
             }
            },
            "type": "bar"
           }
          ],
          "barpolar": [
           {
            "marker": {
             "line": {
              "color": "white",
              "width": 0.5
             }
            },
            "type": "barpolar"
           }
          ],
          "carpet": [
           {
            "aaxis": {
             "endlinecolor": "#2a3f5f",
             "gridcolor": "#C8D4E3",
             "linecolor": "#C8D4E3",
             "minorgridcolor": "#C8D4E3",
             "startlinecolor": "#2a3f5f"
            },
            "baxis": {
             "endlinecolor": "#2a3f5f",
             "gridcolor": "#C8D4E3",
             "linecolor": "#C8D4E3",
             "minorgridcolor": "#C8D4E3",
             "startlinecolor": "#2a3f5f"
            },
            "type": "carpet"
           }
          ],
          "choropleth": [
           {
            "colorbar": {
             "outlinewidth": 0,
             "ticks": ""
            },
            "type": "choropleth"
           }
          ],
          "contour": [
           {
            "colorbar": {
             "outlinewidth": 0,
             "ticks": ""
            },
            "colorscale": [
             [
              0,
              "#0d0887"
             ],
             [
              0.1111111111111111,
              "#46039f"
             ],
             [
              0.2222222222222222,
              "#7201a8"
             ],
             [
              0.3333333333333333,
              "#9c179e"
             ],
             [
              0.4444444444444444,
              "#bd3786"
             ],
             [
              0.5555555555555556,
              "#d8576b"
             ],
             [
              0.6666666666666666,
              "#ed7953"
             ],
             [
              0.7777777777777778,
              "#fb9f3a"
             ],
             [
              0.8888888888888888,
              "#fdca26"
             ],
             [
              1,
              "#f0f921"
             ]
            ],
            "type": "contour"
           }
          ],
          "contourcarpet": [
           {
            "colorbar": {
             "outlinewidth": 0,
             "ticks": ""
            },
            "type": "contourcarpet"
           }
          ],
          "heatmap": [
           {
            "colorbar": {
             "outlinewidth": 0,
             "ticks": ""
            },
            "colorscale": [
             [
              0,
              "#0d0887"
             ],
             [
              0.1111111111111111,
              "#46039f"
             ],
             [
              0.2222222222222222,
              "#7201a8"
             ],
             [
              0.3333333333333333,
              "#9c179e"
             ],
             [
              0.4444444444444444,
              "#bd3786"
             ],
             [
              0.5555555555555556,
              "#d8576b"
             ],
             [
              0.6666666666666666,
              "#ed7953"
             ],
             [
              0.7777777777777778,
              "#fb9f3a"
             ],
             [
              0.8888888888888888,
              "#fdca26"
             ],
             [
              1,
              "#f0f921"
             ]
            ],
            "type": "heatmap"
           }
          ],
          "heatmapgl": [
           {
            "colorbar": {
             "outlinewidth": 0,
             "ticks": ""
            },
            "colorscale": [
             [
              0,
              "#0d0887"
             ],
             [
              0.1111111111111111,
              "#46039f"
             ],
             [
              0.2222222222222222,
              "#7201a8"
             ],
             [
              0.3333333333333333,
              "#9c179e"
             ],
             [
              0.4444444444444444,
              "#bd3786"
             ],
             [
              0.5555555555555556,
              "#d8576b"
             ],
             [
              0.6666666666666666,
              "#ed7953"
             ],
             [
              0.7777777777777778,
              "#fb9f3a"
             ],
             [
              0.8888888888888888,
              "#fdca26"
             ],
             [
              1,
              "#f0f921"
             ]
            ],
            "type": "heatmapgl"
           }
          ],
          "histogram": [
           {
            "marker": {
             "colorbar": {
              "outlinewidth": 0,
              "ticks": ""
             }
            },
            "type": "histogram"
           }
          ],
          "histogram2d": [
           {
            "colorbar": {
             "outlinewidth": 0,
             "ticks": ""
            },
            "colorscale": [
             [
              0,
              "#0d0887"
             ],
             [
              0.1111111111111111,
              "#46039f"
             ],
             [
              0.2222222222222222,
              "#7201a8"
             ],
             [
              0.3333333333333333,
              "#9c179e"
             ],
             [
              0.4444444444444444,
              "#bd3786"
             ],
             [
              0.5555555555555556,
              "#d8576b"
             ],
             [
              0.6666666666666666,
              "#ed7953"
             ],
             [
              0.7777777777777778,
              "#fb9f3a"
             ],
             [
              0.8888888888888888,
              "#fdca26"
             ],
             [
              1,
              "#f0f921"
             ]
            ],
            "type": "histogram2d"
           }
          ],
          "histogram2dcontour": [
           {
            "colorbar": {
             "outlinewidth": 0,
             "ticks": ""
            },
            "colorscale": [
             [
              0,
              "#0d0887"
             ],
             [
              0.1111111111111111,
              "#46039f"
             ],
             [
              0.2222222222222222,
              "#7201a8"
             ],
             [
              0.3333333333333333,
              "#9c179e"
             ],
             [
              0.4444444444444444,
              "#bd3786"
             ],
             [
              0.5555555555555556,
              "#d8576b"
             ],
             [
              0.6666666666666666,
              "#ed7953"
             ],
             [
              0.7777777777777778,
              "#fb9f3a"
             ],
             [
              0.8888888888888888,
              "#fdca26"
             ],
             [
              1,
              "#f0f921"
             ]
            ],
            "type": "histogram2dcontour"
           }
          ],
          "mesh3d": [
           {
            "colorbar": {
             "outlinewidth": 0,
             "ticks": ""
            },
            "type": "mesh3d"
           }
          ],
          "parcoords": [
           {
            "line": {
             "colorbar": {
              "outlinewidth": 0,
              "ticks": ""
             }
            },
            "type": "parcoords"
           }
          ],
          "pie": [
           {
            "automargin": true,
            "type": "pie"
           }
          ],
          "scatter": [
           {
            "marker": {
             "colorbar": {
              "outlinewidth": 0,
              "ticks": ""
             }
            },
            "type": "scatter"
           }
          ],
          "scatter3d": [
           {
            "line": {
             "colorbar": {
              "outlinewidth": 0,
              "ticks": ""
             }
            },
            "marker": {
             "colorbar": {
              "outlinewidth": 0,
              "ticks": ""
             },
             "size": 4
            },
            "type": "scatter3d"
           }
          ],
          "scattercarpet": [
           {
            "marker": {
             "colorbar": {
              "outlinewidth": 0,
              "ticks": ""
             }
            },
            "type": "scattercarpet"
           }
          ],
          "scattergeo": [
           {
            "marker": {
             "colorbar": {
              "outlinewidth": 0,
              "ticks": ""
             }
            },
            "type": "scattergeo"
           }
          ],
          "scattergl": [
           {
            "marker": {
             "colorbar": {
              "outlinewidth": 0,
              "ticks": ""
             }
            },
            "type": "scattergl"
           }
          ],
          "scattermapbox": [
           {
            "marker": {
             "colorbar": {
              "outlinewidth": 0,
              "ticks": ""
             }
            },
            "type": "scattermapbox"
           }
          ],
          "scatterpolar": [
           {
            "marker": {
             "colorbar": {
              "outlinewidth": 0,
              "ticks": ""
             }
            },
            "type": "scatterpolar"
           }
          ],
          "scatterpolargl": [
           {
            "marker": {
             "colorbar": {
              "outlinewidth": 0,
              "ticks": ""
             }
            },
            "type": "scatterpolargl"
           }
          ],
          "scatterternary": [
           {
            "marker": {
             "colorbar": {
              "outlinewidth": 0,
              "ticks": ""
             }
            },
            "type": "scatterternary"
           }
          ],
          "surface": [
           {
            "colorbar": {
             "outlinewidth": 0,
             "ticks": ""
            },
            "colorscale": [
             [
              0,
              "#0d0887"
             ],
             [
              0.1111111111111111,
              "#46039f"
             ],
             [
              0.2222222222222222,
              "#7201a8"
             ],
             [
              0.3333333333333333,
              "#9c179e"
             ],
             [
              0.4444444444444444,
              "#bd3786"
             ],
             [
              0.5555555555555556,
              "#d8576b"
             ],
             [
              0.6666666666666666,
              "#ed7953"
             ],
             [
              0.7777777777777778,
              "#fb9f3a"
             ],
             [
              0.8888888888888888,
              "#fdca26"
             ],
             [
              1,
              "#f0f921"
             ]
            ],
            "type": "surface"
           }
          ],
          "table": [
           {
            "cells": {
             "fill": {
              "color": "#EBF0F8"
             },
             "line": {
              "color": "white"
             }
            },
            "header": {
             "fill": {
              "color": "#C8D4E3"
             },
             "line": {
              "color": "white"
             }
            },
            "type": "table"
           }
          ]
         },
         "layout": {
          "annotationdefaults": {
           "arrowcolor": "#2a3f5f",
           "arrowhead": 0,
           "arrowwidth": 1
          },
          "coloraxis": {
           "colorbar": {
            "outlinewidth": 0,
            "ticks": ""
           }
          },
          "colorscale": {
           "diverging": [
            [
             0,
             "#8e0152"
            ],
            [
             0.1,
             "#c51b7d"
            ],
            [
             0.2,
             "#de77ae"
            ],
            [
             0.3,
             "#f1b6da"
            ],
            [
             0.4,
             "#fde0ef"
            ],
            [
             0.5,
             "#f7f7f7"
            ],
            [
             0.6,
             "#e6f5d0"
            ],
            [
             0.7,
             "#b8e186"
            ],
            [
             0.8,
             "#7fbc41"
            ],
            [
             0.9,
             "#4d9221"
            ],
            [
             1,
             "#276419"
            ]
           ],
           "sequential": [
            [
             0,
             "#0d0887"
            ],
            [
             0.1111111111111111,
             "#46039f"
            ],
            [
             0.2222222222222222,
             "#7201a8"
            ],
            [
             0.3333333333333333,
             "#9c179e"
            ],
            [
             0.4444444444444444,
             "#bd3786"
            ],
            [
             0.5555555555555556,
             "#d8576b"
            ],
            [
             0.6666666666666666,
             "#ed7953"
            ],
            [
             0.7777777777777778,
             "#fb9f3a"
            ],
            [
             0.8888888888888888,
             "#fdca26"
            ],
            [
             1,
             "#f0f921"
            ]
           ],
           "sequentialminus": [
            [
             0,
             "#0d0887"
            ],
            [
             0.1111111111111111,
             "#46039f"
            ],
            [
             0.2222222222222222,
             "#7201a8"
            ],
            [
             0.3333333333333333,
             "#9c179e"
            ],
            [
             0.4444444444444444,
             "#bd3786"
            ],
            [
             0.5555555555555556,
             "#d8576b"
            ],
            [
             0.6666666666666666,
             "#ed7953"
            ],
            [
             0.7777777777777778,
             "#fb9f3a"
            ],
            [
             0.8888888888888888,
             "#fdca26"
            ],
            [
             1,
             "#f0f921"
            ]
           ]
          },
          "colorway": [
           "#1f77b4",
           "#ff7f0e",
           "#2ca02c",
           "#d62728",
           "#9467bd",
           "#8c564b",
           "#e377c2",
           "#7f7f7f",
           "#bcbd22",
           "#17becf"
          ],
          "font": {
           "color": "#2a3f5f"
          },
          "geo": {
           "bgcolor": "white",
           "lakecolor": "white",
           "landcolor": "white",
           "showlakes": true,
           "showland": true,
           "subunitcolor": "#C8D4E3"
          },
          "hoverlabel": {
           "align": "left"
          },
          "hovermode": "closest",
          "mapbox": {
           "style": "light"
          },
          "paper_bgcolor": "white",
          "plot_bgcolor": "white",
          "polar": {
           "angularaxis": {
            "gridcolor": "#EBF0F8",
            "linecolor": "#EBF0F8",
            "ticks": ""
           },
           "bgcolor": "white",
           "radialaxis": {
            "gridcolor": "#EBF0F8",
            "linecolor": "#EBF0F8",
            "ticks": ""
           }
          },
          "scene": {
           "camera": {
            "center": {
             "x": 0,
             "y": 0,
             "z": 0
            },
            "eye": {
             "x": 2,
             "y": 2,
             "z": 2
            },
            "up": {
             "x": 0,
             "y": 0,
             "z": 1
            }
           },
           "xaxis": {
            "backgroundcolor": "white",
            "gridcolor": "#DFE8F3",
            "gridwidth": 2,
            "linecolor": "#EBF0F8",
            "showbackground": true,
            "showspikes": false,
            "ticks": "",
            "zerolinecolor": "#EBF0F8"
           },
           "yaxis": {
            "backgroundcolor": "white",
            "gridcolor": "#DFE8F3",
            "gridwidth": 2,
            "linecolor": "#EBF0F8",
            "showbackground": true,
            "showspikes": false,
            "ticks": "",
            "zerolinecolor": "#EBF0F8"
           },
           "zaxis": {
            "backgroundcolor": "white",
            "gridcolor": "#DFE8F3",
            "gridwidth": 2,
            "linecolor": "#EBF0F8",
            "showbackground": true,
            "showspikes": false,
            "ticks": "",
            "zerolinecolor": "#EBF0F8"
           }
          },
          "shapedefaults": {
           "line": {
            "color": "#2a3f5f"
           }
          },
          "ternary": {
           "aaxis": {
            "gridcolor": "#DFE8F3",
            "linecolor": "#A2B1C6",
            "ticks": ""
           },
           "baxis": {
            "gridcolor": "#DFE8F3",
            "linecolor": "#A2B1C6",
            "ticks": ""
           },
           "bgcolor": "white",
           "caxis": {
            "gridcolor": "#DFE8F3",
            "linecolor": "#A2B1C6",
            "ticks": ""
           }
          },
          "title": {
           "x": 0.05
          },
          "xaxis": {
           "automargin": true,
           "gridcolor": "#EBF0F8",
           "linecolor": "black",
           "linewidth": 2,
           "mirror": true,
           "showline": true,
           "ticks": "",
           "title": {
            "standoff": 15
           },
           "zeroline": false,
           "zerolinecolor": "#EBF0F8",
           "zerolinewidth": 2
          },
          "yaxis": {
           "automargin": true,
           "gridcolor": "#EBF0F8",
           "linecolor": "black",
           "linewidth": 2,
           "mirror": true,
           "showline": true,
           "ticks": "",
           "title": {
            "standoff": 15
           },
           "zeroline": false,
           "zerolinecolor": "#EBF0F8",
           "zerolinewidth": 2
          }
         }
        },
        "xaxis": {
         "exponentformat": "none",
         "range": [
          3008.028424436822,
          10981.69107334078
         ],
         "title": {
          "text": "Rotor Speed (RPM)"
         }
        },
        "yaxis": {
         "range": [
          0,
          21232.46040459453
         ],
         "title": {
          "text": "Natural Frequencies (RPM)"
         }
        }
       }
      }
     },
     "metadata": {},
     "output_type": "display_data"
    }
   ],
   "source": [
    "campbell.plot()"
   ]
  },
  {
   "cell_type": "markdown",
   "metadata": {},
   "source": [
    "Now, let's change the units to `RPM`.\n",
    "\n",
    "Just by adding `frequency_units=\"rpm\"` to plot method, you'll change the plot units."
   ]
  },
  {
   "cell_type": "code",
   "execution_count": 50,
   "metadata": {
    "execution": {
     "iopub.execute_input": "2023-05-04T01:05:19.532208Z",
     "iopub.status.busy": "2023-05-04T01:05:19.532101Z",
     "iopub.status.idle": "2023-05-04T01:05:19.557888Z",
     "shell.execute_reply": "2023-05-04T01:05:19.557428Z"
    }
   },
   "outputs": [
    {
     "data": {
      "application/vnd.plotly.v1+json": {
       "config": {
        "plotlyServerURL": "https://plot.ly"
       },
       "data": [
        {
         "hovertemplate": "Frequency (RPM): %{y:.2f}<br>Critical Speed (RPM): %{x:.2f}",
         "legendgroup": "Crit. Speed",
         "marker": {
          "color": "black",
          "symbol": "x"
         },
         "mode": "markers",
         "name": "Crit. Speed",
         "showlegend": true,
         "type": "scatter",
         "x": [
          6337.709616605819,
          7095.678955570789,
          6285.872952973383,
          7053.92219961087,
          6066.340473965502,
          6189.552990761897
         ],
         "y": [
          6337.709616605819,
          7095.678955570789,
          6285.872952973383,
          7053.92219961087,
          6066.340473965502,
          6189.552990761897
         ]
        },
        {
         "hoverinfo": "none",
         "legendgroup": "Forward",
         "marker": {
          "color": [
           1037.0912771497185,
           921.4057615327148,
           827.0573827271369,
           744.0008664445875,
           668.0100423141349,
           597.4402849880606,
           531.1587295625097,
           467.14900583566066,
           401.24923457484687,
           325.3758289110384,
           214.6100795782158,
           28.06561930655868,
           15.129785204293976,
           11.270854767852653,
           9.161300762851582,
           7.748696048899534,
           6.7042240213448965,
           5.898439576773788,
           5.261420154919689,
           4.749389488713092,
           4.33242724836494,
           3.988413673345152,
           3.70233314244538,
           3.4637148648255884,
           3.263294255667014,
           3.092628423349806,
           2.945522108919731,
           2.817348676391854,
           2.704542817659362,
           2.6042555188064656,
           2.5140789061528026
          ],
          "coloraxis": "coloraxis",
          "symbol": "triangle-up"
         },
         "mode": "markers",
         "name": "Forward",
         "showlegend": false,
         "type": "scatter",
         "x": [
          3008.028424436822,
          3273.8171794002874,
          3539.605934363753,
          3805.3946893272177,
          4071.183444290683,
          4336.972199254148,
          4602.760954217613,
          4868.5497091810785,
          5134.338464144544,
          5400.127219108009,
          5665.915974071474,
          5931.704729034939,
          6197.493483998405,
          6463.28223896187,
          6729.070993925335,
          6994.859748888801,
          7260.648503852265,
          7526.437258815731,
          7792.226013779196,
          8058.014768742661,
          8323.803523706127,
          8589.592278669592,
          8855.381033633057,
          9121.169788596522,
          9386.958543559987,
          9652.747298523453,
          9918.536053486916,
          10184.324808450385,
          10450.113563413848,
          10715.902318377312,
          10981.69107334078
         ],
         "y": [
          75.18729761146696,
          93.79554077807404,
          114.372984982292,
          137.41966759717138,
          163.29853425235945,
          192.1316071309244,
          223.89805788871007,
          258.9334170943823,
          299.44240948348676,
          355.2141414594202,
          489.348447745999,
          3102.8835327456386,
          5673.387318240745,
          7515.351251455647,
          9067.155468709296,
          10437.578611222309,
          11663.694552279634,
          12749.122724217492,
          13698.664374921464,
          14522.538436306324,
          15236.006508342343,
          15858.503568826309,
          16407.10708789264,
          16896.153251835964,
          17337.209039920428,
          17738.648969102593,
          18106.336264930214,
          18444.334184950832,
          18755.356300953677,
          19041.055160303164,
          19302.23673144957
         ]
        },
        {
         "hoverinfo": "none",
         "legendgroup": "Forward",
         "marker": {
          "color": [
           1232.561264007337,
           1151.0217092529438,
           1069.6070274013762,
           988.3795971518924,
           907.797444933141,
           828.6542430192301,
           752.078778489477,
           679.2419800471503,
           610.355236766888,
           543.5372687137666,
           474.1346344418449,
           394.20768520756025,
           288.1619727222264,
           77.75541794477331,
           18.29323263554961,
           12.450222117751112,
           9.756528892365544,
           8.11374696746641,
           6.9822997756116445,
           6.148646702121708,
           5.507317310050555,
           4.997773950070083,
           4.584495133293842,
           4.245355986478682,
           3.963407355430262,
           3.7246268100643247,
           3.519104944673807,
           3.339667310896423,
           3.180969333090029,
           3.038963032909508,
           2.910604893932013
          ],
          "coloraxis": "coloraxis",
          "symbol": "triangle-up"
         },
         "mode": "markers",
         "name": "Forward",
         "showlegend": false,
         "type": "scatter",
         "x": [
          3008.028424436822,
          3273.8171794002874,
          3539.605934363753,
          3805.3946893272177,
          4071.183444290683,
          4336.972199254148,
          4602.760954217613,
          4868.5497091810785,
          5134.338464144544,
          5400.127219108009,
          5665.915974071474,
          5931.704729034939,
          6197.493483998405,
          6463.28223896187,
          6729.070993925335,
          6994.859748888801,
          7260.648503852265,
          7526.437258815731,
          7792.226013779196,
          8058.014768742661,
          8323.803523706127,
          8589.592278669592,
          8855.381033633057,
          9121.169788596522,
          9386.958543559987,
          9652.747298523453,
          9918.536053486916,
          10184.324808450385,
          10450.113563413848,
          10715.902318377312,
          10981.69107334078
         ],
         "y": [
          79.5799832812108,
          91.67142832409804,
          105.32153831073757,
          120.73825099389664,
          138.0992240123612,
          157.48858081708065,
          178.77204081430543,
          201.4673970755356,
          224.8875135989757,
          249.1396084871932,
          276.67714793105347,
          315.2200864648429,
          394.3165585497322,
          1188.182641168605,
          4679.710332567746,
          6696.729653473693,
          8304.142840013825,
          9671.011687149006,
          10856.536339377706,
          11892.359168159415,
          12802.31842360364,
          13609.61531467131,
          14332.620145181265,
          14986.117754388595,
          15583.27480239054,
          16135.260015390637,
          16650.506120408732,
          17135.52852854722,
          17595.528287646735,
          18034.81322625679,
          18457.077341123877
         ]
        },
        {
         "hoverinfo": "none",
         "legendgroup": "Forward",
         "marker": {
          "color": [
           1.4562337743982643,
           1.4187922647803048,
           1.3727442564799544,
           1.3209765729345406,
           1.2644604013326493,
           1.2030136189476597,
           1.1360222215711764,
           1.0631031575435832,
           0.9846204730612512,
           0.9023477403325144,
           0.8197072698839603,
           0.7402918002026742,
           0.6666729491514013,
           0.5995548244120641,
           0.5386146512445719,
           0.48330202557712376,
           0.4331574396293457,
           0.3881976876458122,
           0.34838024438611487,
           0.31349579741536515,
           0.28312923128000833,
           0.25667266364532604,
           0.23360543823570976,
           0.2135005432931564,
           0.19596797931655768,
           0.18063563388373433,
           0.16718112176476752,
           0.15532889424193289,
           0.14484448365837072,
           0.13552879153747513,
           0.12721282304998494
          ],
          "coloraxis": "coloraxis",
          "symbol": "triangle-up"
         },
         "mode": "markers",
         "name": "Forward",
         "showlegend": false,
         "type": "scatter",
         "x": [
          3008.028424436822,
          3273.8171794002874,
          3539.605934363753,
          3805.3946893272177,
          4071.183444290683,
          4336.972199254148,
          4602.760954217613,
          4868.5497091810785,
          5134.338464144544,
          5400.127219108009,
          5665.915974071474,
          5931.704729034939,
          6197.493483998405,
          6463.28223896187,
          6729.070993925335,
          6994.859748888801,
          7260.648503852265,
          7526.437258815731,
          7792.226013779196,
          8058.014768742661,
          8323.803523706127,
          8589.592278669592,
          8855.381033633057,
          9121.169788596522,
          9386.958543559987,
          9652.747298523453,
          9918.536053486916,
          10184.324808450385,
          10450.113563413848,
          10715.902318377312,
          10981.69107334078
         ],
         "y": [
          7022.384727959478,
          6880.4343839895055,
          6758.984246013405,
          6653.225337195088,
          6559.646836665363,
          6476.185495315607,
          6402.104185445512,
          6337.67064846987,
          6283.708992628799,
          6241.875054377215,
          6213.092570358875,
          6196.312254338533,
          6189.344837771628,
          6189.565157850574,
          6194.890504887366,
          6203.904196966829,
          6215.660935387944,
          6229.503325477378,
          6244.802510692876,
          6260.974713329368,
          6277.575679840952,
          6294.375075207776,
          6311.229028987094,
          6328.037209896754,
          6344.65825407951,
          6360.924795654762,
          6376.726024460485,
          6391.994604906927,
          6406.693571730182,
          6420.806993558993,
          6434.3333215248085
         ]
        },
        {
         "hoverinfo": "none",
         "legendgroup": "Backward",
         "marker": {
          "color": [
           260930.6230645541,
           113975.50451057137,
           53901.48442881131,
           26999.130505421715,
           14135.23698824342,
           7675.490519820049,
           4298.63376452703,
           2462.5622400309317,
           1415.4002688588505,
           782.3757910829112,
           344.9207007912109,
           29.52265928024977,
           15.556529236996091,
           11.504149517742947,
           9.305335382570838,
           7.836714863872972,
           6.751235014157976,
           5.913190715352015,
           5.249716760458412,
           4.715367614566623,
           4.279092717622462,
           3.917842279598128,
           3.6158383402836334,
           3.361930024575747,
           3.1462541025997175,
           2.9598982384444983,
           2.7963132319783246,
           2.65065310410167,
           2.519313893520583,
           2.3996364333524904,
           2.2896732824681267
          ],
          "coloraxis": "coloraxis",
          "symbol": "triangle-down"
         },
         "mode": "markers",
         "name": "Backward",
         "showlegend": false,
         "type": "scatter",
         "x": [
          3008.028424436822,
          3273.8171794002874,
          3539.605934363753,
          3805.3946893272177,
          4071.183444290683,
          4336.972199254148,
          4602.760954217613,
          4868.5497091810785,
          5134.338464144544,
          5400.127219108009,
          5665.915974071474,
          5931.704729034939,
          6197.493483998405,
          6463.28223896187,
          6729.070993925335,
          6994.859748888801,
          7260.648503852265,
          7526.437258815731,
          7792.226013779196,
          8058.014768742661,
          8323.803523706127,
          8589.592278669592,
          8855.381033633057,
          9121.169788596522,
          9386.958543559987,
          9652.747298523453,
          9918.536053486916,
          10184.324808450385,
          10450.113563413848,
          10715.902318377312,
          10981.69107334078
         ],
         "y": [
          0.03874116257013536,
          0.10820147567242036,
          0.2744886675078465,
          0.6509401396311948,
          1.4690431898831462,
          3.190448628847891,
          6.7254569693552915,
          13.921772335813252,
          28.99773659687724,
          63.84077444355473,
          183.32281345062495,
          2789.7842549828547,
          5361.243436342098,
          7212.19828361979,
          8780.341041016405,
          10172.68333701814,
          11423.412977727983,
          12532.33452162077,
          13501.070272662111,
          14337.934936168298,
          15057.630853877708,
          15680.10781114994,
          16223.57772320495,
          16703.934746988703,
          17134.246719841845,
          17524.07944813176,
          17880.581798035313,
          18209.28449519199,
          18514.526927011877,
          18799.637883968688,
          19067.001789883525
         ]
        },
        {
         "hoverinfo": "none",
         "legendgroup": "Backward",
         "marker": {
          "color": [
           1294.5864313937468,
           1240.3462697776192,
           1186.2561597406093,
           1130.7117079883355,
           1072.421347702547,
           1010.2133904003116,
           942.8651533691838,
           868.9044224291606,
           786.3811474102548,
           694.115941905118,
           591.0482407263339,
           473.2136050744669,
           328.05059738516866,
           80.3578869814441,
           18.443902929726026,
           12.524244626996705,
           9.803892454284243,
           8.14713368407733,
           7.006885790025332,
           6.167136172549353,
           5.52141332435585,
           5.008758635199403,
           4.593541505758233,
           4.2537160247040875,
           3.97247099126618,
           3.735927446218814,
           3.5343426115631917,
           3.3606622992988577,
           3.2095349286903954,
           3.0767071721831787,
           2.958673795072262
          ],
          "coloraxis": "coloraxis",
          "symbol": "triangle-down"
         },
         "mode": "markers",
         "name": "Backward",
         "showlegend": false,
         "type": "scatter",
         "x": [
          3008.028424436822,
          3273.8171794002874,
          3539.605934363753,
          3805.3946893272177,
          4071.183444290683,
          4336.972199254148,
          4602.760954217613,
          4868.5497091810785,
          5134.338464144544,
          5400.127219108009,
          5665.915974071474,
          5931.704729034939,
          6197.493483998405,
          6463.28223896187,
          6729.070993925335,
          6994.859748888801,
          7260.648503852265,
          7526.437258815731,
          7792.226013779196,
          8058.014768742661,
          8323.803523706127,
          8589.592278669592,
          8855.381033633057,
          9121.169788596522,
          9386.958543559987,
          9652.747298523453,
          9918.536053486916,
          10184.324808450385,
          10450.113563413848,
          10715.902318377312,
          10981.69107334078
         ],
         "y": [
          6.916252258531415,
          8.641677337274945,
          10.631756838168588,
          12.981122142788651,
          15.821243694455866,
          19.343720889988024,
          23.84355029201276,
          29.80609571474278,
          38.093384871029976,
          50.176114940660554,
          68.91924667737344,
          101.70700765749116,
          177.4750631433228,
          970.2326498153436,
          4462.957495739877,
          6483.624811925941,
          8097.177568026504,
          9472.291048134788,
          10667.691699962746,
          11714.590277406009,
          12636.492996285057,
          13456.407441084724,
          14192.49902344628,
          14859.228462737556,
          15469.380962930683,
          16033.652244416897,
          16559.666071481588,
          17052.765990326945,
          17516.678307557922,
          17954.069263925085,
          18366.998114595208
         ]
        },
        {
         "hoverinfo": "none",
         "legendgroup": "Backward",
         "marker": {
          "color": [
           1.412502797578738,
           1.3711002021027523,
           1.3217172479802477,
           1.2670517836008863,
           1.2080039928569088,
           1.144444600974539,
           1.075914608509693,
           1.0022328614934997,
           0.9239295149566314,
           0.8428216367480568,
           0.7621566453438996,
           0.6852199911851398,
           0.6142944407426233,
           0.5499228502853867,
           0.4917197976741892,
           0.439111725192416,
           0.3916226658049414,
           0.34921831933508085,
           0.31180775787849085,
           0.27914725930601225,
           0.2508090433096802,
           0.22619789366283677,
           0.20480480880857904,
           0.18621134457112823,
           0.1700383841352691,
           0.15592892911790987,
           0.1435753734445833,
           0.13271599469289616,
           0.12312904164047866,
           0.11462699459710128,
           0.1070513381182158
          ],
          "coloraxis": "coloraxis",
          "symbol": "triangle-down"
         },
         "mode": "markers",
         "name": "Backward",
         "showlegend": false,
         "type": "scatter",
         "x": [
          3008.028424436822,
          3273.8171794002874,
          3539.605934363753,
          3805.3946893272177,
          4071.183444290683,
          4336.972199254148,
          4602.760954217613,
          4868.5497091810785,
          5134.338464144544,
          5400.127219108009,
          5665.915974071474,
          5931.704729034939,
          6197.493483998405,
          6463.28223896187,
          6729.070993925335,
          6994.859748888801,
          7260.648503852265,
          7526.437258815731,
          7792.226013779196,
          8058.014768742661,
          8323.803523706127,
          8589.592278669592,
          8855.381033633057,
          9121.169788596522,
          9386.958543559987,
          9652.747298523453,
          9918.536053486916,
          10184.324808450385,
          10450.113563413848,
          10715.902318377312,
          10981.69107334078
         ],
         "y": [
          6916.878414881941,
          6773.543052824832,
          6650.504147140471,
          6543.075819313423,
          6447.901858226217,
          6363.028661360778,
          6287.732704590799,
          6222.173997023632,
          6166.960704715362,
          6123.40390737707,
          6092.1224942756635,
          6071.976955577278,
          6060.849795915919,
          6056.2824720228045,
          6056.339798333127,
          6059.704257175552,
          6065.491244414916,
          6073.074798602869,
          6081.862593306162,
          6091.313103520541,
          6101.019280199866,
          6110.771805674974,
          6120.441198284279,
          6129.938632523526,
          6139.143703064118,
          6147.917877012829,
          6156.173502424005,
          6163.861466753642,
          6170.959238136233,
          6177.462389078369,
          6183.37859930542
         ]
        },
        {
         "hoverinfo": "none",
         "line": {
          "color": "blue",
          "dash": "dashdot"
         },
         "mode": "lines",
         "name": "1x speed",
         "type": "scatter",
         "x": [
          3008.028424436822,
          3273.8171794002874,
          3539.605934363753,
          3805.3946893272177,
          4071.183444290683,
          4336.972199254148,
          4602.760954217613,
          4868.5497091810785,
          5134.338464144544,
          5400.127219108009,
          5665.915974071474,
          5931.704729034939,
          6197.493483998405,
          6463.28223896187,
          6729.070993925335,
          6994.859748888801,
          7260.648503852265,
          7526.437258815731,
          7792.226013779196,
          8058.014768742661,
          8323.803523706127,
          8589.592278669592,
          8855.381033633057,
          9121.169788596522,
          9386.958543559987,
          9652.747298523453,
          9918.536053486916,
          10184.324808450385,
          10450.113563413848,
          10715.902318377312,
          10981.69107334078
         ],
         "y": [
          3008.028424436822,
          3273.8171794002874,
          3539.605934363753,
          3805.3946893272177,
          4071.183444290683,
          4336.972199254148,
          4602.760954217613,
          4868.5497091810785,
          5134.338464144544,
          5400.127219108009,
          5665.915974071474,
          5931.704729034939,
          6197.493483998405,
          6463.28223896187,
          6729.070993925335,
          6994.859748888801,
          7260.648503852265,
          7526.437258815731,
          7792.226013779196,
          8058.014768742661,
          8323.803523706127,
          8589.592278669592,
          8855.381033633057,
          9121.169788596522,
          9386.958543559987,
          9652.747298523453,
          9918.536053486916,
          10184.324808450385,
          10450.113563413848,
          10715.902318377312,
          10981.69107334078
         ]
        },
        {
         "hoverinfo": "none",
         "legendgroup": "Forward",
         "marker": {
          "color": "black",
          "symbol": "triangle-up"
         },
         "mode": "markers",
         "name": "Forward",
         "type": "scatter",
         "x": [
          0
         ],
         "y": [
          0
         ]
        },
        {
         "hoverinfo": "none",
         "legendgroup": "Mixed",
         "marker": {
          "color": "black",
          "symbol": "circle"
         },
         "mode": "markers",
         "name": "Mixed",
         "type": "scatter",
         "x": [
          0
         ],
         "y": [
          0
         ]
        },
        {
         "hoverinfo": "none",
         "legendgroup": "Backward",
         "marker": {
          "color": "black",
          "symbol": "triangle-down"
         },
         "mode": "markers",
         "name": "Backward",
         "type": "scatter",
         "x": [
          0
         ],
         "y": [
          0
         ]
        },
        {
         "hoverinfo": "none",
         "legendgroup": "Axial",
         "marker": {
          "color": "black",
          "symbol": "diamond-wide"
         },
         "mode": "markers",
         "name": "Axial",
         "type": "scatter",
         "x": [
          0
         ],
         "y": [
          0
         ]
        },
        {
         "hoverinfo": "none",
         "legendgroup": "Torsional",
         "marker": {
          "color": "black",
          "symbol": "bowtie"
         },
         "mode": "markers",
         "name": "Torsional",
         "type": "scatter",
         "x": [
          0
         ],
         "y": [
          0
         ]
        }
       ],
       "layout": {
        "coloraxis": {
         "cmax": 1,
         "cmin": 0,
         "colorbar": {
          "title": {
           "side": "right",
           "text": "<b>Log Dec</b>"
          }
         },
         "colorscale": [
          [
           0,
           "rgb(179,3,38)"
          ],
          [
           0.003937007874015748,
           "rgb(181,8,39)"
          ],
          [
           0.007874015748031496,
           "rgb(182,13,40)"
          ],
          [
           0.011811023622047244,
           "rgb(184,17,41)"
          ],
          [
           0.015748031496062992,
           "rgb(185,22,42)"
          ],
          [
           0.01968503937007874,
           "rgb(187,26,43)"
          ],
          [
           0.023622047244094488,
           "rgb(188,31,44)"
          ],
          [
           0.027559055118110236,
           "rgb(190,35,45)"
          ],
          [
           0.031496062992125984,
           "rgb(191,40,46)"
          ],
          [
           0.03543307086614173,
           "rgb(193,42,48)"
          ],
          [
           0.03937007874015748,
           "rgb(194,45,49)"
          ],
          [
           0.04330708661417323,
           "rgb(196,48,50)"
          ],
          [
           0.047244094488188976,
           "rgb(197,50,51)"
          ],
          [
           0.05118110236220472,
           "rgb(198,53,52)"
          ],
          [
           0.05511811023622047,
           "rgb(200,56,53)"
          ],
          [
           0.05905511811023622,
           "rgb(201,59,55)"
          ],
          [
           0.06299212598425197,
           "rgb(202,61,56)"
          ],
          [
           0.06692913385826772,
           "rgb(204,63,57)"
          ],
          [
           0.07086614173228346,
           "rgb(205,66,58)"
          ],
          [
           0.07480314960629922,
           "rgb(206,68,60)"
          ],
          [
           0.07874015748031496,
           "rgb(207,70,61)"
          ],
          [
           0.08267716535433071,
           "rgb(209,73,62)"
          ],
          [
           0.08661417322834646,
           "rgb(210,75,63)"
          ],
          [
           0.0905511811023622,
           "rgb(211,77,64)"
          ],
          [
           0.09448818897637797,
           "rgb(212,79,66)"
          ],
          [
           0.0984251968503937,
           "rgb(214,82,67)"
          ],
          [
           0.10236220472440943,
           "rgb(215,84,68)"
          ],
          [
           0.1062992125984252,
           "rgb(216,86,70)"
          ],
          [
           0.11023622047244094,
           "rgb(217,88,71)"
          ],
          [
           0.1141732283464567,
           "rgb(218,90,72)"
          ],
          [
           0.11811023622047244,
           "rgb(219,92,74)"
          ],
          [
           0.1220472440944882,
           "rgb(220,94,75)"
          ],
          [
           0.12598425196850394,
           "rgb(221,96,76)"
          ],
          [
           0.12992125984251968,
           "rgb(222,98,78)"
          ],
          [
           0.13385826771653545,
           "rgb(223,100,79)"
          ],
          [
           0.1377952755905512,
           "rgb(224,102,80)"
          ],
          [
           0.14173228346456693,
           "rgb(225,104,82)"
          ],
          [
           0.14566929133858267,
           "rgb(226,106,83)"
          ],
          [
           0.14960629921259844,
           "rgb(227,108,84)"
          ],
          [
           0.15354330708661418,
           "rgb(228,110,86)"
          ],
          [
           0.15748031496062992,
           "rgb(229,112,87)"
          ],
          [
           0.16141732283464566,
           "rgb(230,114,89)"
          ],
          [
           0.16535433070866143,
           "rgb(230,116,90)"
          ],
          [
           0.16929133858267717,
           "rgb(231,117,92)"
          ],
          [
           0.1732283464566929,
           "rgb(232,119,93)"
          ],
          [
           0.17716535433070865,
           "rgb(233,121,94)"
          ],
          [
           0.1811023622047244,
           "rgb(234,123,96)"
          ],
          [
           0.18503937007874016,
           "rgb(234,125,97)"
          ],
          [
           0.1889763779527559,
           "rgb(235,127,99)"
          ],
          [
           0.19291338582677164,
           "rgb(236,128,100)"
          ],
          [
           0.1968503937007874,
           "rgb(236,130,102)"
          ],
          [
           0.20078740157480315,
           "rgb(237,132,103)"
          ],
          [
           0.2047244094488189,
           "rgb(238,134,105)"
          ],
          [
           0.20866141732283464,
           "rgb(238,135,106)"
          ],
          [
           0.2125984251968504,
           "rgb(239,137,108)"
          ],
          [
           0.21653543307086617,
           "rgb(240,139,109)"
          ],
          [
           0.2204724409448819,
           "rgb(240,141,111)"
          ],
          [
           0.22440944881889763,
           "rgb(241,142,112)"
          ],
          [
           0.2283464566929134,
           "rgb(241,144,114)"
          ],
          [
           0.2322834645669291,
           "rgb(242,145,115)"
          ],
          [
           0.23622047244094488,
           "rgb(242,147,117)"
          ],
          [
           0.24015748031496065,
           "rgb(243,149,118)"
          ],
          [
           0.2440944881889764,
           "rgb(243,150,120)"
          ],
          [
           0.24803149606299213,
           "rgb(243,152,121)"
          ],
          [
           0.25196850393700787,
           "rgb(244,154,123)"
          ],
          [
           0.2559055118110236,
           "rgb(244,155,124)"
          ],
          [
           0.25984251968503935,
           "rgb(244,157,126)"
          ],
          [
           0.2637795275590551,
           "rgb(245,158,127)"
          ],
          [
           0.2677165354330709,
           "rgb(245,160,129)"
          ],
          [
           0.27165354330708663,
           "rgb(245,161,130)"
          ],
          [
           0.2755905511811024,
           "rgb(246,163,132)"
          ],
          [
           0.2795275590551181,
           "rgb(246,164,134)"
          ],
          [
           0.28346456692913385,
           "rgb(246,166,135)"
          ],
          [
           0.2874015748031496,
           "rgb(246,167,137)"
          ],
          [
           0.29133858267716534,
           "rgb(246,169,138)"
          ],
          [
           0.2952755905511811,
           "rgb(246,170,140)"
          ],
          [
           0.2992125984251969,
           "rgb(246,171,141)"
          ],
          [
           0.3031496062992126,
           "rgb(247,173,143)"
          ],
          [
           0.30708661417322836,
           "rgb(247,174,145)"
          ],
          [
           0.3110236220472441,
           "rgb(247,176,146)"
          ],
          [
           0.31496062992125984,
           "rgb(247,177,148)"
          ],
          [
           0.3188976377952756,
           "rgb(247,178,149)"
          ],
          [
           0.3228346456692913,
           "rgb(247,179,151)"
          ],
          [
           0.32677165354330706,
           "rgb(247,181,152)"
          ],
          [
           0.33070866141732286,
           "rgb(246,182,154)"
          ],
          [
           0.3346456692913386,
           "rgb(246,183,156)"
          ],
          [
           0.33858267716535434,
           "rgb(246,185,157)"
          ],
          [
           0.3425196850393701,
           "rgb(246,186,159)"
          ],
          [
           0.3464566929133858,
           "rgb(246,187,160)"
          ],
          [
           0.35039370078740156,
           "rgb(246,188,162)"
          ],
          [
           0.3543307086614173,
           "rgb(246,189,164)"
          ],
          [
           0.35826771653543305,
           "rgb(245,191,165)"
          ],
          [
           0.3622047244094488,
           "rgb(245,192,167)"
          ],
          [
           0.3661417322834646,
           "rgb(245,193,168)"
          ],
          [
           0.3700787401574803,
           "rgb(244,194,170)"
          ],
          [
           0.37401574803149606,
           "rgb(244,195,171)"
          ],
          [
           0.3779527559055118,
           "rgb(244,196,173)"
          ],
          [
           0.38188976377952755,
           "rgb(243,197,175)"
          ],
          [
           0.3858267716535433,
           "rgb(243,198,176)"
          ],
          [
           0.38976377952755903,
           "rgb(242,199,178)"
          ],
          [
           0.3937007874015748,
           "rgb(242,200,179)"
          ],
          [
           0.39763779527559057,
           "rgb(242,201,181)"
          ],
          [
           0.4015748031496063,
           "rgb(241,202,182)"
          ],
          [
           0.4055118110236221,
           "rgb(241,203,184)"
          ],
          [
           0.4094488188976378,
           "rgb(240,204,185)"
          ],
          [
           0.41338582677165353,
           "rgb(239,205,187)"
          ],
          [
           0.41732283464566927,
           "rgb(239,206,188)"
          ],
          [
           0.421259842519685,
           "rgb(238,207,190)"
          ],
          [
           0.4251968503937008,
           "rgb(237,207,192)"
          ],
          [
           0.42913385826771655,
           "rgb(237,208,193)"
          ],
          [
           0.4330708661417323,
           "rgb(236,209,195)"
          ],
          [
           0.437007874015748,
           "rgb(236,210,196)"
          ],
          [
           0.4409448818897638,
           "rgb(235,211,198)"
          ],
          [
           0.4448818897637795,
           "rgb(234,211,199)"
          ],
          [
           0.44881889763779526,
           "rgb(233,212,201)"
          ],
          [
           0.452755905511811,
           "rgb(232,213,202)"
          ],
          [
           0.4566929133858268,
           "rgb(231,214,204)"
          ],
          [
           0.46062992125984253,
           "rgb(231,214,205)"
          ],
          [
           0.4645669291338583,
           "rgb(230,215,207)"
          ],
          [
           0.468503937007874,
           "rgb(229,216,208)"
          ],
          [
           0.47244094488188976,
           "rgb(228,216,209)"
          ],
          [
           0.4763779527559055,
           "rgb(227,217,211)"
          ],
          [
           0.4803149606299213,
           "rgb(226,217,212)"
          ],
          [
           0.484251968503937,
           "rgb(225,218,214)"
          ],
          [
           0.4881889763779528,
           "rgb(224,218,215)"
          ],
          [
           0.4921259842519685,
           "rgb(223,219,217)"
          ],
          [
           0.49606299212598426,
           "rgb(222,219,218)"
          ],
          [
           0.5,
           "rgb(220,220,221)"
          ],
          [
           0.5039370078740157,
           "rgb(219,220,222)"
          ],
          [
           0.5078740157480315,
           "rgb(218,220,223)"
          ],
          [
           0.5118110236220472,
           "rgb(217,220,224)"
          ],
          [
           0.515748031496063,
           "rgb(216,219,225)"
          ],
          [
           0.5196850393700787,
           "rgb(215,219,226)"
          ],
          [
           0.5236220472440944,
           "rgb(214,219,228)"
          ],
          [
           0.5275590551181102,
           "rgb(213,219,229)"
          ],
          [
           0.531496062992126,
           "rgb(211,219,230)"
          ],
          [
           0.5354330708661418,
           "rgb(210,218,231)"
          ],
          [
           0.5393700787401575,
           "rgb(209,218,232)"
          ],
          [
           0.5433070866141733,
           "rgb(208,218,233)"
          ],
          [
           0.547244094488189,
           "rgb(207,217,234)"
          ],
          [
           0.5511811023622047,
           "rgb(206,217,235)"
          ],
          [
           0.5551181102362205,
           "rgb(205,217,236)"
          ],
          [
           0.5590551181102362,
           "rgb(204,216,237)"
          ],
          [
           0.562992125984252,
           "rgb(202,216,238)"
          ],
          [
           0.5669291338582677,
           "rgb(201,215,238)"
          ],
          [
           0.5708661417322834,
           "rgb(200,215,239)"
          ],
          [
           0.5748031496062992,
           "rgb(199,214,240)"
          ],
          [
           0.5787401574803149,
           "rgb(198,214,241)"
          ],
          [
           0.5826771653543307,
           "rgb(197,213,242)"
          ],
          [
           0.5866141732283464,
           "rgb(195,213,242)"
          ],
          [
           0.5905511811023622,
           "rgb(194,212,243)"
          ],
          [
           0.594488188976378,
           "rgb(193,212,244)"
          ],
          [
           0.5984251968503937,
           "rgb(192,211,245)"
          ],
          [
           0.6023622047244095,
           "rgb(190,211,245)"
          ],
          [
           0.6062992125984252,
           "rgb(189,210,246)"
          ],
          [
           0.610236220472441,
           "rgb(188,209,246)"
          ],
          [
           0.6141732283464567,
           "rgb(187,209,247)"
          ],
          [
           0.6181102362204725,
           "rgb(185,208,248)"
          ],
          [
           0.6220472440944882,
           "rgb(184,207,248)"
          ],
          [
           0.6259842519685039,
           "rgb(183,207,249)"
          ],
          [
           0.6299212598425197,
           "rgb(182,206,249)"
          ],
          [
           0.6338582677165354,
           "rgb(180,205,250)"
          ],
          [
           0.6377952755905512,
           "rgb(179,204,250)"
          ],
          [
           0.6417322834645669,
           "rgb(178,203,251)"
          ],
          [
           0.6456692913385826,
           "rgb(176,203,251)"
          ],
          [
           0.6496062992125984,
           "rgb(175,202,251)"
          ],
          [
           0.6535433070866141,
           "rgb(174,201,252)"
          ],
          [
           0.65748031496063,
           "rgb(172,200,252)"
          ],
          [
           0.6614173228346457,
           "rgb(171,199,252)"
          ],
          [
           0.6653543307086615,
           "rgb(170,198,253)"
          ],
          [
           0.6692913385826772,
           "rgb(168,197,253)"
          ],
          [
           0.6732283464566929,
           "rgb(167,196,253)"
          ],
          [
           0.6771653543307087,
           "rgb(166,195,253)"
          ],
          [
           0.6811023622047244,
           "rgb(164,194,254)"
          ],
          [
           0.6850393700787402,
           "rgb(163,193,254)"
          ],
          [
           0.6889763779527559,
           "rgb(162,192,254)"
          ],
          [
           0.6929133858267716,
           "rgb(160,191,254)"
          ],
          [
           0.6968503937007874,
           "rgb(159,190,254)"
          ],
          [
           0.7007874015748031,
           "rgb(157,189,254)"
          ],
          [
           0.7047244094488189,
           "rgb(156,188,254)"
          ],
          [
           0.7086614173228346,
           "rgb(155,187,254)"
          ],
          [
           0.7125984251968503,
           "rgb(153,186,254)"
          ],
          [
           0.7165354330708661,
           "rgb(152,185,254)"
          ],
          [
           0.7204724409448819,
           "rgb(151,184,254)"
          ],
          [
           0.7244094488188977,
           "rgb(149,183,254)"
          ],
          [
           0.7283464566929134,
           "rgb(148,181,254)"
          ],
          [
           0.7322834645669292,
           "rgb(146,180,254)"
          ],
          [
           0.7362204724409449,
           "rgb(145,179,254)"
          ],
          [
           0.7401574803149606,
           "rgb(144,178,254)"
          ],
          [
           0.7440944881889764,
           "rgb(142,177,253)"
          ],
          [
           0.7480314960629921,
           "rgb(141,175,253)"
          ],
          [
           0.7519685039370079,
           "rgb(139,174,253)"
          ],
          [
           0.7559055118110236,
           "rgb(138,173,253)"
          ],
          [
           0.7598425196850394,
           "rgb(137,172,252)"
          ],
          [
           0.7637795275590551,
           "rgb(135,170,252)"
          ],
          [
           0.7677165354330708,
           "rgb(134,169,252)"
          ],
          [
           0.7716535433070866,
           "rgb(133,168,251)"
          ],
          [
           0.7755905511811023,
           "rgb(131,166,251)"
          ],
          [
           0.7795275590551181,
           "rgb(130,165,251)"
          ],
          [
           0.7834645669291339,
           "rgb(128,164,250)"
          ],
          [
           0.7874015748031497,
           "rgb(127,162,250)"
          ],
          [
           0.7913385826771654,
           "rgb(126,161,249)"
          ],
          [
           0.7952755905511811,
           "rgb(124,160,249)"
          ],
          [
           0.7992125984251969,
           "rgb(123,158,248)"
          ],
          [
           0.8031496062992126,
           "rgb(122,157,248)"
          ],
          [
           0.8070866141732284,
           "rgb(120,155,247)"
          ],
          [
           0.8110236220472441,
           "rgb(119,154,246)"
          ],
          [
           0.8149606299212598,
           "rgb(117,152,246)"
          ],
          [
           0.8188976377952756,
           "rgb(116,151,245)"
          ],
          [
           0.8228346456692913,
           "rgb(115,149,244)"
          ],
          [
           0.8267716535433071,
           "rgb(113,148,244)"
          ],
          [
           0.8307086614173228,
           "rgb(112,147,243)"
          ],
          [
           0.8346456692913385,
           "rgb(111,145,242)"
          ],
          [
           0.8385826771653543,
           "rgb(109,144,241)"
          ],
          [
           0.84251968503937,
           "rgb(108,142,241)"
          ],
          [
           0.8464566929133859,
           "rgb(107,141,240)"
          ],
          [
           0.8503937007874016,
           "rgb(105,139,239)"
          ],
          [
           0.8543307086614174,
           "rgb(104,137,238)"
          ],
          [
           0.8582677165354331,
           "rgb(103,136,237)"
          ],
          [
           0.8622047244094488,
           "rgb(101,134,236)"
          ],
          [
           0.8661417322834646,
           "rgb(100,133,235)"
          ],
          [
           0.8700787401574803,
           "rgb(99,131,234)"
          ],
          [
           0.8740157480314961,
           "rgb(97,130,234)"
          ],
          [
           0.8779527559055118,
           "rgb(96,128,232)"
          ],
          [
           0.8818897637795275,
           "rgb(95,126,231)"
          ],
          [
           0.8858267716535433,
           "rgb(93,125,230)"
          ],
          [
           0.889763779527559,
           "rgb(92,123,229)"
          ],
          [
           0.8937007874015748,
           "rgb(91,121,228)"
          ],
          [
           0.8976377952755905,
           "rgb(90,120,227)"
          ],
          [
           0.9015748031496064,
           "rgb(88,118,226)"
          ],
          [
           0.905511811023622,
           "rgb(87,117,225)"
          ],
          [
           0.9094488188976378,
           "rgb(86,115,224)"
          ],
          [
           0.9133858267716536,
           "rgb(85,113,222)"
          ],
          [
           0.9173228346456692,
           "rgb(83,112,221)"
          ],
          [
           0.9212598425196852,
           "rgb(82,110,220)"
          ],
          [
           0.9251968503937008,
           "rgb(81,108,219)"
          ],
          [
           0.9291338582677166,
           "rgb(80,107,218)"
          ],
          [
           0.9330708661417324,
           "rgb(78,105,216)"
          ],
          [
           0.937007874015748,
           "rgb(77,103,215)"
          ],
          [
           0.9409448818897638,
           "rgb(76,102,214)"
          ],
          [
           0.9448818897637796,
           "rgb(75,100,212)"
          ],
          [
           0.9488188976377953,
           "rgb(73,98,211)"
          ],
          [
           0.952755905511811,
           "rgb(72,96,209)"
          ],
          [
           0.9566929133858268,
           "rgb(71,95,208)"
          ],
          [
           0.9606299212598424,
           "rgb(70,93,207)"
          ],
          [
           0.9645669291338582,
           "rgb(69,91,205)"
          ],
          [
           0.968503937007874,
           "rgb(67,90,204)"
          ],
          [
           0.9724409448818898,
           "rgb(66,88,202)"
          ],
          [
           0.9763779527559056,
           "rgb(65,86,201)"
          ],
          [
           0.9803149606299212,
           "rgb(64,84,199)"
          ],
          [
           0.984251968503937,
           "rgb(63,83,198)"
          ],
          [
           0.9881889763779528,
           "rgb(62,81,196)"
          ],
          [
           0.9921259842519684,
           "rgb(60,79,195)"
          ],
          [
           0.9960629921259844,
           "rgb(59,77,193)"
          ],
          [
           1,
           "rgb(58,76,192)"
          ]
         ]
        },
        "legend": {
         "orientation": "h",
         "x": 0.5,
         "xanchor": "center",
         "y": -0.3,
         "yanchor": "bottom",
         "yref": "container"
        },
        "template": {
         "data": {
          "bar": [
           {
            "error_x": {
             "color": "#2a3f5f"
            },
            "error_y": {
             "color": "#2a3f5f"
            },
            "marker": {
             "line": {
              "color": "white",
              "width": 0.5
             }
            },
            "type": "bar"
           }
          ],
          "barpolar": [
           {
            "marker": {
             "line": {
              "color": "white",
              "width": 0.5
             }
            },
            "type": "barpolar"
           }
          ],
          "carpet": [
           {
            "aaxis": {
             "endlinecolor": "#2a3f5f",
             "gridcolor": "#C8D4E3",
             "linecolor": "#C8D4E3",
             "minorgridcolor": "#C8D4E3",
             "startlinecolor": "#2a3f5f"
            },
            "baxis": {
             "endlinecolor": "#2a3f5f",
             "gridcolor": "#C8D4E3",
             "linecolor": "#C8D4E3",
             "minorgridcolor": "#C8D4E3",
             "startlinecolor": "#2a3f5f"
            },
            "type": "carpet"
           }
          ],
          "choropleth": [
           {
            "colorbar": {
             "outlinewidth": 0,
             "ticks": ""
            },
            "type": "choropleth"
           }
          ],
          "contour": [
           {
            "colorbar": {
             "outlinewidth": 0,
             "ticks": ""
            },
            "colorscale": [
             [
              0,
              "#0d0887"
             ],
             [
              0.1111111111111111,
              "#46039f"
             ],
             [
              0.2222222222222222,
              "#7201a8"
             ],
             [
              0.3333333333333333,
              "#9c179e"
             ],
             [
              0.4444444444444444,
              "#bd3786"
             ],
             [
              0.5555555555555556,
              "#d8576b"
             ],
             [
              0.6666666666666666,
              "#ed7953"
             ],
             [
              0.7777777777777778,
              "#fb9f3a"
             ],
             [
              0.8888888888888888,
              "#fdca26"
             ],
             [
              1,
              "#f0f921"
             ]
            ],
            "type": "contour"
           }
          ],
          "contourcarpet": [
           {
            "colorbar": {
             "outlinewidth": 0,
             "ticks": ""
            },
            "type": "contourcarpet"
           }
          ],
          "heatmap": [
           {
            "colorbar": {
             "outlinewidth": 0,
             "ticks": ""
            },
            "colorscale": [
             [
              0,
              "#0d0887"
             ],
             [
              0.1111111111111111,
              "#46039f"
             ],
             [
              0.2222222222222222,
              "#7201a8"
             ],
             [
              0.3333333333333333,
              "#9c179e"
             ],
             [
              0.4444444444444444,
              "#bd3786"
             ],
             [
              0.5555555555555556,
              "#d8576b"
             ],
             [
              0.6666666666666666,
              "#ed7953"
             ],
             [
              0.7777777777777778,
              "#fb9f3a"
             ],
             [
              0.8888888888888888,
              "#fdca26"
             ],
             [
              1,
              "#f0f921"
             ]
            ],
            "type": "heatmap"
           }
          ],
          "heatmapgl": [
           {
            "colorbar": {
             "outlinewidth": 0,
             "ticks": ""
            },
            "colorscale": [
             [
              0,
              "#0d0887"
             ],
             [
              0.1111111111111111,
              "#46039f"
             ],
             [
              0.2222222222222222,
              "#7201a8"
             ],
             [
              0.3333333333333333,
              "#9c179e"
             ],
             [
              0.4444444444444444,
              "#bd3786"
             ],
             [
              0.5555555555555556,
              "#d8576b"
             ],
             [
              0.6666666666666666,
              "#ed7953"
             ],
             [
              0.7777777777777778,
              "#fb9f3a"
             ],
             [
              0.8888888888888888,
              "#fdca26"
             ],
             [
              1,
              "#f0f921"
             ]
            ],
            "type": "heatmapgl"
           }
          ],
          "histogram": [
           {
            "marker": {
             "colorbar": {
              "outlinewidth": 0,
              "ticks": ""
             }
            },
            "type": "histogram"
           }
          ],
          "histogram2d": [
           {
            "colorbar": {
             "outlinewidth": 0,
             "ticks": ""
            },
            "colorscale": [
             [
              0,
              "#0d0887"
             ],
             [
              0.1111111111111111,
              "#46039f"
             ],
             [
              0.2222222222222222,
              "#7201a8"
             ],
             [
              0.3333333333333333,
              "#9c179e"
             ],
             [
              0.4444444444444444,
              "#bd3786"
             ],
             [
              0.5555555555555556,
              "#d8576b"
             ],
             [
              0.6666666666666666,
              "#ed7953"
             ],
             [
              0.7777777777777778,
              "#fb9f3a"
             ],
             [
              0.8888888888888888,
              "#fdca26"
             ],
             [
              1,
              "#f0f921"
             ]
            ],
            "type": "histogram2d"
           }
          ],
          "histogram2dcontour": [
           {
            "colorbar": {
             "outlinewidth": 0,
             "ticks": ""
            },
            "colorscale": [
             [
              0,
              "#0d0887"
             ],
             [
              0.1111111111111111,
              "#46039f"
             ],
             [
              0.2222222222222222,
              "#7201a8"
             ],
             [
              0.3333333333333333,
              "#9c179e"
             ],
             [
              0.4444444444444444,
              "#bd3786"
             ],
             [
              0.5555555555555556,
              "#d8576b"
             ],
             [
              0.6666666666666666,
              "#ed7953"
             ],
             [
              0.7777777777777778,
              "#fb9f3a"
             ],
             [
              0.8888888888888888,
              "#fdca26"
             ],
             [
              1,
              "#f0f921"
             ]
            ],
            "type": "histogram2dcontour"
           }
          ],
          "mesh3d": [
           {
            "colorbar": {
             "outlinewidth": 0,
             "ticks": ""
            },
            "type": "mesh3d"
           }
          ],
          "parcoords": [
           {
            "line": {
             "colorbar": {
              "outlinewidth": 0,
              "ticks": ""
             }
            },
            "type": "parcoords"
           }
          ],
          "pie": [
           {
            "automargin": true,
            "type": "pie"
           }
          ],
          "scatter": [
           {
            "marker": {
             "colorbar": {
              "outlinewidth": 0,
              "ticks": ""
             }
            },
            "type": "scatter"
           }
          ],
          "scatter3d": [
           {
            "line": {
             "colorbar": {
              "outlinewidth": 0,
              "ticks": ""
             }
            },
            "marker": {
             "colorbar": {
              "outlinewidth": 0,
              "ticks": ""
             },
             "size": 4
            },
            "type": "scatter3d"
           }
          ],
          "scattercarpet": [
           {
            "marker": {
             "colorbar": {
              "outlinewidth": 0,
              "ticks": ""
             }
            },
            "type": "scattercarpet"
           }
          ],
          "scattergeo": [
           {
            "marker": {
             "colorbar": {
              "outlinewidth": 0,
              "ticks": ""
             }
            },
            "type": "scattergeo"
           }
          ],
          "scattergl": [
           {
            "marker": {
             "colorbar": {
              "outlinewidth": 0,
              "ticks": ""
             }
            },
            "type": "scattergl"
           }
          ],
          "scattermapbox": [
           {
            "marker": {
             "colorbar": {
              "outlinewidth": 0,
              "ticks": ""
             }
            },
            "type": "scattermapbox"
           }
          ],
          "scatterpolar": [
           {
            "marker": {
             "colorbar": {
              "outlinewidth": 0,
              "ticks": ""
             }
            },
            "type": "scatterpolar"
           }
          ],
          "scatterpolargl": [
           {
            "marker": {
             "colorbar": {
              "outlinewidth": 0,
              "ticks": ""
             }
            },
            "type": "scatterpolargl"
           }
          ],
          "scatterternary": [
           {
            "marker": {
             "colorbar": {
              "outlinewidth": 0,
              "ticks": ""
             }
            },
            "type": "scatterternary"
           }
          ],
          "surface": [
           {
            "colorbar": {
             "outlinewidth": 0,
             "ticks": ""
            },
            "colorscale": [
             [
              0,
              "#0d0887"
             ],
             [
              0.1111111111111111,
              "#46039f"
             ],
             [
              0.2222222222222222,
              "#7201a8"
             ],
             [
              0.3333333333333333,
              "#9c179e"
             ],
             [
              0.4444444444444444,
              "#bd3786"
             ],
             [
              0.5555555555555556,
              "#d8576b"
             ],
             [
              0.6666666666666666,
              "#ed7953"
             ],
             [
              0.7777777777777778,
              "#fb9f3a"
             ],
             [
              0.8888888888888888,
              "#fdca26"
             ],
             [
              1,
              "#f0f921"
             ]
            ],
            "type": "surface"
           }
          ],
          "table": [
           {
            "cells": {
             "fill": {
              "color": "#EBF0F8"
             },
             "line": {
              "color": "white"
             }
            },
            "header": {
             "fill": {
              "color": "#C8D4E3"
             },
             "line": {
              "color": "white"
             }
            },
            "type": "table"
           }
          ]
         },
         "layout": {
          "annotationdefaults": {
           "arrowcolor": "#2a3f5f",
           "arrowhead": 0,
           "arrowwidth": 1
          },
          "coloraxis": {
           "colorbar": {
            "outlinewidth": 0,
            "ticks": ""
           }
          },
          "colorscale": {
           "diverging": [
            [
             0,
             "#8e0152"
            ],
            [
             0.1,
             "#c51b7d"
            ],
            [
             0.2,
             "#de77ae"
            ],
            [
             0.3,
             "#f1b6da"
            ],
            [
             0.4,
             "#fde0ef"
            ],
            [
             0.5,
             "#f7f7f7"
            ],
            [
             0.6,
             "#e6f5d0"
            ],
            [
             0.7,
             "#b8e186"
            ],
            [
             0.8,
             "#7fbc41"
            ],
            [
             0.9,
             "#4d9221"
            ],
            [
             1,
             "#276419"
            ]
           ],
           "sequential": [
            [
             0,
             "#0d0887"
            ],
            [
             0.1111111111111111,
             "#46039f"
            ],
            [
             0.2222222222222222,
             "#7201a8"
            ],
            [
             0.3333333333333333,
             "#9c179e"
            ],
            [
             0.4444444444444444,
             "#bd3786"
            ],
            [
             0.5555555555555556,
             "#d8576b"
            ],
            [
             0.6666666666666666,
             "#ed7953"
            ],
            [
             0.7777777777777778,
             "#fb9f3a"
            ],
            [
             0.8888888888888888,
             "#fdca26"
            ],
            [
             1,
             "#f0f921"
            ]
           ],
           "sequentialminus": [
            [
             0,
             "#0d0887"
            ],
            [
             0.1111111111111111,
             "#46039f"
            ],
            [
             0.2222222222222222,
             "#7201a8"
            ],
            [
             0.3333333333333333,
             "#9c179e"
            ],
            [
             0.4444444444444444,
             "#bd3786"
            ],
            [
             0.5555555555555556,
             "#d8576b"
            ],
            [
             0.6666666666666666,
             "#ed7953"
            ],
            [
             0.7777777777777778,
             "#fb9f3a"
            ],
            [
             0.8888888888888888,
             "#fdca26"
            ],
            [
             1,
             "#f0f921"
            ]
           ]
          },
          "colorway": [
           "#1f77b4",
           "#ff7f0e",
           "#2ca02c",
           "#d62728",
           "#9467bd",
           "#8c564b",
           "#e377c2",
           "#7f7f7f",
           "#bcbd22",
           "#17becf"
          ],
          "font": {
           "color": "#2a3f5f"
          },
          "geo": {
           "bgcolor": "white",
           "lakecolor": "white",
           "landcolor": "white",
           "showlakes": true,
           "showland": true,
           "subunitcolor": "#C8D4E3"
          },
          "hoverlabel": {
           "align": "left"
          },
          "hovermode": "closest",
          "mapbox": {
           "style": "light"
          },
          "paper_bgcolor": "white",
          "plot_bgcolor": "white",
          "polar": {
           "angularaxis": {
            "gridcolor": "#EBF0F8",
            "linecolor": "#EBF0F8",
            "ticks": ""
           },
           "bgcolor": "white",
           "radialaxis": {
            "gridcolor": "#EBF0F8",
            "linecolor": "#EBF0F8",
            "ticks": ""
           }
          },
          "scene": {
           "camera": {
            "center": {
             "x": 0,
             "y": 0,
             "z": 0
            },
            "eye": {
             "x": 2,
             "y": 2,
             "z": 2
            },
            "up": {
             "x": 0,
             "y": 0,
             "z": 1
            }
           },
           "xaxis": {
            "backgroundcolor": "white",
            "gridcolor": "#DFE8F3",
            "gridwidth": 2,
            "linecolor": "#EBF0F8",
            "showbackground": true,
            "showspikes": false,
            "ticks": "",
            "zerolinecolor": "#EBF0F8"
           },
           "yaxis": {
            "backgroundcolor": "white",
            "gridcolor": "#DFE8F3",
            "gridwidth": 2,
            "linecolor": "#EBF0F8",
            "showbackground": true,
            "showspikes": false,
            "ticks": "",
            "zerolinecolor": "#EBF0F8"
           },
           "zaxis": {
            "backgroundcolor": "white",
            "gridcolor": "#DFE8F3",
            "gridwidth": 2,
            "linecolor": "#EBF0F8",
            "showbackground": true,
            "showspikes": false,
            "ticks": "",
            "zerolinecolor": "#EBF0F8"
           }
          },
          "shapedefaults": {
           "line": {
            "color": "#2a3f5f"
           }
          },
          "ternary": {
           "aaxis": {
            "gridcolor": "#DFE8F3",
            "linecolor": "#A2B1C6",
            "ticks": ""
           },
           "baxis": {
            "gridcolor": "#DFE8F3",
            "linecolor": "#A2B1C6",
            "ticks": ""
           },
           "bgcolor": "white",
           "caxis": {
            "gridcolor": "#DFE8F3",
            "linecolor": "#A2B1C6",
            "ticks": ""
           }
          },
          "title": {
           "x": 0.05
          },
          "xaxis": {
           "automargin": true,
           "gridcolor": "#EBF0F8",
           "linecolor": "black",
           "linewidth": 2,
           "mirror": true,
           "showline": true,
           "ticks": "",
           "title": {
            "standoff": 15
           },
           "zeroline": false,
           "zerolinecolor": "#EBF0F8",
           "zerolinewidth": 2
          },
          "yaxis": {
           "automargin": true,
           "gridcolor": "#EBF0F8",
           "linecolor": "black",
           "linewidth": 2,
           "mirror": true,
           "showline": true,
           "ticks": "",
           "title": {
            "standoff": 15
           },
           "zeroline": false,
           "zerolinecolor": "#EBF0F8",
           "zerolinewidth": 2
          }
         }
        },
        "xaxis": {
         "exponentformat": "none",
         "range": [
          3008.028424436822,
          10981.69107334078
         ],
         "title": {
          "text": "Rotor Speed (RPM)"
         }
        },
        "yaxis": {
         "range": [
          0,
          21232.46040459453
         ],
         "title": {
          "text": "Natural Frequencies (RPM)"
         }
        }
       }
      }
     },
     "metadata": {},
     "output_type": "display_data"
    }
   ],
   "source": [
    "campbell.plot(frequency_units=\"RPM\")"
   ]
  }
 ],
 "metadata": {
  "execution": {
   "timeout": 300
  },
  "kernelspec": {
   "display_name": "venv",
   "language": "python",
   "name": "python3"
  },
  "language_info": {
   "codemirror_mode": {
    "name": "ipython",
    "version": 3
   },
   "file_extension": ".py",
   "mimetype": "text/x-python",
   "name": "python",
   "nbconvert_exporter": "python",
   "pygments_lexer": "ipython3",
   "version": "3.10.12"
  }
 },
 "nbformat": 4,
 "nbformat_minor": 2
}
